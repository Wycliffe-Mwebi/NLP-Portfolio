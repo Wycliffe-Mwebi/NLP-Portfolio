{
 "cells": [
  {
   "cell_type": "markdown",
   "id": "1c91bb5c",
   "metadata": {},
   "source": [
    "# Text Summarising of the articles\n",
    "## Text-Summarization\n",
    "Automatic summarization is the process of shortening a text document with software, in order to create a summary with the major points of the original document. Technologies that can make a coherent summary take into account variables such as length, writing style and syntax.\n",
    "\n",
    "Automatic data summarization is part of machine learning and data mining. The primary idea of summarization is to find a subset of data which contains the \"information\" of the entire set. Such techniques are widely used in industry today. Search engines are an example; others include summarization of documents, image collections and videos. Document summarization tries to create a representative summary or abstract of the entire document, by finding the most informative sentences, while in image summarization the system finds the most representative and important (i.e. salient) images. For surveillance videos, one might want to extract the important events from the uneventful context.\n",
    "\n",
    "There are two general approaches to automatic summarization: Extraction and Abstraction.\n",
    "\n",
    "#### 1. Extractive Summarization: \n",
    "These methods rely on extracting several parts, such as phrases and sentences, from a piece of text and stack them together to create a summary. Therefore, identifying the right sentences for summarization is of utmost importance in an extractive method.\n",
    "\n",
    "\n",
    "#### 2. Abstractive Summarization: \n",
    "These methods use advanced NLP techniques to generate an entirely new summary. Some parts of this summary may not even appear in the original text. Such a summary might include verbal innovations. Research to date has focused primarily on extractive methods, which are appropriate for image collection summarization and video summarization.\n",
    "\n",
    "In this Jupyter notebook, TextRank algorithm for extractive text summarization is implemented using Google's PageRank search algorithm to generate corelations among sentences.\n",
    "\n",
    "#### Libraries Used\n",
    "- Numpy\n",
    "- Pandas\n",
    "- Natural Language Toolkit\n",
    "\n",
    "####  Algorithms and Concepts\n",
    "- TextRank\n",
    "- PageRank\n",
    "- Cosine Similarity\n",
    "\n",
    "### How to run\n",
    "- Install the required libraries using pip, virtual environment or conda.\n",
    "- Run jupyter notebook in your terminal"
   ]
  },
  {
   "cell_type": "code",
   "execution_count": 2,
   "id": "b1e70e52",
   "metadata": {},
   "outputs": [],
   "source": [
    "# Importing the required Libraries\n",
    "import numpy as np\n",
    "import pandas as pd\n",
    "import nltk\n",
    "# nltk.download('punkt') # one time execution\n",
    "import re\n",
    "#nltk.download('stopwords') # one time execution\n",
    "import matplotlib.pyplot as plt\n",
    "\n",
    "from nltk.tokenize import sent_tokenize\n",
    "\n",
    "from nltk.corpus import stopwords\n",
    "\n",
    "from sklearn.metrics.pairwise import cosine_similarity\n",
    "\n",
    "import networkx as nx"
   ]
  },
  {
   "cell_type": "markdown",
   "id": "c41a6bed",
   "metadata": {},
   "source": [
    "### Word embedding\n",
    "Word embedding is the technique to convert each word into an equivalent float vector. Various techniques exist depending on the use-case of the model and dataset. \n",
    "Example: \n",
    "\n",
    "'the': [-0.123, 0.353, 0.652, -0.232]\n",
    "\n",
    "\n",
    "'the' is very often used word in texts of any kind. its equivalent 4-dimension dense vector has been given.\n",
    "\n",
    "\n",
    "### Pretrained Word Embeddings for NLP\n",
    "Pretrained Word Embeddings are the embeddings learned in one task that are used for solving another similar task.\n",
    "\n",
    "These embeddings are trained on large datasets, saved, and then used for solving other tasks. That’s why pretrained word embeddings are a form of Transfer Learning.\n",
    "#### Google’s Word2vec \n",
    "-Word2Vec is trained on the Google News dataset (about 100 billion words).\n",
    "#### Stanford’s GloVe\n",
    "- It stands for Global Vectors. This is created by Stanford University. Glove has pre-defined dense vectors for around every 6 billion words of English literature along with many other general use characters like comma, braces, and semicolons. "
   ]
  },
  {
   "cell_type": "code",
   "execution_count": 3,
   "id": "f4f663d4",
   "metadata": {
    "scrolled": true
   },
   "outputs": [
    {
     "data": {
      "text/plain": [
       "400000"
      ]
     },
     "execution_count": 3,
     "metadata": {},
     "output_type": "execute_result"
    }
   ],
   "source": [
    "# Extract word vectors\n",
    "word_embeddings = {}\n",
    "\n",
    "file = open(r'C:\\Users\\user\\NLP\\glove.6B.100d.txt', errors ='ignore', encoding ='utf-8')\n",
    "\n",
    "for line in file:\n",
    "    values = line.split()\n",
    "    word = values[0]\n",
    "    coefs = np.asarray(values[1:], dtype='float32')\n",
    "    word_embeddings[word] = coefs\n",
    "file.close()\n",
    "len(word_embeddings)"
   ]
  },
  {
   "cell_type": "markdown",
   "id": "07d8d616",
   "metadata": {},
   "source": [
    "#### In this task, I will be summarising Medicine Descrptions provided in the file named  'TASK.xlsx'"
   ]
  },
  {
   "cell_type": "code",
   "execution_count": 4,
   "id": "e0a70d0e",
   "metadata": {},
   "outputs": [],
   "source": [
    "# reading the file\n",
    "df = pd.read_excel(r'C:\\Users\\user\\NLP\\TASK.xlsx')"
   ]
  },
  {
   "cell_type": "code",
   "execution_count": 5,
   "id": "efa086d5",
   "metadata": {},
   "outputs": [
    {
     "data": {
      "text/html": [
       "<div>\n",
       "<style scoped>\n",
       "    .dataframe tbody tr th:only-of-type {\n",
       "        vertical-align: middle;\n",
       "    }\n",
       "\n",
       "    .dataframe tbody tr th {\n",
       "        vertical-align: top;\n",
       "    }\n",
       "\n",
       "    .dataframe thead th {\n",
       "        text-align: right;\n",
       "    }\n",
       "</style>\n",
       "<table border=\"1\" class=\"dataframe\">\n",
       "  <thead>\n",
       "    <tr style=\"text-align: right;\">\n",
       "      <th></th>\n",
       "      <th>TEST DATASET</th>\n",
       "      <th>Unnamed: 1</th>\n",
       "    </tr>\n",
       "  </thead>\n",
       "  <tbody>\n",
       "    <tr>\n",
       "      <th>0</th>\n",
       "      <td>NaN</td>\n",
       "      <td>Introduction</td>\n",
       "    </tr>\n",
       "    <tr>\n",
       "      <th>1</th>\n",
       "      <td>NaN</td>\n",
       "      <td>Acnesol Gel is an antibiotic that fights bacte...</td>\n",
       "    </tr>\n",
       "    <tr>\n",
       "      <th>2</th>\n",
       "      <td>NaN</td>\n",
       "      <td>Ambrodil Syrup is used for treating various re...</td>\n",
       "    </tr>\n",
       "    <tr>\n",
       "      <th>3</th>\n",
       "      <td>NaN</td>\n",
       "      <td>Augmentin 625 Duo Tablet is a penicillin-type ...</td>\n",
       "    </tr>\n",
       "    <tr>\n",
       "      <th>4</th>\n",
       "      <td>NaN</td>\n",
       "      <td>Azithral 500 Tablet is an antibiotic used to t...</td>\n",
       "    </tr>\n",
       "    <tr>\n",
       "      <th>...</th>\n",
       "      <td>...</td>\n",
       "      <td>...</td>\n",
       "    </tr>\n",
       "    <tr>\n",
       "      <th>996</th>\n",
       "      <td>NaN</td>\n",
       "      <td>Azapure Tablet belongs to a group of medicines...</td>\n",
       "    </tr>\n",
       "    <tr>\n",
       "      <th>997</th>\n",
       "      <td>NaN</td>\n",
       "      <td>Arimidex 1mg Tablet  is used alone or with oth...</td>\n",
       "    </tr>\n",
       "    <tr>\n",
       "      <th>998</th>\n",
       "      <td>NaN</td>\n",
       "      <td>Arpimune ME 100mg Capsule is used to prevent y...</td>\n",
       "    </tr>\n",
       "    <tr>\n",
       "      <th>999</th>\n",
       "      <td>NaN</td>\n",
       "      <td>Amlodac CH Tablet is a combination medicine us...</td>\n",
       "    </tr>\n",
       "    <tr>\n",
       "      <th>1000</th>\n",
       "      <td>NaN</td>\n",
       "      <td>Angizem CD 120 Capsule ER is used to treat ang...</td>\n",
       "    </tr>\n",
       "  </tbody>\n",
       "</table>\n",
       "<p>1001 rows × 2 columns</p>\n",
       "</div>"
      ],
      "text/plain": [
       "      TEST DATASET                                         Unnamed: 1\n",
       "0              NaN                                       Introduction\n",
       "1              NaN  Acnesol Gel is an antibiotic that fights bacte...\n",
       "2              NaN  Ambrodil Syrup is used for treating various re...\n",
       "3              NaN  Augmentin 625 Duo Tablet is a penicillin-type ...\n",
       "4              NaN  Azithral 500 Tablet is an antibiotic used to t...\n",
       "...            ...                                                ...\n",
       "996            NaN  Azapure Tablet belongs to a group of medicines...\n",
       "997            NaN  Arimidex 1mg Tablet  is used alone or with oth...\n",
       "998            NaN  Arpimune ME 100mg Capsule is used to prevent y...\n",
       "999            NaN  Amlodac CH Tablet is a combination medicine us...\n",
       "1000           NaN  Angizem CD 120 Capsule ER is used to treat ang...\n",
       "\n",
       "[1001 rows x 2 columns]"
      ]
     },
     "execution_count": 5,
     "metadata": {},
     "output_type": "execute_result"
    }
   ],
   "source": [
    "df"
   ]
  },
  {
   "cell_type": "code",
   "execution_count": 6,
   "id": "1548e2ce",
   "metadata": {},
   "outputs": [
    {
     "data": {
      "text/plain": [
       "Index(['TEST DATASET', 'Unnamed: 1'], dtype='object')"
      ]
     },
     "execution_count": 6,
     "metadata": {},
     "output_type": "execute_result"
    }
   ],
   "source": [
    "df.columns"
   ]
  },
  {
   "cell_type": "code",
   "execution_count": 7,
   "id": "fc244922",
   "metadata": {},
   "outputs": [
    {
     "data": {
      "text/html": [
       "<div>\n",
       "<style scoped>\n",
       "    .dataframe tbody tr th:only-of-type {\n",
       "        vertical-align: middle;\n",
       "    }\n",
       "\n",
       "    .dataframe tbody tr th {\n",
       "        vertical-align: top;\n",
       "    }\n",
       "\n",
       "    .dataframe thead th {\n",
       "        text-align: right;\n",
       "    }\n",
       "</style>\n",
       "<table border=\"1\" class=\"dataframe\">\n",
       "  <thead>\n",
       "    <tr style=\"text-align: right;\">\n",
       "      <th></th>\n",
       "      <th>TEST DATASET</th>\n",
       "      <th>Introduction</th>\n",
       "    </tr>\n",
       "  </thead>\n",
       "  <tbody>\n",
       "    <tr>\n",
       "      <th>1</th>\n",
       "      <td>NaN</td>\n",
       "      <td>Acnesol Gel is an antibiotic that fights bacte...</td>\n",
       "    </tr>\n",
       "    <tr>\n",
       "      <th>2</th>\n",
       "      <td>NaN</td>\n",
       "      <td>Ambrodil Syrup is used for treating various re...</td>\n",
       "    </tr>\n",
       "    <tr>\n",
       "      <th>3</th>\n",
       "      <td>NaN</td>\n",
       "      <td>Augmentin 625 Duo Tablet is a penicillin-type ...</td>\n",
       "    </tr>\n",
       "    <tr>\n",
       "      <th>4</th>\n",
       "      <td>NaN</td>\n",
       "      <td>Azithral 500 Tablet is an antibiotic used to t...</td>\n",
       "    </tr>\n",
       "    <tr>\n",
       "      <th>5</th>\n",
       "      <td>NaN</td>\n",
       "      <td>Alkasol Oral Solution is a medicine used in th...</td>\n",
       "    </tr>\n",
       "    <tr>\n",
       "      <th>...</th>\n",
       "      <td>...</td>\n",
       "      <td>...</td>\n",
       "    </tr>\n",
       "    <tr>\n",
       "      <th>996</th>\n",
       "      <td>NaN</td>\n",
       "      <td>Azapure Tablet belongs to a group of medicines...</td>\n",
       "    </tr>\n",
       "    <tr>\n",
       "      <th>997</th>\n",
       "      <td>NaN</td>\n",
       "      <td>Arimidex 1mg Tablet  is used alone or with oth...</td>\n",
       "    </tr>\n",
       "    <tr>\n",
       "      <th>998</th>\n",
       "      <td>NaN</td>\n",
       "      <td>Arpimune ME 100mg Capsule is used to prevent y...</td>\n",
       "    </tr>\n",
       "    <tr>\n",
       "      <th>999</th>\n",
       "      <td>NaN</td>\n",
       "      <td>Amlodac CH Tablet is a combination medicine us...</td>\n",
       "    </tr>\n",
       "    <tr>\n",
       "      <th>1000</th>\n",
       "      <td>NaN</td>\n",
       "      <td>Angizem CD 120 Capsule ER is used to treat ang...</td>\n",
       "    </tr>\n",
       "  </tbody>\n",
       "</table>\n",
       "<p>1000 rows × 2 columns</p>\n",
       "</div>"
      ],
      "text/plain": [
       "      TEST DATASET                                       Introduction\n",
       "1              NaN  Acnesol Gel is an antibiotic that fights bacte...\n",
       "2              NaN  Ambrodil Syrup is used for treating various re...\n",
       "3              NaN  Augmentin 625 Duo Tablet is a penicillin-type ...\n",
       "4              NaN  Azithral 500 Tablet is an antibiotic used to t...\n",
       "5              NaN  Alkasol Oral Solution is a medicine used in th...\n",
       "...            ...                                                ...\n",
       "996            NaN  Azapure Tablet belongs to a group of medicines...\n",
       "997            NaN  Arimidex 1mg Tablet  is used alone or with oth...\n",
       "998            NaN  Arpimune ME 100mg Capsule is used to prevent y...\n",
       "999            NaN  Amlodac CH Tablet is a combination medicine us...\n",
       "1000           NaN  Angizem CD 120 Capsule ER is used to treat ang...\n",
       "\n",
       "[1000 rows x 2 columns]"
      ]
     },
     "execution_count": 7,
     "metadata": {},
     "output_type": "execute_result"
    }
   ],
   "source": [
    "df.rename(columns = {'Unnamed: 1' : 'Introduction' }, inplace=True)\n",
    "# Deleting the first row\n",
    "df.drop(0)"
   ]
  },
  {
   "cell_type": "code",
   "execution_count": 8,
   "id": "c33acc67",
   "metadata": {},
   "outputs": [
    {
     "name": "stdout",
     "output_type": "stream",
     "text": [
      "Acnesol Gel is an antibiotic that fights bacteria. It is used to treat acne, which appears as spots or pimples on your face, chest or back. This medicine works by attacking the bacteria that cause these pimples.Acnesol Gel is only meant for external use and should be used as advised by your doctor. You should normally wash and dry the affected area before applying a thin layer of the medicine. It should not be applied to broken or damaged skin. Avoid any contact with your eyes, nose, or mouth. Rinse it off with water if you accidentally get it in these areas. It may take several weeks for your symptoms to improve, but you should keep using this medicine regularly. Do not stop using it as soon as your acne starts to get better. Ask your doctor when you should stop treatment.Common side effects like minor itching, burning, or redness of the skin and oily skin may be seen in some people. These are usually temporary and resolve on their own. Consult your doctor if they bother you or do not go away.It is a safe medicine, but you should inform your doctor if you have any problems with your bowels (intestines). Also, inform the doctor if you have ever had bloody diarrhea caused by taking antibiotics or if you are using any other medicines to treat skin conditions. Consult your doctor about using this medicine if you are pregnant or breastfeeding.\n"
     ]
    }
   ],
   "source": [
    "# Converting the DataFrame into a dictionary\n",
    "text_dictionary = {}\n",
    "for i in range(1,len(df['TEST DATASET'])):\n",
    "    text_dictionary[i] = df['Introduction'][i]\n",
    "    \n",
    "print(text_dictionary[1])"
   ]
  },
  {
   "cell_type": "markdown",
   "id": "4cb1c139",
   "metadata": {},
   "source": [
    "#### There are 1000 such description of the different medicines. The task is to give summarised form of these description."
   ]
  },
  {
   "cell_type": "code",
   "execution_count": 9,
   "id": "44b3c9ea",
   "metadata": {},
   "outputs": [],
   "source": [
    "# function to remove stopwords\n",
    "def remove_stopwords(sen):\n",
    "    stop_words = stopwords.words('english')\n",
    "    \n",
    "    sen_new = \" \".join([i for i in sen if i not in stop_words])\n",
    "    return sen_new"
   ]
  },
  {
   "cell_type": "code",
   "execution_count": 10,
   "id": "06976702",
   "metadata": {},
   "outputs": [],
   "source": [
    "# function to make vectors out of the sentences\n",
    "def sentence_vector_func (sentences_cleaned) : \n",
    "    sentence_vector = []\n",
    "    for i in sentences_cleaned:\n",
    "        if len(i) != 0:\n",
    "            v = sum([word_embeddings.get(w, np.zeros((100,))) for w in i.split()])/(len(i.split())+0.001)\n",
    "        else:\n",
    "            v = np.zeros((100,))\n",
    "        sentence_vector.append(v)\n",
    "    \n",
    "    return (sentence_vector)"
   ]
  },
  {
   "cell_type": "code",
   "execution_count": 11,
   "id": "a307f86c",
   "metadata": {},
   "outputs": [],
   "source": [
    "# function to get the summary of the articles\n",
    "# NOTE - Remove '#' infront of print statement for displaying the contents at different stages of the text summarisation process\n",
    "def summary_text (test_text, n = 5):\n",
    "    sentences = []\n",
    "    \n",
    "    # tokenising the text \n",
    "    sentences.append(sent_tokenize(test_text))\n",
    "    #print(sentences)\n",
    "    sentences = [y for x in sentences for y in x] # flatten list\n",
    "    #print(sentences)\n",
    "    \n",
    "    # remove punctuations, numbers and special characters\n",
    "    clean_sentences = pd.Series(sentences).str.replace(\"[^a-z A-Z 0-9]\", \" \")\n",
    "\n",
    "    # make alphabets lowercase\n",
    "    clean_sentences = [s.lower() for s in clean_sentences]\n",
    "    #print(clean_sentences)\n",
    "\n",
    "    \n",
    "    # remove stopwords from the sentences\n",
    "    clean_sentences = [remove_stopwords(r.split()) for r in clean_sentences]\n",
    "    #print(clean_sentences)\n",
    "    \n",
    "    sentence_vectors = sentence_vector_func(clean_sentences)\n",
    "    \n",
    "    # similarity matrix\n",
    "    sim_mat = np.zeros([len(sentences), len(sentences)])\n",
    "    #print(sim_mat)\n",
    "    \n",
    "    # Finding the similarities between the sentences \n",
    "    for i in range(len(sentences)):\n",
    "        for j in range(len(sentences)):\n",
    "            if i != j:\n",
    "                sim_mat[i][j] = cosine_similarity(sentence_vectors[i].reshape(1,100), sentence_vectors[j].reshape(1,100))[0,0]\n",
    "    \n",
    "    \n",
    "    nx_graph = nx.from_numpy_array(sim_mat)\n",
    "    scores = nx.pagerank(nx_graph)\n",
    "    #print(scores)\n",
    "    \n",
    "    ranked_sentences = sorted(((scores[i],s) for i,s in enumerate(sentences)))\n",
    "    # Extract sentences as the summary\n",
    "    summarised_string = ''\n",
    "    for i in range(n):\n",
    "        \n",
    "        try:\n",
    "            summarised_string = summarised_string + str(ranked_sentences[i][1])            \n",
    "        except IndexError:\n",
    "            print (\"Summary Not Available\")\n",
    "    \n",
    "    return (summarised_string)\n"
   ]
  },
  {
   "cell_type": "code",
   "execution_count": null,
   "id": "44e1f201",
   "metadata": {},
   "outputs": [
    {
     "name": "stdout",
     "output_type": "stream",
     "text": [
      "Kindly let me know in how many sentences you want the summary - \n",
      "3\n",
      "Summary of the article -  1\n",
      "Acnesol Gel is an antibiotic that fights bacteria.These are usually temporary and resolve on their own.Consult your doctor about using this medicine if you are pregnant or breastfeeding.\n",
      "========================================================================================================================\n",
      "Summary of the article -  2\n",
      "Ambrodil Syrup is used for treating various respiratory tract disorders associated with excessive mucus.It works by thinning and loosens mucus in the nose, windpipe and lungs and make it easier to cough out.Ambrodil Syrup should be taken with food.For better results, it is suggested to take it at the same time every day.\n",
      "========================================================================================================================\n",
      "Summary of the article -  3\n",
      "It is used to treat infections of the lungs (e.g., pneumonia), ear, nasal sinus, urinary tract, skin and soft tissue.You should take it regularly at evenly spaced intervals as per the schedule prescribed by your doctor.Augmentin 625 Duo Tablet is a penicillin-type of antibiotic that helps your body fight infections caused by bacteria.\n",
      "========================================================================================================================\n",
      "Summary of the article -  4\n",
      "These are usually temporary and subside with the completion of treatment.It should be used regularly at evenly spaced time intervals as prescribed by your doctor.Pregnant or breastfeeding women should consult their doctor before using this medicine.\n",
      "========================================================================================================================\n",
      "Summary of the article -  5\n",
      "This will prevent you from getting an upset stomach.It may also cause diarrhea, excessive production of urine, tiredness, etc.Alkasol Oral Solution is a medicine used in the treatment of gout and kidney stones.\n",
      "========================================================================================================================\n",
      "Summary of the article -  6\n"
     ]
    },
    {
     "name": "stderr",
     "output_type": "stream",
     "text": [
      "C:\\Users\\user\\AppData\\Local\\Temp\\ipykernel_11440\\2821205942.py:13: FutureWarning: The default value of regex will change from True to False in a future version.\n",
      "  clean_sentences = pd.Series(sentences).str.replace(\"[^a-z A-Z 0-9]\", \" \")\n",
      "C:\\Users\\user\\AppData\\Local\\Temp\\ipykernel_11440\\2821205942.py:13: FutureWarning: The default value of regex will change from True to False in a future version.\n",
      "  clean_sentences = pd.Series(sentences).str.replace(\"[^a-z A-Z 0-9]\", \" \")\n",
      "C:\\Users\\user\\AppData\\Local\\Temp\\ipykernel_11440\\2821205942.py:13: FutureWarning: The default value of regex will change from True to False in a future version.\n",
      "  clean_sentences = pd.Series(sentences).str.replace(\"[^a-z A-Z 0-9]\", \" \")\n",
      "C:\\Users\\user\\AppData\\Local\\Temp\\ipykernel_11440\\2821205942.py:13: FutureWarning: The default value of regex will change from True to False in a future version.\n",
      "  clean_sentences = pd.Series(sentences).str.replace(\"[^a-z A-Z 0-9]\", \" \")\n",
      "C:\\Users\\user\\AppData\\Local\\Temp\\ipykernel_11440\\2821205942.py:13: FutureWarning: The default value of regex will change from True to False in a future version.\n",
      "  clean_sentences = pd.Series(sentences).str.replace(\"[^a-z A-Z 0-9]\", \" \")\n",
      "C:\\Users\\user\\AppData\\Local\\Temp\\ipykernel_11440\\2821205942.py:13: FutureWarning: The default value of regex will change from True to False in a future version.\n",
      "  clean_sentences = pd.Series(sentences).str.replace(\"[^a-z A-Z 0-9]\", \" \")\n"
     ]
    },
    {
     "name": "stdout",
     "output_type": "stream",
     "text": [
      "Allegra 120mg Tablet belongs to a group of medicines called antihistamines.It also relieves watery eyes, runny nose, sneezing, and itching.Allegra 120mg Tablet should be taken on an empty stomach.It is used to treat various allergic conditions such as hay fever, conjunctivitis and some skin reactions such as eczema, hives and reactions to bites and stings.\n",
      "========================================================================================================================\n",
      "Summary of the article -  7\n",
      "It thins mucus in the nose, windpipe and lungs, making it easier to cough out.Most of these are temporary and usually resolve with time.Ascoril LS Syrup is a combination medicine used in the treatment of cough with mucus.\n",
      "========================================================================================================================\n",
      "Summary of the article -  8\n",
      "This medicine should relieve indigestion and heartburn within a few hours.Follow the advice of your doctor while taking this medicine.Aciloc 150 Tablet is a medicine that reduces the amount of excess acid make by your stomach.\n",
      "========================================================================================================================\n",
      "Summary of the article -  9\n",
      "Inform your doctor if you are pregnant, or breastfeeding.There may be ways of reducing or preventing them.Avoid driving or attention-seeking activity.\n",
      "========================================================================================================================\n",
      "Summary of the article -  10\n",
      "These are usually temporary and subside with the completion of treatment.It should be used regularly at evenly spaced time intervals as prescribed by your doctor.Pregnant or breastfeeding women should consult their doctor before using this medicine.\n",
      "========================================================================================================================\n",
      "Summary of the article -  11\n"
     ]
    },
    {
     "name": "stderr",
     "output_type": "stream",
     "text": [
      "C:\\Users\\user\\AppData\\Local\\Temp\\ipykernel_11440\\2821205942.py:13: FutureWarning: The default value of regex will change from True to False in a future version.\n",
      "  clean_sentences = pd.Series(sentences).str.replace(\"[^a-z A-Z 0-9]\", \" \")\n",
      "C:\\Users\\user\\AppData\\Local\\Temp\\ipykernel_11440\\2821205942.py:13: FutureWarning: The default value of regex will change from True to False in a future version.\n",
      "  clean_sentences = pd.Series(sentences).str.replace(\"[^a-z A-Z 0-9]\", \" \")\n",
      "C:\\Users\\user\\AppData\\Local\\Temp\\ipykernel_11440\\2821205942.py:13: FutureWarning: The default value of regex will change from True to False in a future version.\n",
      "  clean_sentences = pd.Series(sentences).str.replace(\"[^a-z A-Z 0-9]\", \" \")\n",
      "C:\\Users\\user\\AppData\\Local\\Temp\\ipykernel_11440\\2821205942.py:13: FutureWarning: The default value of regex will change from True to False in a future version.\n",
      "  clean_sentences = pd.Series(sentences).str.replace(\"[^a-z A-Z 0-9]\", \" \")\n",
      "C:\\Users\\user\\AppData\\Local\\Temp\\ipykernel_11440\\2821205942.py:13: FutureWarning: The default value of regex will change from True to False in a future version.\n",
      "  clean_sentences = pd.Series(sentences).str.replace(\"[^a-z A-Z 0-9]\", \" \")\n"
     ]
    },
    {
     "name": "stdout",
     "output_type": "stream",
     "text": [
      "Aciloc RD 20 Tablet is a prescription medicine used to treat gastroesophageal reflux disease (Acid reflux) and peptic ulcer disease by relieving the symptoms such as heartburn, stomach pain, or irritation.Most of these are temporary and usually resolve with time.Avoid drinking alcohol while taking this medicine as it can worsen your dizziness.\n",
      "========================================================================================================================\n",
      "Summary of the article -  12\n",
      "It is used to treat fungal infections of the skin.Occasionally it can cause thinning of your hair.Signs of this include rash, swelling of the lips, throat or face, swallowing, or breathing problems.\n",
      "========================================================================================================================\n",
      "Summary of the article -  13\n",
      "Inform your doctor if you are pregnant, or breastfeeding.Atarax 25mg Tablet is an antihistamine used to treat symptoms of skin allergy like itching, swelling, and rashes.There may be ways of reducing or preventing them.\n",
      "========================================================================================================================\n",
      "Summary of the article -  14\n",
      "Altraday Capsule SR is a combination of two medicines.It is used to reduce pain and inflammation in conditions like rheumatoid arthritis, ankylosing spondylitis, and osteoarthritis.You should take it as advised by your doctor.\n",
      "========================================================================================================================\n",
      "Summary of the article -  15\n",
      "It is for external use only.Avoid getting it into your eyes or mouth.Do not use this medicine if you are allergic to it.\n",
      "========================================================================================================================\n",
      "Summary of the article -  16\n",
      "It also relaxes the muscles in your airway.It thins mucus in the nose, windpipe and lungs making it easier to cough out.Keep it out of reach of children.\n",
      "========================================================================================================================\n",
      "Summary of the article -  17\n"
     ]
    },
    {
     "name": "stderr",
     "output_type": "stream",
     "text": [
      "C:\\Users\\user\\AppData\\Local\\Temp\\ipykernel_11440\\2821205942.py:13: FutureWarning: The default value of regex will change from True to False in a future version.\n",
      "  clean_sentences = pd.Series(sentences).str.replace(\"[^a-z A-Z 0-9]\", \" \")\n",
      "C:\\Users\\user\\AppData\\Local\\Temp\\ipykernel_11440\\2821205942.py:13: FutureWarning: The default value of regex will change from True to False in a future version.\n",
      "  clean_sentences = pd.Series(sentences).str.replace(\"[^a-z A-Z 0-9]\", \" \")\n",
      "C:\\Users\\user\\AppData\\Local\\Temp\\ipykernel_11440\\2821205942.py:13: FutureWarning: The default value of regex will change from True to False in a future version.\n",
      "  clean_sentences = pd.Series(sentences).str.replace(\"[^a-z A-Z 0-9]\", \" \")\n",
      "C:\\Users\\user\\AppData\\Local\\Temp\\ipykernel_11440\\2821205942.py:13: FutureWarning: The default value of regex will change from True to False in a future version.\n",
      "  clean_sentences = pd.Series(sentences).str.replace(\"[^a-z A-Z 0-9]\", \" \")\n",
      "C:\\Users\\user\\AppData\\Local\\Temp\\ipykernel_11440\\2821205942.py:13: FutureWarning: The default value of regex will change from True to False in a future version.\n",
      "  clean_sentences = pd.Series(sentences).str.replace(\"[^a-z A-Z 0-9]\", \" \")\n",
      "C:\\Users\\user\\AppData\\Local\\Temp\\ipykernel_11440\\2821205942.py:13: FutureWarning: The default value of regex will change from True to False in a future version.\n",
      "  clean_sentences = pd.Series(sentences).str.replace(\"[^a-z A-Z 0-9]\", \" \")\n",
      "C:\\Users\\user\\AppData\\Local\\Temp\\ipykernel_11440\\2821205942.py:13: FutureWarning: The default value of regex will change from True to False in a future version.\n",
      "  clean_sentences = pd.Series(sentences).str.replace(\"[^a-z A-Z 0-9]\", \" \")\n",
      "C:\\Users\\user\\AppData\\Local\\Temp\\ipykernel_11440\\2821205942.py:13: FutureWarning: The default value of regex will change from True to False in a future version.\n",
      "  clean_sentences = pd.Series(sentences).str.replace(\"[^a-z A-Z 0-9]\", \" \")\n",
      "C:\\Users\\user\\AppData\\Local\\Temp\\ipykernel_11440\\2821205942.py:13: FutureWarning: The default value of regex will change from True to False in a future version.\n",
      "  clean_sentences = pd.Series(sentences).str.replace(\"[^a-z A-Z 0-9]\", \" \")\n",
      "C:\\Users\\user\\AppData\\Local\\Temp\\ipykernel_11440\\2821205942.py:13: FutureWarning: The default value of regex will change from True to False in a future version.\n",
      "  clean_sentences = pd.Series(sentences).str.replace(\"[^a-z A-Z 0-9]\", \" \")\n"
     ]
    },
    {
     "name": "stdout",
     "output_type": "stream",
     "text": [
      "Most of these are temporary and usually resolve with time.It is beneficial to have plenty of fluids while taking this medication.You should also tell your doctor if you are pregnant, planning pregnancy or breastfeeding.\n",
      "========================================================================================================================\n",
      "Summary of the article -  18\n",
      "It relieves allergic symptoms such as sneezing, runny nose, watery eyes, and throat irritation.Most of these are temporary and usually resolve with time.It is beneficial to have plenty of fluids while taking this medication.\n",
      "========================================================================================================================\n",
      "Summary of the article -  19\n",
      "It lowers the blood pressure by relaxing the blood vessels.Also, pregnant women and breastfeeding mothers should consult a doctor before taking it.You should always take this medicine as advised by the doctor and should never stop it without consulting the doctor.\n",
      "========================================================================================================================\n",
      "Summary of the article -  20\n",
      "It reduces the formation of harmful blood clots in blood vessels.Axcer  90mg Tablet belongs to a group of medicines called antiplatelets or blood thinners.Such episodes of bleeding are usually mild and resolve on their own.\n",
      "========================================================================================================================\n",
      "Summary of the article -  21\n",
      "Consult your doctor if you are breastfeeding mother.The most common are headache, itching or irritation of the scalp.Clean and dry your scalp before using it.\n",
      "========================================================================================================================\n",
      "Summary of the article -  22\n"
     ]
    },
    {
     "name": "stderr",
     "output_type": "stream",
     "text": [
      "C:\\Users\\user\\AppData\\Local\\Temp\\ipykernel_11440\\2821205942.py:13: FutureWarning: The default value of regex will change from True to False in a future version.\n",
      "  clean_sentences = pd.Series(sentences).str.replace(\"[^a-z A-Z 0-9]\", \" \")\n",
      "C:\\Users\\user\\AppData\\Local\\Temp\\ipykernel_11440\\2821205942.py:13: FutureWarning: The default value of regex will change from True to False in a future version.\n",
      "  clean_sentences = pd.Series(sentences).str.replace(\"[^a-z A-Z 0-9]\", \" \")\n",
      "C:\\Users\\user\\AppData\\Local\\Temp\\ipykernel_11440\\2821205942.py:13: FutureWarning: The default value of regex will change from True to False in a future version.\n",
      "  clean_sentences = pd.Series(sentences).str.replace(\"[^a-z A-Z 0-9]\", \" \")\n",
      "C:\\Users\\user\\AppData\\Local\\Temp\\ipykernel_11440\\2821205942.py:13: FutureWarning: The default value of regex will change from True to False in a future version.\n",
      "  clean_sentences = pd.Series(sentences).str.replace(\"[^a-z A-Z 0-9]\", \" \")\n"
     ]
    },
    {
     "name": "stdout",
     "output_type": "stream",
     "text": [
      "If it gets into your eyes, nose, mouth, or vagina rinse with water.It minimizes excessive oil production, thus reduces inflammation.You must consult the doctor if you experience any allergic reaction (rashes, itching, swelling, shortness of breath, etc.\n",
      "========================================================================================================================\n",
      "Summary of the article -  23\n",
      "It relieves allergic symptoms such as sneezing, runny nose, watery eyes, and throat irritation.Most of these are temporary and usually resolve with time.Asthakind-DX Syrup Sugar Free is a combination medicine used in the treatment of dry cough.\n",
      "========================================================================================================================\n",
      "Summary of the article -  24\n",
      "It relieves watery eyes, runny nose, sneezing, and itching.Allegra 180mg Tablet should be taken empty stomach.Allegra 180mg Tablet belongs to a group of medicines called antihistamines.It is used to treat various allergic conditions such as hay fever, conjunctivitis and some skin reactions such as eczema, hives, and reactions to bites and stings.\n",
      "========================================================================================================================\n",
      "Summary of the article -  25\n",
      "Pregnant or breastfeeding women should also consult their doctor for advice before taking this medicine.This might raise the level of potassium in the blood, hence avoid potassium rich food or supplements.Amlokind-AT Tablet is used to treat hypertension (high blood pressure).\n",
      "========================================================================================================================\n",
      "Summary of the article -  26\n",
      "Ativan 2mg Tablet is a prescription medicine used to treat anxiety disorders such as generalized anxiety disorder (excessive worry or restlessness), obsessive compulsive disorder (OCD), panic attacks and social phobias.It is also used for the short-term relief of the symptoms of anxiety.Ativan 2mg Tablet relieves symptoms of anxiety such as nervousness, rapid breathing, increased heart rate, excessive sweating, trembling, weakness or lack of concentration.It may be taken with or without food.\n",
      "========================================================================================================================\n",
      "Summary of the article -  27\n"
     ]
    },
    {
     "name": "stderr",
     "output_type": "stream",
     "text": [
      "C:\\Users\\user\\AppData\\Local\\Temp\\ipykernel_11440\\2821205942.py:13: FutureWarning: The default value of regex will change from True to False in a future version.\n",
      "  clean_sentences = pd.Series(sentences).str.replace(\"[^a-z A-Z 0-9]\", \" \")\n",
      "C:\\Users\\user\\AppData\\Local\\Temp\\ipykernel_11440\\2821205942.py:13: FutureWarning: The default value of regex will change from True to False in a future version.\n",
      "  clean_sentences = pd.Series(sentences).str.replace(\"[^a-z A-Z 0-9]\", \" \")\n",
      "C:\\Users\\user\\AppData\\Local\\Temp\\ipykernel_11440\\2821205942.py:13: FutureWarning: The default value of regex will change from True to False in a future version.\n",
      "  clean_sentences = pd.Series(sentences).str.replace(\"[^a-z A-Z 0-9]\", \" \")\n",
      "C:\\Users\\user\\AppData\\Local\\Temp\\ipykernel_11440\\2821205942.py:13: FutureWarning: The default value of regex will change from True to False in a future version.\n",
      "  clean_sentences = pd.Series(sentences).str.replace(\"[^a-z A-Z 0-9]\", \" \")\n",
      "C:\\Users\\user\\AppData\\Local\\Temp\\ipykernel_11440\\2821205942.py:13: FutureWarning: The default value of regex will change from True to False in a future version.\n",
      "  clean_sentences = pd.Series(sentences).str.replace(\"[^a-z A-Z 0-9]\", \" \")\n"
     ]
    },
    {
     "name": "stdout",
     "output_type": "stream",
     "text": [
      "Inform your doctor if you are pregnant, or breastfeeding.Atarax 10mg Tablet is an antihistamine used to treat symptoms of skin allergy like itching, swelling, and rashes.There may be ways of reducing or preventing them.\n",
      "========================================================================================================================\n",
      "Summary of the article -  28\n",
      "It is an effective appetite stimulant.Pregnant or breastfeeding women should also consult their doctor.Most of these are temporary and usually resolve with time.\n",
      "========================================================================================================================\n",
      "Summary of the article -  29\n",
      "It relieves allergic symptoms such as sneezing, runny nose, watery eyes, and throat irritation.Most of these are temporary and usually resolve with time.It is beneficial to have plenty of fluids while taking this medication.\n",
      "========================================================================================================================\n",
      "Summary of the article -  30\n",
      "If you experience any allergic reaction (rashes, itching, swelling, shortness of breath, etc.It usually does not impair your ability to drive, but you should not drive if it makes you feel sleepy or dizzy.Pregnant or breastfeeding women should also consult with the doctor before taking it.\n",
      "========================================================================================================================\n",
      "Summary of the article -  31\n"
     ]
    },
    {
     "name": "stderr",
     "output_type": "stream",
     "text": [
      "C:\\Users\\user\\AppData\\Local\\Temp\\ipykernel_11440\\2821205942.py:13: FutureWarning: The default value of regex will change from True to False in a future version.\n",
      "  clean_sentences = pd.Series(sentences).str.replace(\"[^a-z A-Z 0-9]\", \" \")\n",
      "C:\\Users\\user\\AppData\\Local\\Temp\\ipykernel_11440\\2821205942.py:13: FutureWarning: The default value of regex will change from True to False in a future version.\n",
      "  clean_sentences = pd.Series(sentences).str.replace(\"[^a-z A-Z 0-9]\", \" \")\n",
      "C:\\Users\\user\\AppData\\Local\\Temp\\ipykernel_11440\\2821205942.py:13: FutureWarning: The default value of regex will change from True to False in a future version.\n",
      "  clean_sentences = pd.Series(sentences).str.replace(\"[^a-z A-Z 0-9]\", \" \")\n",
      "C:\\Users\\user\\AppData\\Local\\Temp\\ipykernel_11440\\2821205942.py:13: FutureWarning: The default value of regex will change from True to False in a future version.\n",
      "  clean_sentences = pd.Series(sentences).str.replace(\"[^a-z A-Z 0-9]\", \" \")\n"
     ]
    },
    {
     "name": "stdout",
     "output_type": "stream",
     "text": [
      "Alprax 0.25 Tablet belongs to a class of medicines known as benzodiazepines.It is a prescription medicine used to treat anxiety.Weight loss can be managed by increasing food portions and consulting a dietitian.\n",
      "========================================================================================================================\n",
      "Summary of the article -  32\n",
      "Follow your doctor’s instructions.Ideally, a pinpoint application at nighttime is recommended for the duration prescribed by your doctor.It is advised, not to have any waxing (hair removal), or laser treatments during treatment.\n",
      "========================================================================================================================\n",
      "Summary of the article -  33\n",
      "It reduces the swelling (edema) caused by some other conditions.Aldactone Tablet is a medicine known as a diuretic (water pill).Pregnant or breastfeeding women should consult their doctor before taking this medicine.\n",
      "========================================================================================================================\n",
      "Summary of the article -  34\n",
      "AF Kit Tablet is a combination medicine used in syndromic management of vaginal discharge.It may cause side effects like nausea, headache, vomiting, taste change, dizziness, indigestion, loss of appetite, and stomach pain.In case you have missed any doses, take it as soon as you remember it.\n",
      "========================================================================================================================\n",
      "Summary of the article -  35\n"
     ]
    },
    {
     "name": "stderr",
     "output_type": "stream",
     "text": [
      "C:\\Users\\user\\AppData\\Local\\Temp\\ipykernel_11440\\2821205942.py:13: FutureWarning: The default value of regex will change from True to False in a future version.\n",
      "  clean_sentences = pd.Series(sentences).str.replace(\"[^a-z A-Z 0-9]\", \" \")\n",
      "C:\\Users\\user\\AppData\\Local\\Temp\\ipykernel_11440\\2821205942.py:13: FutureWarning: The default value of regex will change from True to False in a future version.\n",
      "  clean_sentences = pd.Series(sentences).str.replace(\"[^a-z A-Z 0-9]\", \" \")\n",
      "C:\\Users\\user\\AppData\\Local\\Temp\\ipykernel_11440\\2821205942.py:13: FutureWarning: The default value of regex will change from True to False in a future version.\n",
      "  clean_sentences = pd.Series(sentences).str.replace(\"[^a-z A-Z 0-9]\", \" \")\n",
      "C:\\Users\\user\\AppData\\Local\\Temp\\ipykernel_11440\\2821205942.py:13: FutureWarning: The default value of regex will change from True to False in a future version.\n",
      "  clean_sentences = pd.Series(sentences).str.replace(\"[^a-z A-Z 0-9]\", \" \")\n"
     ]
    },
    {
     "name": "stdout",
     "output_type": "stream",
     "text": [
      "Swallow it as a whole,  do not crush, chew, break, or open them.Follow your doctor’s instructions on this.Azoran Tablet belongs to a group of medicines called immunosuppressants.\n",
      "========================================================================================================================\n",
      "Summary of the article -  36\n",
      "It is used to treat infections of the lungs (e.g., pneumonia), ear, nasal sinus, urinary tract, skin and soft tissue.You should take it regularly at evenly spaced intervals as per the schedule prescribed by your doctor.Augmentin DDS Suspension is a penicillin-type of antibiotic that helps your body fight infections caused by bacteria.\n",
      "========================================================================================================================\n",
      "Summary of the article -  37\n",
      "Common side effects of this medicine include constipation, flatulence, dyspepsia, and abdominal pain.It can be taken with a meal or on an empty stomach.Atorva 40 Tablet belongs to a group of medicines called statins.\n",
      "========================================================================================================================\n",
      "Summary of the article -  38\n",
      "Amlokind 5 Tablet belongs to a class of medicines known as a calcium channel blockers.The dose depends on what you are taking it for and the severity of your condition.Pregnant or breastfeeding women should also consult their doctor for advice before taking this medicine.\n",
      "========================================================================================================================\n",
      "Summary of the article -  39\n",
      "AB Phylline Capsule is used to treat and prevent symptoms of asthma and chronic obstructive pulmonary disorder (a lung disorder in which flow of air to the lung is blocked).Inform your doctor if you are pregnant or breastfeeding before starting the treatment.There may be ways of reducing or preventing them.\n",
      "========================================================================================================================\n",
      "Summary of the article -  40\n"
     ]
    },
    {
     "name": "stderr",
     "output_type": "stream",
     "text": [
      "C:\\Users\\user\\AppData\\Local\\Temp\\ipykernel_11440\\2821205942.py:13: FutureWarning: The default value of regex will change from True to False in a future version.\n",
      "  clean_sentences = pd.Series(sentences).str.replace(\"[^a-z A-Z 0-9]\", \" \")\n",
      "C:\\Users\\user\\AppData\\Local\\Temp\\ipykernel_11440\\2821205942.py:13: FutureWarning: The default value of regex will change from True to False in a future version.\n",
      "  clean_sentences = pd.Series(sentences).str.replace(\"[^a-z A-Z 0-9]\", \" \")\n",
      "C:\\Users\\user\\AppData\\Local\\Temp\\ipykernel_11440\\2821205942.py:13: FutureWarning: The default value of regex will change from True to False in a future version.\n",
      "  clean_sentences = pd.Series(sentences).str.replace(\"[^a-z A-Z 0-9]\", \" \")\n",
      "C:\\Users\\user\\AppData\\Local\\Temp\\ipykernel_11440\\2821205942.py:13: FutureWarning: The default value of regex will change from True to False in a future version.\n",
      "  clean_sentences = pd.Series(sentences).str.replace(\"[^a-z A-Z 0-9]\", \" \")\n"
     ]
    },
    {
     "name": "stdout",
     "output_type": "stream",
     "text": [
      "It’s used to treat the symptoms of asthma and chronic obstructive pulmonary disease (COPD) such as coughing, wheezing and breathlessness.Asthalin 100mcg Inhaler is called \"reliever\" inhalers because they give you quick relief from breathing problems when you need it.Asthalin 100mcg Inhaler belongs to a group of medicines called fast-acting bronchodilators or “relievers”.Do not stop using this medicine unless your doctor tells you to.\n",
      "========================================================================================================================\n",
      "Summary of the article -  41\n",
      "Alfoo 10mg Tablet PR is an alpha adrenergic antagonist that is used in the treatment of benign prostatic hyperplasia.Swallow the medicine as a whole without crushing or chewing it.If you have to undergo eye surgery due to cataract or glaucoma than inform your eye doctor about the usage of this medicine.\n",
      "========================================================================================================================\n",
      "Summary of the article -  42\n",
      "Alprax 0.5mg Tablet SR belongs to a class of medicines known as benzodiazepines.It is a prescription medicine used to treat anxiety.Weight loss can be managed by increasing food portions and consulting a dietitian.\n",
      "========================================================================================================================\n",
      "Summary of the article -  43\n",
      "It is used to treat infections of the lungs (e.g., pneumonia), ear, nasal sinus, urinary tract, skin and soft tissue.You should take it regularly at evenly spaced intervals as per the schedule prescribed by your doctor.Amoxyclav 625 Tablet is a penicillin-type of antibiotic that helps your body fight infections caused by bacteria.\n",
      "========================================================================================================================\n",
      "Summary of the article -  44\n",
      "Most of these are temporary and usually resolve with time.It relieves allergic symptoms like runny nose, watery eyes, sneezing, throat irritation.Alex Junior Syrup is taken with or without food in a dose and duration as advised by the doctor.It works by reducing the activity of cough center in the brain.\n",
      "========================================================================================================================\n",
      "Summary of the article -  45\n"
     ]
    },
    {
     "name": "stderr",
     "output_type": "stream",
     "text": [
      "C:\\Users\\user\\AppData\\Local\\Temp\\ipykernel_11440\\2821205942.py:13: FutureWarning: The default value of regex will change from True to False in a future version.\n",
      "  clean_sentences = pd.Series(sentences).str.replace(\"[^a-z A-Z 0-9]\", \" \")\n",
      "C:\\Users\\user\\AppData\\Local\\Temp\\ipykernel_11440\\2821205942.py:13: FutureWarning: The default value of regex will change from True to False in a future version.\n",
      "  clean_sentences = pd.Series(sentences).str.replace(\"[^a-z A-Z 0-9]\", \" \")\n",
      "C:\\Users\\user\\AppData\\Local\\Temp\\ipykernel_11440\\2821205942.py:13: FutureWarning: The default value of regex will change from True to False in a future version.\n",
      "  clean_sentences = pd.Series(sentences).str.replace(\"[^a-z A-Z 0-9]\", \" \")\n",
      "C:\\Users\\user\\AppData\\Local\\Temp\\ipykernel_11440\\2821205942.py:13: FutureWarning: The default value of regex will change from True to False in a future version.\n",
      "  clean_sentences = pd.Series(sentences).str.replace(\"[^a-z A-Z 0-9]\", \" \")\n",
      "C:\\Users\\user\\AppData\\Local\\Temp\\ipykernel_11440\\2821205942.py:13: FutureWarning: The default value of regex will change from True to False in a future version.\n",
      "  clean_sentences = pd.Series(sentences).str.replace(\"[^a-z A-Z 0-9]\", \" \")\n",
      "C:\\Users\\user\\AppData\\Local\\Temp\\ipykernel_11440\\2821205942.py:13: FutureWarning: The default value of regex will change from True to False in a future version.\n",
      "  clean_sentences = pd.Series(sentences).str.replace(\"[^a-z A-Z 0-9]\", \" \")\n"
     ]
    },
    {
     "name": "stdout",
     "output_type": "stream",
     "text": [
      "Acitrom 2 Tablet is an oral anticoagulant which helps to prevent formation of harmful blood clots in the legs, lungs, brain and heart.It is used for deep vein thrombosis, pulmonary embolism and stroke prevention.Acitrom 2 Tablet should be taken as advised by the doctor.This medicine should not be stopped abruptly without consulting the doctor.\n",
      "========================================================================================================================\n",
      "Summary of the article -  46\n",
      "It works effectively to reduce abdominal pain and cramps by relaxing the muscles of the stomach and gut.Anafortan 25 mg/300 mg Tablet is a combination medicine used in the treatment of abdominal pain.Most of these are temporary and usually resolve with time.\n",
      "========================================================================================================================\n",
      "Summary of the article -  47\n",
      "It thins mucus in the nose, windpipe and lungs, making it easier to cough out.Most of these are temporary and usually resolve with time.Ascoril LS Junior Syrup is a combination medicine used in the treatment of cough with mucus.\n",
      "========================================================================================================================\n",
      "Summary of the article -  48\n",
      "These are usually temporary and subside with the completion of treatment.Pregnant or breastfeeding women should consult their doctor before using this medicine.It should be used regularly at evenly spaced time intervals as prescribed by your doctor.\n",
      "========================================================================================================================\n",
      "Summary of the article -  49\n",
      "Inform your doctor if you are pregnant, or breastfeeding.It makes skin more sensitive towards sunlight.Avomine Tablet used in the treatment of various allergic conditions like runny nose, sneezing, congestion, itching and watery eyes.\n",
      "========================================================================================================================\n",
      "Summary of the article -  50\n"
     ]
    },
    {
     "name": "stderr",
     "output_type": "stream",
     "text": [
      "C:\\Users\\user\\AppData\\Local\\Temp\\ipykernel_11440\\2821205942.py:13: FutureWarning: The default value of regex will change from True to False in a future version.\n",
      "  clean_sentences = pd.Series(sentences).str.replace(\"[^a-z A-Z 0-9]\", \" \")\n",
      "C:\\Users\\user\\AppData\\Local\\Temp\\ipykernel_11440\\2821205942.py:13: FutureWarning: The default value of regex will change from True to False in a future version.\n",
      "  clean_sentences = pd.Series(sentences).str.replace(\"[^a-z A-Z 0-9]\", \" \")\n",
      "C:\\Users\\user\\AppData\\Local\\Temp\\ipykernel_11440\\2821205942.py:13: FutureWarning: The default value of regex will change from True to False in a future version.\n",
      "  clean_sentences = pd.Series(sentences).str.replace(\"[^a-z A-Z 0-9]\", \" \")\n",
      "C:\\Users\\user\\AppData\\Local\\Temp\\ipykernel_11440\\2821205942.py:13: FutureWarning: The default value of regex will change from True to False in a future version.\n",
      "  clean_sentences = pd.Series(sentences).str.replace(\"[^a-z A-Z 0-9]\", \" \")\n"
     ]
    },
    {
     "name": "stdout",
     "output_type": "stream",
     "text": [
      "Asthalin Syrup is used to relieve symptoms of asthma and chronic obstructive pulmonary disease (COPD) such as coughing, wheezing and breathlessness.Try to take it at the same time each day.fast heart rate, and muscle cramps.\n",
      "========================================================================================================================\n",
      "Summary of the article -  51\n",
      "It minimizes oil production and helps to reduce inflammation.Consult your doctor if they bother you or do not go away.It also kills acne-causing microorganisms and prevents infection.\n",
      "========================================================================================================================\n",
      "Summary of the article -  52\n",
      "Inform your doctor if you are pregnant, or breastfeeding.Atarax Syrup is an antihistamine used to treat symptoms of skin allergy like itching, swelling, and rashes.There may be ways of reducing or preventing them.\n",
      "========================================================================================================================\n",
      "Summary of the article -  53\n",
      "Common side effects of this medicine include constipation, flatulence, dyspepsia, and abdominal pain.It can be taken with a meal or on an empty stomach.Consult your doctor if they persist or if you notice any yellowing of your eyes or get repeated or unexplained muscle pains.\n",
      "========================================================================================================================\n",
      "Summary of the article -  54\n",
      "It might lower down the level of calcium, sodium and magnesium in the blood.Before taking this medicine, tell your doctor if you have any liver or  kidney disease.You should take this medicine for as long as it is prescribed for you.Nausea, vomiting, and diarrhea, dizziness or muscle weakness are some common side effects of this medicine.\n",
      "========================================================================================================================\n",
      "Summary of the article -  55\n"
     ]
    },
    {
     "name": "stderr",
     "output_type": "stream",
     "text": [
      "C:\\Users\\user\\AppData\\Local\\Temp\\ipykernel_11440\\2821205942.py:13: FutureWarning: The default value of regex will change from True to False in a future version.\n",
      "  clean_sentences = pd.Series(sentences).str.replace(\"[^a-z A-Z 0-9]\", \" \")\n",
      "C:\\Users\\user\\AppData\\Local\\Temp\\ipykernel_11440\\2821205942.py:13: FutureWarning: The default value of regex will change from True to False in a future version.\n",
      "  clean_sentences = pd.Series(sentences).str.replace(\"[^a-z A-Z 0-9]\", \" \")\n",
      "C:\\Users\\user\\AppData\\Local\\Temp\\ipykernel_11440\\2821205942.py:13: FutureWarning: The default value of regex will change from True to False in a future version.\n",
      "  clean_sentences = pd.Series(sentences).str.replace(\"[^a-z A-Z 0-9]\", \" \")\n",
      "C:\\Users\\user\\AppData\\Local\\Temp\\ipykernel_11440\\2821205942.py:13: FutureWarning: The default value of regex will change from True to False in a future version.\n",
      "  clean_sentences = pd.Series(sentences).str.replace(\"[^a-z A-Z 0-9]\", \" \")\n"
     ]
    },
    {
     "name": "stdout",
     "output_type": "stream",
     "text": [
      "If you experience any allergic reaction (rashes, itching, swelling, shortness of breath, etc.It usually does not impair your ability to drive, but you should not drive if it makes you feel sleepy or dizzy.Pregnant or breastfeeding women should also consult with the doctor before taking it.\n",
      "========================================================================================================================\n",
      "Summary of the article -  56\n",
      "Most of these are temporary and usually resolve with time.It is beneficial to have plenty of fluids while taking this medication.Also tell your doctor if you are pregnant, planning pregnancy or breastfeeding.\n",
      "========================================================================================================================\n",
      "Summary of the article -  57\n",
      "It is effective in most infections of the respiratory tract, ear, nose, throat, lungs, and skin.These are usually temporary and subside with the completion of treatment.Pregnant or breastfeeding women should consult their doctor before using this medicine.\n",
      "========================================================================================================================\n",
      "Summary of the article -  58\n",
      "Ativan 1mg Tablet is a prescription medicine used to treat anxiety disorders such as generalized anxiety disorder (excessive worry or restlessness), obsessive compulsive disorder (OCD), panic attacks and social phobias.It is also used for the short-term relief of the symptoms of anxiety.Ativan 1mg Tablet relieves symptoms of anxiety such as nervousness, rapid breathing, increased heart rate, excessive sweating, trembling, weakness or lack of concentration.It may be taken with or without food.\n",
      "========================================================================================================================\n",
      "Summary of the article -  59\n",
      "It is used to reduce pain and inflammation in conditions like rheumatoid arthritis, ankylosing spondylitis, and osteoarthritis.Aceclo Plus Tablet is a pain relieving medicine.You should take it regularly as advised by your doctor.\n",
      "========================================================================================================================\n",
      "Summary of the article -  60\n"
     ]
    },
    {
     "name": "stderr",
     "output_type": "stream",
     "text": [
      "C:\\Users\\user\\AppData\\Local\\Temp\\ipykernel_11440\\2821205942.py:13: FutureWarning: The default value of regex will change from True to False in a future version.\n",
      "  clean_sentences = pd.Series(sentences).str.replace(\"[^a-z A-Z 0-9]\", \" \")\n",
      "C:\\Users\\user\\AppData\\Local\\Temp\\ipykernel_11440\\2821205942.py:13: FutureWarning: The default value of regex will change from True to False in a future version.\n",
      "  clean_sentences = pd.Series(sentences).str.replace(\"[^a-z A-Z 0-9]\", \" \")\n",
      "C:\\Users\\user\\AppData\\Local\\Temp\\ipykernel_11440\\2821205942.py:13: FutureWarning: The default value of regex will change from True to False in a future version.\n",
      "  clean_sentences = pd.Series(sentences).str.replace(\"[^a-z A-Z 0-9]\", \" \")\n",
      "C:\\Users\\user\\AppData\\Local\\Temp\\ipykernel_11440\\2821205942.py:13: FutureWarning: The default value of regex will change from True to False in a future version.\n",
      "  clean_sentences = pd.Series(sentences).str.replace(\"[^a-z A-Z 0-9]\", \" \")\n",
      "C:\\Users\\user\\AppData\\Local\\Temp\\ipykernel_11440\\2821205942.py:13: FutureWarning: The default value of regex will change from True to False in a future version.\n",
      "  clean_sentences = pd.Series(sentences).str.replace(\"[^a-z A-Z 0-9]\", \" \")\n"
     ]
    },
    {
     "name": "stdout",
     "output_type": "stream",
     "text": [
      "Alaspan Tablet belongs to a group of medicines called antihistamines.Consult your doctor if it persists or worry you.It relieves symptoms like itching, swelling and rashes.Alaspan Tablet should be taken on an empty stomach.\n",
      "========================================================================================================================\n",
      "Summary of the article -  61\n",
      "It should be taken just before or with the first meal of the day.Pregnant or breastfeeding women should also consult their doctor before taking it.Amaryl 1mg Tablet is a medicine used to treat type 2 diabetes mellitus in adults.\n",
      "========================================================================================================================\n",
      "Summary of the article -  62\n",
      "If it gets into your eyes, nose, mouth, or vagina rinse with water.It minimizes excessive oil production, thus reduces inflammation.You must consult the doctor if you experience any allergic reaction (rashes, itching, swelling, shortness of breath, etc.\n",
      "========================================================================================================================\n",
      "Summary of the article -  63\n",
      "If you experience any allergic reaction (rashes, itching, swelling, shortness of breath, etc.It usually does not impair your ability to drive, but you should not drive if it makes you feel sleepy or dizzy.Avoid drinking alcohol as it can cause excessive drowsiness with this medicine.\n",
      "========================================================================================================================\n",
      "Summary of the article -  64\n"
     ]
    },
    {
     "name": "stderr",
     "output_type": "stream",
     "text": [
      "C:\\Users\\user\\AppData\\Local\\Temp\\ipykernel_11440\\2821205942.py:13: FutureWarning: The default value of regex will change from True to False in a future version.\n",
      "  clean_sentences = pd.Series(sentences).str.replace(\"[^a-z A-Z 0-9]\", \" \")\n",
      "C:\\Users\\user\\AppData\\Local\\Temp\\ipykernel_11440\\2821205942.py:13: FutureWarning: The default value of regex will change from True to False in a future version.\n",
      "  clean_sentences = pd.Series(sentences).str.replace(\"[^a-z A-Z 0-9]\", \" \")\n",
      "C:\\Users\\user\\AppData\\Local\\Temp\\ipykernel_11440\\2821205942.py:13: FutureWarning: The default value of regex will change from True to False in a future version.\n",
      "  clean_sentences = pd.Series(sentences).str.replace(\"[^a-z A-Z 0-9]\", \" \")\n",
      "C:\\Users\\user\\AppData\\Local\\Temp\\ipykernel_11440\\2821205942.py:13: FutureWarning: The default value of regex will change from True to False in a future version.\n",
      "  clean_sentences = pd.Series(sentences).str.replace(\"[^a-z A-Z 0-9]\", \" \")\n"
     ]
    },
    {
     "name": "stdout",
     "output_type": "stream",
     "text": [
      "Most of these are temporary and usually resolve with time.It is beneficial to have plenty of fluids while taking this medication.Also tell your doctor if you are pregnant, planning pregnancy or breastfeeding.\n",
      "========================================================================================================================\n",
      "Summary of the article -  65\n",
      "Amlong Tablet belongs to a class of medicines known as a calcium channel blockers.The dose depends on what you are taking it for and the severity of your condition.Pregnant or breastfeeding women should also consult their doctor for advice before taking this medicine.\n",
      "========================================================================================================================\n",
      "Summary of the article -  66\n",
      "Acemiz-S Tablet is not recommended if you are pregnant or breastfeeding.Thus, it effectively alleviates pain and inflammation in conditions like rheumatoid arthritis, ankylosing spondylitis and osteoarthritis.Acemiz-S Tablet should be taken in the dose and duration as advised by your doctor.It should be taken with food or milk to prevent stomach upset.\n",
      "========================================================================================================================\n",
      "Summary of the article -  67\n",
      "It is used to treat infections of the lungs (e.g., pneumonia), ear, nasal sinus, urinary tract, skin and soft tissue.You should take it regularly at evenly spaced intervals as per the schedule prescribed by your doctor.Augmentin Duo Oral Suspension is a penicillin-type of antibiotic that helps your body fight infections caused by bacteria.\n",
      "========================================================================================================================\n",
      "Summary of the article -  68\n",
      "It thins mucus in the nose, windpipe and lungs, making it easier to cough out.Ascoril SF Expectorant is used in the treatment of cough with mucus.Most of these are temporary and usually resolve with time.\n",
      "========================================================================================================================\n",
      "Summary of the article -  69\n",
      "It thins mucus in the nose, windpipe and lungs, making it easier to cough out.Ambrodil-LX Syrup is a combination medicine used in the treatment of cough with mucus.Most of these are temporary and usually resolve with time.\n",
      "========================================================================================================================\n",
      "Summary of the article -  70\n"
     ]
    },
    {
     "name": "stderr",
     "output_type": "stream",
     "text": [
      "C:\\Users\\user\\AppData\\Local\\Temp\\ipykernel_11440\\2821205942.py:13: FutureWarning: The default value of regex will change from True to False in a future version.\n",
      "  clean_sentences = pd.Series(sentences).str.replace(\"[^a-z A-Z 0-9]\", \" \")\n",
      "C:\\Users\\user\\AppData\\Local\\Temp\\ipykernel_11440\\2821205942.py:13: FutureWarning: The default value of regex will change from True to False in a future version.\n",
      "  clean_sentences = pd.Series(sentences).str.replace(\"[^a-z A-Z 0-9]\", \" \")\n",
      "C:\\Users\\user\\AppData\\Local\\Temp\\ipykernel_11440\\2821205942.py:13: FutureWarning: The default value of regex will change from True to False in a future version.\n",
      "  clean_sentences = pd.Series(sentences).str.replace(\"[^a-z A-Z 0-9]\", \" \")\n",
      "C:\\Users\\user\\AppData\\Local\\Temp\\ipykernel_11440\\2821205942.py:13: FutureWarning: The default value of regex will change from True to False in a future version.\n",
      "  clean_sentences = pd.Series(sentences).str.replace(\"[^a-z A-Z 0-9]\", \" \")\n",
      "C:\\Users\\user\\AppData\\Local\\Temp\\ipykernel_11440\\2821205942.py:13: FutureWarning: The default value of regex will change from True to False in a future version.\n",
      "  clean_sentences = pd.Series(sentences).str.replace(\"[^a-z A-Z 0-9]\", \" \")\n"
     ]
    },
    {
     "name": "stdout",
     "output_type": "stream",
     "text": [
      "It helps in treating viral infections like herpes labialis, herpes simplex, shingles, genital herpes infection, and chickenpox.Acivir 400 DT Tablet is an antiviral medicine.Please consult your doctor if you are pregnant, planning to conceive or breastfeeding.\n",
      "========================================================================================================================\n",
      "Summary of the article -  71\n",
      "It may be increased gradually.Amitone 10mg Tablet is used in the treatment of depression.It is normally taken before bedtime because it can make you feel sleepy.\n",
      "========================================================================================================================\n",
      "Summary of the article -  72\n",
      "It thins mucus in the nose, windpipe and lungs, making it easier to cough out.Most of these are temporary and usually resolve with time.Asthakind Expectorant Sugar Free is used in the treatment of cough with mucus.\n",
      "========================================================================================================================\n",
      "Summary of the article -  73\n",
      "Pregnant or breastfeeding mothers should consult their doctor before using this medicine.Influenza, commonly known as flu is an infection caused by a virus.It helps to relieve the symptoms of the flu virus infection like a stuffy or runny nose, sore throat, cough, body aches, tiredness, headache, fever, and chills.Antiflu 75mg Capsule prevents the flu virus from spreading inside the body.\n",
      "========================================================================================================================\n",
      "Summary of the article -  74\n"
     ]
    },
    {
     "name": "stderr",
     "output_type": "stream",
     "text": [
      "C:\\Users\\user\\AppData\\Local\\Temp\\ipykernel_11440\\2821205942.py:13: FutureWarning: The default value of regex will change from True to False in a future version.\n",
      "  clean_sentences = pd.Series(sentences).str.replace(\"[^a-z A-Z 0-9]\", \" \")\n",
      "C:\\Users\\user\\AppData\\Local\\Temp\\ipykernel_11440\\2821205942.py:13: FutureWarning: The default value of regex will change from True to False in a future version.\n",
      "  clean_sentences = pd.Series(sentences).str.replace(\"[^a-z A-Z 0-9]\", \" \")\n",
      "C:\\Users\\user\\AppData\\Local\\Temp\\ipykernel_11440\\2821205942.py:13: FutureWarning: The default value of regex will change from True to False in a future version.\n",
      "  clean_sentences = pd.Series(sentences).str.replace(\"[^a-z A-Z 0-9]\", \" \")\n",
      "C:\\Users\\user\\AppData\\Local\\Temp\\ipykernel_11440\\2821205942.py:13: FutureWarning: The default value of regex will change from True to False in a future version.\n",
      "  clean_sentences = pd.Series(sentences).str.replace(\"[^a-z A-Z 0-9]\", \" \")\n",
      "C:\\Users\\user\\AppData\\Local\\Temp\\ipykernel_11440\\2821205942.py:13: FutureWarning: The default value of regex will change from True to False in a future version.\n",
      "  clean_sentences = pd.Series(sentences).str.replace(\"[^a-z A-Z 0-9]\", \" \")\n"
     ]
    },
    {
     "name": "stdout",
     "output_type": "stream",
     "text": [
      "AF 400 Tablet belongs to a group of medicines called antifungals.It kills fungi by destroying the fungal cell membrane.AF 400 Tablet should be taken in the dose and duration as prescribed by your doctor.The dosage and length of treatment will depend on the condition you are being treated for.\n",
      "========================================================================================================================\n",
      "Summary of the article -  75\n",
      "It should be used in the dose and duration as directed by your doctor.Please consult your doctor if it does not resolve or persists for a longer duration.Anobliss Cream is a combination of two medicines used in the treatment anal fissures (tear in the lining of anus).\n",
      "========================================================================================================================\n",
      "Summary of the article -  76\n",
      "It is used to reduce pain and inflammation in conditions like rheumatoid arthritis, ankylosing spondylitis, and osteoarthritis.Acenac-P  Tablet is a pain relieving medicine.You should take it regularly as advised by your doctor.\n",
      "========================================================================================================================\n",
      "Summary of the article -  77\n",
      "It is effective in infections of the throat, ear, nasal sinuses, respiratory tract (eg.You should take it regularly at evenly spaced intervals as per the schedule prescribed by your doctor.These are temporary and usually resolve quickly.\n",
      "========================================================================================================================\n",
      "Summary of the article -  78\n",
      "Ace-Proxyvon CR Tablet is a combination of two medicines.It is used to reduce pain and inflammation in conditions like rheumatoid arthritis, ankylosing spondylitis, and osteoarthritis.You should take it as advised by your doctor.\n",
      "========================================================================================================================\n",
      "Summary of the article -  79\n"
     ]
    },
    {
     "name": "stderr",
     "output_type": "stream",
     "text": [
      "C:\\Users\\user\\AppData\\Local\\Temp\\ipykernel_11440\\2821205942.py:13: FutureWarning: The default value of regex will change from True to False in a future version.\n",
      "  clean_sentences = pd.Series(sentences).str.replace(\"[^a-z A-Z 0-9]\", \" \")\n",
      "C:\\Users\\user\\AppData\\Local\\Temp\\ipykernel_11440\\2821205942.py:13: FutureWarning: The default value of regex will change from True to False in a future version.\n",
      "  clean_sentences = pd.Series(sentences).str.replace(\"[^a-z A-Z 0-9]\", \" \")\n",
      "C:\\Users\\user\\AppData\\Local\\Temp\\ipykernel_11440\\2821205942.py:13: FutureWarning: The default value of regex will change from True to False in a future version.\n",
      "  clean_sentences = pd.Series(sentences).str.replace(\"[^a-z A-Z 0-9]\", \" \")\n",
      "C:\\Users\\user\\AppData\\Local\\Temp\\ipykernel_11440\\2821205942.py:13: FutureWarning: The default value of regex will change from True to False in a future version.\n",
      "  clean_sentences = pd.Series(sentences).str.replace(\"[^a-z A-Z 0-9]\", \" \")\n",
      "C:\\Users\\user\\AppData\\Local\\Temp\\ipykernel_11440\\2821205942.py:13: FutureWarning: The default value of regex will change from True to False in a future version.\n",
      "  clean_sentences = pd.Series(sentences).str.replace(\"[^a-z A-Z 0-9]\", \" \")\n"
     ]
    },
    {
     "name": "stdout",
     "output_type": "stream",
     "text": [
      "You should take it regularly to get the most benefit from it.If you are using it to treat osteoporosis you will be prescribed other medicines as well.Arachitol 6L Injection helps your body to absorb a mineral called calcium, which is important for maintaining strong bones.\n",
      "========================================================================================================================\n",
      "Summary of the article -  80\n",
      "Summary Not Available\n",
      "Summary Not Available\n",
      "Anal fissure\n",
      "========================================================================================================================\n",
      "Summary of the article -  81\n",
      "If it gets into your eyes, nose, or mouth rinse with water.AF-K Lotion is a combination of two antifungal medicines that effectively treat fungal skin infections and dandruff.The medicine is not recommended for pregnant women.\n",
      "========================================================================================================================\n",
      "Summary of the article -  82\n",
      "Acivir Cream is an antiviral medicine which helps in treating skin infections caused by Herpes simplex virus such as herpes labialis.You must wash your hands thoroughly before and after applying this medicine.You should use it in the dose and duration as advised by your doctor.\n",
      "========================================================================================================================\n",
      "Summary of the article -  83\n",
      "Aten 50 Tablet belongs to a group of medicines called beta-blockers.Pregnant or breastfeeding mothers should also consult their doctor before taking it.These are usually mild and short-lived.\n",
      "========================================================================================================================\n",
      "Summary of the article -  84\n"
     ]
    },
    {
     "name": "stderr",
     "output_type": "stream",
     "text": [
      "C:\\Users\\user\\AppData\\Local\\Temp\\ipykernel_11440\\2821205942.py:13: FutureWarning: The default value of regex will change from True to False in a future version.\n",
      "  clean_sentences = pd.Series(sentences).str.replace(\"[^a-z A-Z 0-9]\", \" \")\n",
      "C:\\Users\\user\\AppData\\Local\\Temp\\ipykernel_11440\\2821205942.py:13: FutureWarning: The default value of regex will change from True to False in a future version.\n",
      "  clean_sentences = pd.Series(sentences).str.replace(\"[^a-z A-Z 0-9]\", \" \")\n",
      "C:\\Users\\user\\AppData\\Local\\Temp\\ipykernel_11440\\2821205942.py:13: FutureWarning: The default value of regex will change from True to False in a future version.\n",
      "  clean_sentences = pd.Series(sentences).str.replace(\"[^a-z A-Z 0-9]\", \" \")\n",
      "C:\\Users\\user\\AppData\\Local\\Temp\\ipykernel_11440\\2821205942.py:13: FutureWarning: The default value of regex will change from True to False in a future version.\n",
      "  clean_sentences = pd.Series(sentences).str.replace(\"[^a-z A-Z 0-9]\", \" \")\n"
     ]
    },
    {
     "name": "stdout",
     "output_type": "stream",
     "text": [
      "It may not be suitable.Amaryl M  2mg Tablet PR belongs to a category of medicines known as anti-diabetic drugs.Pregnant or breastfeeding women should also consult their doctor before taking it.\n",
      "========================================================================================================================\n",
      "Summary of the article -  85\n",
      "It thins mucus in the nose, windpipe and lungs, making it easier to cough out.Most of these are temporary and usually resolve with time.It is beneficial to have plenty of fluids while taking this medication.\n",
      "========================================================================================================================\n",
      "Summary of the article -  86\n",
      "These are usually temporary and subside with the completion of treatment.It should be used regularly at evenly spaced time intervals as prescribed by your doctor.Pregnant or breastfeeding women should consult their doctor before using this medicine.\n",
      "========================================================================================================================\n",
      "Summary of the article -  87\n",
      "If you are affected by dizziness, avoid driving.If you are pregnant, planning to become pregnant, or breastfeeding, ask your doctor before taking this medicine.There are other, rarer side effects, some of them serious.\n",
      "========================================================================================================================\n",
      "Summary of the article -  88\n",
      "Amlodac 5 Tablet belongs to a class of medicines known as a calcium channel blockers.The dose depends on what you are taking it for and the severity of your condition.Pregnant or breastfeeding women should also consult their doctor for advice before taking this medicine.\n",
      "========================================================================================================================\n",
      "Summary of the article -  89\n"
     ]
    },
    {
     "name": "stderr",
     "output_type": "stream",
     "text": [
      "C:\\Users\\user\\AppData\\Local\\Temp\\ipykernel_11440\\2821205942.py:13: FutureWarning: The default value of regex will change from True to False in a future version.\n",
      "  clean_sentences = pd.Series(sentences).str.replace(\"[^a-z A-Z 0-9]\", \" \")\n",
      "C:\\Users\\user\\AppData\\Local\\Temp\\ipykernel_11440\\2821205942.py:13: FutureWarning: The default value of regex will change from True to False in a future version.\n",
      "  clean_sentences = pd.Series(sentences).str.replace(\"[^a-z A-Z 0-9]\", \" \")\n",
      "C:\\Users\\user\\AppData\\Local\\Temp\\ipykernel_11440\\2821205942.py:13: FutureWarning: The default value of regex will change from True to False in a future version.\n",
      "  clean_sentences = pd.Series(sentences).str.replace(\"[^a-z A-Z 0-9]\", \" \")\n",
      "C:\\Users\\user\\AppData\\Local\\Temp\\ipykernel_11440\\2821205942.py:13: FutureWarning: The default value of regex will change from True to False in a future version.\n",
      "  clean_sentences = pd.Series(sentences).str.replace(\"[^a-z A-Z 0-9]\", \" \")\n",
      "C:\\Users\\user\\AppData\\Local\\Temp\\ipykernel_11440\\2821205942.py:13: FutureWarning: The default value of regex will change from True to False in a future version.\n",
      "  clean_sentences = pd.Series(sentences).str.replace(\"[^a-z A-Z 0-9]\", \" \")\n"
     ]
    },
    {
     "name": "stdout",
     "output_type": "stream",
     "text": [
      "The dose and duration will depend on the severity of your condition.Aceclo-MR Tablet is a combination medicine which helps in relieving muscular pain.Pregnant and breastfeeding women should consult their doctors first before using the medicine.\n",
      "========================================================================================================================\n",
      "Summary of the article -  90\n",
      "These are usually temporary and subside with the completion of treatment.Pregnant or breastfeeding women should consult their doctor before using this medicine.It should be used regularly at evenly spaced time intervals as prescribed by your doctor.\n",
      "========================================================================================================================\n",
      "Summary of the article -  91\n",
      "It kills the tiny insects (mites) and their eggs.Inform your doctor if you are pregnant or breastfeeding or are suffering from any other disease.It is advised to check the label for directions before use.\n",
      "========================================================================================================================\n",
      "Summary of the article -  92\n",
      "AB Phylline SR 200 Tablet is used to treat and prevent symptoms of asthma and chronic obstructive pulmonary disorder (a lung disorder in which flow of air to the lung is blocked).Inform your doctor if you are pregnant or breastfeeding before starting the treatment.There may be ways of reducing or preventing them.\n",
      "========================================================================================================================\n",
      "Summary of the article -  93\n",
      "It thins the mucus in the nose and windpipe, making it easier to cough out.Ambrolite-S Expectorant is a combination medicine used to treat cough.Most of these are temporary and usually resolve with time.\n",
      "========================================================================================================================\n",
      "Summary of the article -  94\n",
      "Acogut Tablet is used in the treatment of indigestion.Most of these are temporary and usually resolve with time.Contact your doctor straight away if you are at all concerned about any of these side effects.\n",
      "========================================================================================================================\n",
      "Summary of the article -  95\n"
     ]
    },
    {
     "name": "stderr",
     "output_type": "stream",
     "text": [
      "C:\\Users\\user\\AppData\\Local\\Temp\\ipykernel_11440\\2821205942.py:13: FutureWarning: The default value of regex will change from True to False in a future version.\n",
      "  clean_sentences = pd.Series(sentences).str.replace(\"[^a-z A-Z 0-9]\", \" \")\n",
      "C:\\Users\\user\\AppData\\Local\\Temp\\ipykernel_11440\\2821205942.py:13: FutureWarning: The default value of regex will change from True to False in a future version.\n",
      "  clean_sentences = pd.Series(sentences).str.replace(\"[^a-z A-Z 0-9]\", \" \")\n",
      "C:\\Users\\user\\AppData\\Local\\Temp\\ipykernel_11440\\2821205942.py:13: FutureWarning: The default value of regex will change from True to False in a future version.\n",
      "  clean_sentences = pd.Series(sentences).str.replace(\"[^a-z A-Z 0-9]\", \" \")\n",
      "C:\\Users\\user\\AppData\\Local\\Temp\\ipykernel_11440\\2821205942.py:13: FutureWarning: The default value of regex will change from True to False in a future version.\n",
      "  clean_sentences = pd.Series(sentences).str.replace(\"[^a-z A-Z 0-9]\", \" \")\n",
      "C:\\Users\\user\\AppData\\Local\\Temp\\ipykernel_11440\\2821205942.py:13: FutureWarning: The default value of regex will change from True to False in a future version.\n",
      "  clean_sentences = pd.Series(sentences).str.replace(\"[^a-z A-Z 0-9]\", \" \")\n"
     ]
    },
    {
     "name": "stdout",
     "output_type": "stream",
     "text": [
      "Allegra Suspension Raspberry & Vanilla belongs to a group of medicines called antihistamines.It also relieves watery eyes, runny nose, sneezing, and itching.Allegra Suspension Raspberry & Vanilla should be taken on an empty stomach.It is used to treat various allergic conditions such as hay fever, conjunctivitis and some skin reactions such as eczema, hives and reactions to bites and stings.\n",
      "========================================================================================================================\n",
      "Summary of the article -  96\n",
      "AB-Flo Capsule is used to treat and prevent symptoms of asthma and chronic obstructive pulmonary disorder (a lung disorder in which flow of air to the lung is blocked).Inform your doctor if you are pregnant or breastfeeding before starting the treatment.There may be ways of reducing or preventing them.\n",
      "========================================================================================================================\n",
      "Summary of the article -  97\n",
      "It is used to reduce pain and inflammation in conditions like rheumatoid arthritis, ankylosing spondylitis, and osteoarthritis.Acemiz Plus Tablet is a pain relieving medicine.You should take it regularly as advised by your doctor.\n",
      "========================================================================================================================\n",
      "Summary of the article -  98\n",
      "Pregnant or breastfeeding women should also consult their doctor for advice before taking this medicine.This might raise the level of potassium in the blood, hence avoid potassium rich food or supplements.Amlopres-AT Tablet is used to treat hypertension (high blood pressure).\n",
      "========================================================================================================================\n",
      "Summary of the article -  99\n",
      "It is effective in most infections of the respiratory tract, ear, nose, throat, lungs, and skin.These are usually temporary and subside with the completion of treatment.Pregnant or breastfeeding women should consult their doctor before using this medicine.\n",
      "========================================================================================================================\n",
      "Summary of the article -  100\n"
     ]
    },
    {
     "name": "stderr",
     "output_type": "stream",
     "text": [
      "C:\\Users\\user\\AppData\\Local\\Temp\\ipykernel_11440\\2821205942.py:13: FutureWarning: The default value of regex will change from True to False in a future version.\n",
      "  clean_sentences = pd.Series(sentences).str.replace(\"[^a-z A-Z 0-9]\", \" \")\n",
      "C:\\Users\\user\\AppData\\Local\\Temp\\ipykernel_11440\\2821205942.py:13: FutureWarning: The default value of regex will change from True to False in a future version.\n",
      "  clean_sentences = pd.Series(sentences).str.replace(\"[^a-z A-Z 0-9]\", \" \")\n",
      "C:\\Users\\user\\AppData\\Local\\Temp\\ipykernel_11440\\2821205942.py:13: FutureWarning: The default value of regex will change from True to False in a future version.\n",
      "  clean_sentences = pd.Series(sentences).str.replace(\"[^a-z A-Z 0-9]\", \" \")\n",
      "C:\\Users\\user\\AppData\\Local\\Temp\\ipykernel_11440\\2821205942.py:13: FutureWarning: The default value of regex will change from True to False in a future version.\n",
      "  clean_sentences = pd.Series(sentences).str.replace(\"[^a-z A-Z 0-9]\", \" \")\n",
      "C:\\Users\\user\\AppData\\Local\\Temp\\ipykernel_11440\\2821205942.py:13: FutureWarning: The default value of regex will change from True to False in a future version.\n",
      "  clean_sentences = pd.Series(sentences).str.replace(\"[^a-z A-Z 0-9]\", \" \")\n"
     ]
    },
    {
     "name": "stdout",
     "output_type": "stream",
     "text": [
      "AF 150 Tablet DT belongs to a group of medicines called antifungals.It kills fungi by destroying the fungal cell membrane.AF 150 Tablet DT should be taken in the dose and duration as prescribed by your doctor.The dosage and length of treatment will depend on the condition you are being treated for.\n",
      "========================================================================================================================\n",
      "Summary of the article -  101\n",
      "This medicine should relieve indigestion and heartburn within a few hours.Follow the advice of your doctor while taking this medicine.Aciloc 300 Tablet is a medicine that reduces the amount of excess acid make by your stomach.\n",
      "========================================================================================================================\n",
      "Summary of the article -  102\n",
      "It is used to treat pain and inflammation in conditions like rheumatoid arthritis, ankylosing spondylitis, and osteoarthritis.Ace-Proxyvon Tablet is a pain relieving medicine.You should take it as advised by your doctor.\n",
      "========================================================================================================================\n",
      "Summary of the article -  103\n",
      "Anxit 0.5 Tablet belongs to a class of medicines known as benzodiazepines.It is a prescription medicine used to treat anxiety.Weight loss can be managed by increasing food portions and consulting a dietitian.\n",
      "========================================================================================================================\n",
      "Summary of the article -  104\n",
      "It is used to treat infections of the lungs (e.g., pneumonia), ear, nasal sinus, urinary tract, skin, and soft tissue.Please consult your doctor if these do not get better or persist for a longer duration of time.Augmentin 1.2gm Injection is a penicillin-type of antibiotic that helps your body fight infections caused by bacteria.\n",
      "========================================================================================================================\n",
      "Summary of the article -  105\n"
     ]
    },
    {
     "name": "stderr",
     "output_type": "stream",
     "text": [
      "C:\\Users\\user\\AppData\\Local\\Temp\\ipykernel_11440\\2821205942.py:13: FutureWarning: The default value of regex will change from True to False in a future version.\n",
      "  clean_sentences = pd.Series(sentences).str.replace(\"[^a-z A-Z 0-9]\", \" \")\n",
      "C:\\Users\\user\\AppData\\Local\\Temp\\ipykernel_11440\\2821205942.py:13: FutureWarning: The default value of regex will change from True to False in a future version.\n",
      "  clean_sentences = pd.Series(sentences).str.replace(\"[^a-z A-Z 0-9]\", \" \")\n",
      "C:\\Users\\user\\AppData\\Local\\Temp\\ipykernel_11440\\2821205942.py:13: FutureWarning: The default value of regex will change from True to False in a future version.\n",
      "  clean_sentences = pd.Series(sentences).str.replace(\"[^a-z A-Z 0-9]\", \" \")\n",
      "C:\\Users\\user\\AppData\\Local\\Temp\\ipykernel_11440\\2821205942.py:13: FutureWarning: The default value of regex will change from True to False in a future version.\n",
      "  clean_sentences = pd.Series(sentences).str.replace(\"[^a-z A-Z 0-9]\", \" \")\n",
      "C:\\Users\\user\\AppData\\Local\\Temp\\ipykernel_11440\\2821205942.py:13: FutureWarning: The default value of regex will change from True to False in a future version.\n",
      "  clean_sentences = pd.Series(sentences).str.replace(\"[^a-z A-Z 0-9]\", \" \")\n"
     ]
    },
    {
     "name": "stdout",
     "output_type": "stream",
     "text": [
      "It relieves watery eyes, runny nose, sneezing, and itching.Alerid Tablet can be taken with or without food.Alerid Tablet belongs to a group of medicines called antihistamines.It is used to treat various allergic conditions such as hay fever, conjunctivitis and some skin reactions, and reactions to bites and stings.\n",
      "========================================================================================================================\n",
      "Summary of the article -  106\n",
      "It may not be suitable.Amaryl M  1mg Tablet PR belongs to a category of medicines known as anti-diabetic drugs.Pregnant or breastfeeding women should also consult their doctor before taking it.\n",
      "========================================================================================================================\n",
      "Summary of the article -  107\n",
      "Avil Injection is an antiallergic medication.Inform your doctor if you are pregnant, or breastfeeding.It treats symptoms of severe allergic reactions due to insect bite/sting, certain medicines, hives (rashes, swelling etc).Avil Injection is given as an injection into veins or muscles under the supervision of a doctor.\n",
      "========================================================================================================================\n",
      "Summary of the article -  108\n",
      "It is effective in infections of the throat, ear, nasal sinuses, respiratory tract (eg.You should take it regularly at evenly spaced intervals as per the schedule prescribed by your doctor.These are temporary and usually resolve quickly.\n",
      "========================================================================================================================\n",
      "Summary of the article -  109\n",
      "It relieves allergic symptoms such as sneezing, running nose, watery eyes, itching, swelling, and congestion or stiffness.Most of these are temporary and usually resolve with time.It is beneficial to have plenty of fluids while taking this medication.\n",
      "========================================================================================================================\n",
      "Summary of the article -  110\n"
     ]
    },
    {
     "name": "stderr",
     "output_type": "stream",
     "text": [
      "C:\\Users\\user\\AppData\\Local\\Temp\\ipykernel_11440\\2821205942.py:13: FutureWarning: The default value of regex will change from True to False in a future version.\n",
      "  clean_sentences = pd.Series(sentences).str.replace(\"[^a-z A-Z 0-9]\", \" \")\n",
      "C:\\Users\\user\\AppData\\Local\\Temp\\ipykernel_11440\\2821205942.py:13: FutureWarning: The default value of regex will change from True to False in a future version.\n",
      "  clean_sentences = pd.Series(sentences).str.replace(\"[^a-z A-Z 0-9]\", \" \")\n",
      "C:\\Users\\user\\AppData\\Local\\Temp\\ipykernel_11440\\2821205942.py:13: FutureWarning: The default value of regex will change from True to False in a future version.\n",
      "  clean_sentences = pd.Series(sentences).str.replace(\"[^a-z A-Z 0-9]\", \" \")\n",
      "C:\\Users\\user\\AppData\\Local\\Temp\\ipykernel_11440\\2821205942.py:13: FutureWarning: The default value of regex will change from True to False in a future version.\n",
      "  clean_sentences = pd.Series(sentences).str.replace(\"[^a-z A-Z 0-9]\", \" \")\n",
      "C:\\Users\\user\\AppData\\Local\\Temp\\ipykernel_11440\\2821205942.py:13: FutureWarning: The default value of regex will change from True to False in a future version.\n",
      "  clean_sentences = pd.Series(sentences).str.replace(\"[^a-z A-Z 0-9]\", \" \")\n",
      "C:\\Users\\user\\AppData\\Local\\Temp\\ipykernel_11440\\2821205942.py:13: FutureWarning: The default value of regex will change from True to False in a future version.\n",
      "  clean_sentences = pd.Series(sentences).str.replace(\"[^a-z A-Z 0-9]\", \" \")\n",
      "C:\\Users\\user\\AppData\\Local\\Temp\\ipykernel_11440\\2821205942.py:13: FutureWarning: The default value of regex will change from True to False in a future version.\n",
      "  clean_sentences = pd.Series(sentences).str.replace(\"[^a-z A-Z 0-9]\", \" \")\n",
      "C:\\Users\\user\\AppData\\Local\\Temp\\ipykernel_11440\\2821205942.py:13: FutureWarning: The default value of regex will change from True to False in a future version.\n",
      "  clean_sentences = pd.Series(sentences).str.replace(\"[^a-z A-Z 0-9]\", \" \")\n"
     ]
    },
    {
     "name": "stdout",
     "output_type": "stream",
     "text": [
      "If you experience any allergic reaction (rashes, itching, swelling, shortness of breath, etc.It usually does not impair your ability to drive, but you should not drive if it makes you feel sleepy or dizzy.Pregnant or breastfeeding women should also consult with the doctor before taking it.\n",
      "========================================================================================================================\n",
      "Summary of the article -  111\n",
      "It relieves allergic symptoms such as sneezing, runny nose, watery eyes, and throat irritation.Most of these are temporary and usually resolve with time.Ascoril D Junior Cough Syrup is a combination medicine used in the treatment of dry cough.\n",
      "========================================================================================================================\n",
      "Summary of the article -  112\n",
      "The dose will be decided by your doctor.Some people may develop fungal infections in the genital area.Don’t stop taking it without asking your doctor.\n",
      "========================================================================================================================\n",
      "Summary of the article -  113\n",
      "AB-Flo-N Tablet is used for the prevention of chronic obstructive pulmonary disorder (a lung disorder in which the flow of air to the lungs is blocked).It helps in relaxing the muscles of the air passages and making it easier to breathe.You should also tell your doctor if you are pregnant, planning pregnancy or breastfeeding.\n",
      "========================================================================================================================\n",
      "Summary of the article -  114\n",
      "Acitrom 1 Tablet is an oral anticoagulant which helps to prevent formation of harmful blood clots in the legs, lungs, brain and heart.It is used for deep vein thrombosis, pulmonary embolism and stroke prevention.Acitrom 1 Tablet should be taken as advised by the doctor.This medicine should not be stopped abruptly without consulting the doctor.\n",
      "========================================================================================================================\n",
      "Summary of the article -  115\n"
     ]
    },
    {
     "name": "stderr",
     "output_type": "stream",
     "text": [
      "C:\\Users\\user\\AppData\\Local\\Temp\\ipykernel_11440\\2821205942.py:13: FutureWarning: The default value of regex will change from True to False in a future version.\n",
      "  clean_sentences = pd.Series(sentences).str.replace(\"[^a-z A-Z 0-9]\", \" \")\n",
      "C:\\Users\\user\\AppData\\Local\\Temp\\ipykernel_11440\\2821205942.py:13: FutureWarning: The default value of regex will change from True to False in a future version.\n",
      "  clean_sentences = pd.Series(sentences).str.replace(\"[^a-z A-Z 0-9]\", \" \")\n",
      "C:\\Users\\user\\AppData\\Local\\Temp\\ipykernel_11440\\2821205942.py:13: FutureWarning: The default value of regex will change from True to False in a future version.\n",
      "  clean_sentences = pd.Series(sentences).str.replace(\"[^a-z A-Z 0-9]\", \" \")\n",
      "C:\\Users\\user\\AppData\\Local\\Temp\\ipykernel_11440\\2821205942.py:13: FutureWarning: The default value of regex will change from True to False in a future version.\n",
      "  clean_sentences = pd.Series(sentences).str.replace(\"[^a-z A-Z 0-9]\", \" \")\n",
      "C:\\Users\\user\\AppData\\Local\\Temp\\ipykernel_11440\\2821205942.py:13: FutureWarning: The default value of regex will change from True to False in a future version.\n",
      "  clean_sentences = pd.Series(sentences).str.replace(\"[^a-z A-Z 0-9]\", \" \")\n"
     ]
    },
    {
     "name": "stdout",
     "output_type": "stream",
     "text": [
      "It kills the tiny insects (mites) and their eggs.Inform your doctor if you are pregnant or breastfeeding or are suffering from any other disease.It is advised to check the label for directions before use.\n",
      "========================================================================================================================\n",
      "Summary of the article -  116\n",
      "Amlovas 5 Tablet belongs to a class of medicines known as a calcium channel blockers.The dose depends on what you are taking it for and the severity of your condition.Pregnant or breastfeeding women should also consult their doctor for advice before taking this medicine.\n",
      "========================================================================================================================\n",
      "Summary of the article -  117\n",
      "It thins mucus in the nose, windpipe and lungs, making it easier to cough out.Most of these are temporary and usually resolve with time.Asthakind LS Expectorant Cola Sugar Free is a combination medicine used in the treatment of cough with mucus.\n",
      "========================================================================================================================\n",
      "Summary of the article -  118\n",
      "Avamys Nasal Spray is a steroid.It relieves the symptoms of allergic rhinitis such as runny nose, sneezing and sinus discomfort.Talk to your doctor if you are worried about side effects or they do not go away.\n",
      "========================================================================================================================\n",
      "Summary of the article -  119\n"
     ]
    },
    {
     "name": "stderr",
     "output_type": "stream",
     "text": [
      "C:\\Users\\user\\AppData\\Local\\Temp\\ipykernel_11440\\2821205942.py:13: FutureWarning: The default value of regex will change from True to False in a future version.\n",
      "  clean_sentences = pd.Series(sentences).str.replace(\"[^a-z A-Z 0-9]\", \" \")\n",
      "C:\\Users\\user\\AppData\\Local\\Temp\\ipykernel_11440\\2821205942.py:13: FutureWarning: The default value of regex will change from True to False in a future version.\n",
      "  clean_sentences = pd.Series(sentences).str.replace(\"[^a-z A-Z 0-9]\", \" \")\n",
      "C:\\Users\\user\\AppData\\Local\\Temp\\ipykernel_11440\\2821205942.py:13: FutureWarning: The default value of regex will change from True to False in a future version.\n",
      "  clean_sentences = pd.Series(sentences).str.replace(\"[^a-z A-Z 0-9]\", \" \")\n",
      "C:\\Users\\user\\AppData\\Local\\Temp\\ipykernel_11440\\2821205942.py:13: FutureWarning: The default value of regex will change from True to False in a future version.\n",
      "  clean_sentences = pd.Series(sentences).str.replace(\"[^a-z A-Z 0-9]\", \" \")\n"
     ]
    },
    {
     "name": "stdout",
     "output_type": "stream",
     "text": [
      "Aten 25 Tablet belongs to a group of medicines called beta-blockers.Pregnant or breastfeeding mothers should also consult their doctor before taking it.These are usually mild and short-lived.\n",
      "========================================================================================================================\n",
      "Summary of the article -  120\n",
      "Aziderm 20% Cream is a topical medication used in the treatment of acne (pimples).The affected area should be clean and dry before application.Avoid contact with eyes.\n",
      "========================================================================================================================\n",
      "Summary of the article -  121\n",
      "Inform your doctor if you are pregnant, planning pregnancy or breastfeeding.Amixide-H Tablet is a combination of two medicines.Most of the common side effects tend to be mild.\n",
      "========================================================================================================================\n",
      "Summary of the article -  122\n",
      "Aerocort Inhaler is used in the treatment of asthma (wheezing and shortness of breath).That means it’s doing its job.Talk to your doctor if you're worried about them.\n",
      "========================================================================================================================\n",
      "Summary of the article -  123\n"
     ]
    },
    {
     "name": "stderr",
     "output_type": "stream",
     "text": [
      "C:\\Users\\user\\AppData\\Local\\Temp\\ipykernel_11440\\2821205942.py:13: FutureWarning: The default value of regex will change from True to False in a future version.\n",
      "  clean_sentences = pd.Series(sentences).str.replace(\"[^a-z A-Z 0-9]\", \" \")\n",
      "C:\\Users\\user\\AppData\\Local\\Temp\\ipykernel_11440\\2821205942.py:13: FutureWarning: The default value of regex will change from True to False in a future version.\n",
      "  clean_sentences = pd.Series(sentences).str.replace(\"[^a-z A-Z 0-9]\", \" \")\n",
      "C:\\Users\\user\\AppData\\Local\\Temp\\ipykernel_11440\\2821205942.py:13: FutureWarning: The default value of regex will change from True to False in a future version.\n",
      "  clean_sentences = pd.Series(sentences).str.replace(\"[^a-z A-Z 0-9]\", \" \")\n",
      "C:\\Users\\user\\AppData\\Local\\Temp\\ipykernel_11440\\2821205942.py:13: FutureWarning: The default value of regex will change from True to False in a future version.\n",
      "  clean_sentences = pd.Series(sentences).str.replace(\"[^a-z A-Z 0-9]\", \" \")\n",
      "C:\\Users\\user\\AppData\\Local\\Temp\\ipykernel_11440\\2821205942.py:13: FutureWarning: The default value of regex will change from True to False in a future version.\n",
      "  clean_sentences = pd.Series(sentences).str.replace(\"[^a-z A-Z 0-9]\", \" \")\n"
     ]
    },
    {
     "name": "stdout",
     "output_type": "stream",
     "text": [
      "Aziderm 10% Cream is a topical medication used in the treatment of acne (pimples).The affected area should be clean and dry before application.Avoid contact with eyes.\n",
      "========================================================================================================================\n",
      "Summary of the article -  124\n",
      "These are usually temporary and subside with the completion of treatment.It should be used regularly at evenly spaced time intervals as prescribed by your doctor.Pregnant or breastfeeding women should consult their doctor before using this medicine.\n",
      "========================================================================================================================\n",
      "Summary of the article -  125\n",
      "If you experience any allergic reaction (rashes, itching, swelling, shortness of breath, etc.It usually does not impair your ability to drive, but you should not drive if it makes you feel sleepy or dizzy.Pregnant or breastfeeding women should also consult with their doctor before taking it.\n",
      "========================================================================================================================\n",
      "Summary of the article -  126\n",
      "Acuvin Tablet is a pain relieving medicine.It should be used with caution in patients who are alcoholic or have liver or kidney disease.Pregnant and breastfeeding women should consult their doctors first before using the medicine.\n",
      "========================================================================================================================\n",
      "Summary of the article -  127\n",
      "Asthalin 4 Tablet is used to relieve symptoms of asthma and chronic obstructive pulmonary disease (COPD) such as coughing, wheezing and breathlessness.Try to take it at the same time each day.fast heart rate, and muscle cramps.\n",
      "========================================================================================================================\n",
      "Summary of the article -  128\n",
      "Alkacip Syrup is a medicine used in the treatment of gout and kidney stones.If you are pregnant or breastfeeding, consult your doctor first before taking this medicine.This will prevent you from getting an upset stomach.\n",
      "========================================================================================================================\n",
      "Summary of the article -  129\n"
     ]
    },
    {
     "name": "stderr",
     "output_type": "stream",
     "text": [
      "C:\\Users\\user\\AppData\\Local\\Temp\\ipykernel_11440\\2821205942.py:13: FutureWarning: The default value of regex will change from True to False in a future version.\n",
      "  clean_sentences = pd.Series(sentences).str.replace(\"[^a-z A-Z 0-9]\", \" \")\n",
      "C:\\Users\\user\\AppData\\Local\\Temp\\ipykernel_11440\\2821205942.py:13: FutureWarning: The default value of regex will change from True to False in a future version.\n",
      "  clean_sentences = pd.Series(sentences).str.replace(\"[^a-z A-Z 0-9]\", \" \")\n",
      "C:\\Users\\user\\AppData\\Local\\Temp\\ipykernel_11440\\2821205942.py:13: FutureWarning: The default value of regex will change from True to False in a future version.\n",
      "  clean_sentences = pd.Series(sentences).str.replace(\"[^a-z A-Z 0-9]\", \" \")\n",
      "C:\\Users\\user\\AppData\\Local\\Temp\\ipykernel_11440\\2821205942.py:13: FutureWarning: The default value of regex will change from True to False in a future version.\n",
      "  clean_sentences = pd.Series(sentences).str.replace(\"[^a-z A-Z 0-9]\", \" \")\n",
      "C:\\Users\\user\\AppData\\Local\\Temp\\ipykernel_11440\\2821205942.py:13: FutureWarning: The default value of regex will change from True to False in a future version.\n",
      "  clean_sentences = pd.Series(sentences).str.replace(\"[^a-z A-Z 0-9]\", \" \")\n"
     ]
    },
    {
     "name": "stdout",
     "output_type": "stream",
     "text": [
      "It should be taken just before or with the first meal of the day.Pregnant or breastfeeding women should also consult their doctor before taking it.Amaryl 2mg Tablet is a medicine used to treat type 2 diabetes mellitus in adults.\n",
      "========================================================================================================================\n",
      "Summary of the article -  130\n",
      "Aprezo Tablet is used in the treatment of moderate to severe plaque psoriasis which is a type of skin condition.If you are pregnant or breastfeeding, consult your doctor first before taking this medicine.This medicine is used when other conventional treatments cannot be used or if the patient is not responsive or intolerant to any of these treatments.\n",
      "========================================================================================================================\n",
      "Summary of the article -  131\n",
      "It kills the bacteria which cause acne.It is for external use only.If you are pregnant or suffering from any other condition, please inform your doctor.\n",
      "========================================================================================================================\n",
      "Summary of the article -  132\n",
      "Acnesol 1% solution is an antibiotic that fights bacteria.Consult your doctor about using this medicine if you are pregnant or breastfeeding.These are usually temporary and resolve on their own.\n",
      "========================================================================================================================\n",
      "Summary of the article -  133\n",
      "Also, pregnant women and breastfeeding mothers should consult doctor before taking it.Consult your doctor if these side effects bother you.This medicine reduces excess fluid levels in the body and treats edema (fluid overload) associated with heart, liver, kidney, or lung disease.Aquazide 12.5 Tablet makes you lose excess water through urine.\n",
      "========================================================================================================================\n",
      "Summary of the article -  134\n"
     ]
    },
    {
     "name": "stderr",
     "output_type": "stream",
     "text": [
      "C:\\Users\\user\\AppData\\Local\\Temp\\ipykernel_11440\\2821205942.py:13: FutureWarning: The default value of regex will change from True to False in a future version.\n",
      "  clean_sentences = pd.Series(sentences).str.replace(\"[^a-z A-Z 0-9]\", \" \")\n",
      "C:\\Users\\user\\AppData\\Local\\Temp\\ipykernel_11440\\2821205942.py:13: FutureWarning: The default value of regex will change from True to False in a future version.\n",
      "  clean_sentences = pd.Series(sentences).str.replace(\"[^a-z A-Z 0-9]\", \" \")\n",
      "C:\\Users\\user\\AppData\\Local\\Temp\\ipykernel_11440\\2821205942.py:13: FutureWarning: The default value of regex will change from True to False in a future version.\n",
      "  clean_sentences = pd.Series(sentences).str.replace(\"[^a-z A-Z 0-9]\", \" \")\n",
      "C:\\Users\\user\\AppData\\Local\\Temp\\ipykernel_11440\\2821205942.py:13: FutureWarning: The default value of regex will change from True to False in a future version.\n",
      "  clean_sentences = pd.Series(sentences).str.replace(\"[^a-z A-Z 0-9]\", \" \")\n",
      "C:\\Users\\user\\AppData\\Local\\Temp\\ipykernel_11440\\2821205942.py:13: FutureWarning: The default value of regex will change from True to False in a future version.\n",
      "  clean_sentences = pd.Series(sentences).str.replace(\"[^a-z A-Z 0-9]\", \" \")\n"
     ]
    },
    {
     "name": "stdout",
     "output_type": "stream",
     "text": [
      "Amortive Cream is an antifungal medication.It is used for treating fungal infections of the affected area.In case of direct contact, wash your eyes with water and seek immediate medical attention.\n",
      "========================================================================================================================\n",
      "Summary of the article -  135\n",
      "It reduces the swelling (edema) caused by some other conditions.Aldactone 50 Tablet is a medicine known as a diuretic (water pill).Pregnant or breastfeeding women should consult their doctor before taking this medicine.\n",
      "========================================================================================================================\n",
      "Summary of the article -  136\n",
      "It relieves allergic symptoms such as sneezing, runny nose, watery eyes, and throat irritation.Most of these are temporary and usually resolve with time.It is beneficial to have plenty of fluids while taking this medication.\n",
      "========================================================================================================================\n",
      "Summary of the article -  137\n",
      "Ambrolite Syrup is used for treating various respiratory tract disorders associated with excessive mucus.It works by thinning and loosens mucus in the nose, windpipe and lungs and make it easier to cough out.Ambrolite Syrup should be taken with food.For better results, it is suggested to take it at the same time every day.\n",
      "========================================================================================================================\n",
      "Summary of the article -  138\n",
      "Pregnant or breastfeeding women should also consult their doctor for advice before taking this medicine.This might raise the level of potassium in the blood, hence avoid potassium rich food or supplements.Amodep AT Tablet is used to treat hypertension (high blood pressure).\n",
      "========================================================================================================================\n",
      "Summary of the article -  139\n"
     ]
    },
    {
     "name": "stderr",
     "output_type": "stream",
     "text": [
      "C:\\Users\\user\\AppData\\Local\\Temp\\ipykernel_11440\\2821205942.py:13: FutureWarning: The default value of regex will change from True to False in a future version.\n",
      "  clean_sentences = pd.Series(sentences).str.replace(\"[^a-z A-Z 0-9]\", \" \")\n",
      "C:\\Users\\user\\AppData\\Local\\Temp\\ipykernel_11440\\2821205942.py:13: FutureWarning: The default value of regex will change from True to False in a future version.\n",
      "  clean_sentences = pd.Series(sentences).str.replace(\"[^a-z A-Z 0-9]\", \" \")\n",
      "C:\\Users\\user\\AppData\\Local\\Temp\\ipykernel_11440\\2821205942.py:13: FutureWarning: The default value of regex will change from True to False in a future version.\n",
      "  clean_sentences = pd.Series(sentences).str.replace(\"[^a-z A-Z 0-9]\", \" \")\n",
      "C:\\Users\\user\\AppData\\Local\\Temp\\ipykernel_11440\\2821205942.py:13: FutureWarning: The default value of regex will change from True to False in a future version.\n",
      "  clean_sentences = pd.Series(sentences).str.replace(\"[^a-z A-Z 0-9]\", \" \")\n",
      "C:\\Users\\user\\AppData\\Local\\Temp\\ipykernel_11440\\2821205942.py:13: FutureWarning: The default value of regex will change from True to False in a future version.\n",
      "  clean_sentences = pd.Series(sentences).str.replace(\"[^a-z A-Z 0-9]\", \" \")\n"
     ]
    },
    {
     "name": "stdout",
     "output_type": "stream",
     "text": [
      "Alkacitral Liquid is a medicine used in the treatment of gout and kidney stones.If you are pregnant or breastfeeding, consult your doctor first before taking this medicine.This will prevent you from getting an upset stomach.\n",
      "========================================================================================================================\n",
      "Summary of the article -  140\n",
      "Alex Cough Lozenges Lemon Ginger is an antitussive medicine.There may be ways of reducing or preventing them.It is used for the treatment of dry cough.\n",
      "========================================================================================================================\n",
      "Summary of the article -  141\n",
      "Amantrel Capsule is used alone, or with other medicines to treat Parkinson’s disease.You should finish the full course of treatment even if you feel better.It can also be used to treat movement side effects caused by certain drugs (drug-induced movement disorder).\n",
      "========================================================================================================================\n",
      "Summary of the article -  142\n",
      "It thins mucus in the nose, windpipe and lungs, making it easier to cough out.Most of these are temporary and usually resolve with time.Asthakind Expectorant Sugar Free is used in the treatment of cough with mucus.\n",
      "========================================================================================================================\n",
      "Summary of the article -  143\n",
      "These are usually temporary and subside with the completion of treatment.Pregnant or breastfeeding women should consult their doctor before using this medicine.It should be used regularly at evenly spaced time intervals as prescribed by your doctor.\n",
      "========================================================================================================================\n",
      "Summary of the article -  144\n"
     ]
    },
    {
     "name": "stderr",
     "output_type": "stream",
     "text": [
      "C:\\Users\\user\\AppData\\Local\\Temp\\ipykernel_11440\\2821205942.py:13: FutureWarning: The default value of regex will change from True to False in a future version.\n",
      "  clean_sentences = pd.Series(sentences).str.replace(\"[^a-z A-Z 0-9]\", \" \")\n",
      "C:\\Users\\user\\AppData\\Local\\Temp\\ipykernel_11440\\2821205942.py:13: FutureWarning: The default value of regex will change from True to False in a future version.\n",
      "  clean_sentences = pd.Series(sentences).str.replace(\"[^a-z A-Z 0-9]\", \" \")\n",
      "C:\\Users\\user\\AppData\\Local\\Temp\\ipykernel_11440\\2821205942.py:13: FutureWarning: The default value of regex will change from True to False in a future version.\n",
      "  clean_sentences = pd.Series(sentences).str.replace(\"[^a-z A-Z 0-9]\", \" \")\n",
      "C:\\Users\\user\\AppData\\Local\\Temp\\ipykernel_11440\\2821205942.py:13: FutureWarning: The default value of regex will change from True to False in a future version.\n",
      "  clean_sentences = pd.Series(sentences).str.replace(\"[^a-z A-Z 0-9]\", \" \")\n",
      "C:\\Users\\user\\AppData\\Local\\Temp\\ipykernel_11440\\2821205942.py:13: FutureWarning: The default value of regex will change from True to False in a future version.\n",
      "  clean_sentences = pd.Series(sentences).str.replace(\"[^a-z A-Z 0-9]\", \" \")\n"
     ]
    },
    {
     "name": "stdout",
     "output_type": "stream",
     "text": [
      "Do not use a bottle if the seal is broken before you open it.This could infect your eye.Always wash your hands and do not touch the end of the dropper.\n",
      "========================================================================================================================\n",
      "Summary of the article -  145\n",
      "Ageless Tablet is a prescription medicine.It has a combination of vitamins that is prescribed to treat vitamin and other nutritional deficiencies.Inform your doctor if you are taking any other medicines or if you are pregnant or breastfeeding.\n",
      "========================================================================================================================\n",
      "Summary of the article -  146\n",
      "Amrolstar Cream is an antifungal medication.It is used for treating fungal infections of the affected area.In case of direct contact, wash your eyes with water and seek immediate medical attention.\n",
      "========================================================================================================================\n",
      "Summary of the article -  147\n",
      "It may not be suitable.Pregnant or breastfeeding women should also consult their doctor before taking it.Azulix 2 MF Tablet PR belongs to a category of medicines known as anti-diabetic drugs.\n",
      "========================================================================================================================\n",
      "Summary of the article -  148\n",
      "The dose and duration will depend on the severity of your condition.This will prevent you from getting an upset stomach.Acenac-MR Tablet is a combination medicine which helps in relieving muscular pain.\n",
      "========================================================================================================================\n",
      "Summary of the article -  149\n"
     ]
    },
    {
     "name": "stderr",
     "output_type": "stream",
     "text": [
      "C:\\Users\\user\\AppData\\Local\\Temp\\ipykernel_11440\\2821205942.py:13: FutureWarning: The default value of regex will change from True to False in a future version.\n",
      "  clean_sentences = pd.Series(sentences).str.replace(\"[^a-z A-Z 0-9]\", \" \")\n",
      "C:\\Users\\user\\AppData\\Local\\Temp\\ipykernel_11440\\2821205942.py:13: FutureWarning: The default value of regex will change from True to False in a future version.\n",
      "  clean_sentences = pd.Series(sentences).str.replace(\"[^a-z A-Z 0-9]\", \" \")\n",
      "C:\\Users\\user\\AppData\\Local\\Temp\\ipykernel_11440\\2821205942.py:13: FutureWarning: The default value of regex will change from True to False in a future version.\n",
      "  clean_sentences = pd.Series(sentences).str.replace(\"[^a-z A-Z 0-9]\", \" \")\n",
      "C:\\Users\\user\\AppData\\Local\\Temp\\ipykernel_11440\\2821205942.py:13: FutureWarning: The default value of regex will change from True to False in a future version.\n",
      "  clean_sentences = pd.Series(sentences).str.replace(\"[^a-z A-Z 0-9]\", \" \")\n"
     ]
    },
    {
     "name": "stdout",
     "output_type": "stream",
     "text": [
      "It relieves allergic symptoms such as sneezing, runny nose, watery eyes, and throat irritation.Most of these are temporary and usually resolve with time.Asthakind-DX Syrup Sugar Free is a combination medicine used in the treatment of dry cough.\n",
      "========================================================================================================================\n",
      "Summary of the article -  150\n",
      "It minimizes oil production and helps to reduce inflammation.Consult your doctor if they bother you or do not go away.It also kills acne-causing microorganisms and prevents infection.\n",
      "========================================================================================================================\n",
      "Summary of the article -  151\n",
      "Ascoril D 12 Oral Suspension Orange is an antitussive medicine.There may be ways of reducing or preventing them.It is used for the treatment of dry cough.\n",
      "========================================================================================================================\n",
      "Summary of the article -  152\n",
      "Actapro Tablet is used in the treatment of indigestion.Most of these are temporary and usually resolve with time.Contact your doctor straight away if you are at all concerned about any of these side effects.\n",
      "========================================================================================================================\n",
      "Summary of the article -  153\n",
      "Atorva Tablet belongs to a group of medicines called statins.Common side effects of this medicine include constipation, flatulence, dyspepsia, and abdominal pain.It can be taken with a meal or on an empty stomach.\n",
      "========================================================================================================================\n",
      "Summary of the article -  154\n"
     ]
    },
    {
     "name": "stderr",
     "output_type": "stream",
     "text": [
      "C:\\Users\\user\\AppData\\Local\\Temp\\ipykernel_11440\\2821205942.py:13: FutureWarning: The default value of regex will change from True to False in a future version.\n",
      "  clean_sentences = pd.Series(sentences).str.replace(\"[^a-z A-Z 0-9]\", \" \")\n",
      "C:\\Users\\user\\AppData\\Local\\Temp\\ipykernel_11440\\2821205942.py:13: FutureWarning: The default value of regex will change from True to False in a future version.\n",
      "  clean_sentences = pd.Series(sentences).str.replace(\"[^a-z A-Z 0-9]\", \" \")\n",
      "C:\\Users\\user\\AppData\\Local\\Temp\\ipykernel_11440\\2821205942.py:13: FutureWarning: The default value of regex will change from True to False in a future version.\n",
      "  clean_sentences = pd.Series(sentences).str.replace(\"[^a-z A-Z 0-9]\", \" \")\n",
      "C:\\Users\\user\\AppData\\Local\\Temp\\ipykernel_11440\\2821205942.py:13: FutureWarning: The default value of regex will change from True to False in a future version.\n",
      "  clean_sentences = pd.Series(sentences).str.replace(\"[^a-z A-Z 0-9]\", \" \")\n",
      "C:\\Users\\user\\AppData\\Local\\Temp\\ipykernel_11440\\2821205942.py:13: FutureWarning: The default value of regex will change from True to False in a future version.\n",
      "  clean_sentences = pd.Series(sentences).str.replace(\"[^a-z A-Z 0-9]\", \" \")\n"
     ]
    },
    {
     "name": "stdout",
     "output_type": "stream",
     "text": [
      "It is used to treat infections of the lungs (e.g., pneumonia), ear, nasal sinus, urinary tract, skin and soft tissue.You should take it regularly at evenly spaced intervals as per the schedule prescribed by your doctor.Augmentin 1000 Duo Tablet is a penicillin-type of antibiotic that helps your body fight infections caused by bacteria.\n",
      "========================================================================================================================\n",
      "Summary of the article -  155\n",
      "Inform your doctor if you are pregnant, or breastfeeding.Atarax Drops is an antihistamine used to treat symptoms of skin allergy like itching, swelling, and rashes.There may be ways of reducing or preventing them.\n",
      "========================================================================================================================\n",
      "Summary of the article -  156\n",
      "If you are affected by dizziness, avoid driving.If you are pregnant, planning to become pregnant, or breastfeeding, ask your doctor before taking this medicine.There are other, rarer side effects, some of them serious.\n",
      "========================================================================================================================\n",
      "Summary of the article -  157\n",
      "It relieves allergy symptoms such as runny nose, stuffy nose, sneezing, watery eyes and congestion or stuffiness.You should also tell your doctor if you are pregnant, planning pregnancy or breastfeeding.Alerfix Total Tablet SR is a combination medicine used in the prevention of asthma.\n",
      "========================================================================================================================\n",
      "Summary of the article -  158\n"
     ]
    },
    {
     "name": "stderr",
     "output_type": "stream",
     "text": [
      "C:\\Users\\user\\AppData\\Local\\Temp\\ipykernel_11440\\2821205942.py:13: FutureWarning: The default value of regex will change from True to False in a future version.\n",
      "  clean_sentences = pd.Series(sentences).str.replace(\"[^a-z A-Z 0-9]\", \" \")\n",
      "C:\\Users\\user\\AppData\\Local\\Temp\\ipykernel_11440\\2821205942.py:13: FutureWarning: The default value of regex will change from True to False in a future version.\n",
      "  clean_sentences = pd.Series(sentences).str.replace(\"[^a-z A-Z 0-9]\", \" \")\n",
      "C:\\Users\\user\\AppData\\Local\\Temp\\ipykernel_11440\\2821205942.py:13: FutureWarning: The default value of regex will change from True to False in a future version.\n",
      "  clean_sentences = pd.Series(sentences).str.replace(\"[^a-z A-Z 0-9]\", \" \")\n",
      "C:\\Users\\user\\AppData\\Local\\Temp\\ipykernel_11440\\2821205942.py:13: FutureWarning: The default value of regex will change from True to False in a future version.\n",
      "  clean_sentences = pd.Series(sentences).str.replace(\"[^a-z A-Z 0-9]\", \" \")\n",
      "C:\\Users\\user\\AppData\\Local\\Temp\\ipykernel_11440\\2821205942.py:13: FutureWarning: The default value of regex will change from True to False in a future version.\n",
      "  clean_sentences = pd.Series(sentences).str.replace(\"[^a-z A-Z 0-9]\", \" \")\n"
     ]
    },
    {
     "name": "stdout",
     "output_type": "stream",
     "text": [
      "It helps in treating viral infections like herpes labialis, herpes simplex, shingles, genital herpes infection, and chickenpox.Acivir 800 DT Tablet is an antiviral medicine.Please consult your doctor if you are pregnant, planning to conceive or breastfeeding.\n",
      "========================================================================================================================\n",
      "Summary of the article -  159\n",
      "Alcros 200 Capsule belongs to a group of medicines called antifungals.It kills fungi by destroying the fungal cell membrane.Alcros 200 Capsule should be taken in the dose and duration as prescribed by your doctor.It should be swallowed whole and can be taken with food.\n",
      "========================================================================================================================\n",
      "Summary of the article -  160\n",
      "Common side effects of this medicine include constipation, flatulence, dyspepsia, and abdominal pain.It can be taken with a meal or on an empty stomach.Consult your doctor if they persist or if you notice any yellowing of your eyes or get repeated or unexplained muscle pains.\n",
      "========================================================================================================================\n",
      "Summary of the article -  161\n",
      "It relieves allergic symptoms such as sneezing, runny nose, watery eyes, and throat irritation.Most of these are temporary and usually resolve with time.It is beneficial to have plenty of fluids while taking this medication.\n",
      "========================================================================================================================\n",
      "Summary of the article -  162\n"
     ]
    },
    {
     "name": "stderr",
     "output_type": "stream",
     "text": [
      "C:\\Users\\user\\AppData\\Local\\Temp\\ipykernel_11440\\2821205942.py:13: FutureWarning: The default value of regex will change from True to False in a future version.\n",
      "  clean_sentences = pd.Series(sentences).str.replace(\"[^a-z A-Z 0-9]\", \" \")\n",
      "C:\\Users\\user\\AppData\\Local\\Temp\\ipykernel_11440\\2821205942.py:13: FutureWarning: The default value of regex will change from True to False in a future version.\n",
      "  clean_sentences = pd.Series(sentences).str.replace(\"[^a-z A-Z 0-9]\", \" \")\n",
      "C:\\Users\\user\\AppData\\Local\\Temp\\ipykernel_11440\\2821205942.py:13: FutureWarning: The default value of regex will change from True to False in a future version.\n",
      "  clean_sentences = pd.Series(sentences).str.replace(\"[^a-z A-Z 0-9]\", \" \")\n",
      "C:\\Users\\user\\AppData\\Local\\Temp\\ipykernel_11440\\2821205942.py:13: FutureWarning: The default value of regex will change from True to False in a future version.\n",
      "  clean_sentences = pd.Series(sentences).str.replace(\"[^a-z A-Z 0-9]\", \" \")\n"
     ]
    },
    {
     "name": "stdout",
     "output_type": "stream",
     "text": [
      "If it gets into your eyes, nose, mouth, or vagina rinse with water.It minimizes excessive oil production, thus reduces inflammation.You must consult the doctor if you experience any allergic reaction (rashes, itching, swelling, shortness of breath, etc.\n",
      "========================================================================================================================\n",
      "Summary of the article -  163\n",
      "It is used to treat infections of the lungs (e.g., pneumonia), ear, nasal sinus, urinary tract, skin and soft tissue.You should take it regularly at evenly spaced intervals as per the schedule prescribed by your doctor.Amoxyclav 625 Tablet is a penicillin-type of antibiotic that helps your body fight infections caused by bacteria.\n",
      "========================================================================================================================\n",
      "Summary of the article -  164\n",
      "It helps to slow down the progression of moderate to severe Alzheimer's by improving memory and thinking.This medicine may cause diarrhea, so drink plenty of fluids to keep yourself hydrated.Admenta 5 Tablet is a medicine used in the treatment of Alzheimer's disease.\n",
      "========================================================================================================================\n",
      "Summary of the article -  165\n",
      "These are usually temporary and subside with the completion of treatment.Pregnant or breastfeeding women should consult their doctor before using this medicine.It should be used regularly at evenly spaced time intervals as prescribed by your doctor.\n",
      "========================================================================================================================\n",
      "Summary of the article -  166\n",
      "Aceclo Tablet is not recommended if you are pregnant or breastfeeding.It may also cause dizziness, drowsiness, or visual disturbances.Aceclo Tablet is a pain relieving medicine.\n",
      "========================================================================================================================\n",
      "Summary of the article -  167\n",
      "You should consult your doctor first if you are pregnant or breastfeeding.Sitting or lying down can sometimes help.They do not normally last very long.\n",
      "========================================================================================================================\n",
      "Summary of the article -  168\n"
     ]
    },
    {
     "name": "stderr",
     "output_type": "stream",
     "text": [
      "C:\\Users\\user\\AppData\\Local\\Temp\\ipykernel_11440\\2821205942.py:13: FutureWarning: The default value of regex will change from True to False in a future version.\n",
      "  clean_sentences = pd.Series(sentences).str.replace(\"[^a-z A-Z 0-9]\", \" \")\n",
      "C:\\Users\\user\\AppData\\Local\\Temp\\ipykernel_11440\\2821205942.py:13: FutureWarning: The default value of regex will change from True to False in a future version.\n",
      "  clean_sentences = pd.Series(sentences).str.replace(\"[^a-z A-Z 0-9]\", \" \")\n",
      "C:\\Users\\user\\AppData\\Local\\Temp\\ipykernel_11440\\2821205942.py:13: FutureWarning: The default value of regex will change from True to False in a future version.\n",
      "  clean_sentences = pd.Series(sentences).str.replace(\"[^a-z A-Z 0-9]\", \" \")\n",
      "C:\\Users\\user\\AppData\\Local\\Temp\\ipykernel_11440\\2821205942.py:13: FutureWarning: The default value of regex will change from True to False in a future version.\n",
      "  clean_sentences = pd.Series(sentences).str.replace(\"[^a-z A-Z 0-9]\", \" \")\n",
      "C:\\Users\\user\\AppData\\Local\\Temp\\ipykernel_11440\\2821205942.py:13: FutureWarning: The default value of regex will change from True to False in a future version.\n",
      "  clean_sentences = pd.Series(sentences).str.replace(\"[^a-z A-Z 0-9]\", \" \")\n"
     ]
    },
    {
     "name": "stdout",
     "output_type": "stream",
     "text": [
      "Avil NU 10mg Tablet belongs to a group of medicines called antihistamines.It relieves watery eyes, runny nose, sneezing, and itching.Avil NU 10mg Tablet can be taken with or without food.It is used to treat various allergic conditions such as hay fever, conjunctivitis and some skin reactions, and reactions to bites and stings.\n",
      "========================================================================================================================\n",
      "Summary of the article -  169\n",
      "Pregnant or breastfeeding women should also consult their doctor for advice before taking this medicine.This might raise the level of potassium in the blood, hence avoid potassium rich food or supplements.Amlovas-AT Tablet is used to treat hypertension (high blood pressure).\n",
      "========================================================================================================================\n",
      "Summary of the article -  170\n",
      "Amlip 5 Tablet belongs to a class of medicines known as a calcium channel blockers.The dose depends on what you are taking it for and the severity of your condition.Pregnant or breastfeeding women should also consult their doctor for advice before taking this medicine.\n",
      "========================================================================================================================\n",
      "Summary of the article -  171\n",
      "Then repeat for the other nostril.Azeflo Nasal Spray is a combination medicine used in the treatment of allergy symptoms such as runny nose, stuffy nose, sneezing, watery eyes and congestion or stuffiness.Azeflo Nasal Spray should be used as you have been advised by your doctor.You should also tell your doctor if you are pregnant, planning pregnancy or breastfeeding.\n",
      "========================================================================================================================\n",
      "Summary of the article -  172\n",
      "Alupent 10mg Tablet is used to relieve symptoms of asthma and chronic obstructive pulmonary disease (COPD) such as coughing, wheezing and breathlessness.fast heart rate, tremor, and insomnia.Try to take it at the same time each day.\n",
      "========================================================================================================================\n",
      "Summary of the article -  173\n"
     ]
    },
    {
     "name": "stderr",
     "output_type": "stream",
     "text": [
      "C:\\Users\\user\\AppData\\Local\\Temp\\ipykernel_11440\\2821205942.py:13: FutureWarning: The default value of regex will change from True to False in a future version.\n",
      "  clean_sentences = pd.Series(sentences).str.replace(\"[^a-z A-Z 0-9]\", \" \")\n",
      "C:\\Users\\user\\AppData\\Local\\Temp\\ipykernel_11440\\2821205942.py:13: FutureWarning: The default value of regex will change from True to False in a future version.\n",
      "  clean_sentences = pd.Series(sentences).str.replace(\"[^a-z A-Z 0-9]\", \" \")\n",
      "C:\\Users\\user\\AppData\\Local\\Temp\\ipykernel_11440\\2821205942.py:13: FutureWarning: The default value of regex will change from True to False in a future version.\n",
      "  clean_sentences = pd.Series(sentences).str.replace(\"[^a-z A-Z 0-9]\", \" \")\n",
      "C:\\Users\\user\\AppData\\Local\\Temp\\ipykernel_11440\\2821205942.py:13: FutureWarning: The default value of regex will change from True to False in a future version.\n",
      "  clean_sentences = pd.Series(sentences).str.replace(\"[^a-z A-Z 0-9]\", \" \")\n",
      "C:\\Users\\user\\AppData\\Local\\Temp\\ipykernel_11440\\2821205942.py:13: FutureWarning: The default value of regex will change from True to False in a future version.\n",
      "  clean_sentences = pd.Series(sentences).str.replace(\"[^a-z A-Z 0-9]\", \" \")\n"
     ]
    },
    {
     "name": "stdout",
     "output_type": "stream",
     "text": [
      "Pregnant or breastfeeding mothers should also consult their doctor before taking it.This may be associated with headache.Let your doctor know if these side effects bother you or do not go away.\n",
      "========================================================================================================================\n",
      "Summary of the article -  174\n",
      "Alivher Tablet is used to treat erectile dysfunction in men.It should be strictly taken as advised by your doctor.The amount of time it takes to work varies from person to person, but it normally takes between 30 minutes and one hour.\n",
      "========================================================================================================================\n",
      "Summary of the article -  175\n",
      "Aplazar Tablet is a nutritional supplement that is ketone derivatives of different amino acids.Its kidney protective action prevents the progression of any kidney disease.Ensure that you maintain adequate calorie intake during the therapy.\n",
      "========================================================================================================================\n",
      "Summary of the article -  176\n",
      "You should try to avoid drinking alcohol as it lowers blood glucose.Pregnant or breastfeeding women should also consult their doctor before taking this medicine.Your lifestyle plays a big part in controlling diabetes.The most common side effects of taking this medicine include diarrhea, nausea, vomiting, upset stomach, headache, and sore throat.\n",
      "========================================================================================================================\n",
      "Summary of the article -  177\n",
      "These are usually temporary and subside with the completion of treatment.It should be used regularly at evenly spaced time intervals as prescribed by your doctor.Pregnant or breastfeeding women should consult their doctor before using this medicine.\n",
      "========================================================================================================================\n",
      "Summary of the article -  178\n"
     ]
    },
    {
     "name": "stderr",
     "output_type": "stream",
     "text": [
      "C:\\Users\\user\\AppData\\Local\\Temp\\ipykernel_11440\\2821205942.py:13: FutureWarning: The default value of regex will change from True to False in a future version.\n",
      "  clean_sentences = pd.Series(sentences).str.replace(\"[^a-z A-Z 0-9]\", \" \")\n",
      "C:\\Users\\user\\AppData\\Local\\Temp\\ipykernel_11440\\2821205942.py:13: FutureWarning: The default value of regex will change from True to False in a future version.\n",
      "  clean_sentences = pd.Series(sentences).str.replace(\"[^a-z A-Z 0-9]\", \" \")\n",
      "C:\\Users\\user\\AppData\\Local\\Temp\\ipykernel_11440\\2821205942.py:13: FutureWarning: The default value of regex will change from True to False in a future version.\n",
      "  clean_sentences = pd.Series(sentences).str.replace(\"[^a-z A-Z 0-9]\", \" \")\n",
      "C:\\Users\\user\\AppData\\Local\\Temp\\ipykernel_11440\\2821205942.py:13: FutureWarning: The default value of regex will change from True to False in a future version.\n",
      "  clean_sentences = pd.Series(sentences).str.replace(\"[^a-z A-Z 0-9]\", \" \")\n",
      "C:\\Users\\user\\AppData\\Local\\Temp\\ipykernel_11440\\2821205942.py:13: FutureWarning: The default value of regex will change from True to False in a future version.\n",
      "  clean_sentences = pd.Series(sentences).str.replace(\"[^a-z A-Z 0-9]\", \" \")\n"
     ]
    },
    {
     "name": "stdout",
     "output_type": "stream",
     "text": [
      "Amaryl MV 2mg Tablet SR belongs to a category of medicines known as anti-diabetic drugs.It may not be suitable.Pregnant or breastfeeding women should also consult their doctor before taking it.\n",
      "========================================================================================================================\n",
      "Summary of the article -  179\n",
      "It relieves allergy symptoms such as runny nose, stuffy nose, sneezing, watery eyes and congestion or stuffiness.Ascoril Flu Syrup is taken with or without food in a dose and duration as advised by the doctor.You should also tell your doctor if you are pregnant, planning pregnancy or breastfeeding.Most of these are temporary and usually resolve with time.\n",
      "========================================================================================================================\n",
      "Summary of the article -  180\n",
      "It thins mucus in the nose, windpipe and lungs, making it easier to cough out.Most of these are temporary and usually resolve with time.Asthakind-P Drops is used in the treatment of cough.\n",
      "========================================================================================================================\n",
      "Summary of the article -  181\n",
      "It may not be suitable.Pregnant or breastfeeding women should also consult their doctor before taking it.Azulix 1 MF Tablet PR belongs to a category of medicines known as anti-diabetic drugs.\n",
      "========================================================================================================================\n",
      "Summary of the article -  182\n"
     ]
    },
    {
     "name": "stderr",
     "output_type": "stream",
     "text": [
      "C:\\Users\\user\\AppData\\Local\\Temp\\ipykernel_11440\\2821205942.py:13: FutureWarning: The default value of regex will change from True to False in a future version.\n",
      "  clean_sentences = pd.Series(sentences).str.replace(\"[^a-z A-Z 0-9]\", \" \")\n",
      "C:\\Users\\user\\AppData\\Local\\Temp\\ipykernel_11440\\2821205942.py:13: FutureWarning: The default value of regex will change from True to False in a future version.\n",
      "  clean_sentences = pd.Series(sentences).str.replace(\"[^a-z A-Z 0-9]\", \" \")\n",
      "C:\\Users\\user\\AppData\\Local\\Temp\\ipykernel_11440\\2821205942.py:13: FutureWarning: The default value of regex will change from True to False in a future version.\n",
      "  clean_sentences = pd.Series(sentences).str.replace(\"[^a-z A-Z 0-9]\", \" \")\n",
      "C:\\Users\\user\\AppData\\Local\\Temp\\ipykernel_11440\\2821205942.py:13: FutureWarning: The default value of regex will change from True to False in a future version.\n",
      "  clean_sentences = pd.Series(sentences).str.replace(\"[^a-z A-Z 0-9]\", \" \")\n"
     ]
    },
    {
     "name": "stdout",
     "output_type": "stream",
     "text": [
      "Amlopres 5 Tablet belongs to a class of medicines known as a calcium channel blockers.The dose depends on what you are taking it for and the severity of your condition.Pregnant or breastfeeding women should also consult their doctor for advice before taking this medicine.\n",
      "========================================================================================================================\n",
      "Summary of the article -  183\n",
      "It’s used to treat the symptoms of asthma and chronic obstructive pulmonary disease (COPD) such as coughing, wheezing and breathlessness.Asthalin Respules is called \"reliever\" inhalers because they give you quick relief from breathing problems when you need it.Asthalin Respules belongs to a group of medicines called fast-acting bronchodilators or “relievers”.Asthalin Respules works quickly and the effects can last several hours.\n",
      "========================================================================================================================\n",
      "Summary of the article -  184\n",
      "Acitrom 3 Tablet is an oral anticoagulant which helps to prevent formation of harmful blood clots in the legs, lungs, brain and heart.It is used for deep vein thrombosis, pulmonary embolism and stroke prevention.Acitrom 3 Tablet should be taken as advised by the doctor.This medicine should not be stopped abruptly without consulting the doctor.\n",
      "========================================================================================================================\n",
      "Summary of the article -  185\n",
      "Alcros 100 Capsule belongs to a group of medicines called antifungals.It kills fungi by destroying the fungal cell membrane.Alcros 100 Capsule should be taken in the dose and duration as prescribed by your doctor.It should be swallowed whole and can be taken with food.\n",
      "========================================================================================================================\n",
      "Summary of the article -  186\n",
      "Alex P Syrup is used in the treatment of common cold symptoms like runny nose, stuffy nose, sneezing, watery eyes and congestion or stuffiness.Most of these are temporary and usually resolve with time.You should also tell your doctor if you are pregnant, planning pregnancy or breastfeeding.\n",
      "========================================================================================================================\n",
      "Summary of the article -  187\n"
     ]
    },
    {
     "name": "stderr",
     "output_type": "stream",
     "text": [
      "C:\\Users\\user\\AppData\\Local\\Temp\\ipykernel_11440\\2821205942.py:13: FutureWarning: The default value of regex will change from True to False in a future version.\n",
      "  clean_sentences = pd.Series(sentences).str.replace(\"[^a-z A-Z 0-9]\", \" \")\n",
      "C:\\Users\\user\\AppData\\Local\\Temp\\ipykernel_11440\\2821205942.py:13: FutureWarning: The default value of regex will change from True to False in a future version.\n",
      "  clean_sentences = pd.Series(sentences).str.replace(\"[^a-z A-Z 0-9]\", \" \")\n",
      "C:\\Users\\user\\AppData\\Local\\Temp\\ipykernel_11440\\2821205942.py:13: FutureWarning: The default value of regex will change from True to False in a future version.\n",
      "  clean_sentences = pd.Series(sentences).str.replace(\"[^a-z A-Z 0-9]\", \" \")\n",
      "C:\\Users\\user\\AppData\\Local\\Temp\\ipykernel_11440\\2821205942.py:13: FutureWarning: The default value of regex will change from True to False in a future version.\n",
      "  clean_sentences = pd.Series(sentences).str.replace(\"[^a-z A-Z 0-9]\", \" \")\n",
      "C:\\Users\\user\\AppData\\Local\\Temp\\ipykernel_11440\\2821205942.py:13: FutureWarning: The default value of regex will change from True to False in a future version.\n",
      "  clean_sentences = pd.Series(sentences).str.replace(\"[^a-z A-Z 0-9]\", \" \")\n"
     ]
    },
    {
     "name": "stdout",
     "output_type": "stream",
     "text": [
      "Andial 2mg Tablet is used in the treatment of diarrhea.Most of these are temporary and usually resolve with time.Avoid drinking alcohol while taking this medicine as it can worsen your sleepiness.Diarrhea can cause water loss and electrolyte imbalance, so drink plenty of fluids to help keep yourself hydrated.\n",
      "========================================================================================================================\n",
      "Summary of the article -  188\n",
      "It is used to treat infections of the lungs (e.g., pneumonia), ear, nasal sinus, urinary tract, skin and soft tissue.You should take it regularly at evenly spaced intervals as per the schedule prescribed by your doctor.Advent Forte 457mg Syrup Orange is a penicillin-type of antibiotic that helps your body fight infections caused by bacteria.\n",
      "========================================================================================================================\n",
      "Summary of the article -  189\n",
      "Alfusin Tablet PR is an alpha adrenergic antagonist that is used in the treatment of benign prostatic hyperplasia.Swallow the medicine as a whole without crushing or chewing it.If you have to undergo eye surgery due to cataract or glaucoma than inform your eye doctor about the usage of this medicine.\n",
      "========================================================================================================================\n",
      "Summary of the article -  190\n",
      "It reduces the formation of harmful blood clots in blood vessels.Axcer  90mg Tablet belongs to a group of medicines called antiplatelets or blood thinners.Such episodes of bleeding are usually mild and resolve on their own.\n",
      "========================================================================================================================\n",
      "Summary of the article -  191\n",
      "This medicine reduces the \"bad\" cholesterol (LDL) and triglycerides (fats) levels.You should take it regularly at evenly spaced intervals as per the schedule prescribed by your doctor.You must tell your doctor if you are pregnant, planning pregnancy or breastfeeding.\n",
      "========================================================================================================================\n",
      "Summary of the article -  192\n"
     ]
    },
    {
     "name": "stderr",
     "output_type": "stream",
     "text": [
      "C:\\Users\\user\\AppData\\Local\\Temp\\ipykernel_11440\\2821205942.py:13: FutureWarning: The default value of regex will change from True to False in a future version.\n",
      "  clean_sentences = pd.Series(sentences).str.replace(\"[^a-z A-Z 0-9]\", \" \")\n",
      "C:\\Users\\user\\AppData\\Local\\Temp\\ipykernel_11440\\2821205942.py:13: FutureWarning: The default value of regex will change from True to False in a future version.\n",
      "  clean_sentences = pd.Series(sentences).str.replace(\"[^a-z A-Z 0-9]\", \" \")\n",
      "C:\\Users\\user\\AppData\\Local\\Temp\\ipykernel_11440\\2821205942.py:13: FutureWarning: The default value of regex will change from True to False in a future version.\n",
      "  clean_sentences = pd.Series(sentences).str.replace(\"[^a-z A-Z 0-9]\", \" \")\n",
      "C:\\Users\\user\\AppData\\Local\\Temp\\ipykernel_11440\\2821205942.py:13: FutureWarning: The default value of regex will change from True to False in a future version.\n",
      "  clean_sentences = pd.Series(sentences).str.replace(\"[^a-z A-Z 0-9]\", \" \")\n"
     ]
    },
    {
     "name": "stdout",
     "output_type": "stream",
     "text": [
      "It relieves watery eyes, runny nose, sneezing, and itching.Alerid Syrup can be taken with or without food.Alerid Syrup belongs to a group of medicines called antihistamines.It is used to treat various allergic conditions such as hay fever, conjunctivitis and some skin reactions, and reactions to bites and stings.\n",
      "========================================================================================================================\n",
      "Summary of the article -  193\n",
      "It minimizes oil production and helps to reduce inflammation.It also kills acne-causing microorganisms and prevents infection.Consult your doctor if they bother you or do not go away.\n",
      "========================================================================================================================\n",
      "Summary of the article -  194\n",
      "It works effectively to reduce abdominal pain, bloating, discomfort and cramps by relaxing the muscles of the stomach and gut.Most of these are temporary and usually resolve with time.You should also tell your doctor if you have any kidney or liver diseases so that your doctor can prescribe a suitable dose for you.\n",
      "========================================================================================================================\n",
      "Summary of the article -  195\n",
      "It helps in controlling the feeling of nausea and vomiting.It replenishes the body with essential nutrients.All 9 NVP Tablet has all active form of vitamins which helps in preventing neural tube defects, pregnancy-related anemia and associated complications of pregnancy due to elevated homocysteine levels.Inform your doctor if you are pregnant, breastfeeding or suffering from any other disease.\n",
      "========================================================================================================================\n",
      "Summary of the article -  196\n",
      "Swallow it as a whole with water.This medicine should not be taken during pregnancy and is not recommended while breastfeeding.These tablets are preventing future harm.Some of the common side effects include cough, dizziness and feeling lightheaded.\n",
      "========================================================================================================================\n",
      "Summary of the article -  197\n"
     ]
    },
    {
     "name": "stderr",
     "output_type": "stream",
     "text": [
      "C:\\Users\\user\\AppData\\Local\\Temp\\ipykernel_11440\\2821205942.py:13: FutureWarning: The default value of regex will change from True to False in a future version.\n",
      "  clean_sentences = pd.Series(sentences).str.replace(\"[^a-z A-Z 0-9]\", \" \")\n",
      "C:\\Users\\user\\AppData\\Local\\Temp\\ipykernel_11440\\2821205942.py:13: FutureWarning: The default value of regex will change from True to False in a future version.\n",
      "  clean_sentences = pd.Series(sentences).str.replace(\"[^a-z A-Z 0-9]\", \" \")\n",
      "C:\\Users\\user\\AppData\\Local\\Temp\\ipykernel_11440\\2821205942.py:13: FutureWarning: The default value of regex will change from True to False in a future version.\n",
      "  clean_sentences = pd.Series(sentences).str.replace(\"[^a-z A-Z 0-9]\", \" \")\n",
      "C:\\Users\\user\\AppData\\Local\\Temp\\ipykernel_11440\\2821205942.py:13: FutureWarning: The default value of regex will change from True to False in a future version.\n",
      "  clean_sentences = pd.Series(sentences).str.replace(\"[^a-z A-Z 0-9]\", \" \")\n",
      "C:\\Users\\user\\AppData\\Local\\Temp\\ipykernel_11440\\2821205942.py:13: FutureWarning: The default value of regex will change from True to False in a future version.\n",
      "  clean_sentences = pd.Series(sentences).str.replace(\"[^a-z A-Z 0-9]\", \" \")\n",
      "C:\\Users\\user\\AppData\\Local\\Temp\\ipykernel_11440\\2821205942.py:13: FutureWarning: The default value of regex will change from True to False in a future version.\n",
      "  clean_sentences = pd.Series(sentences).str.replace(\"[^a-z A-Z 0-9]\", \" \")\n"
     ]
    },
    {
     "name": "stdout",
     "output_type": "stream",
     "text": [
      "It lowers the \"bad\" cholesterol (LDL), triglycerides and raises the \"good\" cholesterol (HDL) levels in the body.You should take it regularly at evenly spaced intervals as per the schedule prescribed by your doctor.You must tell your doctor if you are pregnant, planning pregnancy or breastfeeding.\n",
      "========================================================================================================================\n",
      "Summary of the article -  198\n",
      "Addnok 0.2mg Tablet is used to treat moderate to severe pain and drug dependence/addiction to opioids.Pregnant and breastfeeding women should consult their doctors before using this medicine.Try not to miss doses as this will make the medicine less effective.Some common side effects of this medicine include weakness, drug withdrawal syndrome, anxiety, nervousness, dizziness, headache, sleepiness, diarrhea, nausea, vomiting, and abdominal pain.\n",
      "========================================================================================================================\n",
      "Summary of the article -  199\n",
      "If this happens, inform your doctor.Anasure 5% Solution belongs to a class of drugs known as vasodilators.Clean and dry your scalp before using it.\n",
      "========================================================================================================================\n",
      "Summary of the article -  200\n",
      "Most of these are temporary and usually resolve with time.It relieves allergic symptoms like runny nose, watery eyes, sneezing, throat irritation.Ambrodil-D Syrup is taken with or without food in a dose and duration as advised by the doctor.Ambrodil-D Syrup is a combination medicine used in the treatment of dry cough.\n",
      "========================================================================================================================\n",
      "Summary of the article -  201\n",
      "Acotrust  Tablet is used in the treatment of indigestion.Most of these are temporary and usually resolve with time.Contact your doctor straight away if you are at all concerned about any of these side effects.\n",
      "========================================================================================================================\n",
      "Summary of the article -  202\n"
     ]
    },
    {
     "name": "stderr",
     "output_type": "stream",
     "text": [
      "C:\\Users\\user\\AppData\\Local\\Temp\\ipykernel_11440\\2821205942.py:13: FutureWarning: The default value of regex will change from True to False in a future version.\n",
      "  clean_sentences = pd.Series(sentences).str.replace(\"[^a-z A-Z 0-9]\", \" \")\n",
      "C:\\Users\\user\\AppData\\Local\\Temp\\ipykernel_11440\\2821205942.py:13: FutureWarning: The default value of regex will change from True to False in a future version.\n",
      "  clean_sentences = pd.Series(sentences).str.replace(\"[^a-z A-Z 0-9]\", \" \")\n",
      "C:\\Users\\user\\AppData\\Local\\Temp\\ipykernel_11440\\2821205942.py:13: FutureWarning: The default value of regex will change from True to False in a future version.\n",
      "  clean_sentences = pd.Series(sentences).str.replace(\"[^a-z A-Z 0-9]\", \" \")\n",
      "C:\\Users\\user\\AppData\\Local\\Temp\\ipykernel_11440\\2821205942.py:13: FutureWarning: The default value of regex will change from True to False in a future version.\n",
      "  clean_sentences = pd.Series(sentences).str.replace(\"[^a-z A-Z 0-9]\", \" \")\n",
      "C:\\Users\\user\\AppData\\Local\\Temp\\ipykernel_11440\\2821205942.py:13: FutureWarning: The default value of regex will change from True to False in a future version.\n",
      "  clean_sentences = pd.Series(sentences).str.replace(\"[^a-z A-Z 0-9]\", \" \")\n"
     ]
    },
    {
     "name": "stdout",
     "output_type": "stream",
     "text": [
      "This will help you remember to take it.You can take it at any time of the day but try to take it at the same time each day.Consult your doctor if they persist or if you notice any yellowing of your eyes, unusual bleeding or bruising or get repeated, severe, or unexplained muscle pains.\n",
      "========================================================================================================================\n",
      "Summary of the article -  203\n",
      "The dose and duration will depend on the severity of your condition.Acemiz -MR Tablet is a combination medicine which helps in relieving muscular pain.Pregnant and breastfeeding women should consult their doctors first before using the medicine.\n",
      "========================================================================================================================\n",
      "Summary of the article -  204\n",
      "Aerocort Rotacap is used in the treatment of asthma (wheezing and shortness of breath).That means it’s doing its job.Talk to your doctor if you're worried about them.\n",
      "========================================================================================================================\n",
      "Summary of the article -  205\n",
      "It helps in the formation of the soft tissue around the joints leading to joint repair.This will prevent you from getting an upset stomach.Actis C 2 Tablet is a medicine used in the treatment of arthralgia (joint pain).\n",
      "========================================================================================================================\n",
      "Summary of the article -  206\n",
      "AB Phylline N Tablet is used for the prevention of chronic obstructive pulmonary disorder (a lung disorder in which the flow of air to the lungs is blocked).It helps in relaxing the muscles of the air passages and making it easier to breathe.You should also tell your doctor if you are pregnant, planning pregnancy or breastfeeding.\n",
      "========================================================================================================================\n",
      "Summary of the article -  207\n"
     ]
    },
    {
     "name": "stderr",
     "output_type": "stream",
     "text": [
      "C:\\Users\\user\\AppData\\Local\\Temp\\ipykernel_11440\\2821205942.py:13: FutureWarning: The default value of regex will change from True to False in a future version.\n",
      "  clean_sentences = pd.Series(sentences).str.replace(\"[^a-z A-Z 0-9]\", \" \")\n",
      "C:\\Users\\user\\AppData\\Local\\Temp\\ipykernel_11440\\2821205942.py:13: FutureWarning: The default value of regex will change from True to False in a future version.\n",
      "  clean_sentences = pd.Series(sentences).str.replace(\"[^a-z A-Z 0-9]\", \" \")\n",
      "C:\\Users\\user\\AppData\\Local\\Temp\\ipykernel_11440\\2821205942.py:13: FutureWarning: The default value of regex will change from True to False in a future version.\n",
      "  clean_sentences = pd.Series(sentences).str.replace(\"[^a-z A-Z 0-9]\", \" \")\n",
      "C:\\Users\\user\\AppData\\Local\\Temp\\ipykernel_11440\\2821205942.py:13: FutureWarning: The default value of regex will change from True to False in a future version.\n",
      "  clean_sentences = pd.Series(sentences).str.replace(\"[^a-z A-Z 0-9]\", \" \")\n",
      "C:\\Users\\user\\AppData\\Local\\Temp\\ipykernel_11440\\2821205942.py:13: FutureWarning: The default value of regex will change from True to False in a future version.\n",
      "  clean_sentences = pd.Series(sentences).str.replace(\"[^a-z A-Z 0-9]\", \" \")\n"
     ]
    },
    {
     "name": "stdout",
     "output_type": "stream",
     "text": [
      "It helps to slow down the progression of moderate to severe Alzheimer's by improving memory and thinking.This medicine may cause diarrhea, so drink plenty of fluids to keep yourself hydrated.Admenta 10 Tablet is a medicine used in the treatment of Alzheimer's disease.\n",
      "========================================================================================================================\n",
      "Summary of the article -  208\n",
      "Wipe off extra liquid.Do not wear contact lenses while using it.Inform your doctor if they persist for a longer duration.\n",
      "========================================================================================================================\n",
      "Summary of the article -  209\n",
      "These are usually temporary and subside with the completion of treatment.It should be used regularly at evenly spaced time intervals as prescribed by your doctor.Pregnant or breastfeeding women should consult their doctor before using this medicine.\n",
      "========================================================================================================================\n",
      "Summary of the article -  210\n",
      "If you are worried about them, or they do not go away, let your doctor know.It would be best to swallow it whole.It is a bile acid which helps break down cholesterol which has formed into stones in your gallbladder.Actibile 300 Tablet should be taken after a meal with a glass of milk or water.\n",
      "========================================================================================================================\n",
      "Summary of the article -  211\n",
      "The dose depends on what you are taking it for and the severity of your condition.It is a calcium channel blocker which helps to lower blood pressure and reduce the workload of the heart.Pregnant or breastfeeding women should also consult their doctor for advice before taking this medicine.\n",
      "========================================================================================================================\n",
      "Summary of the article -  212\n"
     ]
    },
    {
     "name": "stderr",
     "output_type": "stream",
     "text": [
      "C:\\Users\\user\\AppData\\Local\\Temp\\ipykernel_11440\\2821205942.py:13: FutureWarning: The default value of regex will change from True to False in a future version.\n",
      "  clean_sentences = pd.Series(sentences).str.replace(\"[^a-z A-Z 0-9]\", \" \")\n",
      "C:\\Users\\user\\AppData\\Local\\Temp\\ipykernel_11440\\2821205942.py:13: FutureWarning: The default value of regex will change from True to False in a future version.\n",
      "  clean_sentences = pd.Series(sentences).str.replace(\"[^a-z A-Z 0-9]\", \" \")\n",
      "C:\\Users\\user\\AppData\\Local\\Temp\\ipykernel_11440\\2821205942.py:13: FutureWarning: The default value of regex will change from True to False in a future version.\n",
      "  clean_sentences = pd.Series(sentences).str.replace(\"[^a-z A-Z 0-9]\", \" \")\n",
      "C:\\Users\\user\\AppData\\Local\\Temp\\ipykernel_11440\\2821205942.py:13: FutureWarning: The default value of regex will change from True to False in a future version.\n",
      "  clean_sentences = pd.Series(sentences).str.replace(\"[^a-z A-Z 0-9]\", \" \")\n",
      "C:\\Users\\user\\AppData\\Local\\Temp\\ipykernel_11440\\2821205942.py:13: FutureWarning: The default value of regex will change from True to False in a future version.\n",
      "  clean_sentences = pd.Series(sentences).str.replace(\"[^a-z A-Z 0-9]\", \" \")\n"
     ]
    },
    {
     "name": "stdout",
     "output_type": "stream",
     "text": [
      "It is used to treat infections of the lungs (e.g., pneumonia), ear, nasal sinus, urinary tract, skin and soft tissue.You should take it regularly at evenly spaced intervals as per the schedule prescribed by your doctor.Augmentin 375 Tablet is a penicillin-type of antibiotic that helps your body fight infections caused by bacteria.\n",
      "========================================================================================================================\n",
      "Summary of the article -  213\n",
      "AB-Flo SR Tablet is used to treat and prevent symptoms of asthma and chronic obstructive pulmonary disorder (a lung disorder in which flow of air to the lung is blocked).Inform your doctor if you are pregnant or breastfeeding before starting the treatment.There may be ways of reducing or preventing them.\n",
      "========================================================================================================================\n",
      "Summary of the article -  214\n",
      "Airz Capsule is used to treat Chronic obstructive pulmonary disease (COPD).That means it is doing its job.Talk to your doctor if you are worried about them.\n",
      "========================================================================================================================\n",
      "Summary of the article -  215\n",
      "It decreases the pain by modulating calcium channel activity of the nerve cells.Inform your doctor if you are pregnant, planning pregnancy or breastfeeding.Axogurd-SR Tablet is a prescription medicine used for the treatment of neuropathic pain.\n",
      "========================================================================================================================\n",
      "Summary of the article -  216\n",
      "It works by protecting the nerve fibers against damage, repairing the damaged nerves.Amicobal 10mg/1500mcg Tablet is a combination of two medicines used to treat neuropathic pain.Take this medicine in the dose and duration advised by your doctor.\n",
      "========================================================================================================================\n",
      "Summary of the article -  217\n"
     ]
    },
    {
     "name": "stderr",
     "output_type": "stream",
     "text": [
      "C:\\Users\\user\\AppData\\Local\\Temp\\ipykernel_11440\\2821205942.py:13: FutureWarning: The default value of regex will change from True to False in a future version.\n",
      "  clean_sentences = pd.Series(sentences).str.replace(\"[^a-z A-Z 0-9]\", \" \")\n",
      "C:\\Users\\user\\AppData\\Local\\Temp\\ipykernel_11440\\2821205942.py:13: FutureWarning: The default value of regex will change from True to False in a future version.\n",
      "  clean_sentences = pd.Series(sentences).str.replace(\"[^a-z A-Z 0-9]\", \" \")\n",
      "C:\\Users\\user\\AppData\\Local\\Temp\\ipykernel_11440\\2821205942.py:13: FutureWarning: The default value of regex will change from True to False in a future version.\n",
      "  clean_sentences = pd.Series(sentences).str.replace(\"[^a-z A-Z 0-9]\", \" \")\n",
      "C:\\Users\\user\\AppData\\Local\\Temp\\ipykernel_11440\\2821205942.py:13: FutureWarning: The default value of regex will change from True to False in a future version.\n",
      "  clean_sentences = pd.Series(sentences).str.replace(\"[^a-z A-Z 0-9]\", \" \")\n",
      "C:\\Users\\user\\AppData\\Local\\Temp\\ipykernel_11440\\2821205942.py:13: FutureWarning: The default value of regex will change from True to False in a future version.\n",
      "  clean_sentences = pd.Series(sentences).str.replace(\"[^a-z A-Z 0-9]\", \" \")\n"
     ]
    },
    {
     "name": "stdout",
     "output_type": "stream",
     "text": [
      "It thins mucus in the nose, windpipe and lungs, making it easier to cough out.Ambrolite Levo Syrup is a combination medicine used in the treatment of cough with mucus.Most of these are temporary and usually resolve with time.\n",
      "========================================================================================================================\n",
      "Summary of the article -  218\n",
      "It thins mucus in the nose, windpipe and lungs, making it easier to cough out.Most of these are temporary and usually resolve with time.It is beneficial to have plenty of fluids while taking this medication.\n",
      "========================================================================================================================\n",
      "Summary of the article -  219\n",
      "It relieves allergy symptoms such as runny nose, stuffy nose, sneezing, watery eyes and congestion or stuffiness.Alex Plus Paediatric Oral Drops is taken with or without food in a dose and duration as advised by the doctor.It is beneficial to have plenty of fluids while taking this medication.You should also tell your doctor if you are pregnant, planning pregnancy or breastfeeding.\n",
      "========================================================================================================================\n",
      "Summary of the article -  220\n",
      "Avil Injection is an antiallergic medication.Inform your doctor if you are pregnant, or breastfeeding.It treats symptoms of severe allergic reactions due to insect bite/sting, certain medicines, hives (rashes, swelling etc).Avil Injection is given as an injection into veins or muscles under the supervision of a doctor.\n",
      "========================================================================================================================\n",
      "Summary of the article -  221\n",
      "These are usually temporary and subside with the completion of treatment.It should be used regularly at evenly spaced time intervals as prescribed by your doctor.Pregnant or breastfeeding women should consult their doctor before using this medicine.\n",
      "========================================================================================================================\n",
      "Summary of the article -  222\n"
     ]
    },
    {
     "name": "stderr",
     "output_type": "stream",
     "text": [
      "C:\\Users\\user\\AppData\\Local\\Temp\\ipykernel_11440\\2821205942.py:13: FutureWarning: The default value of regex will change from True to False in a future version.\n",
      "  clean_sentences = pd.Series(sentences).str.replace(\"[^a-z A-Z 0-9]\", \" \")\n",
      "C:\\Users\\user\\AppData\\Local\\Temp\\ipykernel_11440\\2821205942.py:13: FutureWarning: The default value of regex will change from True to False in a future version.\n",
      "  clean_sentences = pd.Series(sentences).str.replace(\"[^a-z A-Z 0-9]\", \" \")\n",
      "C:\\Users\\user\\AppData\\Local\\Temp\\ipykernel_11440\\2821205942.py:13: FutureWarning: The default value of regex will change from True to False in a future version.\n",
      "  clean_sentences = pd.Series(sentences).str.replace(\"[^a-z A-Z 0-9]\", \" \")\n",
      "C:\\Users\\user\\AppData\\Local\\Temp\\ipykernel_11440\\2821205942.py:13: FutureWarning: The default value of regex will change from True to False in a future version.\n",
      "  clean_sentences = pd.Series(sentences).str.replace(\"[^a-z A-Z 0-9]\", \" \")\n",
      "C:\\Users\\user\\AppData\\Local\\Temp\\ipykernel_11440\\2821205942.py:13: FutureWarning: The default value of regex will change from True to False in a future version.\n",
      "  clean_sentences = pd.Series(sentences).str.replace(\"[^a-z A-Z 0-9]\", \" \")\n"
     ]
    },
    {
     "name": "stdout",
     "output_type": "stream",
     "text": [
      "Anxit 0.25mg Tablet belongs to a class of medicines known as benzodiazepines.It is a prescription medicine used to treat anxiety.Weight loss can be managed by increasing food portions and consulting a dietitian.\n",
      "========================================================================================================================\n",
      "Summary of the article -  223\n",
      "Inform your doctor if you are pregnant, or breastfeeding.Avil 50mg Tablet is an antiallergic medication used in the treatment of various allergic conditions.There may be ways of reducing or preventing them.\n",
      "========================================================================================================================\n",
      "Summary of the article -  224\n",
      "Common side effects of this medicine include constipation, flatulence, dyspepsia, and abdominal pain.It can be taken with a meal or on an empty stomach.Aztor 40 Tablet belongs to a group of medicines called statins.\n",
      "========================================================================================================================\n",
      "Summary of the article -  225\n",
      "Aceclo Sera 100mg/325mg/15mg Tablet is not recommended if you are pregnant or breastfeeding.It should be taken with food or milk to prevent stomach upset.Thus, it effectively alleviates pain and inflammation in conditions like rheumatoid arthritis, ankylosing spondylitis and osteoarthritis.Aceclo Sera 100mg/325mg/15mg Tablet should be taken in the dose and duration as advised by your doctor.\n",
      "========================================================================================================================\n",
      "Summary of the article -  226\n",
      "This medicine reduces the \"bad\" cholesterol (LDL) and triglycerides (fats) levels.You should take it regularly at evenly spaced intervals as per the schedule prescribed by your doctor.You must tell your doctor if you are pregnant, planning pregnancy or breastfeeding.\n",
      "========================================================================================================================\n",
      "Summary of the article -  227\n"
     ]
    },
    {
     "name": "stderr",
     "output_type": "stream",
     "text": [
      "C:\\Users\\user\\AppData\\Local\\Temp\\ipykernel_11440\\2821205942.py:13: FutureWarning: The default value of regex will change from True to False in a future version.\n",
      "  clean_sentences = pd.Series(sentences).str.replace(\"[^a-z A-Z 0-9]\", \" \")\n",
      "C:\\Users\\user\\AppData\\Local\\Temp\\ipykernel_11440\\2821205942.py:13: FutureWarning: The default value of regex will change from True to False in a future version.\n",
      "  clean_sentences = pd.Series(sentences).str.replace(\"[^a-z A-Z 0-9]\", \" \")\n",
      "C:\\Users\\user\\AppData\\Local\\Temp\\ipykernel_11440\\2821205942.py:13: FutureWarning: The default value of regex will change from True to False in a future version.\n",
      "  clean_sentences = pd.Series(sentences).str.replace(\"[^a-z A-Z 0-9]\", \" \")\n",
      "C:\\Users\\user\\AppData\\Local\\Temp\\ipykernel_11440\\2821205942.py:13: FutureWarning: The default value of regex will change from True to False in a future version.\n",
      "  clean_sentences = pd.Series(sentences).str.replace(\"[^a-z A-Z 0-9]\", \" \")\n",
      "C:\\Users\\user\\AppData\\Local\\Temp\\ipykernel_11440\\2821205942.py:13: FutureWarning: The default value of regex will change from True to False in a future version.\n",
      "  clean_sentences = pd.Series(sentences).str.replace(\"[^a-z A-Z 0-9]\", \" \")\n"
     ]
    },
    {
     "name": "stdout",
     "output_type": "stream",
     "text": [
      "Amluck Cream is an antifungal medication.It is used for treating fungal infections of the affected area.In case of direct contact, wash your eyes with water and seek immediate medical attention.\n",
      "========================================================================================================================\n",
      "Summary of the article -  228\n",
      "It relieves allergic symptoms such as sneezing, running nose, watery eyes, itching, swelling, and congestion or stiffness.Most of these are temporary and usually resolve with time.It is beneficial to have plenty of fluids while taking this medication.\n",
      "========================================================================================================================\n",
      "Summary of the article -  229\n",
      "Common side effects of this medicine include constipation, flatulence, dyspepsia, and abdominal pain.It can be taken with a meal or on an empty stomach.Consult your doctor if they persist or if you notice any yellowing of your eyes or get repeated or unexplained muscle pains.\n",
      "========================================================================================================================\n",
      "Summary of the article -  230\n",
      "Do not skip any doses.The most common are headache, loss of appetite, nausea, vomiting, diarrhea and increased heart rate.Talk to your doctor if you are bothered by side effects or they do not resolve.\n",
      "========================================================================================================================\n",
      "Summary of the article -  231\n",
      "It is effective in infections of the throat, ear, nasal sinuses, respiratory tract (eg.You should take it regularly at evenly spaced intervals as per the schedule prescribed by your doctor.These are temporary and usually resolve quickly.\n",
      "========================================================================================================================\n",
      "Summary of the article -  232\n"
     ]
    },
    {
     "name": "stderr",
     "output_type": "stream",
     "text": [
      "C:\\Users\\user\\AppData\\Local\\Temp\\ipykernel_11440\\2821205942.py:13: FutureWarning: The default value of regex will change from True to False in a future version.\n",
      "  clean_sentences = pd.Series(sentences).str.replace(\"[^a-z A-Z 0-9]\", \" \")\n",
      "C:\\Users\\user\\AppData\\Local\\Temp\\ipykernel_11440\\2821205942.py:13: FutureWarning: The default value of regex will change from True to False in a future version.\n",
      "  clean_sentences = pd.Series(sentences).str.replace(\"[^a-z A-Z 0-9]\", \" \")\n",
      "C:\\Users\\user\\AppData\\Local\\Temp\\ipykernel_11440\\2821205942.py:13: FutureWarning: The default value of regex will change from True to False in a future version.\n",
      "  clean_sentences = pd.Series(sentences).str.replace(\"[^a-z A-Z 0-9]\", \" \")\n",
      "C:\\Users\\user\\AppData\\Local\\Temp\\ipykernel_11440\\2821205942.py:13: FutureWarning: The default value of regex will change from True to False in a future version.\n",
      "  clean_sentences = pd.Series(sentences).str.replace(\"[^a-z A-Z 0-9]\", \" \")\n",
      "C:\\Users\\user\\AppData\\Local\\Temp\\ipykernel_11440\\2821205942.py:13: FutureWarning: The default value of regex will change from True to False in a future version.\n",
      "  clean_sentences = pd.Series(sentences).str.replace(\"[^a-z A-Z 0-9]\", \" \")\n"
     ]
    },
    {
     "name": "stdout",
     "output_type": "stream",
     "text": [
      "It is used to treat leprosy and acne.Avoid getting it into your eyes, nose or mouth.Acnedap Gel belongs to a class of drugs known as anti-leprotic medicines.\n",
      "========================================================================================================================\n",
      "Summary of the article -  233\n",
      "Alday 10mg Tablet belongs to a group of medicines called antihistamines.It relieves watery eyes, runny nose, sneezing, and itching.Alday 10mg Tablet can be taken with or without food.It is used to treat various allergic conditions such as hay fever, conjunctivitis and some skin reactions, and reactions to bites and stings.\n",
      "========================================================================================================================\n",
      "Summary of the article -  234\n",
      "These are usually temporary and subside with the completion of treatment.Pregnant or breastfeeding women should consult their doctor before using this medicine.It should be used regularly at evenly spaced time intervals as prescribed by your doctor.\n",
      "========================================================================================================================\n",
      "Summary of the article -  235\n",
      "Amtas 5 Tablet belongs to a class of medicines known as a calcium channel blockers.The dose depends on what you are taking it for and the severity of your condition.Pregnant or breastfeeding women should also consult their doctor for advice before taking this medicine.\n",
      "========================================================================================================================\n",
      "Summary of the article -  236\n",
      "Abiways Tablet is used for the prevention of chronic obstructive pulmonary disorder (a lung disorder in which the flow of air to the lungs is blocked).It helps in relaxing the muscles of the air passages and making it easier to breathe.You should also tell your doctor if you are pregnant, planning pregnancy or breastfeeding.\n",
      "========================================================================================================================\n",
      "Summary of the article -  237\n"
     ]
    },
    {
     "name": "stderr",
     "output_type": "stream",
     "text": [
      "C:\\Users\\user\\AppData\\Local\\Temp\\ipykernel_11440\\2821205942.py:13: FutureWarning: The default value of regex will change from True to False in a future version.\n",
      "  clean_sentences = pd.Series(sentences).str.replace(\"[^a-z A-Z 0-9]\", \" \")\n",
      "C:\\Users\\user\\AppData\\Local\\Temp\\ipykernel_11440\\2821205942.py:13: FutureWarning: The default value of regex will change from True to False in a future version.\n",
      "  clean_sentences = pd.Series(sentences).str.replace(\"[^a-z A-Z 0-9]\", \" \")\n",
      "C:\\Users\\user\\AppData\\Local\\Temp\\ipykernel_11440\\2821205942.py:13: FutureWarning: The default value of regex will change from True to False in a future version.\n",
      "  clean_sentences = pd.Series(sentences).str.replace(\"[^a-z A-Z 0-9]\", \" \")\n",
      "C:\\Users\\user\\AppData\\Local\\Temp\\ipykernel_11440\\2821205942.py:13: FutureWarning: The default value of regex will change from True to False in a future version.\n",
      "  clean_sentences = pd.Series(sentences).str.replace(\"[^a-z A-Z 0-9]\", \" \")\n"
     ]
    },
    {
     "name": "stdout",
     "output_type": "stream",
     "text": [
      "Amlopin 5 Tablet belongs to a class of medicines known as a calcium channel blockers.The dose depends on what you are taking it for and the severity of your condition.Pregnant or breastfeeding women should also consult their doctor for advice before taking this medicine.\n",
      "========================================================================================================================\n",
      "Summary of the article -  238\n",
      "Ascoril D Lozenges Ginger is an antitussive medicine.There may be ways of reducing or preventing them.It is used for the treatment of dry cough.\n",
      "========================================================================================================================\n",
      "Summary of the article -  239\n",
      "Alzolam 0.5mg Tablet belongs to a class of medicines known as benzodiazepines.It is a prescription medicine used to treat anxiety.Weight loss can be managed by increasing food portions and consulting a dietitian.\n",
      "========================================================================================================================\n",
      "Summary of the article -  240\n",
      "Amluck Cream is an antifungal medication.It is used for treating fungal infections of the affected area.In case of direct contact, wash your eyes with water and seek immediate medical attention.\n",
      "========================================================================================================================\n",
      "Summary of the article -  241\n",
      "It is used to treat infections of the lungs (e.g., pneumonia), ear, nasal sinus, urinary tract, skin and soft tissue.You should take it regularly at evenly spaced intervals as per the schedule prescribed by your doctor.Almox-CV 625 Tablet is a penicillin-type of antibiotic that helps your body fight infections caused by bacteria.\n",
      "========================================================================================================================\n",
      "Summary of the article -  242\n"
     ]
    },
    {
     "name": "stderr",
     "output_type": "stream",
     "text": [
      "C:\\Users\\user\\AppData\\Local\\Temp\\ipykernel_11440\\2821205942.py:13: FutureWarning: The default value of regex will change from True to False in a future version.\n",
      "  clean_sentences = pd.Series(sentences).str.replace(\"[^a-z A-Z 0-9]\", \" \")\n",
      "C:\\Users\\user\\AppData\\Local\\Temp\\ipykernel_11440\\2821205942.py:13: FutureWarning: The default value of regex will change from True to False in a future version.\n",
      "  clean_sentences = pd.Series(sentences).str.replace(\"[^a-z A-Z 0-9]\", \" \")\n",
      "C:\\Users\\user\\AppData\\Local\\Temp\\ipykernel_11440\\2821205942.py:13: FutureWarning: The default value of regex will change from True to False in a future version.\n",
      "  clean_sentences = pd.Series(sentences).str.replace(\"[^a-z A-Z 0-9]\", \" \")\n",
      "C:\\Users\\user\\AppData\\Local\\Temp\\ipykernel_11440\\2821205942.py:13: FutureWarning: The default value of regex will change from True to False in a future version.\n",
      "  clean_sentences = pd.Series(sentences).str.replace(\"[^a-z A-Z 0-9]\", \" \")\n",
      "C:\\Users\\user\\AppData\\Local\\Temp\\ipykernel_11440\\2821205942.py:13: FutureWarning: The default value of regex will change from True to False in a future version.\n",
      "  clean_sentences = pd.Series(sentences).str.replace(\"[^a-z A-Z 0-9]\", \" \")\n",
      "C:\\Users\\user\\AppData\\Local\\Temp\\ipykernel_11440\\2821205942.py:13: FutureWarning: The default value of regex will change from True to False in a future version.\n",
      "  clean_sentences = pd.Series(sentences).str.replace(\"[^a-z A-Z 0-9]\", \" \")\n"
     ]
    },
    {
     "name": "stdout",
     "output_type": "stream",
     "text": [
      "You should not breastfeed while using this medicine.Afogatran 110 Capsule is a medicine known as an anticoagulant or blood thinner.If you experience any symptoms, tell your doctor immediately.\n",
      "========================================================================================================================\n",
      "Summary of the article -  243\n",
      "It should be used regularly at evenly spaced time intervals as prescribed by your doctor.It is used to treat inflammation of eyes (redness and swelling) caused due to various allergies.Consult your doctor if these side effects persist or if your condition worsens.\n",
      "========================================================================================================================\n",
      "Summary of the article -  244\n",
      "The medicine is not recommended for pregnant women.Pregnant and breastfeeding mothers should consult their doctors before using this medicine.Avoid any contact with your eyes, nose, or mouth.\n",
      "========================================================================================================================\n",
      "Summary of the article -  245\n",
      "Inform your doctor if you are pregnant or breastfeeding or are allergic to this medicine or taking any other medication.It is advised to check the label for directions before use.In case by accident, this medicine goes into your ears, nose or mouth, immediately rinse it with water.\n",
      "========================================================================================================================\n",
      "Summary of the article -  246\n",
      "AF 200 Tablet belongs to a group of medicines called antifungals.It kills fungi by destroying the fungal cell membrane.AF 200 Tablet should be taken in the dose and duration as prescribed by your doctor.The dosage and length of treatment will depend on the condition you are being treated for.\n",
      "========================================================================================================================\n",
      "Summary of the article -  247\n"
     ]
    },
    {
     "name": "stderr",
     "output_type": "stream",
     "text": [
      "C:\\Users\\user\\AppData\\Local\\Temp\\ipykernel_11440\\2821205942.py:13: FutureWarning: The default value of regex will change from True to False in a future version.\n",
      "  clean_sentences = pd.Series(sentences).str.replace(\"[^a-z A-Z 0-9]\", \" \")\n",
      "C:\\Users\\user\\AppData\\Local\\Temp\\ipykernel_11440\\2821205942.py:13: FutureWarning: The default value of regex will change from True to False in a future version.\n",
      "  clean_sentences = pd.Series(sentences).str.replace(\"[^a-z A-Z 0-9]\", \" \")\n",
      "C:\\Users\\user\\AppData\\Local\\Temp\\ipykernel_11440\\2821205942.py:13: FutureWarning: The default value of regex will change from True to False in a future version.\n",
      "  clean_sentences = pd.Series(sentences).str.replace(\"[^a-z A-Z 0-9]\", \" \")\n",
      "C:\\Users\\user\\AppData\\Local\\Temp\\ipykernel_11440\\2821205942.py:13: FutureWarning: The default value of regex will change from True to False in a future version.\n",
      "  clean_sentences = pd.Series(sentences).str.replace(\"[^a-z A-Z 0-9]\", \" \")\n"
     ]
    },
    {
     "name": "stdout",
     "output_type": "stream",
     "text": [
      "It thins mucus in the nose, windpipe and lungs, making it easier to cough out.Most of these are temporary and usually resolve with time.Asthalin AX Syrup is a combination medicine used in the treatment of cough with mucus.\n",
      "========================================================================================================================\n",
      "Summary of the article -  248\n",
      "ALERGIN L TABLET belongs to a group of medicines called antihistamines.It is used to treat various allergic conditions such as hay fever, conjunctivitis, some skin reactions such as eczema, hives, and reactions to bites and stings.It also relieves watery eyes, runny nose, sneezing, and itching.ALERGIN L TABLET can be taken with or without food.\n",
      "========================================================================================================================\n",
      "Summary of the article -  249\n",
      "Your doctor will prescribe the dose most suitable for you.You may also feel dizzy or drowsy.Take it as a whole – do not break, chew or crush them.\n",
      "========================================================================================================================\n",
      "Summary of the article -  250\n",
      "These are usually temporary and subside with the completion of treatment.Azithral 250mg DT Tablet is an antibiotic used to treat various types of bacterial infections of the respiratory tract, ear, nose, throat, lungs, skin, and eye in adults and children.It is also effective in typhoid fever and some sexually transmitted diseases like gonorrhea.Azithral 250mg DT Tablet is a broad-spectrum type of antibiotic effective in killing many types of gram-positive bacteria, some types of gram-negative bacteria and other microorganisms.\n",
      "========================================================================================================================\n",
      "Summary of the article -  251\n",
      "Amlosafe 5 Tablet belongs to a class of medicines known as a calcium channel blockers.The dose depends on what you are taking it for and the severity of your condition.Pregnant or breastfeeding women should also consult their doctor for advice before taking this medicine.\n",
      "========================================================================================================================\n",
      "Summary of the article -  252\n"
     ]
    },
    {
     "name": "stderr",
     "output_type": "stream",
     "text": [
      "C:\\Users\\user\\AppData\\Local\\Temp\\ipykernel_11440\\2821205942.py:13: FutureWarning: The default value of regex will change from True to False in a future version.\n",
      "  clean_sentences = pd.Series(sentences).str.replace(\"[^a-z A-Z 0-9]\", \" \")\n",
      "C:\\Users\\user\\AppData\\Local\\Temp\\ipykernel_11440\\2821205942.py:13: FutureWarning: The default value of regex will change from True to False in a future version.\n",
      "  clean_sentences = pd.Series(sentences).str.replace(\"[^a-z A-Z 0-9]\", \" \")\n",
      "C:\\Users\\user\\AppData\\Local\\Temp\\ipykernel_11440\\2821205942.py:13: FutureWarning: The default value of regex will change from True to False in a future version.\n",
      "  clean_sentences = pd.Series(sentences).str.replace(\"[^a-z A-Z 0-9]\", \" \")\n",
      "C:\\Users\\user\\AppData\\Local\\Temp\\ipykernel_11440\\2821205942.py:13: FutureWarning: The default value of regex will change from True to False in a future version.\n",
      "  clean_sentences = pd.Series(sentences).str.replace(\"[^a-z A-Z 0-9]\", \" \")\n"
     ]
    },
    {
     "name": "stdout",
     "output_type": "stream",
     "text": [
      "It relieves allergic symptoms such as sneezing, running nose, watery eyes, itching, swelling, and congestion or stiffness.Most of these are temporary and usually resolve with time.It is beneficial to have plenty of fluids while taking this medication.\n",
      "========================================================================================================================\n",
      "Summary of the article -  253\n",
      "Common side effects of this medicine include constipation, flatulence, dyspepsia, and abdominal pain.It can be taken with a meal or on an empty stomach.Consult your doctor if they persist or if you notice any yellowing of your eyes or get repeated or unexplained muscle pains.\n",
      "========================================================================================================================\n",
      "Summary of the article -  254\n",
      "It is used to treat infections of the lungs (e.g., pneumonia), ear, nasal sinus, urinary tract, skin and soft tissue.You should take it regularly at evenly spaced intervals as per the schedule prescribed by your doctor.Advent 228.5mg Dry Syrup is a penicillin-type of antibiotic that helps your body fight infections caused by bacteria.\n",
      "========================================================================================================================\n",
      "Summary of the article -  255\n",
      "Signs of this include rash, swelling of the lips, throat or face, swallowing or breathing problems, feeling dizzy or faint and nausea.Auxerg Cream is an antifungal medicine used to treat fungal infections of the skin.Occasionally it can cause thinning of your hair.\n",
      "========================================================================================================================\n",
      "Summary of the article -  256\n",
      "There may be ways of reducing or preventing them.It should be taken as your doctor's advice.If these bother you or appear serious, let your doctor know.\n",
      "========================================================================================================================\n",
      "Summary of the article -  257\n"
     ]
    },
    {
     "name": "stderr",
     "output_type": "stream",
     "text": [
      "C:\\Users\\user\\AppData\\Local\\Temp\\ipykernel_11440\\2821205942.py:13: FutureWarning: The default value of regex will change from True to False in a future version.\n",
      "  clean_sentences = pd.Series(sentences).str.replace(\"[^a-z A-Z 0-9]\", \" \")\n",
      "C:\\Users\\user\\AppData\\Local\\Temp\\ipykernel_11440\\2821205942.py:13: FutureWarning: The default value of regex will change from True to False in a future version.\n",
      "  clean_sentences = pd.Series(sentences).str.replace(\"[^a-z A-Z 0-9]\", \" \")\n",
      "C:\\Users\\user\\AppData\\Local\\Temp\\ipykernel_11440\\2821205942.py:13: FutureWarning: The default value of regex will change from True to False in a future version.\n",
      "  clean_sentences = pd.Series(sentences).str.replace(\"[^a-z A-Z 0-9]\", \" \")\n",
      "C:\\Users\\user\\AppData\\Local\\Temp\\ipykernel_11440\\2821205942.py:13: FutureWarning: The default value of regex will change from True to False in a future version.\n",
      "  clean_sentences = pd.Series(sentences).str.replace(\"[^a-z A-Z 0-9]\", \" \")\n",
      "C:\\Users\\user\\AppData\\Local\\Temp\\ipykernel_11440\\2821205942.py:13: FutureWarning: The default value of regex will change from True to False in a future version.\n",
      "  clean_sentences = pd.Series(sentences).str.replace(\"[^a-z A-Z 0-9]\", \" \")\n"
     ]
    },
    {
     "name": "stdout",
     "output_type": "stream",
     "text": [
      "It minimizes oil production and helps to reduce inflammation.Consult your doctor if they bother you or do not go away.It also kills acne-causing microorganisms and prevents infection.\n",
      "========================================================================================================================\n",
      "Summary of the article -  258\n",
      "Do not use a bottle if the seal is broken before you open it.This could infect your eye.Always wash your hands and do not touch the end of the dropper.\n",
      "========================================================================================================================\n",
      "Summary of the article -  259\n",
      "Common side effects of this medicine include constipation, flatulence, dyspepsia, and abdominal pain.It can be taken with a meal or on an empty stomach.Consult your doctor if they persist or if you notice any yellowing of your eyes or get repeated or unexplained muscle pains.\n",
      "========================================================================================================================\n",
      "Summary of the article -  260\n",
      "Pregnant or breastfeeding women should also consult their doctor for advice before taking this medicine.This might raise the level of potassium in the blood, hence avoid potassium rich food or supplements.Amlong-A Tablet is used to treat hypertension (high blood pressure).\n",
      "========================================================================================================================\n",
      "Summary of the article -  261\n",
      "It is used to treat infections of the lungs (e.g., pneumonia), ear, nasal sinus, urinary tract, skin and soft tissue.You should take it regularly at evenly spaced intervals as per the schedule prescribed by your doctor.Augpen 625 BID Tablet is a penicillin-type of antibiotic that helps your body fight infections caused by bacteria.\n",
      "========================================================================================================================\n",
      "Summary of the article -  262\n"
     ]
    },
    {
     "name": "stderr",
     "output_type": "stream",
     "text": [
      "C:\\Users\\user\\AppData\\Local\\Temp\\ipykernel_11440\\2821205942.py:13: FutureWarning: The default value of regex will change from True to False in a future version.\n",
      "  clean_sentences = pd.Series(sentences).str.replace(\"[^a-z A-Z 0-9]\", \" \")\n",
      "C:\\Users\\user\\AppData\\Local\\Temp\\ipykernel_11440\\2821205942.py:13: FutureWarning: The default value of regex will change from True to False in a future version.\n",
      "  clean_sentences = pd.Series(sentences).str.replace(\"[^a-z A-Z 0-9]\", \" \")\n",
      "C:\\Users\\user\\AppData\\Local\\Temp\\ipykernel_11440\\2821205942.py:13: FutureWarning: The default value of regex will change from True to False in a future version.\n",
      "  clean_sentences = pd.Series(sentences).str.replace(\"[^a-z A-Z 0-9]\", \" \")\n",
      "C:\\Users\\user\\AppData\\Local\\Temp\\ipykernel_11440\\2821205942.py:13: FutureWarning: The default value of regex will change from True to False in a future version.\n",
      "  clean_sentences = pd.Series(sentences).str.replace(\"[^a-z A-Z 0-9]\", \" \")\n",
      "C:\\Users\\user\\AppData\\Local\\Temp\\ipykernel_11440\\2821205942.py:13: FutureWarning: The default value of regex will change from True to False in a future version.\n",
      "  clean_sentences = pd.Series(sentences).str.replace(\"[^a-z A-Z 0-9]\", \" \")\n"
     ]
    },
    {
     "name": "stdout",
     "output_type": "stream",
     "text": [
      "Afoglip Tablet is a medicine used to treat type 2 diabetes mellitus.Pregnant or breastfeeding women should also consult their doctor before taking it.This is usually minor and improves with time.\n",
      "========================================================================================================================\n",
      "Summary of the article -  263\n",
      "Acogut Tablet is used in the treatment of indigestion.Most of these are temporary and usually resolve with time.Contact your doctor straight away if you are at all concerned about any of these side effects.\n",
      "========================================================================================================================\n",
      "Summary of the article -  264\n",
      "Alkamax MB 6 Syrup is a combination of three medicines.It is used in the treatment and prevention of kidney stones.Pregnant and breastfeeding women should consult their doctors before using this medicine.\n",
      "========================================================================================================================\n",
      "Summary of the article -  265\n",
      "Pregnant or breastfeeding women should consult their doctor.Acuvert Tablet is used to treat nausea, vomiting and dizziness due to ear diseases (Meniere’s syndrome).This is temporary and usually resolves with time.\n",
      "========================================================================================================================\n",
      "Summary of the article -  266\n",
      "Pregnant or breastfeeding women should consult their doctor before taking this medicine.Acton-OR Tablet SR is a medicine used in the treatment of pain and fever.It may affect the dose or suitability of this medicine.\n",
      "========================================================================================================================\n",
      "Summary of the article -  267\n",
      "Acitrom 4 Tablet is an oral anticoagulant which helps to prevent formation of harmful blood clots in the legs, lungs, brain and heart.It is used for deep vein thrombosis, pulmonary embolism and stroke prevention.Acitrom 4 Tablet should be taken as advised by the doctor.This medicine should not be stopped abruptly without consulting the doctor.\n",
      "========================================================================================================================\n",
      "Summary of the article -  268\n"
     ]
    },
    {
     "name": "stderr",
     "output_type": "stream",
     "text": [
      "C:\\Users\\user\\AppData\\Local\\Temp\\ipykernel_11440\\2821205942.py:13: FutureWarning: The default value of regex will change from True to False in a future version.\n",
      "  clean_sentences = pd.Series(sentences).str.replace(\"[^a-z A-Z 0-9]\", \" \")\n",
      "C:\\Users\\user\\AppData\\Local\\Temp\\ipykernel_11440\\2821205942.py:13: FutureWarning: The default value of regex will change from True to False in a future version.\n",
      "  clean_sentences = pd.Series(sentences).str.replace(\"[^a-z A-Z 0-9]\", \" \")\n",
      "C:\\Users\\user\\AppData\\Local\\Temp\\ipykernel_11440\\2821205942.py:13: FutureWarning: The default value of regex will change from True to False in a future version.\n",
      "  clean_sentences = pd.Series(sentences).str.replace(\"[^a-z A-Z 0-9]\", \" \")\n",
      "C:\\Users\\user\\AppData\\Local\\Temp\\ipykernel_11440\\2821205942.py:13: FutureWarning: The default value of regex will change from True to False in a future version.\n",
      "  clean_sentences = pd.Series(sentences).str.replace(\"[^a-z A-Z 0-9]\", \" \")\n",
      "C:\\Users\\user\\AppData\\Local\\Temp\\ipykernel_11440\\2821205942.py:13: FutureWarning: The default value of regex will change from True to False in a future version.\n",
      "  clean_sentences = pd.Series(sentences).str.replace(\"[^a-z A-Z 0-9]\", \" \")\n",
      "C:\\Users\\user\\AppData\\Local\\Temp\\ipykernel_11440\\2821205942.py:13: FutureWarning: The default value of regex will change from True to False in a future version.\n",
      "  clean_sentences = pd.Series(sentences).str.replace(\"[^a-z A-Z 0-9]\", \" \")\n"
     ]
    },
    {
     "name": "stdout",
     "output_type": "stream",
     "text": [
      "It works by protecting the nerve fibers against damage, repairing the damaged nerves.Take this medicine in the dose and duration advised by your doctor.Inform your doctor if you develop any unusual changes in mood or behavior, new or worsening depression, or suicidal thoughts or behavior.\n",
      "========================================================================================================================\n",
      "Summary of the article -  269\n",
      "It may not be suitable.Amaryl M Forte 2mg Tablet PR belongs to a category of medicines known as anti-diabetic drugs.Pregnant or breastfeeding women should also consult their doctor before taking it.\n",
      "========================================================================================================================\n",
      "Summary of the article -  270\n",
      "Follow your doctor’s instructions.Ideally, a pinpoint application at nighttime is recommended for the duration prescribed by your doctor.It is advised, not to have any waxing (hair removal), or laser treatments during treatment.\n",
      "========================================================================================================================\n",
      "Summary of the article -  271\n",
      "Asthenia is a condition in which there is generalized tiredness and weakness that persists for a long term.Arcalion Tablet is a prescription medicine indicated for the treatment of asthenia.Please consult your doctor if these worry you or do not go away.\n",
      "========================================================================================================================\n",
      "Summary of the article -  272\n",
      "It is effective in most infections of the respiratory tract, ear, nose, throat, lungs, and skin.These are usually temporary and subside with the completion of treatment.Pregnant or breastfeeding women should consult their doctor before using this medicine.\n",
      "========================================================================================================================\n",
      "Summary of the article -  273\n"
     ]
    },
    {
     "name": "stderr",
     "output_type": "stream",
     "text": [
      "C:\\Users\\user\\AppData\\Local\\Temp\\ipykernel_11440\\2821205942.py:13: FutureWarning: The default value of regex will change from True to False in a future version.\n",
      "  clean_sentences = pd.Series(sentences).str.replace(\"[^a-z A-Z 0-9]\", \" \")\n",
      "C:\\Users\\user\\AppData\\Local\\Temp\\ipykernel_11440\\2821205942.py:13: FutureWarning: The default value of regex will change from True to False in a future version.\n",
      "  clean_sentences = pd.Series(sentences).str.replace(\"[^a-z A-Z 0-9]\", \" \")\n",
      "C:\\Users\\user\\AppData\\Local\\Temp\\ipykernel_11440\\2821205942.py:13: FutureWarning: The default value of regex will change from True to False in a future version.\n",
      "  clean_sentences = pd.Series(sentences).str.replace(\"[^a-z A-Z 0-9]\", \" \")\n",
      "C:\\Users\\user\\AppData\\Local\\Temp\\ipykernel_11440\\2821205942.py:13: FutureWarning: The default value of regex will change from True to False in a future version.\n",
      "  clean_sentences = pd.Series(sentences).str.replace(\"[^a-z A-Z 0-9]\", \" \")\n",
      "C:\\Users\\user\\AppData\\Local\\Temp\\ipykernel_11440\\2821205942.py:13: FutureWarning: The default value of regex will change from True to False in a future version.\n",
      "  clean_sentences = pd.Series(sentences).str.replace(\"[^a-z A-Z 0-9]\", \" \")\n",
      "C:\\Users\\user\\AppData\\Local\\Temp\\ipykernel_11440\\2821205942.py:13: FutureWarning: The default value of regex will change from True to False in a future version.\n",
      "  clean_sentences = pd.Series(sentences).str.replace(\"[^a-z A-Z 0-9]\", \" \")\n",
      "C:\\Users\\user\\AppData\\Local\\Temp\\ipykernel_11440\\2821205942.py:13: FutureWarning: The default value of regex will change from True to False in a future version.\n",
      "  clean_sentences = pd.Series(sentences).str.replace(\"[^a-z A-Z 0-9]\", \" \")\n",
      "C:\\Users\\user\\AppData\\Local\\Temp\\ipykernel_11440\\2821205942.py:13: FutureWarning: The default value of regex will change from True to False in a future version.\n",
      "  clean_sentences = pd.Series(sentences).str.replace(\"[^a-z A-Z 0-9]\", \" \")\n",
      "C:\\Users\\user\\AppData\\Local\\Temp\\ipykernel_11440\\2821205942.py:13: FutureWarning: The default value of regex will change from True to False in a future version.\n",
      "  clean_sentences = pd.Series(sentences).str.replace(\"[^a-z A-Z 0-9]\", \" \")\n"
     ]
    },
    {
     "name": "stdout",
     "output_type": "stream",
     "text": [
      "Apply it only in the mouth with clean hands.However, if you experience any allergic reactions such as itching, swelling, rashes, etc., you should consult the doctor immediately.Anabel Liquid Gel is a combination of two medicines is used to treat mouth ulcers.\n",
      "========================================================================================================================\n",
      "Summary of the article -  274\n",
      "This slows down the progression of your illness.Assurans Tablet belongs to a group of medicines known as phosphodiesterase type 5 (PDE 5) inhibitors.It relieves breathlessness and improves exercise capacity in men and women.Follow the advice of your doctor.\n",
      "========================================================================================================================\n",
      "Summary of the article -  275\n",
      "If you experience any allergic reaction (rashes, itching, swelling, shortness of breath, etc.It fights against the microorganisms to prevent their growth and further spread of the infection.It usually does not impair your ability to drive, but you should not drive if it makes you feel sleepy or dizzy.\n",
      "========================================================================================================================\n",
      "Summary of the article -  276\n",
      "Common side effects of this medicine include constipation, flatulence, dyspepsia, and abdominal pain.It can be taken with a meal or on an empty stomach.Consult your doctor if they persist or if you notice any yellowing of your eyes or get repeated or unexplained muscle pains.\n",
      "========================================================================================================================\n",
      "Summary of the article -  277\n",
      "Pregnant or breastfeeding mothers should also consult their doctor before taking it.This may be associated with headache.Let your doctor know if these side effects bother you or do not go away.\n",
      "========================================================================================================================\n",
      "Summary of the article -  278\n",
      "These are usually temporary and subside with the completion of treatment.Pregnant or breastfeeding women should consult their doctor before using this medicine.It should be used regularly at evenly spaced time intervals as prescribed by your doctor.\n",
      "========================================================================================================================\n",
      "Summary of the article -  279\n",
      "Amlogard 5mg Tablet belongs to a class of medicines known as a calcium channel blockers.The dose depends on what you are taking it for and the severity of your condition.Pregnant or breastfeeding women should also consult their doctor for advice before taking this medicine.\n",
      "========================================================================================================================\n",
      "Summary of the article -  280\n",
      "It is beneficial to have plenty of fluids while taking this medication.Most of these are temporary and usually resolve with time.You should also tell your doctor if you are pregnant, planning pregnancy or breastfeeding.\n",
      "========================================================================================================================\n",
      "Summary of the article -  281\n",
      "Consult your doctor if you are breastfeeding mother.The most common are headache, itching or irritation of the scalp.Clean and dry your scalp before using it.\n",
      "========================================================================================================================\n",
      "Summary of the article -  282\n",
      "If you get watery diarrhea with fever or stomach pain that persists, then you should consult your doctor.However, these are temporary and usually resolve on their own.Anxipan Capsule is a combination of two medicines used to treat anxiety, acidity, and heartburn.\n",
      "========================================================================================================================\n",
      "Summary of the article -  283\n"
     ]
    },
    {
     "name": "stderr",
     "output_type": "stream",
     "text": [
      "C:\\Users\\user\\AppData\\Local\\Temp\\ipykernel_11440\\2821205942.py:13: FutureWarning: The default value of regex will change from True to False in a future version.\n",
      "  clean_sentences = pd.Series(sentences).str.replace(\"[^a-z A-Z 0-9]\", \" \")\n",
      "C:\\Users\\user\\AppData\\Local\\Temp\\ipykernel_11440\\2821205942.py:13: FutureWarning: The default value of regex will change from True to False in a future version.\n",
      "  clean_sentences = pd.Series(sentences).str.replace(\"[^a-z A-Z 0-9]\", \" \")\n",
      "C:\\Users\\user\\AppData\\Local\\Temp\\ipykernel_11440\\2821205942.py:13: FutureWarning: The default value of regex will change from True to False in a future version.\n",
      "  clean_sentences = pd.Series(sentences).str.replace(\"[^a-z A-Z 0-9]\", \" \")\n",
      "C:\\Users\\user\\AppData\\Local\\Temp\\ipykernel_11440\\2821205942.py:13: FutureWarning: The default value of regex will change from True to False in a future version.\n",
      "  clean_sentences = pd.Series(sentences).str.replace(\"[^a-z A-Z 0-9]\", \" \")\n",
      "C:\\Users\\user\\AppData\\Local\\Temp\\ipykernel_11440\\2821205942.py:13: FutureWarning: The default value of regex will change from True to False in a future version.\n",
      "  clean_sentences = pd.Series(sentences).str.replace(\"[^a-z A-Z 0-9]\", \" \")\n",
      "C:\\Users\\user\\AppData\\Local\\Temp\\ipykernel_11440\\2821205942.py:13: FutureWarning: The default value of regex will change from True to False in a future version.\n",
      "  clean_sentences = pd.Series(sentences).str.replace(\"[^a-z A-Z 0-9]\", \" \")\n",
      "C:\\Users\\user\\AppData\\Local\\Temp\\ipykernel_11440\\2821205942.py:13: FutureWarning: The default value of regex will change from True to False in a future version.\n",
      "  clean_sentences = pd.Series(sentences).str.replace(\"[^a-z A-Z 0-9]\", \" \")\n",
      "C:\\Users\\user\\AppData\\Local\\Temp\\ipykernel_11440\\2821205942.py:13: FutureWarning: The default value of regex will change from True to False in a future version.\n",
      "  clean_sentences = pd.Series(sentences).str.replace(\"[^a-z A-Z 0-9]\", \" \")\n",
      "C:\\Users\\user\\AppData\\Local\\Temp\\ipykernel_11440\\2821205942.py:13: FutureWarning: The default value of regex will change from True to False in a future version.\n",
      "  clean_sentences = pd.Series(sentences).str.replace(\"[^a-z A-Z 0-9]\", \" \")\n",
      "C:\\Users\\user\\AppData\\Local\\Temp\\ipykernel_11440\\2821205942.py:13: FutureWarning: The default value of regex will change from True to False in a future version.\n",
      "  clean_sentences = pd.Series(sentences).str.replace(\"[^a-z A-Z 0-9]\", \" \")\n"
     ]
    },
    {
     "name": "stdout",
     "output_type": "stream",
     "text": [
      "Allegra 30mg Tablet belongs to a group of medicines called antihistamines.It also relieves watery eyes, runny nose, sneezing, and itching.Allegra 30mg Tablet should be taken on an empty stomach.It is used to treat various allergic conditions such as hay fever, conjunctivitis and some skin reactions such as eczema, hives and reactions to bites and stings.\n",
      "========================================================================================================================\n",
      "Summary of the article -  284\n",
      "Pregnant or breastfeeding women should also consult their doctor before taking it.The dose will depend on your condition and how you respond to the medicine.It lowers the blood pressure by relaxing the blood vessels and making it easier for your heart to pump blood around your body.\n",
      "========================================================================================================================\n",
      "Summary of the article -  285\n",
      "The dose will depend on your condition and how you respond to the medicine.Consult your doctor If any of these bother you, or get worse, or won't go away.Try to take it at the same time each day.\n",
      "========================================================================================================================\n",
      "Summary of the article -  286\n",
      "If it gets into your eyes, nose, and mouth rinse with water.You must consult the doctor if you experience any allergic reaction (rashes, itching, swelling, shortness of breath, etc.Pregnant and breastfeeding women should consult with the doctor before taking this medicine.\n",
      "========================================================================================================================\n",
      "Summary of the article -  287\n",
      "Amodep 5 Tablet belongs to a class of medicines known as a calcium channel blockers.The dose depends on what you are taking it for and the severity of your condition.Pregnant or breastfeeding women should also consult their doctor for advice before taking this medicine.\n",
      "========================================================================================================================\n",
      "Summary of the article -  288\n"
     ]
    },
    {
     "name": "stderr",
     "output_type": "stream",
     "text": [
      "C:\\Users\\user\\AppData\\Local\\Temp\\ipykernel_11440\\2821205942.py:13: FutureWarning: The default value of regex will change from True to False in a future version.\n",
      "  clean_sentences = pd.Series(sentences).str.replace(\"[^a-z A-Z 0-9]\", \" \")\n",
      "C:\\Users\\user\\AppData\\Local\\Temp\\ipykernel_11440\\2821205942.py:13: FutureWarning: The default value of regex will change from True to False in a future version.\n",
      "  clean_sentences = pd.Series(sentences).str.replace(\"[^a-z A-Z 0-9]\", \" \")\n",
      "C:\\Users\\user\\AppData\\Local\\Temp\\ipykernel_11440\\2821205942.py:13: FutureWarning: The default value of regex will change from True to False in a future version.\n",
      "  clean_sentences = pd.Series(sentences).str.replace(\"[^a-z A-Z 0-9]\", \" \")\n",
      "C:\\Users\\user\\AppData\\Local\\Temp\\ipykernel_11440\\2821205942.py:13: FutureWarning: The default value of regex will change from True to False in a future version.\n",
      "  clean_sentences = pd.Series(sentences).str.replace(\"[^a-z A-Z 0-9]\", \" \")\n"
     ]
    },
    {
     "name": "stdout",
     "output_type": "stream",
     "text": [
      "It prevents the formation of small pimples, blackheads and whiteheads on the skin.It is advised not to have any cosmetic procedures during the treatment.Apgel is a medication used in the treatment of mild to moderate acne.\n",
      "========================================================================================================================\n",
      "Summary of the article -  289\n",
      "It relieves allergy symptoms such as runny nose, stuffy nose, sneezing, watery eyes and congestion or stuffiness.Ascoril Flu Drops is taken with or without food in a dose and duration as advised by the doctor.You should also tell your doctor if you are pregnant, planning pregnancy or breastfeeding.Most of these are temporary and usually resolve with time.\n",
      "========================================================================================================================\n",
      "Summary of the article -  290\n",
      "These are usually temporary and subside with the completion of treatment.Azikem 500mg Tablet is an antibiotic used to treat various types of bacterial infections of the respiratory tract, ear, nose, throat, lungs, skin, and eye in adults and children.It is also effective in typhoid fever and some sexually transmitted diseases like gonorrhea.Azikem 500mg Tablet is a broad-spectrum type of antibiotic effective in killing many types of gram-positive bacteria, some types of gram-negative bacteria and other microorganisms.\n",
      "========================================================================================================================\n",
      "Summary of the article -  291\n",
      "It may be increased gradually.It is normally taken before bedtime because it can make you feel sleepy.Amitop 10 Tablet is used in the treatment of depression.\n",
      "========================================================================================================================\n",
      "Summary of the article -  292\n"
     ]
    },
    {
     "name": "stderr",
     "output_type": "stream",
     "text": [
      "C:\\Users\\user\\AppData\\Local\\Temp\\ipykernel_11440\\2821205942.py:13: FutureWarning: The default value of regex will change from True to False in a future version.\n",
      "  clean_sentences = pd.Series(sentences).str.replace(\"[^a-z A-Z 0-9]\", \" \")\n",
      "C:\\Users\\user\\AppData\\Local\\Temp\\ipykernel_11440\\2821205942.py:13: FutureWarning: The default value of regex will change from True to False in a future version.\n",
      "  clean_sentences = pd.Series(sentences).str.replace(\"[^a-z A-Z 0-9]\", \" \")\n",
      "C:\\Users\\user\\AppData\\Local\\Temp\\ipykernel_11440\\2821205942.py:13: FutureWarning: The default value of regex will change from True to False in a future version.\n",
      "  clean_sentences = pd.Series(sentences).str.replace(\"[^a-z A-Z 0-9]\", \" \")\n",
      "C:\\Users\\user\\AppData\\Local\\Temp\\ipykernel_11440\\2821205942.py:13: FutureWarning: The default value of regex will change from True to False in a future version.\n",
      "  clean_sentences = pd.Series(sentences).str.replace(\"[^a-z A-Z 0-9]\", \" \")\n",
      "C:\\Users\\user\\AppData\\Local\\Temp\\ipykernel_11440\\2821205942.py:13: FutureWarning: The default value of regex will change from True to False in a future version.\n",
      "  clean_sentences = pd.Series(sentences).str.replace(\"[^a-z A-Z 0-9]\", \" \")\n"
     ]
    },
    {
     "name": "stdout",
     "output_type": "stream",
     "text": [
      "The dose will be decided by your doctor.Some people may develop fungal infections in the genital area.Don’t stop taking it without asking your doctor.\n",
      "========================================================================================================================\n",
      "Summary of the article -  293\n",
      "Anafortan Injection is used to treat abdominal cramps.Most of these are temporary and usually resolve with time.Pregnant or breastfeeding women should also consult their doctor before taking this medicine.\n",
      "========================================================================================================================\n",
      "Summary of the article -  294\n",
      "Pregnant or breastfeeding women should also consult their doctor for advice before taking this medicine.This might raise the level of potassium in the blood, hence avoid potassium rich food or supplements.Keep taking it for as long as advised by your doctor.\n",
      "========================================================================================================================\n",
      "Summary of the article -  295\n",
      "Avas 10 Tablet belongs to a group of medicines called statins.Common side effects of this medicine include constipation, flatulence, dyspepsia, and abdominal pain.It can be taken with a meal or on an empty stomach.\n",
      "========================================================================================================================\n",
      "Summary of the article -  296\n",
      "Allercet Cold Tablet is used in the treatment of common cold symptoms like runny nose, stuffy nose, sneezing, watery eyes and congestion or stuffiness.You should also tell your doctor if you are pregnant, planning pregnancy or breastfeeding.Most of these are temporary and usually resolve with time.\n",
      "========================================================================================================================\n",
      "Summary of the article -  297\n"
     ]
    },
    {
     "name": "stderr",
     "output_type": "stream",
     "text": [
      "C:\\Users\\user\\AppData\\Local\\Temp\\ipykernel_11440\\2821205942.py:13: FutureWarning: The default value of regex will change from True to False in a future version.\n",
      "  clean_sentences = pd.Series(sentences).str.replace(\"[^a-z A-Z 0-9]\", \" \")\n",
      "C:\\Users\\user\\AppData\\Local\\Temp\\ipykernel_11440\\2821205942.py:13: FutureWarning: The default value of regex will change from True to False in a future version.\n",
      "  clean_sentences = pd.Series(sentences).str.replace(\"[^a-z A-Z 0-9]\", \" \")\n",
      "C:\\Users\\user\\AppData\\Local\\Temp\\ipykernel_11440\\2821205942.py:13: FutureWarning: The default value of regex will change from True to False in a future version.\n",
      "  clean_sentences = pd.Series(sentences).str.replace(\"[^a-z A-Z 0-9]\", \" \")\n",
      "C:\\Users\\user\\AppData\\Local\\Temp\\ipykernel_11440\\2821205942.py:13: FutureWarning: The default value of regex will change from True to False in a future version.\n",
      "  clean_sentences = pd.Series(sentences).str.replace(\"[^a-z A-Z 0-9]\", \" \")\n"
     ]
    },
    {
     "name": "stdout",
     "output_type": "stream",
     "text": [
      "It is used to treat various allergic conditions such as hay fever, conjunctivitis and some skin reactions such as eczema, hives, and reactions to bites and stings.It relieves watery eyes, runny nose, sneezing, and itching.Air 180 Tablet should be taken empty stomach.Air 180 Tablet belongs to a group of medicines called antihistamines.\n",
      "========================================================================================================================\n",
      "Summary of the article -  298\n",
      "Pregnant or breastfeeding women should also consult their doctor before taking it.The dose will depend on your condition and how you respond to the medicine.It lowers the blood pressure by relaxing the blood vessels and making it easier for your heart to pump blood around your body.\n",
      "========================================================================================================================\n",
      "Summary of the article -  299\n",
      "It may be increased gradually.It is normally taken before bedtime because it can make you feel sleepy.Amitryn 10 Tablet is used in the treatment of depression.\n",
      "========================================================================================================================\n",
      "Summary of the article -  300\n",
      "It is effective in infections of the throat, ear, nasal sinuses, respiratory tract (eg.You should take it regularly at evenly spaced intervals as per the schedule prescribed by your doctor.These are temporary and usually resolve quickly.\n",
      "========================================================================================================================\n",
      "Summary of the article -  301\n",
      "Pregnant or breastfeeding women should also consult their doctor for advice before taking this medicine.This might raise the level of potassium in the blood, hence avoid potassium rich food or supplements.Amlosafe-AT Tablet is used to treat hypertension (high blood pressure).\n",
      "========================================================================================================================\n",
      "Summary of the article -  302\n",
      "It is used to treat infections of the lungs (e.g., pneumonia), ear, nasal sinus, urinary tract, skin and soft tissue.You should take it regularly at evenly spaced intervals as per the schedule prescribed by your doctor.Advent 625 Tablet is a penicillin-type of antibiotic that helps your body fight infections caused by bacteria.\n",
      "========================================================================================================================\n",
      "Summary of the article -  303\n",
      "Alex-L Cough Syrup Mango is an antitussive medicine.There may be ways of reducing or preventing them.It is used for the treatment of dry cough.\n",
      "========================================================================================================================\n",
      "Summary of the article -  304\n",
      "It helps to prevent the formation of blood clots in your blood vessels.It is usually not recommended in later stages of pregnancy and while breastfeeding.Avoid drinking alcohol while you are taking this medicine.\n",
      "========================================================================================================================\n",
      "Summary of the article -  305\n"
     ]
    },
    {
     "name": "stderr",
     "output_type": "stream",
     "text": [
      "C:\\Users\\user\\AppData\\Local\\Temp\\ipykernel_11440\\2821205942.py:13: FutureWarning: The default value of regex will change from True to False in a future version.\n",
      "  clean_sentences = pd.Series(sentences).str.replace(\"[^a-z A-Z 0-9]\", \" \")\n",
      "C:\\Users\\user\\AppData\\Local\\Temp\\ipykernel_11440\\2821205942.py:13: FutureWarning: The default value of regex will change from True to False in a future version.\n",
      "  clean_sentences = pd.Series(sentences).str.replace(\"[^a-z A-Z 0-9]\", \" \")\n",
      "C:\\Users\\user\\AppData\\Local\\Temp\\ipykernel_11440\\2821205942.py:13: FutureWarning: The default value of regex will change from True to False in a future version.\n",
      "  clean_sentences = pd.Series(sentences).str.replace(\"[^a-z A-Z 0-9]\", \" \")\n",
      "C:\\Users\\user\\AppData\\Local\\Temp\\ipykernel_11440\\2821205942.py:13: FutureWarning: The default value of regex will change from True to False in a future version.\n",
      "  clean_sentences = pd.Series(sentences).str.replace(\"[^a-z A-Z 0-9]\", \" \")\n",
      "C:\\Users\\user\\AppData\\Local\\Temp\\ipykernel_11440\\2821205942.py:13: FutureWarning: The default value of regex will change from True to False in a future version.\n",
      "  clean_sentences = pd.Series(sentences).str.replace(\"[^a-z A-Z 0-9]\", \" \")\n"
     ]
    },
    {
     "name": "stdout",
     "output_type": "stream",
     "text": [
      "It is used in the treatment of psoriasis.Most of these are temporary and usually resolve with time.You should tell your doctor if you have any kidney or liver diseases so that your doctor can prescribe a suitable dose for you.\n",
      "========================================================================================================================\n",
      "Summary of the article -  306\n",
      "It must be administered as an injection by healthcare professionals and should not be self-administered.The dosage depends on what you are being treated for.Follow the advice of your doctor while taking the medicine.\n",
      "========================================================================================================================\n",
      "Summary of the article -  307\n",
      "It thins the mucus in the nose and windpipe, making it easier to cough out.Advanced LCF Kid Expectorant is a combination medicine used to treat cough.Most of these are temporary and usually resolve with time.\n",
      "========================================================================================================================\n",
      "Summary of the article -  308\n",
      "It is effective in infections of the throat, ear, nasal sinuses, respiratory tract (eg.You should take it regularly at evenly spaced intervals as per the schedule prescribed by your doctor.These are temporary and usually resolve quickly.\n",
      "========================================================================================================================\n",
      "Summary of the article -  309\n"
     ]
    },
    {
     "name": "stderr",
     "output_type": "stream",
     "text": [
      "C:\\Users\\user\\AppData\\Local\\Temp\\ipykernel_11440\\2821205942.py:13: FutureWarning: The default value of regex will change from True to False in a future version.\n",
      "  clean_sentences = pd.Series(sentences).str.replace(\"[^a-z A-Z 0-9]\", \" \")\n",
      "C:\\Users\\user\\AppData\\Local\\Temp\\ipykernel_11440\\2821205942.py:13: FutureWarning: The default value of regex will change from True to False in a future version.\n",
      "  clean_sentences = pd.Series(sentences).str.replace(\"[^a-z A-Z 0-9]\", \" \")\n",
      "C:\\Users\\user\\AppData\\Local\\Temp\\ipykernel_11440\\2821205942.py:13: FutureWarning: The default value of regex will change from True to False in a future version.\n",
      "  clean_sentences = pd.Series(sentences).str.replace(\"[^a-z A-Z 0-9]\", \" \")\n",
      "C:\\Users\\user\\AppData\\Local\\Temp\\ipykernel_11440\\2821205942.py:13: FutureWarning: The default value of regex will change from True to False in a future version.\n",
      "  clean_sentences = pd.Series(sentences).str.replace(\"[^a-z A-Z 0-9]\", \" \")\n"
     ]
    },
    {
     "name": "stdout",
     "output_type": "stream",
     "text": [
      "These are usually temporary and subside with the completion of treatment.Pregnant or breastfeeding women should consult their doctor before using this medicine.It should be used regularly at evenly spaced time intervals as prescribed by your doctor.\n",
      "========================================================================================================================\n",
      "Summary of the article -  310\n",
      "It is advised, not to have any waxing (hair removal), or laser treatments during treatment.Acutret 20 Capsule belongs to a group of medicines called retinoids, which are closely related to vitamin A derivative.It is used to treat severe acne that has not responded to other treatments.\n",
      "========================================================================================================================\n",
      "Summary of the article -  311\n",
      "It should be taken 20-30 minutes before a meal.Do not stop taking it unless your doctor tells you to.Other side effects include reactions at the injection site like redness or swelling.\n",
      "========================================================================================================================\n",
      "Summary of the article -  312\n",
      "Drink plenty of fluids to keep yourself hydrated.Some people may experience insomnia (sleeplessness), dizziness and hallucinations.Follow the instructions carefully to get the most benefit.\n",
      "========================================================================================================================\n",
      "Summary of the article -  313\n"
     ]
    },
    {
     "name": "stderr",
     "output_type": "stream",
     "text": [
      "C:\\Users\\user\\AppData\\Local\\Temp\\ipykernel_11440\\2821205942.py:13: FutureWarning: The default value of regex will change from True to False in a future version.\n",
      "  clean_sentences = pd.Series(sentences).str.replace(\"[^a-z A-Z 0-9]\", \" \")\n",
      "C:\\Users\\user\\AppData\\Local\\Temp\\ipykernel_11440\\2821205942.py:13: FutureWarning: The default value of regex will change from True to False in a future version.\n",
      "  clean_sentences = pd.Series(sentences).str.replace(\"[^a-z A-Z 0-9]\", \" \")\n",
      "C:\\Users\\user\\AppData\\Local\\Temp\\ipykernel_11440\\2821205942.py:13: FutureWarning: The default value of regex will change from True to False in a future version.\n",
      "  clean_sentences = pd.Series(sentences).str.replace(\"[^a-z A-Z 0-9]\", \" \")\n",
      "C:\\Users\\user\\AppData\\Local\\Temp\\ipykernel_11440\\2821205942.py:13: FutureWarning: The default value of regex will change from True to False in a future version.\n",
      "  clean_sentences = pd.Series(sentences).str.replace(\"[^a-z A-Z 0-9]\", \" \")\n"
     ]
    },
    {
     "name": "stdout",
     "output_type": "stream",
     "text": [
      "Aisa  Tablet is a prescription medicine.It has a combination of vitamins that is prescribed to treat vitamin and other nutritional deficiencies.Inform your doctor if you are taking any other medicines or if you are pregnant or breastfeeding.\n",
      "========================================================================================================================\n",
      "Summary of the article -  314\n",
      "It is advised to check the label for directions before use.Wash your hands before using this medicine.Andre I-Kul Eye Drop is a prescription medicine having a combination of medicines that is used to treat allergic diseases of the eye.\n",
      "========================================================================================================================\n",
      "Summary of the article -  315\n",
      "Amlong 2.5 Tablet belongs to a class of medicines known as a calcium channel blockers.The dose depends on what you are taking it for and the severity of your condition.Pregnant or breastfeeding women should also consult their doctor for advice before taking this medicine.\n",
      "========================================================================================================================\n",
      "Summary of the article -  316\n",
      "Ambrodil Drop is used for treating various respiratory tract disorders associated with excessive mucus.It works by thinning and loosens mucus in the nose, windpipe and lungs and make it easier to cough out.Ambrodil Drop should be taken with food.For better results, it is suggested to take it at the same time every day.\n",
      "========================================================================================================================\n",
      "Summary of the article -  317\n",
      "It is either in tablet form or used as sachet.Pregnant or breastfeeding women should also consult their doctor.It should be used along with abundant liquid intake and dietary measures.\n",
      "========================================================================================================================\n",
      "Summary of the article -  318\n"
     ]
    },
    {
     "name": "stderr",
     "output_type": "stream",
     "text": [
      "C:\\Users\\user\\AppData\\Local\\Temp\\ipykernel_11440\\2821205942.py:13: FutureWarning: The default value of regex will change from True to False in a future version.\n",
      "  clean_sentences = pd.Series(sentences).str.replace(\"[^a-z A-Z 0-9]\", \" \")\n",
      "C:\\Users\\user\\AppData\\Local\\Temp\\ipykernel_11440\\2821205942.py:13: FutureWarning: The default value of regex will change from True to False in a future version.\n",
      "  clean_sentences = pd.Series(sentences).str.replace(\"[^a-z A-Z 0-9]\", \" \")\n",
      "C:\\Users\\user\\AppData\\Local\\Temp\\ipykernel_11440\\2821205942.py:13: FutureWarning: The default value of regex will change from True to False in a future version.\n",
      "  clean_sentences = pd.Series(sentences).str.replace(\"[^a-z A-Z 0-9]\", \" \")\n",
      "C:\\Users\\user\\AppData\\Local\\Temp\\ipykernel_11440\\2821205942.py:13: FutureWarning: The default value of regex will change from True to False in a future version.\n",
      "  clean_sentences = pd.Series(sentences).str.replace(\"[^a-z A-Z 0-9]\", \" \")\n",
      "C:\\Users\\user\\AppData\\Local\\Temp\\ipykernel_11440\\2821205942.py:13: FutureWarning: The default value of regex will change from True to False in a future version.\n",
      "  clean_sentences = pd.Series(sentences).str.replace(\"[^a-z A-Z 0-9]\", \" \")\n"
     ]
    }
   ],
   "source": [
    "print(\"Kindly let me know in how many sentences you want the summary - \")\n",
    "x = int(input())\n",
    "\n",
    "summary_dictionary = {}\n",
    "\n",
    "for key in text_dictionary:\n",
    "    \n",
    "    para = text_dictionary[key]\n",
    "    print(\"Summary of the article - \",key)\n",
    "    summary = summary_text(para,x)\n",
    "    summary_dictionary[key] = summary\n",
    "    \n",
    "    print(summary)\n",
    "    print('='*120)    \n",
    "    \n",
    "print (\"*\"*40,\"The process has been completed successfully\",\"*\"*40)"
   ]
  },
  {
   "cell_type": "code",
   "execution_count": null,
   "id": "df52ce04",
   "metadata": {},
   "outputs": [],
   "source": [
    "summary_table = pd.DataFrame(list(summary_dictionary.items()),columns = ['TEST DATASET','Summary'])"
   ]
  },
  {
   "cell_type": "code",
   "execution_count": 16,
   "id": "62ae8638",
   "metadata": {},
   "outputs": [],
   "source": [
    "data_table = pd.DataFrame(list(text_dictionary.items()),columns = ['TEST DATASET','Introduction'])"
   ]
  },
  {
   "cell_type": "code",
   "execution_count": 17,
   "id": "b3838fd9",
   "metadata": {},
   "outputs": [
    {
     "data": {
      "text/html": [
       "<div>\n",
       "<style scoped>\n",
       "    .dataframe tbody tr th:only-of-type {\n",
       "        vertical-align: middle;\n",
       "    }\n",
       "\n",
       "    .dataframe tbody tr th {\n",
       "        vertical-align: top;\n",
       "    }\n",
       "\n",
       "    .dataframe thead th {\n",
       "        text-align: right;\n",
       "    }\n",
       "</style>\n",
       "<table border=\"1\" class=\"dataframe\">\n",
       "  <thead>\n",
       "    <tr style=\"text-align: right;\">\n",
       "      <th></th>\n",
       "      <th>TEST DATASET</th>\n",
       "      <th>Introduction</th>\n",
       "      <th>Summary</th>\n",
       "    </tr>\n",
       "  </thead>\n",
       "  <tbody>\n",
       "    <tr>\n",
       "      <th>0</th>\n",
       "      <td>1</td>\n",
       "      <td>Acnesol Gel is an antibiotic that fights bacte...</td>\n",
       "      <td>Acnesol Gel is an antibiotic that fights bacte...</td>\n",
       "    </tr>\n",
       "    <tr>\n",
       "      <th>1</th>\n",
       "      <td>2</td>\n",
       "      <td>Ambrodil Syrup is used for treating various re...</td>\n",
       "      <td>Ambrodil Syrup is used for treating various re...</td>\n",
       "    </tr>\n",
       "    <tr>\n",
       "      <th>2</th>\n",
       "      <td>3</td>\n",
       "      <td>Augmentin 625 Duo Tablet is a penicillin-type ...</td>\n",
       "      <td>It is used to treat infections of the lungs (e...</td>\n",
       "    </tr>\n",
       "    <tr>\n",
       "      <th>3</th>\n",
       "      <td>4</td>\n",
       "      <td>Azithral 500 Tablet is an antibiotic used to t...</td>\n",
       "      <td>These are usually temporary and subside with t...</td>\n",
       "    </tr>\n",
       "    <tr>\n",
       "      <th>4</th>\n",
       "      <td>5</td>\n",
       "      <td>Alkasol Oral Solution is a medicine used in th...</td>\n",
       "      <td>This will prevent you from getting an upset st...</td>\n",
       "    </tr>\n",
       "    <tr>\n",
       "      <th>...</th>\n",
       "      <td>...</td>\n",
       "      <td>...</td>\n",
       "      <td>...</td>\n",
       "    </tr>\n",
       "    <tr>\n",
       "      <th>995</th>\n",
       "      <td>996</td>\n",
       "      <td>Azapure Tablet belongs to a group of medicines...</td>\n",
       "      <td>Swallow it as a whole,  do not crush, chew, br...</td>\n",
       "    </tr>\n",
       "    <tr>\n",
       "      <th>996</th>\n",
       "      <td>997</td>\n",
       "      <td>Arimidex 1mg Tablet  is used alone or with oth...</td>\n",
       "      <td>Swallow the tablets whole with a drink of wate...</td>\n",
       "    </tr>\n",
       "    <tr>\n",
       "      <th>997</th>\n",
       "      <td>998</td>\n",
       "      <td>Arpimune ME 100mg Capsule is used to prevent y...</td>\n",
       "      <td>However, it is not recommended while breastfee...</td>\n",
       "    </tr>\n",
       "    <tr>\n",
       "      <th>998</th>\n",
       "      <td>999</td>\n",
       "      <td>Amlodac CH Tablet is a combination medicine us...</td>\n",
       "      <td>Consult your doctor If any of these bother you...</td>\n",
       "    </tr>\n",
       "    <tr>\n",
       "      <th>999</th>\n",
       "      <td>1000</td>\n",
       "      <td>Angizem CD 120 Capsule ER is used to treat ang...</td>\n",
       "      <td>It is known as a calcium channel blocker.Pregn...</td>\n",
       "    </tr>\n",
       "  </tbody>\n",
       "</table>\n",
       "<p>1000 rows × 3 columns</p>\n",
       "</div>"
      ],
      "text/plain": [
       "     TEST DATASET                                       Introduction  \\\n",
       "0               1  Acnesol Gel is an antibiotic that fights bacte...   \n",
       "1               2  Ambrodil Syrup is used for treating various re...   \n",
       "2               3  Augmentin 625 Duo Tablet is a penicillin-type ...   \n",
       "3               4  Azithral 500 Tablet is an antibiotic used to t...   \n",
       "4               5  Alkasol Oral Solution is a medicine used in th...   \n",
       "..            ...                                                ...   \n",
       "995           996  Azapure Tablet belongs to a group of medicines...   \n",
       "996           997  Arimidex 1mg Tablet  is used alone or with oth...   \n",
       "997           998  Arpimune ME 100mg Capsule is used to prevent y...   \n",
       "998           999  Amlodac CH Tablet is a combination medicine us...   \n",
       "999          1000  Angizem CD 120 Capsule ER is used to treat ang...   \n",
       "\n",
       "                                               Summary  \n",
       "0    Acnesol Gel is an antibiotic that fights bacte...  \n",
       "1    Ambrodil Syrup is used for treating various re...  \n",
       "2    It is used to treat infections of the lungs (e...  \n",
       "3    These are usually temporary and subside with t...  \n",
       "4    This will prevent you from getting an upset st...  \n",
       "..                                                 ...  \n",
       "995  Swallow it as a whole,  do not crush, chew, br...  \n",
       "996  Swallow the tablets whole with a drink of wate...  \n",
       "997  However, it is not recommended while breastfee...  \n",
       "998  Consult your doctor If any of these bother you...  \n",
       "999  It is known as a calcium channel blocker.Pregn...  \n",
       "\n",
       "[1000 rows x 3 columns]"
      ]
     },
     "execution_count": 17,
     "metadata": {},
     "output_type": "execute_result"
    }
   ],
   "source": [
    "# Combining the findings into the table\n",
    "result  = pd.concat([data_table , summary_table['Summary']], axis = 1 , sort = False)\n",
    "result"
   ]
  },
  {
   "cell_type": "code",
   "execution_count": null,
   "id": "90927813",
   "metadata": {},
   "outputs": [],
   "source": []
  }
 ],
 "metadata": {
  "kernelspec": {
   "display_name": "Python 3 (ipykernel)",
   "language": "python",
   "name": "python3"
  },
  "language_info": {
   "codemirror_mode": {
    "name": "ipython",
    "version": 3
   },
   "file_extension": ".py",
   "mimetype": "text/x-python",
   "name": "python",
   "nbconvert_exporter": "python",
   "pygments_lexer": "ipython3",
   "version": "3.9.12"
  }
 },
 "nbformat": 4,
 "nbformat_minor": 5
}
