{
 "cells": [
  {
   "cell_type": "markdown",
   "id": "4738eafd",
   "metadata": {},
   "source": [
    "# Wycliffe Mwebi\n",
    "# Data Science & Machine Learning Portfolio Projects"
   ]
  },
  {
   "cell_type": "markdown",
   "id": "e48131c9",
   "metadata": {},
   "source": [
    "### Natural Language Processing(NLP) Projects\n",
    "\n",
    "| | Project Name  | Description    | Project Link   | \n",
    "|---:|:-------------|:-----------|:------|\n",
    "| 1 | How to prepare text data for machine learning   | Machines cannot understand English or any text data by default. The text data needs a special preparation before you can give it to the machine to predict something out of it. In this project, I will practically go through all the required steps such as removing stops words, correcting spelling mistakes, removing meaningless words, removing rare words and many more.   | Link   |                \n",
    "| 2 | Customer Sentiment Analysis  | Sentiment analysis is an NLP technique used to determine whether data is positive, negative or neutral. In this project, I will create an NLP machine learning model to predict if a new incoming customer review is positive or negative. I will use amazon’s food review dataset available on kaggle.     | Link   | \n",
    "| \n",
    "| "
   ]
  },
  {
   "cell_type": "code",
   "execution_count": null,
   "id": "3e6a65b8",
   "metadata": {},
   "outputs": [],
   "source": []
  }
 ],
 "metadata": {
  "kernelspec": {
   "display_name": "Python 3 (ipykernel)",
   "language": "python",
   "name": "python3"
  },
  "language_info": {
   "codemirror_mode": {
    "name": "ipython",
    "version": 3
   },
   "file_extension": ".py",
   "mimetype": "text/x-python",
   "name": "python",
   "nbconvert_exporter": "python",
   "pygments_lexer": "ipython3",
   "version": "3.9.12"
  }
 },
 "nbformat": 4,
 "nbformat_minor": 5
}
