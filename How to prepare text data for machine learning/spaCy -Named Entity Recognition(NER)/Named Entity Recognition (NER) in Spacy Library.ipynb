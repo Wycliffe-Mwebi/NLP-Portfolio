{
 "cells": [
  {
   "cell_type": "markdown",
   "id": "f8b47a4b",
   "metadata": {},
   "source": [
    "# Named Entity Recognition (NER) in Spacy Library\n",
    "### What is Named Entity?\n",
    "A named entity is a proper noun that refers to a specific entity like location, person, organization, etc. For example, in the sentence “Joe Biden is the president of the United States”, Joe Biden, and United States are named entities.\n",
    "\n",
    "These are some more examples of named entities –\n",
    "- Organization - eg; World Bank, Samsung\n",
    "- Person  -e.g;-Donald Trump, Nelson Mandela\n",
    "- Money -e.g;- 5 million dollars, INR 4 Crore\n",
    "- GPE --e.g; -Africa, Australia, South East Asia\n",
    "- Location -e.g; -Nairobi, Lake Victoria\n",
    "- Date -e.g; -12th April 1998, 7 AUG\n",
    "- Time -e.g; -9:30 P.M., Four-thirty am"
   ]
  },
  {
   "cell_type": "markdown",
   "id": "c3fd7b46",
   "metadata": {},
   "source": [
    "### What is Named Entity Recognition (NER)\n",
    "In NLP, named entity recognition or NER is the process of identifying named entities. NER is useful in areas like information retrieval, content classification, question and answer system, etc.\n",
    "\n",
    "The operation of named entity recognition is a two-step process:- \n",
    "1. First POS (Part of Speech) tagging this done. \n",
    "2. Based on POS tagging, the named entities are extracted from the text."
   ]
  },
  {
   "cell_type": "markdown",
   "id": "60b6627d",
   "metadata": {},
   "source": [
    "### Named Entity Recognition (NER) in Spacy\n",
    "Performing named entity recognition in Spacy is quite fast and easy. The labels or named entities that Spacy library can recognize include companies, locations, organizations, and products. The Spacy model is pre-trained to recognize these entities, however, we can also add our own arbitrary classes to the entity recognition system, and update the model with new examples."
   ]
  },
  {
   "cell_type": "markdown",
   "id": "50002bdc",
   "metadata": {},
   "source": [
    "#### Example 1\n",
    "In the below example of Spacy NER, we first create a Spacy object and instantiate it with the sample text and assign it to doc variable. The named entities can be simply extracted by iterating over the doc.ent object. In each iteration the entity text is printed by using ent.text and entity label by using ent.label_."
   ]
  },
  {
   "cell_type": "code",
   "execution_count": 3,
   "id": "a821eb8e",
   "metadata": {},
   "outputs": [
    {
     "name": "stdout",
     "output_type": "stream",
     "text": [
      "Biden PERSON\n",
      "US GPE\n",
      "NASA ORG\n",
      "Elon Musk’s PERSON\n",
      "$2.9 billion MONEY\n"
     ]
    }
   ],
   "source": [
    "import spacy \n",
    "nlp = spacy.load(\"en_core_web_sm\")\n",
    "\n",
    "doc = nlp(\"President Biden has announced that the US government through NASA has awarded Elon Musk’s SpaceX a $2.9 billion contract to build the lunar lander.\")\n",
    "for ent in doc.ents:\n",
    "    print(ent.text,  ent.label_)"
   ]
  },
  {
   "cell_type": "markdown",
   "id": "0291f274",
   "metadata": {},
   "source": [
    "#### Example 2\n",
    "This example is also similar to the above example, but just with a different sample text."
   ]
  },
  {
   "cell_type": "code",
   "execution_count": 4,
   "id": "9a91784f",
   "metadata": {},
   "outputs": [
    {
     "name": "stdout",
     "output_type": "stream",
     "text": [
      "Donald John Trump PERSON\n",
      "American NORP\n",
      "45th ORDINAL\n",
      "the United States GPE\n",
      "2017 DATE\n",
      "2021 CARDINAL\n",
      "the Wharton School of the University of Pennsylvania ORG\n",
      "1968 DATE\n"
     ]
    }
   ],
   "source": [
    "import spacy \n",
    "nlp = spacy.load(\"en_core_web_sm\")\n",
    "\n",
    "doc = nlp(\"Donald John Trump is an American politician, media personality, and businessman who served as the 45th president of the United States from 2017 to 2021. Trump graduated from the Wharton School of the University of Pennsylvania with a bachelor's degree in 1968\")\n",
    "for ent in doc.ents:\n",
    "    print(ent.text,  ent.label_)"
   ]
  },
  {
   "cell_type": "markdown",
   "id": "800d6235",
   "metadata": {},
   "source": [
    "### Spacy NER Lists\n",
    "We can get the list of NER in Spacy by using nlp.pipe_labels [‘ner’]."
   ]
  },
  {
   "cell_type": "code",
   "execution_count": 5,
   "id": "2fa2a0de",
   "metadata": {},
   "outputs": [
    {
     "name": "stdout",
     "output_type": "stream",
     "text": [
      "18\n",
      "['CARDINAL', 'DATE', 'EVENT', 'FAC', 'GPE', 'LANGUAGE', 'LAW', 'LOC', 'MONEY', 'NORP', 'ORDINAL', 'ORG', 'PERCENT', 'PERSON', 'PRODUCT', 'QUANTITY', 'TIME', 'WORK_OF_ART']\n"
     ]
    }
   ],
   "source": [
    "import spacy\n",
    "\n",
    "nlp = spacy.load(\"en_core_web_sm\")\n",
    "ner_lst = nlp.pipe_labels['ner']\n",
    "\n",
    "print(len(ner_lst))\n",
    "print(ner_lst)"
   ]
  },
  {
   "cell_type": "markdown",
   "id": "f573f926",
   "metadata": {},
   "source": [
    "### Accessing Entity Annotations and Labels\n",
    "The standard way to access the entity annotation in Spacy is by using doc.ents which returns a tuple containing all the entities of the doc. The entity type can be accessed as a hash value or as a string type by using ent.label and ent.label_. By using doc.ents we can get a bunch of information about the entities such as\n",
    "\n",
    "- Entity text by using ent.text,\n",
    "- Starting and ending character of an entity by using ent.start_char and ent.end_char,\n",
    "- Entity’s index by using ent.start,\n",
    "- Entity type’s id by using ent.entid,\n",
    "- Generate vector norm of an entity by using ent.vector_norm."
   ]
  },
  {
   "cell_type": "code",
   "execution_count": 7,
   "id": "d0e138d4",
   "metadata": {},
   "outputs": [
    {
     "name": "stdout",
     "output_type": "stream",
     "text": [
      "Microsoft 0 9 ORG 0  383 9.452225\n",
      "Activision Blizzard Inc 34 57 ORG 5  383 7.3945355\n",
      "$68.7 billion 62 75 MONEY 9  394 8.186131\n"
     ]
    }
   ],
   "source": [
    "import spacy\n",
    "\n",
    "nlp = spacy.load(\"en_core_web_sm\")\n",
    "doc = nlp(\"Microsoft is looking at acquiring Activision Blizzard Inc for $68.7 billion\")\n",
    "\n",
    "for ent in doc.ents:\n",
    "    print(ent.text, ent.start_char, ent.end_char, ent.label_, ent.start, ent.ent_id_, ent.label, ent.vector_norm)"
   ]
  },
  {
   "cell_type": "markdown",
   "id": "0702743f",
   "metadata": {},
   "source": [
    "However, we can also access the entity annotation by using the token.ent_iob and token.ent_type attributes. The token.ent_iob returns three tags ‘B’, ‘I’ and ‘O’. ‘B’ means the token begins an entity, ‘I’ means it is inside an entity, ‘O’ means it is outside an entity that is no entity tag is set for this token and will return an empty string “”."
   ]
  },
  {
   "cell_type": "code",
   "execution_count": 9,
   "id": "07af9054",
   "metadata": {},
   "outputs": [
    {
     "name": "stdout",
     "output_type": "stream",
     "text": [
      "Nairobi B GPE\n",
      "is O \n",
      "the O \n",
      "most O \n",
      "populous O \n",
      "city O \n",
      "in O \n",
      "Kenya B GPE\n"
     ]
    }
   ],
   "source": [
    "import spacy\n",
    "\n",
    "nlp = spacy.load(\"en_core_web_sm\")\n",
    "doc = nlp(\"Nairobi is the most populous city in Kenya\")\n",
    "\n",
    "for token in doc:\n",
    "    print(token.text, token.ent_iob_, token.ent_type_)"
   ]
  },
  {
   "cell_type": "markdown",
   "id": "9a9ad433",
   "metadata": {},
   "source": [
    "### Adding New Named Entities in Spacy\n",
    "The Spacy library has provided a feature to set entity annotation at the document level. However, this can’t be written directly to the token.ent_iob or token.ent_type attributes. Setting entities can be done by various methods listed below."
   ]
  },
  {
   "cell_type": "markdown",
   "id": "4a818cde",
   "metadata": {},
   "source": [
    "#### Method 1 :\n",
    "Creating a new entity as a span and assigning it to the doc.ents by using doc.set_ents function. Keep in mind that we can set only those entities which are not previously defined. Otherwise can cause an error as “Trying to set conflicting doc.ents”\n",
    "\n",
    "In the below example, the default Spacy model does not recognize Facebook as an entity. We then create a new span for the Facebook entity and then subsequently it starts recognizing it."
   ]
  },
  {
   "cell_type": "code",
   "execution_count": 15,
   "id": "941906fa",
   "metadata": {},
   "outputs": [
    {
     "name": "stdout",
     "output_type": "stream",
     "text": [
      "Before :  [('Mark Zuckerberg', 24, 39, 'PERSON'), ('Harvard College', 68, 83, 'ORG')]\n"
     ]
    }
   ],
   "source": [
    "import spacy\n",
    "from spacy.tokens import Span\n",
    "\n",
    "nlp = spacy.load(\"en_core_web_sm\")\n",
    "doc = nlp(\"facebook was founded by Mark Zuckerberg and his fellow roommates at Harvard College\")\n",
    "ents = [(e.text, e.start_char, e.end_char, e.label_) for e in doc.ents]\n",
    "print('Before : ', ents)\n"
   ]
  },
  {
   "cell_type": "code",
   "execution_count": 16,
   "id": "7001f972",
   "metadata": {},
   "outputs": [
    {
     "name": "stdout",
     "output_type": "stream",
     "text": [
      "After :  [('facebook', 0, 1, 'ORG'), ('Mark Zuckerberg', 4, 6, 'PERSON'), ('Harvard College', 11, 13, 'ORG')]\n"
     ]
    }
   ],
   "source": [
    "# The model didn't recognize 'facebook' as an entity\n",
    "# Creating a span for the new entity\n",
    "facebook_ent = Span(doc, 0, 1, label=\"ORG\")\n",
    "doc.set_ents([facebook_ent], default=\"unmodified\")\n",
    "\n",
    "#printing the new entity list\n",
    "ents = [(e.text, e.start, e.end, e.label_) for e in doc.ents]\n",
    "print('After : ', ents)"
   ]
  },
  {
   "cell_type": "markdown",
   "id": "62c28a6d",
   "metadata": {},
   "source": [
    "#### Method 2:\n",
    "We create a new list of a span of entities and concatenate it with the original doc.ents list."
   ]
  },
  {
   "cell_type": "code",
   "execution_count": 18,
   "id": "be7b2067",
   "metadata": {},
   "outputs": [
    {
     "name": "stdout",
     "output_type": "stream",
     "text": [
      "Before :  [('Mark Zuckerberg', 24, 39, 'PERSON'), ('Harvard College', 68, 83, 'ORG')]\n"
     ]
    }
   ],
   "source": [
    "import spacy\n",
    "from spacy.tokens import Span\n",
    "\n",
    "nlp = spacy.load(\"en_core_web_sm\")\n",
    "doc = nlp(\"facebook was founded by Mark Zuckerberg and his fellow roommates at Harvard College\")\n",
    "ents = [(e.text, e.start_char, e.end_char, e.label_) for e in doc.ents]\n",
    "print('Before : ', ents)\n"
   ]
  },
  {
   "cell_type": "code",
   "execution_count": 19,
   "id": "1ac0b096",
   "metadata": {},
   "outputs": [
    {
     "name": "stdout",
     "output_type": "stream",
     "text": [
      "After :  [('facebook', 0, 1, 'ORG'), ('Mark Zuckerberg', 4, 6, 'PERSON'), ('Harvard College', 11, 13, 'ORG')]\n"
     ]
    }
   ],
   "source": [
    "# The model didn't recognize 'facebook' as an entity\n",
    "# Creating a span for the new entity\n",
    "facebook_ent = Span(doc, 0, 1, label=\"ORG\")\n",
    "\n",
    "orig_ents = list(doc.ents)\n",
    "doc.ents = orig_ents + [facebook_ent] \n",
    "\n",
    "# Printing the new entity list\n",
    "ents = [(e.text, e.start, e.end, e.label_) for e in doc.ents]\n",
    "print('After : ', ents)"
   ]
  },
  {
   "cell_type": "markdown",
   "id": "abebe39d",
   "metadata": {},
   "source": [
    "#### Method 3:\n",
    "We create a NumPy array of zeros of size (length of doc * 2) to store the entity iob and entity type and assign new entities. In this example, we are assigning “London” and “U.K.” as “GPE”."
   ]
  },
  {
   "cell_type": "code",
   "execution_count": 20,
   "id": "cd9cc5ef",
   "metadata": {},
   "outputs": [
    {
     "name": "stdout",
     "output_type": "stream",
     "text": [
      "Before : []\n",
      "After : [('Nairobi', 0, 1, 'GPE')]\n"
     ]
    }
   ],
   "source": [
    "import numpy\n",
    "import spacy\n",
    "from spacy.attrs import ENT_IOB, ENT_TYPE\n",
    "\n",
    "nlp = spacy.load(\"en_core_web_sm\")\n",
    "doc = nlp.make_doc(\"Nairobi is a big city in Africa\")\n",
    "ents = [(e.text, e.start, e.end, e.label_) for e in doc.ents]\n",
    "print('Before :', ents) # []\n",
    "\n",
    "header = [ENT_IOB, ENT_TYPE]\n",
    "attr_array = numpy.zeros((len(doc), len(header)), dtype=\"uint64\")\n",
    "\n",
    "attr_array[0, 0] = 3  # B\n",
    "attr_array[0, 1] = doc.vocab.strings[\"GPE\"]\n",
    "\n",
    "attr_array[7:, 0] = 3  # B\n",
    "attr_array[7:, 1] = doc.vocab.strings[\"GPE\"]\n",
    "doc.from_array(header, attr_array)\n",
    "\n",
    "ents = [(e.text, e.start, e.end, e.label_) for e in doc.ents]\n",
    "print('After :', ents)"
   ]
  },
  {
   "cell_type": "markdown",
   "id": "6ff383ee",
   "metadata": {},
   "source": [
    "### Visualizing Named Entities in Spacy\n",
    "We can use the displacy function provided by the spacy library to display a nice visualization of entities of doc objects."
   ]
  },
  {
   "cell_type": "code",
   "execution_count": 24,
   "id": "7914040e",
   "metadata": {},
   "outputs": [
    {
     "data": {
      "text/html": [
       "<span class=\"tex2jax_ignore\"><div class=\"entities\" style=\"line-height: 2.5; direction: ltr\">The Expat City Ranking \n",
       "<mark class=\"entity\" style=\"background: #bfe1d9; padding: 0.45em 0.6em; margin: 0 0.25em; line-height: 1; border-radius: 0.35em;\">\n",
       "    2021\n",
       "    <span style=\"font-size: 0.8em; font-weight: bold; line-height: 1; border-radius: 0.35em; vertical-align: middle; margin-left: 0.5rem\">DATE</span>\n",
       "</mark>\n",
       " also showed that \n",
       "<mark class=\"entity\" style=\"background: #feca74; padding: 0.45em 0.6em; margin: 0 0.25em; line-height: 1; border-radius: 0.35em;\">\n",
       "    Nairobi\n",
       "    <span style=\"font-size: 0.8em; font-weight: bold; line-height: 1; border-radius: 0.35em; vertical-align: middle; margin-left: 0.5rem\">GPE</span>\n",
       "</mark>\n",
       " ranks \n",
       "<mark class=\"entity\" style=\"background: #e4e7d2; padding: 0.45em 0.6em; margin: 0 0.25em; line-height: 1; border-radius: 0.35em;\">\n",
       "    first\n",
       "    <span style=\"font-size: 0.8em; font-weight: bold; line-height: 1; border-radius: 0.35em; vertical-align: middle; margin-left: 0.5rem\">ORDINAL</span>\n",
       "</mark>\n",
       " in \n",
       "<mark class=\"entity\" style=\"background: #ff9561; padding: 0.45em 0.6em; margin: 0 0.25em; line-height: 1; border-radius: 0.35em;\">\n",
       "    Africa\n",
       "    <span style=\"font-size: 0.8em; font-weight: bold; line-height: 1; border-radius: 0.35em; vertical-align: middle; margin-left: 0.5rem\">LOC</span>\n",
       "</mark>\n",
       " for both the general friendliness of its local residents and friendliness towards foreign residents in particular.</div></span>"
      ],
      "text/plain": [
       "<IPython.core.display.HTML object>"
      ]
     },
     "metadata": {},
     "output_type": "display_data"
    }
   ],
   "source": [
    "import spacy\n",
    "from spacy import displacy\n",
    "\n",
    "text = \"The Expat City Ranking 2021 also showed that Nairobi ranks first in Africa for both the general friendliness of its local residents and friendliness towards foreign residents in particular.\"\n",
    "\n",
    "nlp = spacy.load(\"en_core_web_sm\")\n",
    "doc = nlp(text)\n",
    "displacy.serve(doc, style=\"ent\")"
   ]
  },
  {
   "cell_type": "code",
   "execution_count": null,
   "id": "c550bb7d",
   "metadata": {},
   "outputs": [],
   "source": []
  }
 ],
 "metadata": {
  "kernelspec": {
   "display_name": "Python 3 (ipykernel)",
   "language": "python",
   "name": "python3"
  },
  "language_info": {
   "codemirror_mode": {
    "name": "ipython",
    "version": 3
   },
   "file_extension": ".py",
   "mimetype": "text/x-python",
   "name": "python",
   "nbconvert_exporter": "python",
   "pygments_lexer": "ipython3",
   "version": "3.9.12"
  }
 },
 "nbformat": 4,
 "nbformat_minor": 5
}
