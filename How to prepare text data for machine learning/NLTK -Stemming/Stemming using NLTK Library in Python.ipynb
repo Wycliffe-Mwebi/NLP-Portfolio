{
 "cells": [
  {
   "cell_type": "markdown",
   "id": "7141ce1a",
   "metadata": {},
   "source": [
    "# Stemming using NLTK Library in Python\n",
    "### What is Stemming?\n",
    "Stemming is an NLP process that reduces the inflection in words to their root forms which in turn helps to preprocess text, words, and documents for text normalization.\n",
    "\n",
    "As per Wikipedia,  inflection is the modification of a word to express different grammatical categories such as tense, case, voice, aspect, person, number, gender, and mood. So a word may exist in various inflected forms but such inflected forms of words in the same text add redundancy for NLP operation.\n",
    "\n",
    "Hence we use stemming to reduce words to their root form or stem, however, such stems may not even be a valid word in the language.\n",
    "\n",
    "For example, the stem of these three words connections, connected, connects, is “connect”. On the other hand, the stem of trouble, troubled, troubles is “troubl” which is not an actual word in itself.\n",
    "\n",
    "### Why Stemming is Important?\n",
    "As we discussed above, the English language has many variations of a single word. Having these variations in a text corpus creates redundancy of data while creating NLP or machine learning models. Such models may not turn out to be effective.\n",
    "\n",
    "To create a robust model, it’s vital to normalize text by eliminating redundancy in words and converting them to root form using stemming.\n",
    "\n",
    "### Application of Stemming\n",
    "Stemming is used in information retrieval, text mining SEOs, Web search results, indexing, tagging systems, and vocabulary analysis. For example, searching for prediction and predicted shows similar results in Google.\n",
    "\n",
    "## Types of Stemmer in NLTK\n",
    "There are many types of Stemming algorithms and all the types of stemmers are available in Python NLTK. Let us see them below.\n",
    "\n",
    "### 1. Porter Stemmer – PorterStemmer()\n",
    "Porter Stemmer or Porter algorithm was developed by Martin Porter in 1980. The algorithm employs five phases of word reduction, each with its own set of mapping rules. Porter Stemmer is the oldest stemmer is known for its simplicity and speed. The resulting stem is often a shorter word having the same root meaning.\n",
    "\n",
    "In NLTK, there is a module PorterStemmer() that supports the Porter Stemming algorithm. Let’s explore with the help of an example.\n",
    "\n",
    "Example of PorterStemmer()\n",
    "In the example below, we create an instance of PorterStemmer() to stem the list of words using the Porter algorithm."
   ]
  },
  {
   "cell_type": "code",
   "execution_count": 1,
   "id": "95f140ae",
   "metadata": {},
   "outputs": [
    {
     "name": "stdout",
     "output_type": "stream",
     "text": [
      "Connects ---> connect\n",
      "Connecting ---> connect\n",
      "Connections ---> connect\n",
      "Connected ---> connect\n",
      "Connection ---> connect\n",
      "Connectings ---> connect\n",
      "Connect ---> connect\n"
     ]
    }
   ],
   "source": [
    "# example\n",
    "from nltk.stem import PorterStemmer\n",
    "\n",
    "porter = PorterStemmer()\n",
    "words = ['Connects','Connecting','Connections','Connected','Connection','Connectings','Connect']\n",
    "\n",
    "for word in words:\n",
    "    print(word,\"--->\",porter.stem(word))"
   ]
  },
  {
   "cell_type": "markdown",
   "id": "a053d5e7",
   "metadata": {},
   "source": [
    "### 2.Snowball Stemmer – SnowballStemmer()\n",
    "Snowball Stemmer is also developed by Martin Porter. The algorithm used here is more accurate and is known as “English Stemmer” or “Porter2 Stemmer”. It offers a slight improvement over the original Porter Stemmer, both in logic and speed.\n",
    "\n",
    "In NLTK, there is a module SnowballStemmer() that supports the Snowball stemming algorithm. Let’s explore this type of stemming with the help of an example.\n",
    "\n",
    "#### Example of SnowballStemmer()\n",
    "In the example below, we first create an instance of SnowballStemmer() to stem the list of words using the Snowball algorithm."
   ]
  },
  {
   "cell_type": "code",
   "execution_count": 2,
   "id": "7afcbfec",
   "metadata": {},
   "outputs": [
    {
     "name": "stdout",
     "output_type": "stream",
     "text": [
      "generous ---> generous\n",
      "generate ---> generat\n",
      "generously ---> generous\n",
      "generation ---> generat\n"
     ]
    }
   ],
   "source": [
    "# example\n",
    "from nltk.stem import SnowballStemmer\n",
    "\n",
    "snowball = SnowballStemmer(language='english')\n",
    "words = ['generous','generate','generously','generation']\n",
    "\n",
    "for word in words:\n",
    "    print(word,\"--->\",snowball.stem(word))"
   ]
  },
  {
   "cell_type": "markdown",
   "id": "f8ae1e71",
   "metadata": {},
   "source": [
    "The snowball stemmer supports the following languages"
   ]
  },
  {
   "cell_type": "code",
   "execution_count": 3,
   "id": "02128340",
   "metadata": {},
   "outputs": [
    {
     "name": "stdout",
     "output_type": "stream",
     "text": [
      "('arabic', 'danish', 'dutch', 'english', 'finnish', 'french', 'german', 'hungarian', 'italian', 'norwegian', 'porter', 'portuguese', 'romanian', 'russian', 'spanish', 'swedish')\n"
     ]
    }
   ],
   "source": [
    "print(SnowballStemmer.languages)"
   ]
  },
  {
   "cell_type": "markdown",
   "id": "8327242c",
   "metadata": {},
   "source": [
    "### 3. Lancaster Stemmer – LancasterStemmer()\n",
    "Lancaster Stemmer is simple but it tends to produce results with over stemming. Over-stemming causes the stems to be not linguistic, or they may have no meaning.\n",
    "\n",
    "In NLTK, there is a module LancasterStemmer() that supports the Lancaster stemming algorithm. Let’s understand this with the help of an example.\n",
    "\n",
    "#### Example of LancasterStemmer()\n",
    "In the example below, we first create an instance of LancasterStemmer() and then stem the list of words using the Lancaster algorithm."
   ]
  },
  {
   "cell_type": "code",
   "execution_count": 4,
   "id": "e602c7cb",
   "metadata": {},
   "outputs": [
    {
     "name": "stdout",
     "output_type": "stream",
     "text": [
      "eating ---> eat\n",
      "eats ---> eat\n",
      "eaten ---> eat\n",
      "puts ---> put\n",
      "putting ---> put\n"
     ]
    }
   ],
   "source": [
    "from nltk.stem import LancasterStemmer\n",
    "\n",
    "lancaster = LancasterStemmer()\n",
    "words = ['eating','eats','eaten','puts','putting']\n",
    "\n",
    "for word in words:\n",
    "    print(word,\"--->\",lancaster.stem(word))"
   ]
  },
  {
   "cell_type": "markdown",
   "id": "a162f2b1",
   "metadata": {},
   "source": [
    "### 4. Regexp Stemmer – RegexpStemmer()\n",
    "Regex stemmer uses regular expressions to identify morphological affixes. Any substrings that match the regular expressions will be removed.\n",
    "\n",
    "In NLTK, there is a module RegexpStemmer() that supports the Regex stemming algorithm. Let’s understand this with the help of an example.\n",
    "\n",
    "#### Example of RegexpStemmer()\n",
    "In this example, we first create an instance of RegexpStemmer() and then stem the list of words using the Regex stemming algorithm."
   ]
  },
  {
   "cell_type": "code",
   "execution_count": 5,
   "id": "10bb0b65",
   "metadata": {},
   "outputs": [
    {
     "name": "stdout",
     "output_type": "stream",
     "text": [
      "mass ---> mas\n",
      "was ---> was\n",
      "bee ---> bee\n",
      "computer ---> computer\n",
      "advisable ---> advis\n"
     ]
    }
   ],
   "source": [
    "# example\n",
    "from nltk.stem import RegexpStemmer\n",
    "\n",
    "regexp = RegexpStemmer('ing$|s$|e$|able$', min=4)\n",
    "words = ['mass','was','bee','computer','advisable']\n",
    "\n",
    "for word in words:\n",
    "    print(word,\"--->\",regexp.stem(word))"
   ]
  },
  {
   "cell_type": "markdown",
   "id": "c6b42d83",
   "metadata": {},
   "source": [
    "### Porter vs Snowball vs Lancaster vs Regex Stemming in NLTK\n",
    "Let us do a comparison of results of different types of stemming in NLTK with the help of two examples below –"
   ]
  },
  {
   "cell_type": "code",
   "execution_count": 8,
   "id": "a7c9a2b4",
   "metadata": {},
   "outputs": [
    {
     "name": "stdout",
     "output_type": "stream",
     "text": [
      "Word                Porter Stemmer      Snowball Stemmer    Lancaster Stemmer             Regexp Stemmer                          \n",
      "friend              friend              friend              friend                        friend                                  \n",
      "friendship          friendship          friendship          friend                        friendship                              \n",
      "friends             friend              friend              friend                        friend                                  \n",
      "friendships         friendship          friendship          friend                        friendship                              \n"
     ]
    }
   ],
   "source": [
    "# example 1\n",
    "from nltk.stem import PorterStemmer, SnowballStemmer, LancasterStemmer, RegexpStemmer\n",
    "\n",
    "porter = PorterStemmer()\n",
    "lancaster = LancasterStemmer()\n",
    "snowball = SnowballStemmer(language='english')\n",
    "regexp = RegexpStemmer('ing$|s$|e$|able$', min=4)\n",
    "\n",
    "word_list = [\"friend\", \"friendship\", \"friends\", \"friendships\"]\n",
    "print(\"{0:20}{1:20}{2:20}{3:30}{4:40}\".format(\"Word\",\"Porter Stemmer\",\"Snowball Stemmer\",\"Lancaster Stemmer\",'Regexp Stemmer'))\n",
    "for word in word_list:\n",
    "    print(\"{0:20}{1:20}{2:20}{3:30}{4:40}\".format(word,porter.stem(word),snowball.stem(word),lancaster.stem(word),regexp.stem(word)))"
   ]
  },
  {
   "cell_type": "code",
   "execution_count": 7,
   "id": "5abcd79b",
   "metadata": {},
   "outputs": [
    {
     "name": "stdout",
     "output_type": "stream",
     "text": [
      "Word                Porter Stemmer      Snowball Stemmer    Lancaster Stemmer             Regexp Stemmer                          \n",
      "run                 run                 run                 run                           run                                     \n",
      "runs                run                 run                 run                           run                                     \n",
      "running             run                 run                 run                           runn                                    \n",
      "runner              runner              runner              run                           runner                                  \n",
      "ran                 ran                 ran                 ran                           ran                                     \n",
      "easily              easili              easili              easy                          easily                                  \n",
      "fairly              fairli              fair                fair                          fairly                                  \n"
     ]
    }
   ],
   "source": [
    "# example 2\n",
    "from nltk.stem import PorterStemmer, SnowballStemmer, LancasterStemmer, RegexpStemmer\n",
    "\n",
    "porter = PorterStemmer()\n",
    "lancaster = LancasterStemmer()\n",
    "snowball = SnowballStemmer(language='english')\n",
    "regexp = RegexpStemmer('ing$|s$|e$|able$', min=4)\n",
    "\n",
    "word_list = ['run','runs','running','runner','ran','easily','fairly']\n",
    "print(\"{0:20}{1:20}{2:20}{3:30}{4:40}\".format(\"Word\",\"Porter Stemmer\",\"Snowball Stemmer\",\"Lancaster Stemmer\",'Regexp Stemmer'))\n",
    "for word in word_list:\n",
    "    print(\"{0:20}{1:20}{2:20}{3:30}{4:40}\".format(word,porter.stem(word),snowball.stem(word),lancaster.stem(word),regexp.stem(word)))"
   ]
  },
  {
   "cell_type": "markdown",
   "id": "67120cac",
   "metadata": {},
   "source": [
    "### Stemming a Text File with NLTK\n",
    "Till now we have seen small examples of stemming certain words, but what if you have a text file and you want to perform stemming on the entire file. Let us understand how to do it.\n",
    "\n",
    "In the example below, we create a function called stemming to first tokenizes the text using word_tokenize and then stem down the token to base form using SnowballStemmer.\n",
    "\n",
    "We then appended it into a list and at last, we join the items in the list and then returned them."
   ]
  },
  {
   "cell_type": "code",
   "execution_count": 9,
   "id": "595c62db",
   "metadata": {},
   "outputs": [],
   "source": [
    "from nltk.tokenize import word_tokenize\n",
    "from nltk.stem import SnowballStemmer\n",
    "\n",
    "def stemming(text):\n",
    "    \n",
    "    snowball = SnowballStemmer(language='english')\n",
    "    \n",
    "    list=[]\n",
    "    for token in word_tokenize(text):\n",
    "        list.append(snowball.stem(token))\n",
    "    \n",
    "    return ' '.join(list)"
   ]
  },
  {
   "cell_type": "code",
   "execution_count": 11,
   "id": "d096c89a",
   "metadata": {},
   "outputs": [
    {
     "name": "stdout",
     "output_type": "stream",
     "text": [
      "joseph robinett biden jr. ( born novemb 20 , 1942 ) is an american politician who is the 46th and current presid of the unit state . a member of the democrat parti , he previous serv as the 47th vice presid from 2009 to 2017 under presid barack obama and repres delawar in the unit state senat from 1973 to 2009 .\n"
     ]
    }
   ],
   "source": [
    "with open(r'C:\\Users\\user\\NLP\\biden.txt') as f:\n",
    "    text=f.read()\n",
    "print(stemming(text))"
   ]
  },
  {
   "cell_type": "code",
   "execution_count": null,
   "id": "3752acfb",
   "metadata": {},
   "outputs": [],
   "source": []
  }
 ],
 "metadata": {
  "kernelspec": {
   "display_name": "Python 3 (ipykernel)",
   "language": "python",
   "name": "python3"
  },
  "language_info": {
   "codemirror_mode": {
    "name": "ipython",
    "version": 3
   },
   "file_extension": ".py",
   "mimetype": "text/x-python",
   "name": "python",
   "nbconvert_exporter": "python",
   "pygments_lexer": "ipython3",
   "version": "3.9.12"
  }
 },
 "nbformat": 4,
 "nbformat_minor": 5
}
