{
 "cells": [
  {
   "cell_type": "markdown",
   "id": "c256efe2",
   "metadata": {},
   "source": [
    "## Google News Scrapping"
   ]
  },
  {
   "cell_type": "code",
   "execution_count": 17,
   "id": "b2500350",
   "metadata": {},
   "outputs": [],
   "source": [
    "# Import necessary libraries\n",
    "from GoogleNews import GoogleNews\n",
    "import pandas as pd"
   ]
  },
  {
   "cell_type": "code",
   "execution_count": 24,
   "id": "374bbf3d",
   "metadata": {},
   "outputs": [],
   "source": [
    "# Define the keyword to search.\n",
    "keyword = 'climate change'"
   ]
  },
  {
   "cell_type": "code",
   "execution_count": 31,
   "id": "b1a9fd70",
   "metadata": {},
   "outputs": [
    {
     "name": "stdout",
     "output_type": "stream",
     "text": [
      "'<' not supported between instances of 'NoneType' and 'datetime.datetime'\n"
     ]
    }
   ],
   "source": [
    "# Perform news scraping from Google and extract the result into Pandas dataframe. \n",
    "googlenews = GoogleNews(lang='en', region='US', period='7d', encode='utf-8')\n",
    "googlenews.clear()\n",
    "googlenews.search(keyword)\n",
    "googlenews.get_page(2)\n",
    "news_result = googlenews.result(sort=True)\n",
    "news_data_df = pd.DataFrame.from_dict(news_result)\n"
   ]
  },
  {
   "cell_type": "code",
   "execution_count": 32,
   "id": "5fd0e24a",
   "metadata": {},
   "outputs": [
    {
     "name": "stdout",
     "output_type": "stream",
     "text": [
      "<class 'pandas.core.frame.DataFrame'>\n",
      "RangeIndex: 20 entries, 0 to 19\n",
      "Data columns (total 7 columns):\n",
      " #   Column    Non-Null Count  Dtype         \n",
      "---  ------    --------------  -----         \n",
      " 0   title     20 non-null     object        \n",
      " 1   media     20 non-null     object        \n",
      " 2   date      20 non-null     object        \n",
      " 3   datetime  19 non-null     datetime64[ns]\n",
      " 4   desc      20 non-null     object        \n",
      " 5   link      20 non-null     object        \n",
      " 6   img       20 non-null     object        \n",
      "dtypes: datetime64[ns](1), object(6)\n",
      "memory usage: 1.2+ KB\n"
     ]
    }
   ],
   "source": [
    "# Display information of dataframe.\n",
    "news_data_df.info()"
   ]
  },
  {
   "cell_type": "code",
   "execution_count": 36,
   "id": "4cf6f276",
   "metadata": {},
   "outputs": [
    {
     "data": {
      "text/html": [
       "<div>\n",
       "<style scoped>\n",
       "    .dataframe tbody tr th:only-of-type {\n",
       "        vertical-align: middle;\n",
       "    }\n",
       "\n",
       "    .dataframe tbody tr th {\n",
       "        vertical-align: top;\n",
       "    }\n",
       "\n",
       "    .dataframe thead th {\n",
       "        text-align: right;\n",
       "    }\n",
       "</style>\n",
       "<table border=\"1\" class=\"dataframe\">\n",
       "  <thead>\n",
       "    <tr style=\"text-align: right;\">\n",
       "      <th></th>\n",
       "      <th>title</th>\n",
       "      <th>media</th>\n",
       "      <th>date</th>\n",
       "      <th>datetime</th>\n",
       "      <th>desc</th>\n",
       "      <th>link</th>\n",
       "      <th>img</th>\n",
       "    </tr>\n",
       "  </thead>\n",
       "  <tbody>\n",
       "    <tr>\n",
       "      <th>0</th>\n",
       "      <td>Opponents of Hampshire's Exxon pipeline to cha...</td>\n",
       "      <td>HampshireLive</td>\n",
       "      <td>30 mins ago</td>\n",
       "      <td>NaT</td>\n",
       "      <td>An environmental group in Hampshire is hosting...</td>\n",
       "      <td>https://www.hampshirelive.news/whats-on/family...</td>\n",
       "      <td>data:image/gif;base64,R0lGODlhAQABAIAAAP//////...</td>\n",
       "    </tr>\n",
       "    <tr>\n",
       "      <th>1</th>\n",
       "      <td>‘Change in lifestyle only solution to fight cl...</td>\n",
       "      <td>The Hindu</td>\n",
       "      <td>1 hour ago</td>\n",
       "      <td>2022-09-25 17:53:27.758159</td>\n",
       "      <td>Indian Institute of Science professor says cli...</td>\n",
       "      <td>https://www.thehindu.com/news/national/karnata...</td>\n",
       "      <td>data:image/gif;base64,R0lGODlhAQABAIAAAP//////...</td>\n",
       "    </tr>\n",
       "    <tr>\n",
       "      <th>2</th>\n",
       "      <td>Minister of Climate Change and Environment hig...</td>\n",
       "      <td>WAM EN</td>\n",
       "      <td>1 hour ago</td>\n",
       "      <td>2022-09-25 17:53:27.742537</td>\n",
       "      <td>DUBAI, 25th September, 2022 (WAM) -- Mariam bi...</td>\n",
       "      <td>http://wam.ae/en/details/1395303086492</td>\n",
       "      <td>data:image/gif;base64,R0lGODlhAQABAIAAAP//////...</td>\n",
       "    </tr>\n",
       "    <tr>\n",
       "      <th>3</th>\n",
       "      <td>Irish Prime Minister Faces Backlash For Flying...</td>\n",
       "      <td>Paddle Your Own Kanoo</td>\n",
       "      <td>2 hours ago</td>\n",
       "      <td>2022-09-25 16:53:27.758159</td>\n",
       "      <td>The Irish Taoiseach Micheál Martin is facing b...</td>\n",
       "      <td>https://www.paddleyourownkanoo.com/2022/09/25/...</td>\n",
       "      <td>data:image/gif;base64,R0lGODlhAQABAIAAAP//////...</td>\n",
       "    </tr>\n",
       "    <tr>\n",
       "      <th>4</th>\n",
       "      <td>Climate change protesters in Nairobi demand co...</td>\n",
       "      <td>YouTube</td>\n",
       "      <td>3 hours ago</td>\n",
       "      <td>2022-09-25 15:53:27.758159</td>\n",
       "      <td>Hundreds of protesters concerned about climate...</td>\n",
       "      <td>https://www.youtube.com/watch?v=_Pe-HygWwzo</td>\n",
       "      <td>data:image/gif;base64,R0lGODlhAQABAIAAAP//////...</td>\n",
       "    </tr>\n",
       "    <tr>\n",
       "      <th>5</th>\n",
       "      <td>Robert Byron: Climate Conversations: Your heal...</td>\n",
       "      <td>The Billings Gazette</td>\n",
       "      <td>3 hours ago</td>\n",
       "      <td>2022-09-25 15:53:27.758159</td>\n",
       "      <td>Devastating wildfires, unprecedented floods, p...</td>\n",
       "      <td>http://billingsgazette.com/opinion/columnists/...</td>\n",
       "      <td>data:image/gif;base64,R0lGODlhAQABAIAAAP//////...</td>\n",
       "    </tr>\n",
       "    <tr>\n",
       "      <th>6</th>\n",
       "      <td>Olympia council member says no time to waste i...</td>\n",
       "      <td>The Olympian</td>\n",
       "      <td>3 hours ago</td>\n",
       "      <td>2022-09-25 15:53:27.758159</td>\n",
       "      <td>The city of Olympia has made it clear that cli...</td>\n",
       "      <td>https://www.theolympian.com/news/local/article...</td>\n",
       "      <td>data:image/gif;base64,R0lGODlhAQABAIAAAP//////...</td>\n",
       "    </tr>\n",
       "    <tr>\n",
       "      <th>7</th>\n",
       "      <td>Newsletter: Climate Change Leads to New Rules</td>\n",
       "      <td>High North News</td>\n",
       "      <td>3 hours ago</td>\n",
       "      <td>2022-09-25 15:53:27.758159</td>\n",
       "      <td>It is windy in the Arctic, in more ways than o...</td>\n",
       "      <td>https://www.highnorthnews.com/en/climate-chang...</td>\n",
       "      <td>data:image/gif;base64,R0lGODlhAQABAIAAAP//////...</td>\n",
       "    </tr>\n",
       "    <tr>\n",
       "      <th>8</th>\n",
       "      <td>Climate change issues require more than Band-A...</td>\n",
       "      <td>Myrtle Beach Sun News</td>\n",
       "      <td>5 hours ago</td>\n",
       "      <td>2022-09-25 13:53:29.775016</td>\n",
       "      <td>Our readers write about climate change, care f...</td>\n",
       "      <td>https://www.myrtlebeachonline.com/opinion/lett...</td>\n",
       "      <td>data:image/gif;base64,R0lGODlhAQABAIAAAP//////...</td>\n",
       "    </tr>\n",
       "    <tr>\n",
       "      <th>9</th>\n",
       "      <td>Labour promises to put fight against climate c...</td>\n",
       "      <td>Evening Standard</td>\n",
       "      <td>5 hours ago</td>\n",
       "      <td>2022-09-25 13:53:27.758159</td>\n",
       "      <td>Shadow foreign secretary David Lammy will comm...</td>\n",
       "      <td>https://www.standard.co.uk/news/politics/david...</td>\n",
       "      <td>data:image/gif;base64,R0lGODlhAQABAIAAAP//////...</td>\n",
       "    </tr>\n",
       "  </tbody>\n",
       "</table>\n",
       "</div>"
      ],
      "text/plain": [
       "                                               title                  media  \\\n",
       "0  Opponents of Hampshire's Exxon pipeline to cha...          HampshireLive   \n",
       "1  ‘Change in lifestyle only solution to fight cl...              The Hindu   \n",
       "2  Minister of Climate Change and Environment hig...                 WAM EN   \n",
       "3  Irish Prime Minister Faces Backlash For Flying...  Paddle Your Own Kanoo   \n",
       "4  Climate change protesters in Nairobi demand co...                YouTube   \n",
       "5  Robert Byron: Climate Conversations: Your heal...   The Billings Gazette   \n",
       "6  Olympia council member says no time to waste i...           The Olympian   \n",
       "7      Newsletter: Climate Change Leads to New Rules        High North News   \n",
       "8  Climate change issues require more than Band-A...  Myrtle Beach Sun News   \n",
       "9  Labour promises to put fight against climate c...       Evening Standard   \n",
       "\n",
       "          date                   datetime  \\\n",
       "0  30 mins ago                        NaT   \n",
       "1   1 hour ago 2022-09-25 17:53:27.758159   \n",
       "2   1 hour ago 2022-09-25 17:53:27.742537   \n",
       "3  2 hours ago 2022-09-25 16:53:27.758159   \n",
       "4  3 hours ago 2022-09-25 15:53:27.758159   \n",
       "5  3 hours ago 2022-09-25 15:53:27.758159   \n",
       "6  3 hours ago 2022-09-25 15:53:27.758159   \n",
       "7  3 hours ago 2022-09-25 15:53:27.758159   \n",
       "8  5 hours ago 2022-09-25 13:53:29.775016   \n",
       "9  5 hours ago 2022-09-25 13:53:27.758159   \n",
       "\n",
       "                                                desc  \\\n",
       "0  An environmental group in Hampshire is hosting...   \n",
       "1  Indian Institute of Science professor says cli...   \n",
       "2  DUBAI, 25th September, 2022 (WAM) -- Mariam bi...   \n",
       "3  The Irish Taoiseach Micheál Martin is facing b...   \n",
       "4  Hundreds of protesters concerned about climate...   \n",
       "5  Devastating wildfires, unprecedented floods, p...   \n",
       "6  The city of Olympia has made it clear that cli...   \n",
       "7  It is windy in the Arctic, in more ways than o...   \n",
       "8  Our readers write about climate change, care f...   \n",
       "9  Shadow foreign secretary David Lammy will comm...   \n",
       "\n",
       "                                                link  \\\n",
       "0  https://www.hampshirelive.news/whats-on/family...   \n",
       "1  https://www.thehindu.com/news/national/karnata...   \n",
       "2             http://wam.ae/en/details/1395303086492   \n",
       "3  https://www.paddleyourownkanoo.com/2022/09/25/...   \n",
       "4        https://www.youtube.com/watch?v=_Pe-HygWwzo   \n",
       "5  http://billingsgazette.com/opinion/columnists/...   \n",
       "6  https://www.theolympian.com/news/local/article...   \n",
       "7  https://www.highnorthnews.com/en/climate-chang...   \n",
       "8  https://www.myrtlebeachonline.com/opinion/lett...   \n",
       "9  https://www.standard.co.uk/news/politics/david...   \n",
       "\n",
       "                                                 img  \n",
       "0  data:image/gif;base64,R0lGODlhAQABAIAAAP//////...  \n",
       "1  data:image/gif;base64,R0lGODlhAQABAIAAAP//////...  \n",
       "2  data:image/gif;base64,R0lGODlhAQABAIAAAP//////...  \n",
       "3  data:image/gif;base64,R0lGODlhAQABAIAAAP//////...  \n",
       "4  data:image/gif;base64,R0lGODlhAQABAIAAAP//////...  \n",
       "5  data:image/gif;base64,R0lGODlhAQABAIAAAP//////...  \n",
       "6  data:image/gif;base64,R0lGODlhAQABAIAAAP//////...  \n",
       "7  data:image/gif;base64,R0lGODlhAQABAIAAAP//////...  \n",
       "8  data:image/gif;base64,R0lGODlhAQABAIAAAP//////...  \n",
       "9  data:image/gif;base64,R0lGODlhAQABAIAAAP//////...  "
      ]
     },
     "execution_count": 36,
     "metadata": {},
     "output_type": "execute_result"
    }
   ],
   "source": [
    "# Display header of dataframe.\n",
    "news_data_df.head(10)"
   ]
  },
  {
   "cell_type": "markdown",
   "id": "7a21c3c4",
   "metadata": {},
   "source": [
    "## Google News Sentiment Analysis"
   ]
  },
  {
   "cell_type": "code",
   "execution_count": 47,
   "id": "93f7a573",
   "metadata": {},
   "outputs": [],
   "source": [
    "# Import necessary libraries\n",
    "from azure.ai.textanalytics import TextAnalyticsClient\n",
    "from azure.core.credentials import AzureKeyCredential"
   ]
  },
  {
   "cell_type": "code",
   "execution_count": 50,
   "id": "6cb20e3a",
   "metadata": {},
   "outputs": [],
   "source": [
    "# Define the service key and endpoint of Azure Text Analytics\n",
    "key = \"PLEASE_ENTER_YOUR_OWNED_AZURE_TEXT_ANALYTICS_SERVICE_KEY\"\n",
    "endpoint = \"https://PLEASE_ENTER_YOUR_OWNED_AZURE_TEXT_ANALYTICS_INSTANCE_NAME.cognitiveservices.azure.com/\""
   ]
  },
  {
   "cell_type": "code",
   "execution_count": 51,
   "id": "d9a14d34",
   "metadata": {},
   "outputs": [],
   "source": [
    "# Initialize Azure Text Analytics client.\n",
    "ta_credential = AzureKeyCredential(key)\n",
    "text_analytics_client = TextAnalyticsClient(\n",
    "        endpoint=endpoint, \n",
    "        credential=ta_credential)\n",
    "client = text_analytics_client"
   ]
  },
  {
   "cell_type": "code",
   "execution_count": 68,
   "id": "ceb424d2",
   "metadata": {},
   "outputs": [
    {
     "ename": "ServiceRequestError",
     "evalue": "<urllib3.connection.HTTPSConnection object at 0x000002062EDDB700>: Failed to establish a new connection: [Errno 11001] getaddrinfo failed",
     "output_type": "error",
     "traceback": [
      "\u001b[1;31m---------------------------------------------------------------------------\u001b[0m",
      "\u001b[1;31mServiceRequestError\u001b[0m                       Traceback (most recent call last)",
      "Input \u001b[1;32mIn [68]\u001b[0m, in \u001b[0;36m<cell line: 3>\u001b[1;34m()\u001b[0m\n\u001b[0;32m      8\u001b[0m news_description \u001b[38;5;241m=\u001b[39m \u001b[38;5;28mstr\u001b[39m(headers[\u001b[38;5;124m'\u001b[39m\u001b[38;5;124mdesc\u001b[39m\u001b[38;5;124m'\u001b[39m])\n\u001b[0;32m      9\u001b[0m documents \u001b[38;5;241m=\u001b[39m [news_description]\n\u001b[1;32m---> 10\u001b[0m response \u001b[38;5;241m=\u001b[39m \u001b[43mclient\u001b[49m\u001b[38;5;241;43m.\u001b[39;49m\u001b[43manalyze_sentiment\u001b[49m\u001b[43m(\u001b[49m\u001b[43mdocuments\u001b[49m\u001b[38;5;241;43m=\u001b[39;49m\u001b[43mdocuments\u001b[49m\u001b[43m,\u001b[49m\u001b[43mlanguage\u001b[49m\u001b[38;5;241;43m=\u001b[39;49m\u001b[38;5;124;43m\"\u001b[39;49m\u001b[38;5;124;43men\u001b[39;49m\u001b[38;5;124;43m\"\u001b[39;49m\u001b[43m)\u001b[49m[\u001b[38;5;241m0\u001b[39m]\n\u001b[0;32m     11\u001b[0m sentiment \u001b[38;5;241m=\u001b[39m response\u001b[38;5;241m.\u001b[39msentiment\n\u001b[0;32m     12\u001b[0m news_link \u001b[38;5;241m=\u001b[39m \u001b[38;5;28mstr\u001b[39m(headers[\u001b[38;5;124m'\u001b[39m\u001b[38;5;124mlink\u001b[39m\u001b[38;5;124m'\u001b[39m])\n",
      "File \u001b[1;32m~\\anaconda3\\lib\\site-packages\\azure\\core\\tracing\\decorator.py:78\u001b[0m, in \u001b[0;36mdistributed_trace.<locals>.decorator.<locals>.wrapper_use_tracer\u001b[1;34m(*args, **kwargs)\u001b[0m\n\u001b[0;32m     76\u001b[0m span_impl_type \u001b[38;5;241m=\u001b[39m settings\u001b[38;5;241m.\u001b[39mtracing_implementation()\n\u001b[0;32m     77\u001b[0m \u001b[38;5;28;01mif\u001b[39;00m span_impl_type \u001b[38;5;129;01mis\u001b[39;00m \u001b[38;5;28;01mNone\u001b[39;00m:\n\u001b[1;32m---> 78\u001b[0m     \u001b[38;5;28;01mreturn\u001b[39;00m func(\u001b[38;5;241m*\u001b[39margs, \u001b[38;5;241m*\u001b[39m\u001b[38;5;241m*\u001b[39mkwargs)\n\u001b[0;32m     80\u001b[0m \u001b[38;5;66;03m# Merge span is parameter is set, but only if no explicit parent are passed\u001b[39;00m\n\u001b[0;32m     81\u001b[0m \u001b[38;5;28;01mif\u001b[39;00m merge_span \u001b[38;5;129;01mand\u001b[39;00m \u001b[38;5;129;01mnot\u001b[39;00m passed_in_parent:\n",
      "File \u001b[1;32m~\\anaconda3\\lib\\site-packages\\azure\\ai\\textanalytics\\_validate.py:74\u001b[0m, in \u001b[0;36mvalidate_multiapi_args.<locals>.decorator.<locals>.wrapper\u001b[1;34m(*args, **kwargs)\u001b[0m\n\u001b[0;32m     72\u001b[0m \u001b[38;5;66;03m# the latest version is selected, we assume all features supported\u001b[39;00m\n\u001b[0;32m     73\u001b[0m \u001b[38;5;28;01mif\u001b[39;00m selected_api_version \u001b[38;5;241m==\u001b[39m VERSIONS_SUPPORTED[\u001b[38;5;241m-\u001b[39m\u001b[38;5;241m1\u001b[39m]:\n\u001b[1;32m---> 74\u001b[0m     \u001b[38;5;28;01mreturn\u001b[39;00m func(\u001b[38;5;241m*\u001b[39margs, \u001b[38;5;241m*\u001b[39m\u001b[38;5;241m*\u001b[39mkwargs)\n\u001b[0;32m     76\u001b[0m \u001b[38;5;28;01mif\u001b[39;00m version_method_added \u001b[38;5;129;01mand\u001b[39;00m version_method_added \u001b[38;5;241m!=\u001b[39m selected_api_version \u001b[38;5;129;01mand\u001b[39;00m \\\n\u001b[0;32m     77\u001b[0m         VERSIONS_SUPPORTED\u001b[38;5;241m.\u001b[39mindex(selected_api_version) \u001b[38;5;241m<\u001b[39m VERSIONS_SUPPORTED\u001b[38;5;241m.\u001b[39mindex(version_method_added):\n\u001b[0;32m     78\u001b[0m     \u001b[38;5;28;01mraise\u001b[39;00m \u001b[38;5;167;01mValueError\u001b[39;00m(\n\u001b[0;32m     79\u001b[0m         \u001b[38;5;124mf\u001b[39m\u001b[38;5;124m\"\u001b[39m\u001b[38;5;124m'\u001b[39m\u001b[38;5;132;01m{\u001b[39;00mclient\u001b[38;5;241m.\u001b[39m\u001b[38;5;18m__class__\u001b[39m\u001b[38;5;241m.\u001b[39m\u001b[38;5;18m__name__\u001b[39m\u001b[38;5;132;01m}\u001b[39;00m\u001b[38;5;124m.\u001b[39m\u001b[38;5;132;01m{\u001b[39;00mfunc\u001b[38;5;241m.\u001b[39m\u001b[38;5;18m__name__\u001b[39m\u001b[38;5;132;01m}\u001b[39;00m\u001b[38;5;124m'\u001b[39m\u001b[38;5;124m is not available in API version \u001b[39m\u001b[38;5;124m\"\u001b[39m\n\u001b[0;32m     80\u001b[0m         \u001b[38;5;124mf\u001b[39m\u001b[38;5;124m\"\u001b[39m\u001b[38;5;132;01m{\u001b[39;00mselected_api_version\u001b[38;5;132;01m}\u001b[39;00m\u001b[38;5;124m. Use service API version \u001b[39m\u001b[38;5;132;01m{\u001b[39;00mversion_method_added\u001b[38;5;132;01m}\u001b[39;00m\u001b[38;5;124m or newer.\u001b[39m\u001b[38;5;124m\"\u001b[39m\n\u001b[0;32m     81\u001b[0m     )\n",
      "File \u001b[1;32m~\\anaconda3\\lib\\site-packages\\azure\\ai\\textanalytics\\_text_analytics_client.py:991\u001b[0m, in \u001b[0;36mTextAnalyticsClient.analyze_sentiment\u001b[1;34m(self, documents, **kwargs)\u001b[0m\n\u001b[0;32m    987\u001b[0m \u001b[38;5;28;01mif\u001b[39;00m is_language_api(\u001b[38;5;28mself\u001b[39m\u001b[38;5;241m.\u001b[39m_api_version):\n\u001b[0;32m    988\u001b[0m     models \u001b[38;5;241m=\u001b[39m \u001b[38;5;28mself\u001b[39m\u001b[38;5;241m.\u001b[39m_client\u001b[38;5;241m.\u001b[39mmodels(api_version\u001b[38;5;241m=\u001b[39m\u001b[38;5;28mself\u001b[39m\u001b[38;5;241m.\u001b[39m_api_version)\n\u001b[0;32m    989\u001b[0m     \u001b[38;5;28;01mreturn\u001b[39;00m cast(\n\u001b[0;32m    990\u001b[0m         List[Union[AnalyzeSentimentResult, DocumentError]],\n\u001b[1;32m--> 991\u001b[0m         \u001b[38;5;28mself\u001b[39m\u001b[38;5;241m.\u001b[39m_client\u001b[38;5;241m.\u001b[39manalyze_text(\n\u001b[0;32m    992\u001b[0m             body\u001b[38;5;241m=\u001b[39mmodels\u001b[38;5;241m.\u001b[39mAnalyzeTextSentimentAnalysisInput(\n\u001b[0;32m    993\u001b[0m                 analysis_input\u001b[38;5;241m=\u001b[39m{\u001b[38;5;124m\"\u001b[39m\u001b[38;5;124mdocuments\u001b[39m\u001b[38;5;124m\"\u001b[39m: docs},\n\u001b[0;32m    994\u001b[0m                 parameters\u001b[38;5;241m=\u001b[39mmodels\u001b[38;5;241m.\u001b[39mSentimentAnalysisTaskParameters(\n\u001b[0;32m    995\u001b[0m                     logging_opt_out\u001b[38;5;241m=\u001b[39mdisable_service_logs,\n\u001b[0;32m    996\u001b[0m                     model_version\u001b[38;5;241m=\u001b[39mmodel_version,\n\u001b[0;32m    997\u001b[0m                     string_index_type\u001b[38;5;241m=\u001b[39mstring_index_type_compatibility(string_index_type),\n\u001b[0;32m    998\u001b[0m                     opinion_mining\u001b[38;5;241m=\u001b[39mshow_opinion_mining,\n\u001b[0;32m    999\u001b[0m                 )\n\u001b[0;32m   1000\u001b[0m             ),\n\u001b[0;32m   1001\u001b[0m             show_stats\u001b[38;5;241m=\u001b[39mshow_stats,\n\u001b[0;32m   1002\u001b[0m             \u001b[38;5;28mcls\u001b[39m\u001b[38;5;241m=\u001b[39mkwargs\u001b[38;5;241m.\u001b[39mpop(\u001b[38;5;124m\"\u001b[39m\u001b[38;5;124mcls\u001b[39m\u001b[38;5;124m\"\u001b[39m, sentiment_result),\n\u001b[0;32m   1003\u001b[0m             \u001b[38;5;241m*\u001b[39m\u001b[38;5;241m*\u001b[39mkwargs\n\u001b[0;32m   1004\u001b[0m         )\n\u001b[0;32m   1005\u001b[0m     )\n\u001b[0;32m   1007\u001b[0m \u001b[38;5;66;03m# api_versions 3.0, 3.1\u001b[39;00m\n\u001b[0;32m   1008\u001b[0m \u001b[38;5;28;01mreturn\u001b[39;00m cast(\n\u001b[0;32m   1009\u001b[0m     List[Union[AnalyzeSentimentResult, DocumentError]],\n\u001b[0;32m   1010\u001b[0m     \u001b[38;5;28mself\u001b[39m\u001b[38;5;241m.\u001b[39m_client\u001b[38;5;241m.\u001b[39msentiment(\n\u001b[1;32m   (...)\u001b[0m\n\u001b[0;32m   1019\u001b[0m     )\n\u001b[0;32m   1020\u001b[0m )\n",
      "File \u001b[1;32m~\\anaconda3\\lib\\site-packages\\azure\\ai\\textanalytics\\_generated\\_operations_mixin.py:109\u001b[0m, in \u001b[0;36mTextAnalyticsClientOperationsMixin.analyze_text\u001b[1;34m(self, body, show_stats, **kwargs)\u001b[0m\n\u001b[0;32m    107\u001b[0m mixin_instance\u001b[38;5;241m.\u001b[39m_serialize\u001b[38;5;241m.\u001b[39mclient_side_validation \u001b[38;5;241m=\u001b[39m \u001b[38;5;28;01mFalse\u001b[39;00m\n\u001b[0;32m    108\u001b[0m mixin_instance\u001b[38;5;241m.\u001b[39m_deserialize \u001b[38;5;241m=\u001b[39m Deserializer(\u001b[38;5;28mself\u001b[39m\u001b[38;5;241m.\u001b[39m_models_dict(api_version))\n\u001b[1;32m--> 109\u001b[0m \u001b[38;5;28;01mreturn\u001b[39;00m mixin_instance\u001b[38;5;241m.\u001b[39manalyze_text(body, show_stats, \u001b[38;5;241m*\u001b[39m\u001b[38;5;241m*\u001b[39mkwargs)\n",
      "File \u001b[1;32m~\\anaconda3\\lib\\site-packages\\azure\\core\\tracing\\decorator.py:78\u001b[0m, in \u001b[0;36mdistributed_trace.<locals>.decorator.<locals>.wrapper_use_tracer\u001b[1;34m(*args, **kwargs)\u001b[0m\n\u001b[0;32m     76\u001b[0m span_impl_type \u001b[38;5;241m=\u001b[39m settings\u001b[38;5;241m.\u001b[39mtracing_implementation()\n\u001b[0;32m     77\u001b[0m \u001b[38;5;28;01mif\u001b[39;00m span_impl_type \u001b[38;5;129;01mis\u001b[39;00m \u001b[38;5;28;01mNone\u001b[39;00m:\n\u001b[1;32m---> 78\u001b[0m     \u001b[38;5;28;01mreturn\u001b[39;00m func(\u001b[38;5;241m*\u001b[39margs, \u001b[38;5;241m*\u001b[39m\u001b[38;5;241m*\u001b[39mkwargs)\n\u001b[0;32m     80\u001b[0m \u001b[38;5;66;03m# Merge span is parameter is set, but only if no explicit parent are passed\u001b[39;00m\n\u001b[0;32m     81\u001b[0m \u001b[38;5;28;01mif\u001b[39;00m merge_span \u001b[38;5;129;01mand\u001b[39;00m \u001b[38;5;129;01mnot\u001b[39;00m passed_in_parent:\n",
      "File \u001b[1;32m~\\anaconda3\\lib\\site-packages\\azure\\ai\\textanalytics\\_generated\\v2022_05_01\\operations\\_text_analytics_client_operations.py:290\u001b[0m, in \u001b[0;36mTextAnalyticsClientOperationsMixin.analyze_text\u001b[1;34m(self, body, show_stats, **kwargs)\u001b[0m\n\u001b[0;32m    285\u001b[0m path_format_arguments \u001b[38;5;241m=\u001b[39m {\n\u001b[0;32m    286\u001b[0m     \u001b[38;5;124m\"\u001b[39m\u001b[38;5;124mEndpoint\u001b[39m\u001b[38;5;124m\"\u001b[39m: \u001b[38;5;28mself\u001b[39m\u001b[38;5;241m.\u001b[39m_serialize\u001b[38;5;241m.\u001b[39murl(\u001b[38;5;124m\"\u001b[39m\u001b[38;5;124mself._config.endpoint\u001b[39m\u001b[38;5;124m\"\u001b[39m, \u001b[38;5;28mself\u001b[39m\u001b[38;5;241m.\u001b[39m_config\u001b[38;5;241m.\u001b[39mendpoint, \u001b[38;5;124m'\u001b[39m\u001b[38;5;124mstr\u001b[39m\u001b[38;5;124m'\u001b[39m, skip_quote\u001b[38;5;241m=\u001b[39m\u001b[38;5;28;01mTrue\u001b[39;00m),\n\u001b[0;32m    287\u001b[0m }\n\u001b[0;32m    288\u001b[0m request\u001b[38;5;241m.\u001b[39murl \u001b[38;5;241m=\u001b[39m \u001b[38;5;28mself\u001b[39m\u001b[38;5;241m.\u001b[39m_client\u001b[38;5;241m.\u001b[39mformat_url(request\u001b[38;5;241m.\u001b[39murl, \u001b[38;5;241m*\u001b[39m\u001b[38;5;241m*\u001b[39mpath_format_arguments)  \u001b[38;5;66;03m# type: ignore\u001b[39;00m\n\u001b[1;32m--> 290\u001b[0m pipeline_response \u001b[38;5;241m=\u001b[39m \u001b[38;5;28mself\u001b[39m\u001b[38;5;241m.\u001b[39m_client\u001b[38;5;241m.\u001b[39m_pipeline\u001b[38;5;241m.\u001b[39mrun(  \u001b[38;5;66;03m# type: ignore # pylint: disable=protected-access\u001b[39;00m\n\u001b[0;32m    291\u001b[0m     request,\n\u001b[0;32m    292\u001b[0m     stream\u001b[38;5;241m=\u001b[39m\u001b[38;5;28;01mFalse\u001b[39;00m,\n\u001b[0;32m    293\u001b[0m     \u001b[38;5;241m*\u001b[39m\u001b[38;5;241m*\u001b[39mkwargs\n\u001b[0;32m    294\u001b[0m )\n\u001b[0;32m    296\u001b[0m response \u001b[38;5;241m=\u001b[39m pipeline_response\u001b[38;5;241m.\u001b[39mhttp_response\n\u001b[0;32m    298\u001b[0m \u001b[38;5;28;01mif\u001b[39;00m response\u001b[38;5;241m.\u001b[39mstatus_code \u001b[38;5;129;01mnot\u001b[39;00m \u001b[38;5;129;01min\u001b[39;00m [\u001b[38;5;241m200\u001b[39m]:\n",
      "File \u001b[1;32m~\\anaconda3\\lib\\site-packages\\azure\\core\\pipeline\\_base.py:211\u001b[0m, in \u001b[0;36mPipeline.run\u001b[1;34m(self, request, **kwargs)\u001b[0m\n\u001b[0;32m    203\u001b[0m pipeline_request \u001b[38;5;241m=\u001b[39m PipelineRequest(\n\u001b[0;32m    204\u001b[0m     request, context\n\u001b[0;32m    205\u001b[0m )  \u001b[38;5;66;03m# type: PipelineRequest[HTTPRequestType]\u001b[39;00m\n\u001b[0;32m    206\u001b[0m first_node \u001b[38;5;241m=\u001b[39m (\n\u001b[0;32m    207\u001b[0m     \u001b[38;5;28mself\u001b[39m\u001b[38;5;241m.\u001b[39m_impl_policies[\u001b[38;5;241m0\u001b[39m]\n\u001b[0;32m    208\u001b[0m     \u001b[38;5;28;01mif\u001b[39;00m \u001b[38;5;28mself\u001b[39m\u001b[38;5;241m.\u001b[39m_impl_policies\n\u001b[0;32m    209\u001b[0m     \u001b[38;5;28;01melse\u001b[39;00m _TransportRunner(\u001b[38;5;28mself\u001b[39m\u001b[38;5;241m.\u001b[39m_transport)\n\u001b[0;32m    210\u001b[0m )\n\u001b[1;32m--> 211\u001b[0m \u001b[38;5;28;01mreturn\u001b[39;00m \u001b[43mfirst_node\u001b[49m\u001b[38;5;241;43m.\u001b[39;49m\u001b[43msend\u001b[49m\u001b[43m(\u001b[49m\u001b[43mpipeline_request\u001b[49m\u001b[43m)\u001b[49m\n",
      "File \u001b[1;32m~\\anaconda3\\lib\\site-packages\\azure\\core\\pipeline\\_base.py:71\u001b[0m, in \u001b[0;36m_SansIOHTTPPolicyRunner.send\u001b[1;34m(self, request)\u001b[0m\n\u001b[0;32m     69\u001b[0m _await_result(\u001b[38;5;28mself\u001b[39m\u001b[38;5;241m.\u001b[39m_policy\u001b[38;5;241m.\u001b[39mon_request, request)\n\u001b[0;32m     70\u001b[0m \u001b[38;5;28;01mtry\u001b[39;00m:\n\u001b[1;32m---> 71\u001b[0m     response \u001b[38;5;241m=\u001b[39m \u001b[38;5;28;43mself\u001b[39;49m\u001b[38;5;241;43m.\u001b[39;49m\u001b[43mnext\u001b[49m\u001b[38;5;241;43m.\u001b[39;49m\u001b[43msend\u001b[49m\u001b[43m(\u001b[49m\u001b[43mrequest\u001b[49m\u001b[43m)\u001b[49m\n\u001b[0;32m     72\u001b[0m \u001b[38;5;28;01mexcept\u001b[39;00m \u001b[38;5;167;01mException\u001b[39;00m:  \u001b[38;5;66;03m# pylint: disable=broad-except\u001b[39;00m\n\u001b[0;32m     73\u001b[0m     _await_result(\u001b[38;5;28mself\u001b[39m\u001b[38;5;241m.\u001b[39m_policy\u001b[38;5;241m.\u001b[39mon_exception, request)\n",
      "File \u001b[1;32m~\\anaconda3\\lib\\site-packages\\azure\\core\\pipeline\\_base.py:71\u001b[0m, in \u001b[0;36m_SansIOHTTPPolicyRunner.send\u001b[1;34m(self, request)\u001b[0m\n\u001b[0;32m     69\u001b[0m _await_result(\u001b[38;5;28mself\u001b[39m\u001b[38;5;241m.\u001b[39m_policy\u001b[38;5;241m.\u001b[39mon_request, request)\n\u001b[0;32m     70\u001b[0m \u001b[38;5;28;01mtry\u001b[39;00m:\n\u001b[1;32m---> 71\u001b[0m     response \u001b[38;5;241m=\u001b[39m \u001b[38;5;28;43mself\u001b[39;49m\u001b[38;5;241;43m.\u001b[39;49m\u001b[43mnext\u001b[49m\u001b[38;5;241;43m.\u001b[39;49m\u001b[43msend\u001b[49m\u001b[43m(\u001b[49m\u001b[43mrequest\u001b[49m\u001b[43m)\u001b[49m\n\u001b[0;32m     72\u001b[0m \u001b[38;5;28;01mexcept\u001b[39;00m \u001b[38;5;167;01mException\u001b[39;00m:  \u001b[38;5;66;03m# pylint: disable=broad-except\u001b[39;00m\n\u001b[0;32m     73\u001b[0m     _await_result(\u001b[38;5;28mself\u001b[39m\u001b[38;5;241m.\u001b[39m_policy\u001b[38;5;241m.\u001b[39mon_exception, request)\n",
      "    \u001b[1;31m[... skipping similar frames: _SansIOHTTPPolicyRunner.send at line 71 (2 times)]\u001b[0m\n",
      "File \u001b[1;32m~\\anaconda3\\lib\\site-packages\\azure\\core\\pipeline\\_base.py:71\u001b[0m, in \u001b[0;36m_SansIOHTTPPolicyRunner.send\u001b[1;34m(self, request)\u001b[0m\n\u001b[0;32m     69\u001b[0m _await_result(\u001b[38;5;28mself\u001b[39m\u001b[38;5;241m.\u001b[39m_policy\u001b[38;5;241m.\u001b[39mon_request, request)\n\u001b[0;32m     70\u001b[0m \u001b[38;5;28;01mtry\u001b[39;00m:\n\u001b[1;32m---> 71\u001b[0m     response \u001b[38;5;241m=\u001b[39m \u001b[38;5;28;43mself\u001b[39;49m\u001b[38;5;241;43m.\u001b[39;49m\u001b[43mnext\u001b[49m\u001b[38;5;241;43m.\u001b[39;49m\u001b[43msend\u001b[49m\u001b[43m(\u001b[49m\u001b[43mrequest\u001b[49m\u001b[43m)\u001b[49m\n\u001b[0;32m     72\u001b[0m \u001b[38;5;28;01mexcept\u001b[39;00m \u001b[38;5;167;01mException\u001b[39;00m:  \u001b[38;5;66;03m# pylint: disable=broad-except\u001b[39;00m\n\u001b[0;32m     73\u001b[0m     _await_result(\u001b[38;5;28mself\u001b[39m\u001b[38;5;241m.\u001b[39m_policy\u001b[38;5;241m.\u001b[39mon_exception, request)\n",
      "File \u001b[1;32m~\\anaconda3\\lib\\site-packages\\azure\\core\\pipeline\\policies\\_redirect.py:158\u001b[0m, in \u001b[0;36mRedirectPolicy.send\u001b[1;34m(self, request)\u001b[0m\n\u001b[0;32m    156\u001b[0m redirect_settings \u001b[38;5;241m=\u001b[39m \u001b[38;5;28mself\u001b[39m\u001b[38;5;241m.\u001b[39mconfigure_redirects(request\u001b[38;5;241m.\u001b[39mcontext\u001b[38;5;241m.\u001b[39moptions)\n\u001b[0;32m    157\u001b[0m \u001b[38;5;28;01mwhile\u001b[39;00m retryable:\n\u001b[1;32m--> 158\u001b[0m     response \u001b[38;5;241m=\u001b[39m \u001b[38;5;28;43mself\u001b[39;49m\u001b[38;5;241;43m.\u001b[39;49m\u001b[43mnext\u001b[49m\u001b[38;5;241;43m.\u001b[39;49m\u001b[43msend\u001b[49m\u001b[43m(\u001b[49m\u001b[43mrequest\u001b[49m\u001b[43m)\u001b[49m\n\u001b[0;32m    159\u001b[0m     redirect_location \u001b[38;5;241m=\u001b[39m \u001b[38;5;28mself\u001b[39m\u001b[38;5;241m.\u001b[39mget_redirect_location(response)\n\u001b[0;32m    160\u001b[0m     \u001b[38;5;28;01mif\u001b[39;00m redirect_location \u001b[38;5;129;01mand\u001b[39;00m redirect_settings[\u001b[38;5;124m'\u001b[39m\u001b[38;5;124mallow\u001b[39m\u001b[38;5;124m'\u001b[39m]:\n",
      "File \u001b[1;32m~\\anaconda3\\lib\\site-packages\\azure\\core\\pipeline\\policies\\_retry.py:468\u001b[0m, in \u001b[0;36mRetryPolicy.send\u001b[1;34m(self, request)\u001b[0m\n\u001b[0;32m    466\u001b[0m                 is_response_error \u001b[38;5;241m=\u001b[39m \u001b[38;5;28;01mTrue\u001b[39;00m\n\u001b[0;32m    467\u001b[0m             \u001b[38;5;28;01mcontinue\u001b[39;00m\n\u001b[1;32m--> 468\u001b[0m     \u001b[38;5;28;01mraise\u001b[39;00m err\n\u001b[0;32m    469\u001b[0m \u001b[38;5;28;01mfinally\u001b[39;00m:\n\u001b[0;32m    470\u001b[0m     end_time \u001b[38;5;241m=\u001b[39m time\u001b[38;5;241m.\u001b[39mtime()\n",
      "File \u001b[1;32m~\\anaconda3\\lib\\site-packages\\azure\\core\\pipeline\\policies\\_retry.py:446\u001b[0m, in \u001b[0;36mRetryPolicy.send\u001b[1;34m(self, request)\u001b[0m\n\u001b[0;32m    444\u001b[0m start_time \u001b[38;5;241m=\u001b[39m time\u001b[38;5;241m.\u001b[39mtime()\n\u001b[0;32m    445\u001b[0m \u001b[38;5;28mself\u001b[39m\u001b[38;5;241m.\u001b[39m_configure_timeout(request, absolute_timeout, is_response_error)\n\u001b[1;32m--> 446\u001b[0m response \u001b[38;5;241m=\u001b[39m \u001b[38;5;28;43mself\u001b[39;49m\u001b[38;5;241;43m.\u001b[39;49m\u001b[43mnext\u001b[49m\u001b[38;5;241;43m.\u001b[39;49m\u001b[43msend\u001b[49m\u001b[43m(\u001b[49m\u001b[43mrequest\u001b[49m\u001b[43m)\u001b[49m\n\u001b[0;32m    447\u001b[0m \u001b[38;5;28;01mif\u001b[39;00m \u001b[38;5;28mself\u001b[39m\u001b[38;5;241m.\u001b[39mis_retry(retry_settings, response):\n\u001b[0;32m    448\u001b[0m     retry_active \u001b[38;5;241m=\u001b[39m \u001b[38;5;28mself\u001b[39m\u001b[38;5;241m.\u001b[39mincrement(retry_settings, response\u001b[38;5;241m=\u001b[39mresponse)\n",
      "File \u001b[1;32m~\\anaconda3\\lib\\site-packages\\azure\\core\\pipeline\\_base.py:71\u001b[0m, in \u001b[0;36m_SansIOHTTPPolicyRunner.send\u001b[1;34m(self, request)\u001b[0m\n\u001b[0;32m     69\u001b[0m _await_result(\u001b[38;5;28mself\u001b[39m\u001b[38;5;241m.\u001b[39m_policy\u001b[38;5;241m.\u001b[39mon_request, request)\n\u001b[0;32m     70\u001b[0m \u001b[38;5;28;01mtry\u001b[39;00m:\n\u001b[1;32m---> 71\u001b[0m     response \u001b[38;5;241m=\u001b[39m \u001b[38;5;28;43mself\u001b[39;49m\u001b[38;5;241;43m.\u001b[39;49m\u001b[43mnext\u001b[49m\u001b[38;5;241;43m.\u001b[39;49m\u001b[43msend\u001b[49m\u001b[43m(\u001b[49m\u001b[43mrequest\u001b[49m\u001b[43m)\u001b[49m\n\u001b[0;32m     72\u001b[0m \u001b[38;5;28;01mexcept\u001b[39;00m \u001b[38;5;167;01mException\u001b[39;00m:  \u001b[38;5;66;03m# pylint: disable=broad-except\u001b[39;00m\n\u001b[0;32m     73\u001b[0m     _await_result(\u001b[38;5;28mself\u001b[39m\u001b[38;5;241m.\u001b[39m_policy\u001b[38;5;241m.\u001b[39mon_exception, request)\n",
      "File \u001b[1;32m~\\anaconda3\\lib\\site-packages\\azure\\core\\pipeline\\_base.py:71\u001b[0m, in \u001b[0;36m_SansIOHTTPPolicyRunner.send\u001b[1;34m(self, request)\u001b[0m\n\u001b[0;32m     69\u001b[0m _await_result(\u001b[38;5;28mself\u001b[39m\u001b[38;5;241m.\u001b[39m_policy\u001b[38;5;241m.\u001b[39mon_request, request)\n\u001b[0;32m     70\u001b[0m \u001b[38;5;28;01mtry\u001b[39;00m:\n\u001b[1;32m---> 71\u001b[0m     response \u001b[38;5;241m=\u001b[39m \u001b[38;5;28;43mself\u001b[39;49m\u001b[38;5;241;43m.\u001b[39;49m\u001b[43mnext\u001b[49m\u001b[38;5;241;43m.\u001b[39;49m\u001b[43msend\u001b[49m\u001b[43m(\u001b[49m\u001b[43mrequest\u001b[49m\u001b[43m)\u001b[49m\n\u001b[0;32m     72\u001b[0m \u001b[38;5;28;01mexcept\u001b[39;00m \u001b[38;5;167;01mException\u001b[39;00m:  \u001b[38;5;66;03m# pylint: disable=broad-except\u001b[39;00m\n\u001b[0;32m     73\u001b[0m     _await_result(\u001b[38;5;28mself\u001b[39m\u001b[38;5;241m.\u001b[39m_policy\u001b[38;5;241m.\u001b[39mon_exception, request)\n",
      "    \u001b[1;31m[... skipping similar frames: _SansIOHTTPPolicyRunner.send at line 71 (3 times)]\u001b[0m\n",
      "File \u001b[1;32m~\\anaconda3\\lib\\site-packages\\azure\\core\\pipeline\\_base.py:71\u001b[0m, in \u001b[0;36m_SansIOHTTPPolicyRunner.send\u001b[1;34m(self, request)\u001b[0m\n\u001b[0;32m     69\u001b[0m _await_result(\u001b[38;5;28mself\u001b[39m\u001b[38;5;241m.\u001b[39m_policy\u001b[38;5;241m.\u001b[39mon_request, request)\n\u001b[0;32m     70\u001b[0m \u001b[38;5;28;01mtry\u001b[39;00m:\n\u001b[1;32m---> 71\u001b[0m     response \u001b[38;5;241m=\u001b[39m \u001b[38;5;28;43mself\u001b[39;49m\u001b[38;5;241;43m.\u001b[39;49m\u001b[43mnext\u001b[49m\u001b[38;5;241;43m.\u001b[39;49m\u001b[43msend\u001b[49m\u001b[43m(\u001b[49m\u001b[43mrequest\u001b[49m\u001b[43m)\u001b[49m\n\u001b[0;32m     72\u001b[0m \u001b[38;5;28;01mexcept\u001b[39;00m \u001b[38;5;167;01mException\u001b[39;00m:  \u001b[38;5;66;03m# pylint: disable=broad-except\u001b[39;00m\n\u001b[0;32m     73\u001b[0m     _await_result(\u001b[38;5;28mself\u001b[39m\u001b[38;5;241m.\u001b[39m_policy\u001b[38;5;241m.\u001b[39mon_exception, request)\n",
      "File \u001b[1;32m~\\anaconda3\\lib\\site-packages\\azure\\core\\pipeline\\_base.py:103\u001b[0m, in \u001b[0;36m_TransportRunner.send\u001b[1;34m(self, request)\u001b[0m\n\u001b[0;32m     93\u001b[0m \u001b[38;5;28;01mdef\u001b[39;00m \u001b[38;5;21msend\u001b[39m(\u001b[38;5;28mself\u001b[39m, request):\n\u001b[0;32m     94\u001b[0m     \u001b[38;5;124;03m\"\"\"HTTP transport send method.\u001b[39;00m\n\u001b[0;32m     95\u001b[0m \n\u001b[0;32m     96\u001b[0m \u001b[38;5;124;03m    :param request: The PipelineRequest object.\u001b[39;00m\n\u001b[1;32m   (...)\u001b[0m\n\u001b[0;32m     99\u001b[0m \u001b[38;5;124;03m    :rtype: ~azure.core.pipeline.PipelineResponse\u001b[39;00m\n\u001b[0;32m    100\u001b[0m \u001b[38;5;124;03m    \"\"\"\u001b[39;00m\n\u001b[0;32m    101\u001b[0m     \u001b[38;5;28;01mreturn\u001b[39;00m PipelineResponse(\n\u001b[0;32m    102\u001b[0m         request\u001b[38;5;241m.\u001b[39mhttp_request,\n\u001b[1;32m--> 103\u001b[0m         \u001b[38;5;28mself\u001b[39m\u001b[38;5;241m.\u001b[39m_sender\u001b[38;5;241m.\u001b[39msend(request\u001b[38;5;241m.\u001b[39mhttp_request, \u001b[38;5;241m*\u001b[39m\u001b[38;5;241m*\u001b[39mrequest\u001b[38;5;241m.\u001b[39mcontext\u001b[38;5;241m.\u001b[39moptions),\n\u001b[0;32m    104\u001b[0m         context\u001b[38;5;241m=\u001b[39mrequest\u001b[38;5;241m.\u001b[39mcontext,\n\u001b[0;32m    105\u001b[0m     )\n",
      "File \u001b[1;32m~\\anaconda3\\lib\\site-packages\\azure\\core\\pipeline\\transport\\_requests_basic.py:361\u001b[0m, in \u001b[0;36mRequestsTransport.send\u001b[1;34m(self, request, **kwargs)\u001b[0m\n\u001b[0;32m    358\u001b[0m     error \u001b[38;5;241m=\u001b[39m ServiceRequestError(err, error\u001b[38;5;241m=\u001b[39merr)\n\u001b[0;32m    360\u001b[0m \u001b[38;5;28;01mif\u001b[39;00m error:\n\u001b[1;32m--> 361\u001b[0m     \u001b[38;5;28;01mraise\u001b[39;00m error\n\u001b[0;32m    362\u001b[0m \u001b[38;5;28;01mif\u001b[39;00m _is_rest(request):\n\u001b[0;32m    363\u001b[0m     \u001b[38;5;28;01mfrom\u001b[39;00m \u001b[38;5;21;01mazure\u001b[39;00m\u001b[38;5;21;01m.\u001b[39;00m\u001b[38;5;21;01mcore\u001b[39;00m\u001b[38;5;21;01m.\u001b[39;00m\u001b[38;5;21;01mrest\u001b[39;00m\u001b[38;5;21;01m.\u001b[39;00m\u001b[38;5;21;01m_requests_basic\u001b[39;00m \u001b[38;5;28;01mimport\u001b[39;00m RestRequestsTransportResponse\n",
      "\u001b[1;31mServiceRequestError\u001b[0m: <urllib3.connection.HTTPSConnection object at 0x000002062EDDB700>: Failed to establish a new connection: [Errno 11001] getaddrinfo failed"
     ]
    }
   ],
   "source": [
    "# Perform sentiment analysis of news description and extract the result into Pandas dataframe. \n",
    "news_data_sentiment = []\n",
    "for index, headers in news_data_df.iterrows():\n",
    "    news_title = str(headers['title'])\n",
    "    news_media = str(headers['media'])\n",
    "    news_update = str(headers['date'])\n",
    "    news_timestamp = str(headers['datetime'])\n",
    "    news_description = str(headers['desc'])\n",
    "    documents = [news_description]\n",
    "    response = client.analyze_sentiment(documents=documents,language=\"en\")[0]\n",
    "    sentiment = response.sentiment\n",
    "    news_link = str(headers['link'])\n",
    "    news_img = str(headers['img'])\n",
    "    news_data_sentiment.append([news_title, news_media, news_update, news_timestamp, \n",
    "                                news_description, sentiment, news_link, news_img])\n",
    "\n",
    "news_data_sentiment_df = pd.DataFrame(news_data_sentiment, columns=['Title', 'Media', 'Update', 'Timestamp',\n",
    "                                                                    'Description', 'Sentiment', 'Link', 'Image'])"
   ]
  },
  {
   "cell_type": "code",
   "execution_count": null,
   "id": "635dcbf7",
   "metadata": {},
   "outputs": [],
   "source": []
  }
 ],
 "metadata": {
  "kernelspec": {
   "display_name": "Python 3 (ipykernel)",
   "language": "python",
   "name": "python3"
  },
  "language_info": {
   "codemirror_mode": {
    "name": "ipython",
    "version": 3
   },
   "file_extension": ".py",
   "mimetype": "text/x-python",
   "name": "python",
   "nbconvert_exporter": "python",
   "pygments_lexer": "ipython3",
   "version": "3.9.12"
  }
 },
 "nbformat": 4,
 "nbformat_minor": 5
}
