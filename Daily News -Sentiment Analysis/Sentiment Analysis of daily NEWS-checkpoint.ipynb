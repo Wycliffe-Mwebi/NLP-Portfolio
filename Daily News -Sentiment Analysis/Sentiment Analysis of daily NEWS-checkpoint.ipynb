{
 "cells": [
  {
   "cell_type": "markdown",
   "id": "ba398091",
   "metadata": {},
   "source": [
    "# Sentiment Analysis of daily NEWS\n",
    "### Description:\n",
    "This project attempts to analyze the daily news we are subjected to. The complete analysis consists of 2 Sections.\n",
    "\n",
    "<b>Section 1:</b> This section involves sentiment analysis of the news articles, We try and investigate the sentiments associated with the news articles to answer the following questions\n",
    "\n",
    "1. Is the Media focussing too much on the negative side of the story? Do the negative news dominate the headlines ?\n",
    "2. Is there a perticular trend in the way the major publishishers from around the world report stories?\n",
    "3. Do the word distribution in news articles picked up randomly follow the zipf's law?\n",
    "4. Bigram Analysis of the headlines\n",
    "\n",
    "<b>Section 2:</b> Impact of News sentiment on stock market prices. Does it mean that if news is demoninated with negative news, the stock prices fall?\n",
    "\n",
    "<b>Note: </b>While rerunning the data collection part, kindly ensure that the start date of the API call is no later than one month prior to the current date in order to avoid any errors"
   ]
  },
  {
   "cell_type": "code",
   "execution_count": 110,
   "id": "85d68195",
   "metadata": {},
   "outputs": [],
   "source": [
    "# import necessary libraries\n",
    "import requests\n",
    "import json\n",
    "import numpy as np\n",
    "import pandas as pd\n",
    "import nltk \n",
    "import matplotlib\n",
    "from nltk.tokenize import sent_tokenize, word_tokenize\n",
    "from nltk.corpus import stopwords\n",
    "from string import punctuation\n",
    "import re\n",
    "import numpy as np\n",
    "from nltk.tokenize import RegexpTokenizer\n",
    "from nltk.stem import WordNetLemmatizer\n",
    "from rake_nltk import Rake "
   ]
  },
  {
   "cell_type": "markdown",
   "id": "6899aa63",
   "metadata": {},
   "source": [
    "## Task 1: Identify a suitable web API\n",
    "<b>API Chosen:</b> Two API's were chosen for this project, all the news articles were collected from https://newsapi.org/ . NewsAPI provides real time news articles from a wide variety of news publishers. The data for the stock prices was needed in the Section 2 of this project and hence another API was needed. The data was obtained from https://www.worldtradingdata.com/"
   ]
  },
  {
   "cell_type": "code",
   "execution_count": 85,
   "id": "314f5b1f",
   "metadata": {},
   "outputs": [],
   "source": [
    "url = 'https://newsapi.org/v2/everything?'"
   ]
  },
  {
   "cell_type": "code",
   "execution_count": 86,
   "id": "4a9f7f8d",
   "metadata": {},
   "outputs": [],
   "source": [
    "api_key = 'c67881b14d9c453b9693ac4c1d93ac05' "
   ]
  },
  {
   "cell_type": "markdown",
   "id": "e23e37fc",
   "metadata": {},
   "source": [
    "The following two functions are used to gather the data from the api and put it in a dataframe. The get_article function takes the raw data in the form of a dictionary and combines it in a structured format"
   ]
  },
  {
   "cell_type": "code",
   "execution_count": 87,
   "id": "f629d2ef",
   "metadata": {},
   "outputs": [],
   "source": [
    "# function to take raw data from the API and process it into a list inorder to trnasform it into a pandas dataframe\n",
    "def get_articles(file): \n",
    "    article_results = [] \n",
    "    for i in range(len(file)):\n",
    "        article_dict = {}\n",
    "        article_dict['author'] = file[i]['author']\n",
    "        article_dict['content'] = file[i]['content']  \n",
    "        article_dict['description'] = file[i]['description']\n",
    "        article_dict['photo_url'] = file[i]['urlToImage']\n",
    "        article_dict['pub_date'] = file[i]['publishedAt']\n",
    "        article_dict['source'] = file[i]['source']\n",
    "        article_dict['title'] = file[i]['title']\n",
    "        article_dict['url'] = file[i][\"url\"]\n",
    "        \n",
    "        article_results.append(article_dict)\n",
    "    return article_results"
   ]
  },
  {
   "cell_type": "markdown",
   "id": "7bbc3c0e",
   "metadata": {},
   "source": [
    "## Task 2: Collect data you have chosen API(s)\n",
    "The data for this assignment was collected in two stages because the API has a restrictions. The API only returned 100 news articles in an API call and the news could only be collected upto 1 month prior to the current date. In order to collect sufficent data for analysis, I used to approaches:\n",
    "\n",
    "1. Collect 100 articles per New Publish so that I could iterate through a list of News publishers and collect 100 news articles from each one of them\n",
    "\n",
    "2. Collect data in two phases. In phase 1 of the collection i collected data from 14th February till 14th March and in phase 2 I collected data from 15th March onwards till 29th of March 2020."
   ]
  },
  {
   "cell_type": "code",
   "execution_count": 88,
   "id": "abf4a3af",
   "metadata": {},
   "outputs": [
    {
     "data": {
      "text/html": [
       "<div>\n",
       "<style scoped>\n",
       "    .dataframe tbody tr th:only-of-type {\n",
       "        vertical-align: middle;\n",
       "    }\n",
       "\n",
       "    .dataframe tbody tr th {\n",
       "        vertical-align: top;\n",
       "    }\n",
       "\n",
       "    .dataframe thead th {\n",
       "        text-align: right;\n",
       "    }\n",
       "</style>\n",
       "<table border=\"1\" class=\"dataframe\">\n",
       "  <thead>\n",
       "    <tr style=\"text-align: right;\">\n",
       "      <th></th>\n",
       "      <th>author</th>\n",
       "      <th>content</th>\n",
       "      <th>description</th>\n",
       "      <th>photo_url</th>\n",
       "      <th>pub_date</th>\n",
       "      <th>source</th>\n",
       "      <th>title</th>\n",
       "      <th>url</th>\n",
       "    </tr>\n",
       "  </thead>\n",
       "  <tbody>\n",
       "    <tr>\n",
       "      <th>0</th>\n",
       "      <td>Mitchell Clark</td>\n",
       "      <td>People in plenty of countries may have to pay ...</td>\n",
       "      <td>Apple bragged about not raising the starting p...</td>\n",
       "      <td>https://cdn.vox-cdn.com/thumbor/WFqEevecKF_mXP...</td>\n",
       "      <td>2022-09-09T00:09:44Z</td>\n",
       "      <td>{'id': 'the-verge', 'name': 'The Verge'}</td>\n",
       "      <td>Apple did raise prices with the iPhone 14 and ...</td>\n",
       "      <td>https://www.theverge.com/2022/9/8/23343550/app...</td>\n",
       "    </tr>\n",
       "    <tr>\n",
       "      <th>1</th>\n",
       "      <td>Cheryl Eddy</td>\n",
       "      <td>New Disney+ series Andor is grabbing all the S...</td>\n",
       "      <td>New Disney+ series Andor is grabbing all the S...</td>\n",
       "      <td>https://i.kinja-img.com/gawker-media/image/upl...</td>\n",
       "      <td>2022-09-27T16:50:00Z</td>\n",
       "      <td>{'id': None, 'name': 'Gizmodo.com'}</td>\n",
       "      <td>Jedi Meet a Force Cult in the Latest Star Wars...</td>\n",
       "      <td>https://gizmodo.com/star-wars-novel-high-repub...</td>\n",
       "    </tr>\n",
       "    <tr>\n",
       "      <th>2</th>\n",
       "      <td>Ed Cara</td>\n",
       "      <td>A dogs snoot may be well-suited to sniffing ou...</td>\n",
       "      <td>A dog’s snoot may be well-suited to sniffing o...</td>\n",
       "      <td>https://i.kinja-img.com/gawker-media/image/upl...</td>\n",
       "      <td>2022-09-28T21:03:00Z</td>\n",
       "      <td>{'id': None, 'name': 'Gizmodo.com'}</td>\n",
       "      <td>Stressed? Your Dog Can Probably Smell It</td>\n",
       "      <td>https://gizmodo.com/dogs-can-smell-stress-1849...</td>\n",
       "    </tr>\n",
       "    <tr>\n",
       "      <th>3</th>\n",
       "      <td>None</td>\n",
       "      <td>Bundee Aki (right) was sent off for a dangerou...</td>\n",
       "      <td>Bundee Aki is set to miss Ireland's autumn int...</td>\n",
       "      <td>https://ichef.bbci.co.uk/live-experience/cps/6...</td>\n",
       "      <td>2022-09-29T15:04:30Z</td>\n",
       "      <td>{'id': 'bbc-news', 'name': 'BBC News'}</td>\n",
       "      <td>Bundee Aki: Ireland and Connacht centre banned...</td>\n",
       "      <td>https://www.bbc.co.uk/sport/rugby-union/63080213</td>\n",
       "    </tr>\n",
       "    <tr>\n",
       "      <th>4</th>\n",
       "      <td>https://www.facebook.com/bbcnews</td>\n",
       "      <td>By Gary O'DonoghueWashington correspondent, BB...</td>\n",
       "      <td>Expect unity on Ukraine and China but there's ...</td>\n",
       "      <td>https://ichef.bbci.co.uk/news/1024/branded_new...</td>\n",
       "      <td>2022-09-10T23:24:16Z</td>\n",
       "      <td>{'id': 'bbc-news', 'name': 'BBC News'}</td>\n",
       "      <td>Liz Truss and Joe Biden: The big issue that co...</td>\n",
       "      <td>https://www.bbc.co.uk/news/world-us-canada-628...</td>\n",
       "    </tr>\n",
       "  </tbody>\n",
       "</table>\n",
       "</div>"
      ],
      "text/plain": [
       "                             author  \\\n",
       "0                    Mitchell Clark   \n",
       "1                       Cheryl Eddy   \n",
       "2                           Ed Cara   \n",
       "3                              None   \n",
       "4  https://www.facebook.com/bbcnews   \n",
       "\n",
       "                                             content  \\\n",
       "0  People in plenty of countries may have to pay ...   \n",
       "1  New Disney+ series Andor is grabbing all the S...   \n",
       "2  A dogs snoot may be well-suited to sniffing ou...   \n",
       "3  Bundee Aki (right) was sent off for a dangerou...   \n",
       "4  By Gary O'DonoghueWashington correspondent, BB...   \n",
       "\n",
       "                                         description  \\\n",
       "0  Apple bragged about not raising the starting p...   \n",
       "1  New Disney+ series Andor is grabbing all the S...   \n",
       "2  A dog’s snoot may be well-suited to sniffing o...   \n",
       "3  Bundee Aki is set to miss Ireland's autumn int...   \n",
       "4  Expect unity on Ukraine and China but there's ...   \n",
       "\n",
       "                                           photo_url              pub_date  \\\n",
       "0  https://cdn.vox-cdn.com/thumbor/WFqEevecKF_mXP...  2022-09-09T00:09:44Z   \n",
       "1  https://i.kinja-img.com/gawker-media/image/upl...  2022-09-27T16:50:00Z   \n",
       "2  https://i.kinja-img.com/gawker-media/image/upl...  2022-09-28T21:03:00Z   \n",
       "3  https://ichef.bbci.co.uk/live-experience/cps/6...  2022-09-29T15:04:30Z   \n",
       "4  https://ichef.bbci.co.uk/news/1024/branded_new...  2022-09-10T23:24:16Z   \n",
       "\n",
       "                                     source  \\\n",
       "0  {'id': 'the-verge', 'name': 'The Verge'}   \n",
       "1       {'id': None, 'name': 'Gizmodo.com'}   \n",
       "2       {'id': None, 'name': 'Gizmodo.com'}   \n",
       "3    {'id': 'bbc-news', 'name': 'BBC News'}   \n",
       "4    {'id': 'bbc-news', 'name': 'BBC News'}   \n",
       "\n",
       "                                               title  \\\n",
       "0  Apple did raise prices with the iPhone 14 and ...   \n",
       "1  Jedi Meet a Force Cult in the Latest Star Wars...   \n",
       "2           Stressed? Your Dog Can Probably Smell It   \n",
       "3  Bundee Aki: Ireland and Connacht centre banned...   \n",
       "4  Liz Truss and Joe Biden: The big issue that co...   \n",
       "\n",
       "                                                 url  \n",
       "0  https://www.theverge.com/2022/9/8/23343550/app...  \n",
       "1  https://gizmodo.com/star-wars-novel-high-repub...  \n",
       "2  https://gizmodo.com/dogs-can-smell-stress-1849...  \n",
       "3   https://www.bbc.co.uk/sport/rugby-union/63080213  \n",
       "4  https://www.bbc.co.uk/news/world-us-canada-628...  "
      ]
     },
     "execution_count": 88,
     "metadata": {},
     "output_type": "execute_result"
    }
   ],
   "source": [
    "# Collecting the first 100 articles about ireland to check the API and the working of the function \n",
    "parameters_headlines = {\n",
    "    'q': 'Ireland',\n",
    "    'sortBy':'popularity',\n",
    "    'pageSize': 100,\n",
    "    'apiKey': api_key,\n",
    "    'language': 'en',\n",
    "    'start' : '2020-04-15'    \n",
    "}\n",
    "# making the API call \n",
    "response_headline = requests.get(url, params = parameters_headlines)\n",
    "response_json_headline = response_headline.json()\n",
    "responses = response_json_headline[\"articles\"]\n",
    "# transforminf the data from JSON dictionary to a pandas data frame\n",
    "news_articles_df = pd.DataFrame(get_articles(responses))\n",
    "# printing the head to check the format and the working of the get_articles function\n",
    "news_articles_df.head()"
   ]
  },
  {
   "cell_type": "markdown",
   "id": "2531e183",
   "metadata": {},
   "source": [
    "As we can see from the above result that the data is correctly being transformed from a dictionary to a pandas dataframe and hence we can go ahead and loop through the list of reputated sources and make an API call to fetch 100 news articles from that source. I appended the results of each API call to the dataframe. This alowed me to collect collect sufficient data from the API"
   ]
  },
  {
   "cell_type": "code",
   "execution_count": 89,
   "id": "01e26329",
   "metadata": {},
   "outputs": [],
   "source": [
    "import warnings\n",
    "warnings.filterwarnings(\"ignore\")"
   ]
  },
  {
   "cell_type": "code",
   "execution_count": 90,
   "id": "c4e3cdf0",
   "metadata": {},
   "outputs": [
    {
     "ename": "KeyError",
     "evalue": "'articles'",
     "output_type": "error",
     "traceback": [
      "\u001b[1;31m---------------------------------------------------------------------------\u001b[0m",
      "\u001b[1;31mKeyError\u001b[0m                                  Traceback (most recent call last)",
      "Input \u001b[1;32mIn [90]\u001b[0m, in \u001b[0;36m<cell line: 8>\u001b[1;34m()\u001b[0m\n\u001b[0;32m     17\u001b[0m rr \u001b[38;5;241m=\u001b[39m requests\u001b[38;5;241m.\u001b[39mget(url, params \u001b[38;5;241m=\u001b[39m parameters_headlines)\n\u001b[0;32m     18\u001b[0m data \u001b[38;5;241m=\u001b[39m rr\u001b[38;5;241m.\u001b[39mjson()\n\u001b[1;32m---> 19\u001b[0m responses \u001b[38;5;241m=\u001b[39m \u001b[43mdata\u001b[49m\u001b[43m[\u001b[49m\u001b[38;5;124;43m\"\u001b[39;49m\u001b[38;5;124;43marticles\u001b[39;49m\u001b[38;5;124;43m\"\u001b[39;49m\u001b[43m]\u001b[49m\n\u001b[0;32m     20\u001b[0m news_articles_df\u001b[38;5;241m=\u001b[39mnews_articles_df\u001b[38;5;241m.\u001b[39mappend(pd\u001b[38;5;241m.\u001b[39mDataFrame(get_articles(responses)))\n",
      "\u001b[1;31mKeyError\u001b[0m: 'articles'"
     ]
    }
   ],
   "source": [
    "responses = list() # stores responses for various news sources\n",
    "domains = ['wsj.com','aljazeera.com','bbc.co.uk','techcrunch.com', 'nytimes.com','bloomberg.com','businessinsider.com',\n",
    "             'cbc.ca','cnbc.com','cnn.com','ew.com','espn.go.com','espncricinfo.com','foxnews.com', 'apnews.com',\n",
    "             'news.nationalgeographic.com','nymag.com','reuters.com','rte.ie','thehindu.com','huffingtonpost.com',\n",
    "             'irishtimes.com','timesofindia.indiatimes.com','washingtonpost.com','time.com','medicalnewstoday.com',\n",
    "             'ndtv.com','theguardian.com','dailymail.co.uk','firstpost.com','thejournal.ie', 'hindustantimes.com',\n",
    "             'economist.com','news.vice.com','usatoday.com','telegraph.co.uk','metro.co.uk','mirror.co.uk','news.google.com']\n",
    "for domain in domains:\n",
    "    parameters_headlines = {\n",
    "    'domains':format(domain),\n",
    "    'sortBy':'popularity',\n",
    "    'pageSize': 100,\n",
    "    'apiKey': api_key,\n",
    "    'language': 'en',\n",
    "    'start' : '2020-04-15'    \n",
    "    }\n",
    "    rr = requests.get(url, params = parameters_headlines)\n",
    "    data = rr.json()\n",
    "    responses = data[\"articles\"]\n",
    "    news_articles_df=news_articles_df.append(pd.DataFrame(get_articles(responses)))"
   ]
  },
  {
   "cell_type": "code",
   "execution_count": null,
   "id": "88678aaf",
   "metadata": {},
   "outputs": [],
   "source": [
    "print(news_articles_df.shape)\n",
    "news_articles_df.head()"
   ]
  },
  {
   "cell_type": "markdown",
   "id": "a46ba400",
   "metadata": {},
   "source": [
    "## Task 3: Cleaning and preprocessing the Data"
   ]
  },
  {
   "cell_type": "code",
   "execution_count": 91,
   "id": "4a41474f",
   "metadata": {},
   "outputs": [],
   "source": [
    "# function to exatract just the name of the source of the news article and exclude other details\n",
    "def source_getter(df):\n",
    "    source = []\n",
    "    for source_dict in df['source']:\n",
    "        source.append(source_dict['name'])\n",
    "    df['source'] = source #append the source to the df"
   ]
  },
  {
   "cell_type": "code",
   "execution_count": 92,
   "id": "29d5ff13",
   "metadata": {},
   "outputs": [],
   "source": [
    "# this fuincton extracts the source name from the source dictionary as seen above\n",
    "source_getter(news_articles_df)"
   ]
  },
  {
   "cell_type": "code",
   "execution_count": 93,
   "id": "75def627",
   "metadata": {},
   "outputs": [],
   "source": [
    "# converted the publication date to date time format for future analysis\n",
    "news_articles_df['pub_date'] = pd.to_datetime(news_articles_df['pub_date']).apply(lambda x: x.date())"
   ]
  },
  {
   "cell_type": "code",
   "execution_count": 94,
   "id": "a9b43e3b",
   "metadata": {},
   "outputs": [
    {
     "data": {
      "text/plain": [
       "author         104\n",
       "content          0\n",
       "description      0\n",
       "photo_url        0\n",
       "pub_date         0\n",
       "source           0\n",
       "title            0\n",
       "url              0\n",
       "dtype: int64"
      ]
     },
     "execution_count": 94,
     "metadata": {},
     "output_type": "execute_result"
    }
   ],
   "source": [
    "#look for missing data\n",
    "news_articles_df.isnull().sum() "
   ]
  },
  {
   "cell_type": "markdown",
   "id": "40700115",
   "metadata": {},
   "source": [
    "We can see that there are quite a few missing values present in the dataset and since the dataset is purely textual in nature and given the type of fields having the missing value, it is not possible to fill the missing values in this case hence I dicided to drop all rows with null values."
   ]
  },
  {
   "cell_type": "code",
   "execution_count": 95,
   "id": "525d0b6d",
   "metadata": {},
   "outputs": [
    {
     "name": "stdout",
     "output_type": "stream",
     "text": [
      "author         0\n",
      "content        0\n",
      "description    0\n",
      "photo_url      0\n",
      "pub_date       0\n",
      "source         0\n",
      "title          0\n",
      "url            0\n",
      "dtype: int64\n",
      "(296, 8)\n"
     ]
    }
   ],
   "source": [
    "# droping the rows with missing data \n",
    "news_articles_df.dropna(inplace=True)\n",
    "news_articles_df = news_articles_df[~news_articles_df['description'].isnull()]\n",
    "# summarize the number of rows and columns in the dataset\n",
    "print(news_articles_df.isnull().sum())\n",
    "print(news_articles_df.shape)"
   ]
  },
  {
   "cell_type": "markdown",
   "id": "dda94518",
   "metadata": {},
   "source": [
    "The title along with the content provided significant detail regarding the story and both columns contained soem keywords which were essential for futher analysis hence they were combined to form one column"
   ]
  },
  {
   "cell_type": "code",
   "execution_count": 96,
   "id": "0083fbd6",
   "metadata": {},
   "outputs": [],
   "source": [
    "# combine the title and the content to get one dataframe column\n",
    "news_articles_df['combined_text'] = news_articles_df['title'].map(str) +\" \"+ news_articles_df['content'].map(str) "
   ]
  },
  {
   "cell_type": "code",
   "execution_count": 97,
   "id": "8778d7ec",
   "metadata": {},
   "outputs": [
    {
     "data": {
      "text/html": [
       "<div>\n",
       "<style scoped>\n",
       "    .dataframe tbody tr th:only-of-type {\n",
       "        vertical-align: middle;\n",
       "    }\n",
       "\n",
       "    .dataframe tbody tr th {\n",
       "        vertical-align: top;\n",
       "    }\n",
       "\n",
       "    .dataframe thead th {\n",
       "        text-align: right;\n",
       "    }\n",
       "</style>\n",
       "<table border=\"1\" class=\"dataframe\">\n",
       "  <thead>\n",
       "    <tr style=\"text-align: right;\">\n",
       "      <th></th>\n",
       "      <th>author</th>\n",
       "      <th>content</th>\n",
       "      <th>description</th>\n",
       "      <th>photo_url</th>\n",
       "      <th>pub_date</th>\n",
       "      <th>source</th>\n",
       "      <th>title</th>\n",
       "      <th>url</th>\n",
       "      <th>combined_text</th>\n",
       "    </tr>\n",
       "  </thead>\n",
       "  <tbody>\n",
       "    <tr>\n",
       "      <th>0</th>\n",
       "      <td>Mitchell Clark</td>\n",
       "      <td>People in plenty of countries may have to pay ...</td>\n",
       "      <td>Apple bragged about not raising the starting p...</td>\n",
       "      <td>https://cdn.vox-cdn.com/thumbor/WFqEevecKF_mXP...</td>\n",
       "      <td>2022-09-09</td>\n",
       "      <td>The Verge</td>\n",
       "      <td>Apple did raise prices with the iPhone 14 and ...</td>\n",
       "      <td>https://www.theverge.com/2022/9/8/23343550/app...</td>\n",
       "      <td>Apple did raise prices with the iPhone 14 and ...</td>\n",
       "    </tr>\n",
       "    <tr>\n",
       "      <th>1</th>\n",
       "      <td>Cheryl Eddy</td>\n",
       "      <td>New Disney+ series Andor is grabbing all the S...</td>\n",
       "      <td>New Disney+ series Andor is grabbing all the S...</td>\n",
       "      <td>https://i.kinja-img.com/gawker-media/image/upl...</td>\n",
       "      <td>2022-09-27</td>\n",
       "      <td>Gizmodo.com</td>\n",
       "      <td>Jedi Meet a Force Cult in the Latest Star Wars...</td>\n",
       "      <td>https://gizmodo.com/star-wars-novel-high-repub...</td>\n",
       "      <td>Jedi Meet a Force Cult in the Latest Star Wars...</td>\n",
       "    </tr>\n",
       "    <tr>\n",
       "      <th>2</th>\n",
       "      <td>Ed Cara</td>\n",
       "      <td>A dogs snoot may be well-suited to sniffing ou...</td>\n",
       "      <td>A dog’s snoot may be well-suited to sniffing o...</td>\n",
       "      <td>https://i.kinja-img.com/gawker-media/image/upl...</td>\n",
       "      <td>2022-09-28</td>\n",
       "      <td>Gizmodo.com</td>\n",
       "      <td>Stressed? Your Dog Can Probably Smell It</td>\n",
       "      <td>https://gizmodo.com/dogs-can-smell-stress-1849...</td>\n",
       "      <td>Stressed? Your Dog Can Probably Smell It A dog...</td>\n",
       "    </tr>\n",
       "    <tr>\n",
       "      <th>4</th>\n",
       "      <td>https://www.facebook.com/bbcnews</td>\n",
       "      <td>By Gary O'DonoghueWashington correspondent, BB...</td>\n",
       "      <td>Expect unity on Ukraine and China but there's ...</td>\n",
       "      <td>https://ichef.bbci.co.uk/news/1024/branded_new...</td>\n",
       "      <td>2022-09-10</td>\n",
       "      <td>BBC News</td>\n",
       "      <td>Liz Truss and Joe Biden: The big issue that co...</td>\n",
       "      <td>https://www.bbc.co.uk/news/world-us-canada-628...</td>\n",
       "      <td>Liz Truss and Joe Biden: The big issue that co...</td>\n",
       "    </tr>\n",
       "    <tr>\n",
       "      <th>5</th>\n",
       "      <td>https://www.facebook.com/bbcnews</td>\n",
       "      <td>The Queen will lie in state for four days befo...</td>\n",
       "      <td>People will be able to view the Queen's coffin...</td>\n",
       "      <td>https://ichef.bbci.co.uk/news/1024/branded_new...</td>\n",
       "      <td>2022-09-10</td>\n",
       "      <td>BBC News</td>\n",
       "      <td>Queen to lie in state for four full days befor...</td>\n",
       "      <td>https://www.bbc.co.uk/news/uk-62863486</td>\n",
       "      <td>Queen to lie in state for four full days befor...</td>\n",
       "    </tr>\n",
       "  </tbody>\n",
       "</table>\n",
       "</div>"
      ],
      "text/plain": [
       "                             author  \\\n",
       "0                    Mitchell Clark   \n",
       "1                       Cheryl Eddy   \n",
       "2                           Ed Cara   \n",
       "4  https://www.facebook.com/bbcnews   \n",
       "5  https://www.facebook.com/bbcnews   \n",
       "\n",
       "                                             content  \\\n",
       "0  People in plenty of countries may have to pay ...   \n",
       "1  New Disney+ series Andor is grabbing all the S...   \n",
       "2  A dogs snoot may be well-suited to sniffing ou...   \n",
       "4  By Gary O'DonoghueWashington correspondent, BB...   \n",
       "5  The Queen will lie in state for four days befo...   \n",
       "\n",
       "                                         description  \\\n",
       "0  Apple bragged about not raising the starting p...   \n",
       "1  New Disney+ series Andor is grabbing all the S...   \n",
       "2  A dog’s snoot may be well-suited to sniffing o...   \n",
       "4  Expect unity on Ukraine and China but there's ...   \n",
       "5  People will be able to view the Queen's coffin...   \n",
       "\n",
       "                                           photo_url    pub_date       source  \\\n",
       "0  https://cdn.vox-cdn.com/thumbor/WFqEevecKF_mXP...  2022-09-09    The Verge   \n",
       "1  https://i.kinja-img.com/gawker-media/image/upl...  2022-09-27  Gizmodo.com   \n",
       "2  https://i.kinja-img.com/gawker-media/image/upl...  2022-09-28  Gizmodo.com   \n",
       "4  https://ichef.bbci.co.uk/news/1024/branded_new...  2022-09-10     BBC News   \n",
       "5  https://ichef.bbci.co.uk/news/1024/branded_new...  2022-09-10     BBC News   \n",
       "\n",
       "                                               title  \\\n",
       "0  Apple did raise prices with the iPhone 14 and ...   \n",
       "1  Jedi Meet a Force Cult in the Latest Star Wars...   \n",
       "2           Stressed? Your Dog Can Probably Smell It   \n",
       "4  Liz Truss and Joe Biden: The big issue that co...   \n",
       "5  Queen to lie in state for four full days befor...   \n",
       "\n",
       "                                                 url  \\\n",
       "0  https://www.theverge.com/2022/9/8/23343550/app...   \n",
       "1  https://gizmodo.com/star-wars-novel-high-repub...   \n",
       "2  https://gizmodo.com/dogs-can-smell-stress-1849...   \n",
       "4  https://www.bbc.co.uk/news/world-us-canada-628...   \n",
       "5             https://www.bbc.co.uk/news/uk-62863486   \n",
       "\n",
       "                                       combined_text  \n",
       "0  Apple did raise prices with the iPhone 14 and ...  \n",
       "1  Jedi Meet a Force Cult in the Latest Star Wars...  \n",
       "2  Stressed? Your Dog Can Probably Smell It A dog...  \n",
       "4  Liz Truss and Joe Biden: The big issue that co...  \n",
       "5  Queen to lie in state for four full days befor...  "
      ]
     },
     "execution_count": 97,
     "metadata": {},
     "output_type": "execute_result"
    }
   ],
   "source": [
    "news_articles_df.head()"
   ]
  },
  {
   "cell_type": "markdown",
   "id": "bb92ef1c",
   "metadata": {},
   "source": [
    "Applying Text Preprocessing steps: In the followting sections, some of the text preprocessing steps were applied to the data. The steps included:\n",
    "\n",
    "- Tokenization\n",
    "- Removing the non ASCII characters from the text\n",
    "- Stop words removal\n",
    "- Removing punctuations, apostrophe, special characters etc\n",
    "- lemmatize the text"
   ]
  },
  {
   "cell_type": "code",
   "execution_count": 98,
   "id": "4fdae5ec",
   "metadata": {},
   "outputs": [],
   "source": [
    "# Function to remove non-ascii characters from the text\n",
    "def _removeNonAscii(s): \n",
    "    return \"\".join(i for i in s if ord(i)<128)\n",
    "# function to remove the punctuations, apostrophe, special characters using regular expressions\n",
    "def clean_text(text):\n",
    "    text = text.lower()\n",
    "    text = re.sub(r\"what's\", \"what is \", text)\n",
    "    text = text.replace('(ap)', '')\n",
    "    text = re.sub(r\"\\'s\", \" is \", text)\n",
    "    text = re.sub(r\"\\'ve\", \" have \", text)\n",
    "    text = re.sub(r\"can't\", \"cannot \", text)\n",
    "    text = re.sub(r\"n't\", \" not \", text)\n",
    "    text = re.sub(r\"i'm\", \"i am \", text)\n",
    "    text = re.sub(r\"\\'re\", \" are \", text)\n",
    "    text = re.sub(r\"\\'d\", \" would \", text)\n",
    "    text = re.sub(r\"\\'ll\", \" will \", text)\n",
    "    text = re.sub(r'\\W+', ' ', text)\n",
    "    text = re.sub(r'\\s+', ' ', text)\n",
    "    text = re.sub(r\"\\\\\", \"\", text)\n",
    "    text = re.sub(r\"\\'\", \"\", text)    \n",
    "    text = re.sub(r\"\\\"\", \"\", text)\n",
    "    text = re.sub('[^a-zA-Z ?!]+', '', text)\n",
    "    text = _removeNonAscii(text)\n",
    "    text = text.strip()\n",
    "    return text\n",
    "# stop words are the words that convery little to no information about the actual content like the words:the, of, for etc\n",
    "def remove_stopwords(word_tokens):\n",
    "    filtered_sentence = [] \n",
    "    stop_words = stopwords.words('english')\n",
    "    specific_words_list = ['char', 'u', 'hindustan', 'doj', 'washington'] \n",
    "    stop_words.extend(specific_words_list )\n",
    "    for w in word_tokens: \n",
    "        if w not in stop_words: \n",
    "            filtered_sentence.append(w) \n",
    "    return filtered_sentence\n",
    "# function for lemmatization \n",
    "def lemmatize(x):\n",
    "    lemmatizer = WordNetLemmatizer()\n",
    "    return' '.join([lemmatizer.lemmatize(word) for word in x])"
   ]
  },
  {
   "cell_type": "code",
   "execution_count": 99,
   "id": "5536ba93",
   "metadata": {},
   "outputs": [],
   "source": [
    "# splitting a string, text into a list of tokens\n",
    "tokenizer = RegexpTokenizer(r'\\w+')\n",
    "def tokenize(x): \n",
    "    return tokenizer.tokenize(x)"
   ]
  },
  {
   "cell_type": "code",
   "execution_count": 100,
   "id": "22781f3d",
   "metadata": {},
   "outputs": [],
   "source": [
    "# applying all of these functions to the our dataframe \n",
    "news_articles_df['combined_text'] = news_articles_df['combined_text'].map(clean_text)\n",
    "news_articles_df['tokens'] = news_articles_df['combined_text'].map(tokenize)\n",
    "news_articles_df['tokens'] = news_articles_df['tokens'].map(remove_stopwords)\n",
    "news_articles_df['lems'] =news_articles_df['tokens'].map(lemmatize)"
   ]
  },
  {
   "cell_type": "code",
   "execution_count": 101,
   "id": "8d857f74",
   "metadata": {},
   "outputs": [
    {
     "data": {
      "text/html": [
       "<div>\n",
       "<style scoped>\n",
       "    .dataframe tbody tr th:only-of-type {\n",
       "        vertical-align: middle;\n",
       "    }\n",
       "\n",
       "    .dataframe tbody tr th {\n",
       "        vertical-align: top;\n",
       "    }\n",
       "\n",
       "    .dataframe thead th {\n",
       "        text-align: right;\n",
       "    }\n",
       "</style>\n",
       "<table border=\"1\" class=\"dataframe\">\n",
       "  <thead>\n",
       "    <tr style=\"text-align: right;\">\n",
       "      <th></th>\n",
       "      <th>author</th>\n",
       "      <th>content</th>\n",
       "      <th>description</th>\n",
       "      <th>photo_url</th>\n",
       "      <th>pub_date</th>\n",
       "      <th>source</th>\n",
       "      <th>title</th>\n",
       "      <th>url</th>\n",
       "      <th>combined_text</th>\n",
       "      <th>tokens</th>\n",
       "      <th>lems</th>\n",
       "    </tr>\n",
       "  </thead>\n",
       "  <tbody>\n",
       "    <tr>\n",
       "      <th>0</th>\n",
       "      <td>Mitchell Clark</td>\n",
       "      <td>People in plenty of countries may have to pay ...</td>\n",
       "      <td>Apple bragged about not raising the starting p...</td>\n",
       "      <td>https://cdn.vox-cdn.com/thumbor/WFqEevecKF_mXP...</td>\n",
       "      <td>2022-09-09</td>\n",
       "      <td>The Verge</td>\n",
       "      <td>Apple did raise prices with the iPhone 14 and ...</td>\n",
       "      <td>https://www.theverge.com/2022/9/8/23343550/app...</td>\n",
       "      <td>apple did raise prices with the iphone  and wa...</td>\n",
       "      <td>[apple, raise, prices, iphone, watch, series, ...</td>\n",
       "      <td>apple raise price iphone watch series u china ...</td>\n",
       "    </tr>\n",
       "    <tr>\n",
       "      <th>1</th>\n",
       "      <td>Cheryl Eddy</td>\n",
       "      <td>New Disney+ series Andor is grabbing all the S...</td>\n",
       "      <td>New Disney+ series Andor is grabbing all the S...</td>\n",
       "      <td>https://i.kinja-img.com/gawker-media/image/upl...</td>\n",
       "      <td>2022-09-27</td>\n",
       "      <td>Gizmodo.com</td>\n",
       "      <td>Jedi Meet a Force Cult in the Latest Star Wars...</td>\n",
       "      <td>https://gizmodo.com/star-wars-novel-high-repub...</td>\n",
       "      <td>jedi meet a force cult in the latest star wars...</td>\n",
       "      <td>[jedi, meet, force, cult, latest, star, wars, ...</td>\n",
       "      <td>jedi meet force cult latest star war high repu...</td>\n",
       "    </tr>\n",
       "    <tr>\n",
       "      <th>2</th>\n",
       "      <td>Ed Cara</td>\n",
       "      <td>A dogs snoot may be well-suited to sniffing ou...</td>\n",
       "      <td>A dog’s snoot may be well-suited to sniffing o...</td>\n",
       "      <td>https://i.kinja-img.com/gawker-media/image/upl...</td>\n",
       "      <td>2022-09-28</td>\n",
       "      <td>Gizmodo.com</td>\n",
       "      <td>Stressed? Your Dog Can Probably Smell It</td>\n",
       "      <td>https://gizmodo.com/dogs-can-smell-stress-1849...</td>\n",
       "      <td>stressed your dog can probably smell it a dogs...</td>\n",
       "      <td>[stressed, dog, probably, smell, dogs, snoot, ...</td>\n",
       "      <td>stressed dog probably smell dog snoot may well...</td>\n",
       "    </tr>\n",
       "    <tr>\n",
       "      <th>4</th>\n",
       "      <td>https://www.facebook.com/bbcnews</td>\n",
       "      <td>By Gary O'DonoghueWashington correspondent, BB...</td>\n",
       "      <td>Expect unity on Ukraine and China but there's ...</td>\n",
       "      <td>https://ichef.bbci.co.uk/news/1024/branded_new...</td>\n",
       "      <td>2022-09-10</td>\n",
       "      <td>BBC News</td>\n",
       "      <td>Liz Truss and Joe Biden: The big issue that co...</td>\n",
       "      <td>https://www.bbc.co.uk/news/world-us-canada-628...</td>\n",
       "      <td>liz truss and joe biden the big issue that cou...</td>\n",
       "      <td>[liz, truss, joe, biden, big, issue, could, de...</td>\n",
       "      <td>liz truss joe biden big issue could derail uk ...</td>\n",
       "    </tr>\n",
       "    <tr>\n",
       "      <th>5</th>\n",
       "      <td>https://www.facebook.com/bbcnews</td>\n",
       "      <td>The Queen will lie in state for four days befo...</td>\n",
       "      <td>People will be able to view the Queen's coffin...</td>\n",
       "      <td>https://ichef.bbci.co.uk/news/1024/branded_new...</td>\n",
       "      <td>2022-09-10</td>\n",
       "      <td>BBC News</td>\n",
       "      <td>Queen to lie in state for four full days befor...</td>\n",
       "      <td>https://www.bbc.co.uk/news/uk-62863486</td>\n",
       "      <td>queen to lie in state for four full days befor...</td>\n",
       "      <td>[queen, lie, state, four, full, days, state, f...</td>\n",
       "      <td>queen lie state four full day state funeral qu...</td>\n",
       "    </tr>\n",
       "  </tbody>\n",
       "</table>\n",
       "</div>"
      ],
      "text/plain": [
       "                             author  \\\n",
       "0                    Mitchell Clark   \n",
       "1                       Cheryl Eddy   \n",
       "2                           Ed Cara   \n",
       "4  https://www.facebook.com/bbcnews   \n",
       "5  https://www.facebook.com/bbcnews   \n",
       "\n",
       "                                             content  \\\n",
       "0  People in plenty of countries may have to pay ...   \n",
       "1  New Disney+ series Andor is grabbing all the S...   \n",
       "2  A dogs snoot may be well-suited to sniffing ou...   \n",
       "4  By Gary O'DonoghueWashington correspondent, BB...   \n",
       "5  The Queen will lie in state for four days befo...   \n",
       "\n",
       "                                         description  \\\n",
       "0  Apple bragged about not raising the starting p...   \n",
       "1  New Disney+ series Andor is grabbing all the S...   \n",
       "2  A dog’s snoot may be well-suited to sniffing o...   \n",
       "4  Expect unity on Ukraine and China but there's ...   \n",
       "5  People will be able to view the Queen's coffin...   \n",
       "\n",
       "                                           photo_url    pub_date       source  \\\n",
       "0  https://cdn.vox-cdn.com/thumbor/WFqEevecKF_mXP...  2022-09-09    The Verge   \n",
       "1  https://i.kinja-img.com/gawker-media/image/upl...  2022-09-27  Gizmodo.com   \n",
       "2  https://i.kinja-img.com/gawker-media/image/upl...  2022-09-28  Gizmodo.com   \n",
       "4  https://ichef.bbci.co.uk/news/1024/branded_new...  2022-09-10     BBC News   \n",
       "5  https://ichef.bbci.co.uk/news/1024/branded_new...  2022-09-10     BBC News   \n",
       "\n",
       "                                               title  \\\n",
       "0  Apple did raise prices with the iPhone 14 and ...   \n",
       "1  Jedi Meet a Force Cult in the Latest Star Wars...   \n",
       "2           Stressed? Your Dog Can Probably Smell It   \n",
       "4  Liz Truss and Joe Biden: The big issue that co...   \n",
       "5  Queen to lie in state for four full days befor...   \n",
       "\n",
       "                                                 url  \\\n",
       "0  https://www.theverge.com/2022/9/8/23343550/app...   \n",
       "1  https://gizmodo.com/star-wars-novel-high-repub...   \n",
       "2  https://gizmodo.com/dogs-can-smell-stress-1849...   \n",
       "4  https://www.bbc.co.uk/news/world-us-canada-628...   \n",
       "5             https://www.bbc.co.uk/news/uk-62863486   \n",
       "\n",
       "                                       combined_text  \\\n",
       "0  apple did raise prices with the iphone  and wa...   \n",
       "1  jedi meet a force cult in the latest star wars...   \n",
       "2  stressed your dog can probably smell it a dogs...   \n",
       "4  liz truss and joe biden the big issue that cou...   \n",
       "5  queen to lie in state for four full days befor...   \n",
       "\n",
       "                                              tokens  \\\n",
       "0  [apple, raise, prices, iphone, watch, series, ...   \n",
       "1  [jedi, meet, force, cult, latest, star, wars, ...   \n",
       "2  [stressed, dog, probably, smell, dogs, snoot, ...   \n",
       "4  [liz, truss, joe, biden, big, issue, could, de...   \n",
       "5  [queen, lie, state, four, full, days, state, f...   \n",
       "\n",
       "                                                lems  \n",
       "0  apple raise price iphone watch series u china ...  \n",
       "1  jedi meet force cult latest star war high repu...  \n",
       "2  stressed dog probably smell dog snoot may well...  \n",
       "4  liz truss joe biden big issue could derail uk ...  \n",
       "5  queen lie state four full day state funeral qu...  "
      ]
     },
     "execution_count": 101,
     "metadata": {},
     "output_type": "execute_result"
    }
   ],
   "source": [
    "news_articles_df.head()"
   ]
  },
  {
   "cell_type": "code",
   "execution_count": 102,
   "id": "ae143b3b",
   "metadata": {},
   "outputs": [],
   "source": [
    "# finding the keywords using the rake algorithm from NLTK\n",
    "# rake is Rapid Automatic Keyword Extraction algorithm, and is used for domain independent keyword extraction\n",
    "news_articles_df['keywords'] = \"\"\n",
    "for index,row in news_articles_df.iterrows():\n",
    "    comb_text = row['combined_text']\n",
    "    r = Rake()\n",
    "    r.extract_keywords_from_text(comb_text)\n",
    "    key_words_dict = r.get_word_degrees()\n",
    "    row['keywords'] = list(key_words_dict.keys())"
   ]
  },
  {
   "cell_type": "code",
   "execution_count": 68,
   "id": "7e9ab34b",
   "metadata": {},
   "outputs": [],
   "source": [
    "# applying the fucntion to the dataframe\n",
    "news_articles_df['keywords'] = news_articles_df['keywords'].map(remove_stopwords)\n",
    "news_articles_df['lems'] =news_articles_df['keywords'].map(lemmatize)"
   ]
  },
  {
   "cell_type": "code",
   "execution_count": 103,
   "id": "0c6cc4d3",
   "metadata": {},
   "outputs": [],
   "source": [
    "news_articles_df.head()\n",
    "news_articles_df.to_csv(r'C:\\Users\\user\\Datasets\\news\\news_articles2_clean.csv', index = False)"
   ]
  },
  {
   "cell_type": "code",
   "execution_count": 104,
   "id": "3e0af856",
   "metadata": {},
   "outputs": [
    {
     "data": {
      "text/html": [
       "<div>\n",
       "<style scoped>\n",
       "    .dataframe tbody tr th:only-of-type {\n",
       "        vertical-align: middle;\n",
       "    }\n",
       "\n",
       "    .dataframe tbody tr th {\n",
       "        vertical-align: top;\n",
       "    }\n",
       "\n",
       "    .dataframe thead th {\n",
       "        text-align: right;\n",
       "    }\n",
       "</style>\n",
       "<table border=\"1\" class=\"dataframe\">\n",
       "  <thead>\n",
       "    <tr style=\"text-align: right;\">\n",
       "      <th></th>\n",
       "      <th>author</th>\n",
       "      <th>content</th>\n",
       "      <th>description</th>\n",
       "      <th>photo_url</th>\n",
       "      <th>pub_date</th>\n",
       "      <th>source</th>\n",
       "      <th>title</th>\n",
       "      <th>url</th>\n",
       "      <th>combined_text</th>\n",
       "      <th>tokens</th>\n",
       "      <th>lems</th>\n",
       "      <th>keywords</th>\n",
       "    </tr>\n",
       "  </thead>\n",
       "  <tbody>\n",
       "    <tr>\n",
       "      <th>0</th>\n",
       "      <td>Mitchell Clark</td>\n",
       "      <td>People in plenty of countries may have to pay ...</td>\n",
       "      <td>Apple bragged about not raising the starting p...</td>\n",
       "      <td>https://cdn.vox-cdn.com/thumbor/WFqEevecKF_mXP...</td>\n",
       "      <td>2022-09-09</td>\n",
       "      <td>The Verge</td>\n",
       "      <td>Apple did raise prices with the iPhone 14 and ...</td>\n",
       "      <td>https://www.theverge.com/2022/9/8/23343550/app...</td>\n",
       "      <td>apple did raise prices with the iphone  and wa...</td>\n",
       "      <td>[apple, raise, prices, iphone, watch, series, ...</td>\n",
       "      <td>apple raise price iphone watch series u china ...</td>\n",
       "      <td>[apple, raise, prices, iphone, watch, series, ...</td>\n",
       "    </tr>\n",
       "    <tr>\n",
       "      <th>1</th>\n",
       "      <td>Cheryl Eddy</td>\n",
       "      <td>New Disney+ series Andor is grabbing all the S...</td>\n",
       "      <td>New Disney+ series Andor is grabbing all the S...</td>\n",
       "      <td>https://i.kinja-img.com/gawker-media/image/upl...</td>\n",
       "      <td>2022-09-27</td>\n",
       "      <td>Gizmodo.com</td>\n",
       "      <td>Jedi Meet a Force Cult in the Latest Star Wars...</td>\n",
       "      <td>https://gizmodo.com/star-wars-novel-high-repub...</td>\n",
       "      <td>jedi meet a force cult in the latest star wars...</td>\n",
       "      <td>[jedi, meet, force, cult, latest, star, wars, ...</td>\n",
       "      <td>jedi meet force cult latest star war high repu...</td>\n",
       "      <td>[jedi, meet, force, cult, latest, star, wars, ...</td>\n",
       "    </tr>\n",
       "    <tr>\n",
       "      <th>2</th>\n",
       "      <td>Ed Cara</td>\n",
       "      <td>A dogs snoot may be well-suited to sniffing ou...</td>\n",
       "      <td>A dog’s snoot may be well-suited to sniffing o...</td>\n",
       "      <td>https://i.kinja-img.com/gawker-media/image/upl...</td>\n",
       "      <td>2022-09-28</td>\n",
       "      <td>Gizmodo.com</td>\n",
       "      <td>Stressed? Your Dog Can Probably Smell It</td>\n",
       "      <td>https://gizmodo.com/dogs-can-smell-stress-1849...</td>\n",
       "      <td>stressed your dog can probably smell it a dogs...</td>\n",
       "      <td>[stressed, dog, probably, smell, dogs, snoot, ...</td>\n",
       "      <td>stressed dog probably smell dog snoot may well...</td>\n",
       "      <td>[stressed, dog, probably, smell, dogs, snoot, ...</td>\n",
       "    </tr>\n",
       "    <tr>\n",
       "      <th>4</th>\n",
       "      <td>https://www.facebook.com/bbcnews</td>\n",
       "      <td>By Gary O'DonoghueWashington correspondent, BB...</td>\n",
       "      <td>Expect unity on Ukraine and China but there's ...</td>\n",
       "      <td>https://ichef.bbci.co.uk/news/1024/branded_new...</td>\n",
       "      <td>2022-09-10</td>\n",
       "      <td>BBC News</td>\n",
       "      <td>Liz Truss and Joe Biden: The big issue that co...</td>\n",
       "      <td>https://www.bbc.co.uk/news/world-us-canada-628...</td>\n",
       "      <td>liz truss and joe biden the big issue that cou...</td>\n",
       "      <td>[liz, truss, joe, biden, big, issue, could, de...</td>\n",
       "      <td>liz truss joe biden big issue could derail uk ...</td>\n",
       "      <td>[liz, truss, joe, biden, big, issue, could, de...</td>\n",
       "    </tr>\n",
       "    <tr>\n",
       "      <th>5</th>\n",
       "      <td>https://www.facebook.com/bbcnews</td>\n",
       "      <td>The Queen will lie in state for four days befo...</td>\n",
       "      <td>People will be able to view the Queen's coffin...</td>\n",
       "      <td>https://ichef.bbci.co.uk/news/1024/branded_new...</td>\n",
       "      <td>2022-09-10</td>\n",
       "      <td>BBC News</td>\n",
       "      <td>Queen to lie in state for four full days befor...</td>\n",
       "      <td>https://www.bbc.co.uk/news/uk-62863486</td>\n",
       "      <td>queen to lie in state for four full days befor...</td>\n",
       "      <td>[queen, lie, state, four, full, days, state, f...</td>\n",
       "      <td>queen lie state four full day state funeral qu...</td>\n",
       "      <td>[queen, lie, state, four, full, days, funeral,...</td>\n",
       "    </tr>\n",
       "  </tbody>\n",
       "</table>\n",
       "</div>"
      ],
      "text/plain": [
       "                             author  \\\n",
       "0                    Mitchell Clark   \n",
       "1                       Cheryl Eddy   \n",
       "2                           Ed Cara   \n",
       "4  https://www.facebook.com/bbcnews   \n",
       "5  https://www.facebook.com/bbcnews   \n",
       "\n",
       "                                             content  \\\n",
       "0  People in plenty of countries may have to pay ...   \n",
       "1  New Disney+ series Andor is grabbing all the S...   \n",
       "2  A dogs snoot may be well-suited to sniffing ou...   \n",
       "4  By Gary O'DonoghueWashington correspondent, BB...   \n",
       "5  The Queen will lie in state for four days befo...   \n",
       "\n",
       "                                         description  \\\n",
       "0  Apple bragged about not raising the starting p...   \n",
       "1  New Disney+ series Andor is grabbing all the S...   \n",
       "2  A dog’s snoot may be well-suited to sniffing o...   \n",
       "4  Expect unity on Ukraine and China but there's ...   \n",
       "5  People will be able to view the Queen's coffin...   \n",
       "\n",
       "                                           photo_url    pub_date       source  \\\n",
       "0  https://cdn.vox-cdn.com/thumbor/WFqEevecKF_mXP...  2022-09-09    The Verge   \n",
       "1  https://i.kinja-img.com/gawker-media/image/upl...  2022-09-27  Gizmodo.com   \n",
       "2  https://i.kinja-img.com/gawker-media/image/upl...  2022-09-28  Gizmodo.com   \n",
       "4  https://ichef.bbci.co.uk/news/1024/branded_new...  2022-09-10     BBC News   \n",
       "5  https://ichef.bbci.co.uk/news/1024/branded_new...  2022-09-10     BBC News   \n",
       "\n",
       "                                               title  \\\n",
       "0  Apple did raise prices with the iPhone 14 and ...   \n",
       "1  Jedi Meet a Force Cult in the Latest Star Wars...   \n",
       "2           Stressed? Your Dog Can Probably Smell It   \n",
       "4  Liz Truss and Joe Biden: The big issue that co...   \n",
       "5  Queen to lie in state for four full days befor...   \n",
       "\n",
       "                                                 url  \\\n",
       "0  https://www.theverge.com/2022/9/8/23343550/app...   \n",
       "1  https://gizmodo.com/star-wars-novel-high-repub...   \n",
       "2  https://gizmodo.com/dogs-can-smell-stress-1849...   \n",
       "4  https://www.bbc.co.uk/news/world-us-canada-628...   \n",
       "5             https://www.bbc.co.uk/news/uk-62863486   \n",
       "\n",
       "                                       combined_text  \\\n",
       "0  apple did raise prices with the iphone  and wa...   \n",
       "1  jedi meet a force cult in the latest star wars...   \n",
       "2  stressed your dog can probably smell it a dogs...   \n",
       "4  liz truss and joe biden the big issue that cou...   \n",
       "5  queen to lie in state for four full days befor...   \n",
       "\n",
       "                                              tokens  \\\n",
       "0  [apple, raise, prices, iphone, watch, series, ...   \n",
       "1  [jedi, meet, force, cult, latest, star, wars, ...   \n",
       "2  [stressed, dog, probably, smell, dogs, snoot, ...   \n",
       "4  [liz, truss, joe, biden, big, issue, could, de...   \n",
       "5  [queen, lie, state, four, full, days, state, f...   \n",
       "\n",
       "                                                lems  \\\n",
       "0  apple raise price iphone watch series u china ...   \n",
       "1  jedi meet force cult latest star war high repu...   \n",
       "2  stressed dog probably smell dog snoot may well...   \n",
       "4  liz truss joe biden big issue could derail uk ...   \n",
       "5  queen lie state four full day state funeral qu...   \n",
       "\n",
       "                                            keywords  \n",
       "0  [apple, raise, prices, iphone, watch, series, ...  \n",
       "1  [jedi, meet, force, cult, latest, star, wars, ...  \n",
       "2  [stressed, dog, probably, smell, dogs, snoot, ...  \n",
       "4  [liz, truss, joe, biden, big, issue, could, de...  \n",
       "5  [queen, lie, state, four, full, days, funeral,...  "
      ]
     },
     "execution_count": 104,
     "metadata": {},
     "output_type": "execute_result"
    }
   ],
   "source": [
    "news_articles_df.head()"
   ]
  },
  {
   "cell_type": "markdown",
   "id": "42c0bc42",
   "metadata": {},
   "source": [
    "<b>Note:</b> This completes one phase of data collecton step. Exact same process was followed with just the change in date in order to get the news articles of a date beyond 1 month. Including the same proceduce twice would have made it redundant hence I have directly included the two CSV files directly."
   ]
  },
  {
   "cell_type": "markdown",
   "id": "61ab5c5f",
   "metadata": {},
   "source": [
    "## Combining the data collected in two phases"
   ]
  },
  {
   "cell_type": "code",
   "execution_count": 105,
   "id": "6d02b5b0",
   "metadata": {},
   "outputs": [],
   "source": [
    "#Combining the collected data\n",
    "dataframe1=pd.read_csv(r'C:\\Users\\user\\Datasets\\news\\news_articles2_clean.csv')\n",
    "# dataframe1 contains the articles from 14th Feb to 14 March \n",
    "dataframe2=pd.read_csv(r'C:\\Users\\user\\Datasets\\news\\news_articles2_clean.csv')\n",
    "# dataframe2 contains the articles from 14 March to 29th March \n",
    "dataframe_combined_data = pd.concat([dataframe1, dataframe2], ignore_index=True)"
   ]
  },
  {
   "cell_type": "code",
   "execution_count": 106,
   "id": "7e3b665a",
   "metadata": {},
   "outputs": [],
   "source": [
    "dataframe_combined_data.to_csv(r'C:\\Users\\user\\Datasets\\news\\news_combined.csv', index = False)"
   ]
  },
  {
   "cell_type": "code",
   "execution_count": 107,
   "id": "07f6875f",
   "metadata": {},
   "outputs": [],
   "source": [
    "# reading the new combined data in the news_articles dataframe\n",
    "news_articles_df = pd.read_csv(r'C:\\Users\\user\\Datasets\\news\\news_combined.csv')"
   ]
  },
  {
   "cell_type": "code",
   "execution_count": 108,
   "id": "6e3e35c7",
   "metadata": {},
   "outputs": [
    {
     "name": "stdout",
     "output_type": "stream",
     "text": [
      "author           0\n",
      "content          0\n",
      "description      0\n",
      "photo_url        0\n",
      "pub_date         0\n",
      "source           0\n",
      "title            0\n",
      "url              0\n",
      "combined_text    0\n",
      "tokens           0\n",
      "lems             0\n",
      "keywords         0\n",
      "dtype: int64\n",
      "(592, 12)\n",
      "author           0\n",
      "content          0\n",
      "description      0\n",
      "photo_url        0\n",
      "pub_date         0\n",
      "source           0\n",
      "title            0\n",
      "url              0\n",
      "combined_text    0\n",
      "tokens           0\n",
      "lems             0\n",
      "keywords         0\n",
      "dtype: int64\n"
     ]
    }
   ],
   "source": [
    "# Checking the combined data once again to ensure no null value is present\n",
    "print(news_articles_df.isnull().sum())\n",
    "news_articles_df.dropna(inplace=True)\n",
    "print(news_articles_df.shape)\n",
    "print(news_articles_df.isnull().sum())"
   ]
  },
  {
   "cell_type": "markdown",
   "id": "1f7a255f",
   "metadata": {},
   "source": [
    "## Task 4: Sentiment Analysis of News articles to answer our Questions"
   ]
  },
  {
   "cell_type": "code",
   "execution_count": 111,
   "id": "b3a0d4b1",
   "metadata": {},
   "outputs": [
    {
     "name": "stderr",
     "output_type": "stream",
     "text": [
      "[nltk_data] Downloading package vader_lexicon to\n",
      "[nltk_data]     C:\\Users\\user\\AppData\\Roaming\\nltk_data...\n"
     ]
    }
   ],
   "source": [
    "# calculating the polarity of the news articles \n",
    "nltk.download('vader_lexicon')\n",
    "from nltk.sentiment.vader import SentimentIntensityAnalyzer as SIA\n",
    "sia = SIA()\n",
    "results = []\n",
    "for line in news_articles_df['lems'] :\n",
    "    pol_score = sia.polarity_scores(line)\n",
    "    pol_score['headline'] = line\n",
    "    results.append(pol_score)"
   ]
  },
  {
   "cell_type": "code",
   "execution_count": 112,
   "id": "5baf14e0",
   "metadata": {},
   "outputs": [],
   "source": [
    "# Creating a new dataframe of only the polarity score, the headline and the source of the news \n",
    "headlines_polarity = pd.DataFrame.from_records(results)\n",
    "temp = []\n",
    "for line in news_articles_df['source'] :\n",
    "    temp.append(line)\n",
    "headlines_polarity['source'] =temp"
   ]
  },
  {
   "cell_type": "code",
   "execution_count": 113,
   "id": "71b3695c",
   "metadata": {},
   "outputs": [],
   "source": [
    "# categorize news as positive or negative based on the compound score obtained\n",
    "headlines_polarity['label'] = 0\n",
    "# I have considered the news as positive if the compound score is greater than 0.2 hence the label 1\n",
    "headlines_polarity.loc[headlines_polarity['compound'] > 0.2, 'label'] = 1\n",
    "# if the compound score is below 0.2 then it is considered negative \n",
    "headlines_polarity.loc[headlines_polarity['compound'] < -0.2, 'label'] = -1\n",
    "# word count of news headlines is calculated\n",
    "headlines_polarity['word_count'] = headlines_polarity['headline'].apply(lambda x: len(str(x).split()))"
   ]
  },
  {
   "cell_type": "code",
   "execution_count": 114,
   "id": "01e00020",
   "metadata": {},
   "outputs": [
    {
     "data": {
      "text/html": [
       "<div>\n",
       "<style scoped>\n",
       "    .dataframe tbody tr th:only-of-type {\n",
       "        vertical-align: middle;\n",
       "    }\n",
       "\n",
       "    .dataframe tbody tr th {\n",
       "        vertical-align: top;\n",
       "    }\n",
       "\n",
       "    .dataframe thead th {\n",
       "        text-align: right;\n",
       "    }\n",
       "</style>\n",
       "<table border=\"1\" class=\"dataframe\">\n",
       "  <thead>\n",
       "    <tr style=\"text-align: right;\">\n",
       "      <th></th>\n",
       "      <th>neg</th>\n",
       "      <th>neu</th>\n",
       "      <th>pos</th>\n",
       "      <th>compound</th>\n",
       "      <th>headline</th>\n",
       "      <th>source</th>\n",
       "      <th>label</th>\n",
       "      <th>word_count</th>\n",
       "    </tr>\n",
       "  </thead>\n",
       "  <tbody>\n",
       "    <tr>\n",
       "      <th>0</th>\n",
       "      <td>0.053</td>\n",
       "      <td>0.947</td>\n",
       "      <td>0.000</td>\n",
       "      <td>-0.1027</td>\n",
       "      <td>apple raise price iphone watch series u china ...</td>\n",
       "      <td>The Verge</td>\n",
       "      <td>0</td>\n",
       "      <td>27</td>\n",
       "    </tr>\n",
       "    <tr>\n",
       "      <th>1</th>\n",
       "      <td>0.160</td>\n",
       "      <td>0.553</td>\n",
       "      <td>0.287</td>\n",
       "      <td>0.4939</td>\n",
       "      <td>jedi meet force cult latest star war high repu...</td>\n",
       "      <td>Gizmodo.com</td>\n",
       "      <td>1</td>\n",
       "      <td>35</td>\n",
       "    </tr>\n",
       "    <tr>\n",
       "      <th>2</th>\n",
       "      <td>0.232</td>\n",
       "      <td>0.703</td>\n",
       "      <td>0.064</td>\n",
       "      <td>-0.6705</td>\n",
       "      <td>stressed dog probably smell dog snoot may well...</td>\n",
       "      <td>Gizmodo.com</td>\n",
       "      <td>-1</td>\n",
       "      <td>27</td>\n",
       "    </tr>\n",
       "    <tr>\n",
       "      <th>3</th>\n",
       "      <td>0.060</td>\n",
       "      <td>0.904</td>\n",
       "      <td>0.036</td>\n",
       "      <td>-0.2263</td>\n",
       "      <td>liz truss joe biden big issue could derail uk ...</td>\n",
       "      <td>BBC News</td>\n",
       "      <td>-1</td>\n",
       "      <td>36</td>\n",
       "    </tr>\n",
       "    <tr>\n",
       "      <th>4</th>\n",
       "      <td>0.172</td>\n",
       "      <td>0.828</td>\n",
       "      <td>0.000</td>\n",
       "      <td>-0.6124</td>\n",
       "      <td>queen lie state four full day state funeral qu...</td>\n",
       "      <td>BBC News</td>\n",
       "      <td>-1</td>\n",
       "      <td>26</td>\n",
       "    </tr>\n",
       "  </tbody>\n",
       "</table>\n",
       "</div>"
      ],
      "text/plain": [
       "     neg    neu    pos  compound  \\\n",
       "0  0.053  0.947  0.000   -0.1027   \n",
       "1  0.160  0.553  0.287    0.4939   \n",
       "2  0.232  0.703  0.064   -0.6705   \n",
       "3  0.060  0.904  0.036   -0.2263   \n",
       "4  0.172  0.828  0.000   -0.6124   \n",
       "\n",
       "                                            headline       source  label  \\\n",
       "0  apple raise price iphone watch series u china ...    The Verge      0   \n",
       "1  jedi meet force cult latest star war high repu...  Gizmodo.com      1   \n",
       "2  stressed dog probably smell dog snoot may well...  Gizmodo.com     -1   \n",
       "3  liz truss joe biden big issue could derail uk ...     BBC News     -1   \n",
       "4  queen lie state four full day state funeral qu...     BBC News     -1   \n",
       "\n",
       "   word_count  \n",
       "0          27  \n",
       "1          35  \n",
       "2          27  \n",
       "3          36  \n",
       "4          26  "
      ]
     },
     "execution_count": 114,
     "metadata": {},
     "output_type": "execute_result"
    }
   ],
   "source": [
    "headlines_polarity.head()"
   ]
  },
  {
   "cell_type": "code",
   "execution_count": 115,
   "id": "b5a80a7e",
   "metadata": {},
   "outputs": [],
   "source": [
    "#headlines_polarity.label.value_counts()\n",
    "#headlines_polarity.groupby('source').label.value_counts()\n",
    "# Grouping the news articles by their source and calculating their mean polarity  \n",
    "gk = headlines_polarity.groupby(['source', 'label']) \n",
    "fk= headlines_polarity.groupby('source')['compound'].mean()\n",
    "fk = fk.to_frame()\n",
    "fk.to_csv(r'C:\\Users\\user\\Datasets\\news\\news_polarity.csv', index = 'source')"
   ]
  },
  {
   "cell_type": "markdown",
   "id": "6f1260b4",
   "metadata": {},
   "source": [
    "## Task 5: Visualizations"
   ]
  },
  {
   "cell_type": "code",
   "execution_count": 123,
   "id": "22704208",
   "metadata": {},
   "outputs": [
    {
     "data": {
      "text/html": [
       "        <script type=\"text/javascript\">\n",
       "        window.PlotlyConfig = {MathJaxConfig: 'local'};\n",
       "        if (window.MathJax) {MathJax.Hub.Config({SVG: {font: \"STIX-Web\"}});}\n",
       "        if (typeof require !== 'undefined') {\n",
       "        require.undef(\"plotly\");\n",
       "        requirejs.config({\n",
       "            paths: {\n",
       "                'plotly': ['https://cdn.plot.ly/plotly-2.9.0.min']\n",
       "            }\n",
       "        });\n",
       "        require(['plotly'], function(Plotly) {\n",
       "            window._Plotly = Plotly;\n",
       "        });\n",
       "        }\n",
       "        </script>\n",
       "        "
      ]
     },
     "metadata": {},
     "output_type": "display_data"
    }
   ],
   "source": [
    "# libraries\n",
    "import pandas as pd\n",
    "import numpy as np\n",
    "from textblob import TextBlob\n",
    "from sklearn.feature_extraction.text import CountVectorizer\n",
    "from sklearn.feature_extraction.text import TfidfVectorizer\n",
    "import warnings \n",
    "warnings.filterwarnings('ignore')\n",
    "import matplotlib\n",
    "import matplotlib.pyplot as plt\n",
    "import seaborn as sns\n",
    "%matplotlib inline\n",
    "matplotlib.rcParams['figure.figsize'] = (10.0, 6.0)\n",
    "import plotly.graph_objs as go\n",
    "#import plotly.plotly as py\n",
    "import chart_studio.plotly as py\n",
    "import cufflinks\n",
    "pd.options.display.max_columns = 30\n",
    "from IPython.core.interactiveshell import InteractiveShell\n",
    "import plotly.figure_factory as ff\n",
    "InteractiveShell.ast_node_interactivity = 'all'\n",
    "from plotly.offline import iplot\n",
    "cufflinks.go_offline()\n",
    "from wordcloud import WordCloud\n",
    "import matplotlib.pyplot as plt\n",
    "from collections import Counter\n",
    "import scattertext as st"
   ]
  },
  {
   "cell_type": "code",
   "execution_count": 124,
   "id": "4fb13cca",
   "metadata": {},
   "outputs": [
    {
     "data": {
      "text/plain": [
       "<AxesSubplot:ylabel='label'>"
      ]
     },
     "execution_count": 124,
     "metadata": {},
     "output_type": "execute_result"
    },
    {
     "data": {
      "text/plain": [
       "[Text(0, 0, 'Negative'), Text(1, 0, 'Neutral'), Text(2, 0, 'Positive')]"
      ]
     },
     "execution_count": 124,
     "metadata": {},
     "output_type": "execute_result"
    },
    {
     "data": {
      "text/plain": [
       "Text(0, 0.5, 'Percentage')"
      ]
     },
     "execution_count": 124,
     "metadata": {},
     "output_type": "execute_result"
    },
    {
     "data": {
      "image/png": "[encoded data removed]",
      "text/plain": [
       "<Figure size 576x576 with 1 Axes>"
      ]
     },
     "metadata": {
      "needs_background": "light"
     },
     "output_type": "display_data"
    }
   ],
   "source": [
    "import matplotlib.pyplot as plt\n",
    "import seaborn as sns\n",
    "fig, ax = plt.subplots(figsize=(8, 8))\n",
    "counts = headlines_polarity.label.value_counts(normalize=True) * 100\n",
    "sns.barplot(x=counts.index, y=counts, ax=ax)\n",
    "ax.set_xticklabels(['Negative', 'Neutral', 'Positive'])\n",
    "ax.set_ylabel(\"Percentage\")\n",
    "plt.show()"
   ]
  },
  {
   "cell_type": "markdown",
   "id": "379087ac",
   "metadata": {},
   "source": [
    "<b>Insights:</b> It is clear from the above bar chart that the distribution of news is quite even when it comes to the polarity of the news. Both Positive and negative sentiment accounted for about 40% each despite the time frame in which the newss articles were collected. At the prima facie level, this goes on to show that the media outlets are not biased towards the negative news."
   ]
  },
  {
   "cell_type": "code",
   "execution_count": 125,
   "id": "79f5895e",
   "metadata": {},
   "outputs": [
    {
     "data": {
      "application/vnd.plotly.v1+json": {
       "config": {
        "linkText": "Export to plot.ly",
        "plotlyServerURL": "https://plot.ly",
        "showLink": true
       },
       "data": [
        {
         "histfunc": "count",
         "histnorm": "",
         "marker": {
          "color": "rgba(255, 153, 51, 1.0)",
          "line": {
           "color": "#000000",
           "width": 1.3
          }
         },
         "name": "compound",
         "nbinsx": 30,
         "opacity": 0.8,
         "orientation": "v",
         "type": "histogram",
         "x": [
          -0.1027,
          0.4939,
          -0.6705,
          -0.2263,
          -0.6124,
          -0.7845,
          0.296,
          -0.5574,
          -0.0516,
          -0.6124,
          -0.6124,
          0.8271,
          -0.6808,
          0,
          -0.926,
          0,
          0.1027,
          0,
          -0.25,
          -0.4019,
          0,
          0.34,
          0.2023,
          0.8934,
          -0.5106,
          0.4588,
          -0.4404,
          0.4019,
          -0.7351,
          0.6705,
          -0.5859,
          0.6705,
          0.7783,
          -0.4767,
          -0.4215,
          -0.9559,
          -0.1027,
          0.2732,
          -0.5267,
          0,
          0.6808,
          0,
          0.4404,
          0.6249,
          0.34,
          0.7184,
          0.7269,
          -0.5859,
          0.7717,
          -0.3182,
          -0.5106,
          0.802,
          0.6124,
          -0.4767,
          0.25,
          0.9217,
          0.5267,
          0.2023,
          -0.8271,
          0,
          -0.765,
          0.9201,
          0.2732,
          -0.128,
          -0.7783,
          0.128,
          0.743,
          -0.1027,
          0.872,
          -0.1779,
          -0.7184,
          0.5267,
          0,
          0.3597,
          -0.2732,
          -0.296,
          -0.3612,
          0.6705,
          -0.3818,
          0.6597,
          -0.6249,
          -0.3612,
          -0.8176,
          -0.2023,
          0.7096,
          0.0772,
          0,
          0.8402,
          0.6705,
          -0.8979,
          0.7717,
          -0.7351,
          -0.5994,
          0.25,
          0.7845,
          -0.8979,
          0.6486,
          -0.7184,
          -0.4215,
          -0.5423,
          0.4939,
          -0.886,
          -0.6369,
          -0.2263,
          0,
          -0.1027,
          0.2023,
          -0.4404,
          -0.743,
          -0.5719,
          0,
          0.6808,
          -0.9217,
          0.34,
          -0.0772,
          0.25,
          -0.7579,
          -0.1027,
          0,
          0.4749,
          0.3818,
          0.6908,
          -0.8979,
          0.7096,
          0.296,
          0.0516,
          0.4939,
          0.0695,
          -0.3612,
          -0.8126,
          -0.7184,
          -0.4939,
          -0.4404,
          -0.765,
          0.3182,
          -0.4215,
          0.3612,
          -0.5994,
          -0.6249,
          -0.9042,
          0.0772,
          0.802,
          0.9153,
          0.5423,
          -0.1531,
          0.4588,
          -0.2023,
          -0.8779,
          -0.3182,
          -0.5423,
          0.6597,
          -0.25,
          0.1531,
          -0.3182,
          0.4404,
          -0.5859,
          -0.8591,
          -0.9601,
          -0.6597,
          0.7003,
          0.2263,
          -0.25,
          0.4215,
          -0.1779,
          -0.8689,
          -0.5719,
          0.4767,
          -0.93,
          -0.7458,
          -0.836,
          0.8074,
          -0.5859,
          0.5267,
          -0.6929,
          0.4767,
          0.9559,
          0,
          -0.8555,
          -0.9287,
          -0.5719,
          -0.9648,
          -0.7845,
          -0.8316,
          -0.8689,
          0,
          0.4215,
          0.7906,
          -0.8074,
          -0.4005,
          -0.6486,
          0.2023,
          0.9001,
          -0.5267,
          -0.4019,
          0.4019,
          -0.836,
          -0.9792,
          0,
          -0.7579,
          0.765,
          -0.8916,
          0.6597,
          0.802,
          -0.6705,
          0.6597,
          -0.4019,
          -0.5719,
          0.7269,
          -0.9022,
          -0.8591,
          0.3612,
          -0.457,
          -0.6969,
          0.2732,
          -0.3818,
          0.6369,
          -0.4767,
          0.4215,
          -0.8271,
          0.8271,
          0.5106,
          -0.7717,
          -0.7184,
          -0.6597,
          -0.2732,
          0.8402,
          0.2263,
          0.4215,
          0.34,
          -0.7579,
          0.2732,
          -0.9517,
          0.4767,
          0.4215,
          -0.9371,
          -0.6705,
          -0.9186,
          0.0772,
          -0.5994,
          0,
          -0.9081,
          -0.7269,
          0.128,
          -0.3612,
          0.34,
          0.5719,
          -0.5574,
          -0.9042,
          -0.765,
          -0.296,
          -0.7506,
          0,
          -0.3182,
          0.8555,
          0.1779,
          -0.6124,
          -0.7269,
          -0.8225,
          0.5719,
          0.1027,
          0.6908,
          -0.1531,
          -0.9423,
          -0.91,
          -0.6124,
          -0.8807,
          -0.4019,
          -0.2263,
          0.1027,
          -0.0772,
          -0.93,
          0,
          -0.891,
          -0.7845,
          0.6249,
          -0.8885,
          -0.9042,
          -0.8591,
          0.9118,
          -0.2263,
          0.4215,
          0.6124,
          0,
          0.5719,
          -0.0772,
          0.6369,
          -0.3182,
          -0.8658,
          0.4588,
          -0.6808,
          -0.8519,
          -0.7506,
          -0.6124,
          0.0516,
          0.4215,
          0,
          -0.1027,
          0.4939,
          -0.6705,
          -0.2263,
          -0.6124,
          -0.7845,
          0.296,
          -0.5574,
          -0.0516,
          -0.6124,
          -0.6124,
          0.8271,
          -0.6808,
          0,
          -0.926,
          0,
          0.1027,
          0,
          -0.25,
          -0.4019,
          0,
          0.34,
          0.2023,
          0.8934,
          -0.5106,
          0.4588,
          -0.4404,
          0.4019,
          -0.7351,
          0.6705,
          -0.5859,
          0.6705,
          0.7783,
          -0.4767,
          -0.4215,
          -0.9559,
          -0.1027,
          0.2732,
          -0.5267,
          0,
          0.6808,
          0,
          0.4404,
          0.6249,
          0.34,
          0.7184,
          0.7269,
          -0.5859,
          0.7717,
          -0.3182,
          -0.5106,
          0.802,
          0.6124,
          -0.4767,
          0.25,
          0.9217,
          0.5267,
          0.2023,
          -0.8271,
          0,
          -0.765,
          0.9201,
          0.2732,
          -0.128,
          -0.7783,
          0.128,
          0.743,
          -0.1027,
          0.872,
          -0.1779,
          -0.7184,
          0.5267,
          0,
          0.3597,
          -0.2732,
          -0.296,
          -0.3612,
          0.6705,
          -0.3818,
          0.6597,
          -0.6249,
          -0.3612,
          -0.8176,
          -0.2023,
          0.7096,
          0.0772,
          0,
          0.8402,
          0.6705,
          -0.8979,
          0.7717,
          -0.7351,
          -0.5994,
          0.25,
          0.7845,
          -0.8979,
          0.6486,
          -0.7184,
          -0.4215,
          -0.5423,
          0.4939,
          -0.886,
          -0.6369,
          -0.2263,
          0,
          -0.1027,
          0.2023,
          -0.4404,
          -0.743,
          -0.5719,
          0,
          0.6808,
          -0.9217,
          0.34,
          -0.0772,
          0.25,
          -0.7579,
          -0.1027,
          0,
          0.4749,
          0.3818,
          0.6908,
          -0.8979,
          0.7096,
          0.296,
          0.0516,
          0.4939,
          0.0695,
          -0.3612,
          -0.8126,
          -0.7184,
          -0.4939,
          -0.4404,
          -0.765,
          0.3182,
          -0.4215,
          0.3612,
          -0.5994,
          -0.6249,
          -0.9042,
          0.0772,
          0.802,
          0.9153,
          0.5423,
          -0.1531,
          0.4588,
          -0.2023,
          -0.8779,
          -0.3182,
          -0.5423,
          0.6597,
          -0.25,
          0.1531,
          -0.3182,
          0.4404,
          -0.5859,
          -0.8591,
          -0.9601,
          -0.6597,
          0.7003,
          0.2263,
          -0.25,
          0.4215,
          -0.1779,
          -0.8689,
          -0.5719,
          0.4767,
          -0.93,
          -0.7458,
          -0.836,
          0.8074,
          -0.5859,
          0.5267,
          -0.6929,
          0.4767,
          0.9559,
          0,
          -0.8555,
          -0.9287,
          -0.5719,
          -0.9648,
          -0.7845,
          -0.8316,
          -0.8689,
          0,
          0.4215,
          0.7906,
          -0.8074,
          -0.4005,
          -0.6486,
          0.2023,
          0.9001,
          -0.5267,
          -0.4019,
          0.4019,
          -0.836,
          -0.9792,
          0,
          -0.7579,
          0.765,
          -0.8916,
          0.6597,
          0.802,
          -0.6705,
          0.6597,
          -0.4019,
          -0.5719,
          0.7269,
          -0.9022,
          -0.8591,
          0.3612,
          -0.457,
          -0.6969,
          0.2732,
          -0.3818,
          0.6369,
          -0.4767,
          0.4215,
          -0.8271,
          0.8271,
          0.5106,
          -0.7717,
          -0.7184,
          -0.6597,
          -0.2732,
          0.8402,
          0.2263,
          0.4215,
          0.34,
          -0.7579,
          0.2732,
          -0.9517,
          0.4767,
          0.4215,
          -0.9371,
          -0.6705,
          -0.9186,
          0.0772,
          -0.5994,
          0,
          -0.9081,
          -0.7269,
          0.128,
          -0.3612,
          0.34,
          0.5719,
          -0.5574,
          -0.9042,
          -0.765,
          -0.296,
          -0.7506,
          0,
          -0.3182,
          0.8555,
          0.1779,
          -0.6124,
          -0.7269,
          -0.8225,
          0.5719,
          0.1027,
          0.6908,
          -0.1531,
          -0.9423,
          -0.91,
          -0.6124,
          -0.8807,
          -0.4019,
          -0.2263,
          0.1027,
          -0.0772,
          -0.93,
          0,
          -0.891,
          -0.7845,
          0.6249,
          -0.8885,
          -0.9042,
          -0.8591,
          0.9118,
          -0.2263,
          0.4215,
          0.6124,
          0,
          0.5719,
          -0.0772,
          0.6369,
          -0.3182,
          -0.8658,
          0.4588,
          -0.6808,
          -0.8519,
          -0.7506,
          -0.6124,
          0.0516,
          0.4215,
          0
         ]
        }
       ],
       "layout": {
        "barmode": "overlay",
        "legend": {
         "bgcolor": "#F5F6F9",
         "font": {
          "color": "#4D5663"
         }
        },
        "paper_bgcolor": "#F5F6F9",
        "plot_bgcolor": "#F5F6F9",
        "template": {
         "data": {
          "bar": [
           {
            "error_x": {
             "color": "#2a3f5f"
            },
            "error_y": {
             "color": "#2a3f5f"
            },
            "marker": {
             "line": {
              "color": "#E5ECF6",
              "width": 0.5
             },
             "pattern": {
              "fillmode": "overlay",
              "size": 10,
              "solidity": 0.2
             }
            },
            "type": "bar"
           }
          ],
          "barpolar": [
           {
            "marker": {
             "line": {
              "color": "#E5ECF6",
              "width": 0.5
             },
             "pattern": {
              "fillmode": "overlay",
              "size": 10,
              "solidity": 0.2
             }
            },
            "type": "barpolar"
           }
          ],
          "carpet": [
           {
            "aaxis": {
             "endlinecolor": "#2a3f5f",
             "gridcolor": "white",
             "linecolor": "white",
             "minorgridcolor": "white",
             "startlinecolor": "#2a3f5f"
            },
            "baxis": {
             "endlinecolor": "#2a3f5f",
             "gridcolor": "white",
             "linecolor": "white",
             "minorgridcolor": "white",
             "startlinecolor": "#2a3f5f"
            },
            "type": "carpet"
           }
          ],
          "choropleth": [
           {
            "colorbar": {
             "outlinewidth": 0,
             "ticks": ""
            },
            "type": "choropleth"
           }
          ],
          "contour": [
           {
            "colorbar": {
             "outlinewidth": 0,
             "ticks": ""
            },
            "colorscale": [
             [
              0,
              "#0d0887"
             ],
             [
              0.1111111111111111,
              "#46039f"
             ],
             [
              0.2222222222222222,
              "#7201a8"
             ],
             [
              0.3333333333333333,
              "#9c179e"
             ],
             [
              0.4444444444444444,
              "#bd3786"
             ],
             [
              0.5555555555555556,
              "#d8576b"
             ],
             [
              0.6666666666666666,
              "#ed7953"
             ],
             [
              0.7777777777777778,
              "#fb9f3a"
             ],
             [
              0.8888888888888888,
              "#fdca26"
             ],
             [
              1,
              "#f0f921"
             ]
            ],
            "type": "contour"
           }
          ],
          "contourcarpet": [
           {
            "colorbar": {
             "outlinewidth": 0,
             "ticks": ""
            },
            "type": "contourcarpet"
           }
          ],
          "heatmap": [
           {
            "colorbar": {
             "outlinewidth": 0,
             "ticks": ""
            },
            "colorscale": [
             [
              0,
              "#0d0887"
             ],
             [
              0.1111111111111111,
              "#46039f"
             ],
             [
              0.2222222222222222,
              "#7201a8"
             ],
             [
              0.3333333333333333,
              "#9c179e"
             ],
             [
              0.4444444444444444,
              "#bd3786"
             ],
             [
              0.5555555555555556,
              "#d8576b"
             ],
             [
              0.6666666666666666,
              "#ed7953"
             ],
             [
              0.7777777777777778,
              "#fb9f3a"
             ],
             [
              0.8888888888888888,
              "#fdca26"
             ],
             [
              1,
              "#f0f921"
             ]
            ],
            "type": "heatmap"
           }
          ],
          "heatmapgl": [
           {
            "colorbar": {
             "outlinewidth": 0,
             "ticks": ""
            },
            "colorscale": [
             [
              0,
              "#0d0887"
             ],
             [
              0.1111111111111111,
              "#46039f"
             ],
             [
              0.2222222222222222,
              "#7201a8"
             ],
             [
              0.3333333333333333,
              "#9c179e"
             ],
             [
              0.4444444444444444,
              "#bd3786"
             ],
             [
              0.5555555555555556,
              "#d8576b"
             ],
             [
              0.6666666666666666,
              "#ed7953"
             ],
             [
              0.7777777777777778,
              "#fb9f3a"
             ],
             [
              0.8888888888888888,
              "#fdca26"
             ],
             [
              1,
              "#f0f921"
             ]
            ],
            "type": "heatmapgl"
           }
          ],
          "histogram": [
           {
            "marker": {
             "pattern": {
              "fillmode": "overlay",
              "size": 10,
              "solidity": 0.2
             }
            },
            "type": "histogram"
           }
          ],
          "histogram2d": [
           {
            "colorbar": {
             "outlinewidth": 0,
             "ticks": ""
            },
            "colorscale": [
             [
              0,
              "#0d0887"
             ],
             [
              0.1111111111111111,
              "#46039f"
             ],
             [
              0.2222222222222222,
              "#7201a8"
             ],
             [
              0.3333333333333333,
              "#9c179e"
             ],
             [
              0.4444444444444444,
              "#bd3786"
             ],
             [
              0.5555555555555556,
              "#d8576b"
             ],
             [
              0.6666666666666666,
              "#ed7953"
             ],
             [
              0.7777777777777778,
              "#fb9f3a"
             ],
             [
              0.8888888888888888,
              "#fdca26"
             ],
             [
              1,
              "#f0f921"
             ]
            ],
            "type": "histogram2d"
           }
          ],
          "histogram2dcontour": [
           {
            "colorbar": {
             "outlinewidth": 0,
             "ticks": ""
            },
            "colorscale": [
             [
              0,
              "#0d0887"
             ],
             [
              0.1111111111111111,
              "#46039f"
             ],
             [
              0.2222222222222222,
              "#7201a8"
             ],
             [
              0.3333333333333333,
              "#9c179e"
             ],
             [
              0.4444444444444444,
              "#bd3786"
             ],
             [
              0.5555555555555556,
              "#d8576b"
             ],
             [
              0.6666666666666666,
              "#ed7953"
             ],
             [
              0.7777777777777778,
              "#fb9f3a"
             ],
             [
              0.8888888888888888,
              "#fdca26"
             ],
             [
              1,
              "#f0f921"
             ]
            ],
            "type": "histogram2dcontour"
           }
          ],
          "mesh3d": [
           {
            "colorbar": {
             "outlinewidth": 0,
             "ticks": ""
            },
            "type": "mesh3d"
           }
          ],
          "parcoords": [
           {
            "line": {
             "colorbar": {
              "outlinewidth": 0,
              "ticks": ""
             }
            },
            "type": "parcoords"
           }
          ],
          "pie": [
           {
            "automargin": true,
            "type": "pie"
           }
          ],
          "scatter": [
           {
            "marker": {
             "colorbar": {
              "outlinewidth": 0,
              "ticks": ""
             }
            },
            "type": "scatter"
           }
          ],
          "scatter3d": [
           {
            "line": {
             "colorbar": {
              "outlinewidth": 0,
              "ticks": ""
             }
            },
            "marker": {
             "colorbar": {
              "outlinewidth": 0,
              "ticks": ""
             }
            },
            "type": "scatter3d"
           }
          ],
          "scattercarpet": [
           {
            "marker": {
             "colorbar": {
              "outlinewidth": 0,
              "ticks": ""
             }
            },
            "type": "scattercarpet"
           }
          ],
          "scattergeo": [
           {
            "marker": {
             "colorbar": {
              "outlinewidth": 0,
              "ticks": ""
             }
            },
            "type": "scattergeo"
           }
          ],
          "scattergl": [
           {
            "marker": {
             "colorbar": {
              "outlinewidth": 0,
              "ticks": ""
             }
            },
            "type": "scattergl"
           }
          ],
          "scattermapbox": [
           {
            "marker": {
             "colorbar": {
              "outlinewidth": 0,
              "ticks": ""
             }
            },
            "type": "scattermapbox"
           }
          ],
          "scatterpolar": [
           {
            "marker": {
             "colorbar": {
              "outlinewidth": 0,
              "ticks": ""
             }
            },
            "type": "scatterpolar"
           }
          ],
          "scatterpolargl": [
           {
            "marker": {
             "colorbar": {
              "outlinewidth": 0,
              "ticks": ""
             }
            },
            "type": "scatterpolargl"
           }
          ],
          "scatterternary": [
           {
            "marker": {
             "colorbar": {
              "outlinewidth": 0,
              "ticks": ""
             }
            },
            "type": "scatterternary"
           }
          ],
          "surface": [
           {
            "colorbar": {
             "outlinewidth": 0,
             "ticks": ""
            },
            "colorscale": [
             [
              0,
              "#0d0887"
             ],
             [
              0.1111111111111111,
              "#46039f"
             ],
             [
              0.2222222222222222,
              "#7201a8"
             ],
             [
              0.3333333333333333,
              "#9c179e"
             ],
             [
              0.4444444444444444,
              "#bd3786"
             ],
             [
              0.5555555555555556,
              "#d8576b"
             ],
             [
              0.6666666666666666,
              "#ed7953"
             ],
             [
              0.7777777777777778,
              "#fb9f3a"
             ],
             [
              0.8888888888888888,
              "#fdca26"
             ],
             [
              1,
              "#f0f921"
             ]
            ],
            "type": "surface"
           }
          ],
          "table": [
           {
            "cells": {
             "fill": {
              "color": "#EBF0F8"
             },
             "line": {
              "color": "white"
             }
            },
            "header": {
             "fill": {
              "color": "#C8D4E3"
             },
             "line": {
              "color": "white"
             }
            },
            "type": "table"
           }
          ]
         },
         "layout": {
          "annotationdefaults": {
           "arrowcolor": "#2a3f5f",
           "arrowhead": 0,
           "arrowwidth": 1
          },
          "autotypenumbers": "strict",
          "coloraxis": {
           "colorbar": {
            "outlinewidth": 0,
            "ticks": ""
           }
          },
          "colorscale": {
           "diverging": [
            [
             0,
             "#8e0152"
            ],
            [
             0.1,
             "#c51b7d"
            ],
            [
             0.2,
             "#de77ae"
            ],
            [
             0.3,
             "#f1b6da"
            ],
            [
             0.4,
             "#fde0ef"
            ],
            [
             0.5,
             "#f7f7f7"
            ],
            [
             0.6,
             "#e6f5d0"
            ],
            [
             0.7,
             "#b8e186"
            ],
            [
             0.8,
             "#7fbc41"
            ],
            [
             0.9,
             "#4d9221"
            ],
            [
             1,
             "#276419"
            ]
           ],
           "sequential": [
            [
             0,
             "#0d0887"
            ],
            [
             0.1111111111111111,
             "#46039f"
            ],
            [
             0.2222222222222222,
             "#7201a8"
            ],
            [
             0.3333333333333333,
             "#9c179e"
            ],
            [
             0.4444444444444444,
             "#bd3786"
            ],
            [
             0.5555555555555556,
             "#d8576b"
            ],
            [
             0.6666666666666666,
             "#ed7953"
            ],
            [
             0.7777777777777778,
             "#fb9f3a"
            ],
            [
             0.8888888888888888,
             "#fdca26"
            ],
            [
             1,
             "#f0f921"
            ]
           ],
           "sequentialminus": [
            [
             0,
             "#0d0887"
            ],
            [
             0.1111111111111111,
             "#46039f"
            ],
            [
             0.2222222222222222,
             "#7201a8"
            ],
            [
             0.3333333333333333,
             "#9c179e"
            ],
            [
             0.4444444444444444,
             "#bd3786"
            ],
            [
             0.5555555555555556,
             "#d8576b"
            ],
            [
             0.6666666666666666,
             "#ed7953"
            ],
            [
             0.7777777777777778,
             "#fb9f3a"
            ],
            [
             0.8888888888888888,
             "#fdca26"
            ],
            [
             1,
             "#f0f921"
            ]
           ]
          },
          "colorway": [
           "#636efa",
           "#EF553B",
           "#00cc96",
           "#ab63fa",
           "#FFA15A",
           "#19d3f3",
           "#FF6692",
           "#B6E880",
           "#FF97FF",
           "#FECB52"
          ],
          "font": {
           "color": "#2a3f5f"
          },
          "geo": {
           "bgcolor": "white",
           "lakecolor": "white",
           "landcolor": "#E5ECF6",
           "showlakes": true,
           "showland": true,
           "subunitcolor": "white"
          },
          "hoverlabel": {
           "align": "left"
          },
          "hovermode": "closest",
          "mapbox": {
           "style": "light"
          },
          "paper_bgcolor": "white",
          "plot_bgcolor": "#E5ECF6",
          "polar": {
           "angularaxis": {
            "gridcolor": "white",
            "linecolor": "white",
            "ticks": ""
           },
           "bgcolor": "#E5ECF6",
           "radialaxis": {
            "gridcolor": "white",
            "linecolor": "white",
            "ticks": ""
           }
          },
          "scene": {
           "xaxis": {
            "backgroundcolor": "#E5ECF6",
            "gridcolor": "white",
            "gridwidth": 2,
            "linecolor": "white",
            "showbackground": true,
            "ticks": "",
            "zerolinecolor": "white"
           },
           "yaxis": {
            "backgroundcolor": "#E5ECF6",
            "gridcolor": "white",
            "gridwidth": 2,
            "linecolor": "white",
            "showbackground": true,
            "ticks": "",
            "zerolinecolor": "white"
           },
           "zaxis": {
            "backgroundcolor": "#E5ECF6",
            "gridcolor": "white",
            "gridwidth": 2,
            "linecolor": "white",
            "showbackground": true,
            "ticks": "",
            "zerolinecolor": "white"
           }
          },
          "shapedefaults": {
           "line": {
            "color": "#2a3f5f"
           }
          },
          "ternary": {
           "aaxis": {
            "gridcolor": "white",
            "linecolor": "white",
            "ticks": ""
           },
           "baxis": {
            "gridcolor": "white",
            "linecolor": "white",
            "ticks": ""
           },
           "bgcolor": "#E5ECF6",
           "caxis": {
            "gridcolor": "white",
            "linecolor": "white",
            "ticks": ""
           }
          },
          "title": {
           "x": 0.05
          },
          "xaxis": {
           "automargin": true,
           "gridcolor": "white",
           "linecolor": "white",
           "ticks": "",
           "title": {
            "standoff": 15
           },
           "zerolinecolor": "white",
           "zerolinewidth": 2
          },
          "yaxis": {
           "automargin": true,
           "gridcolor": "white",
           "linecolor": "white",
           "ticks": "",
           "title": {
            "standoff": 15
           },
           "zerolinecolor": "white",
           "zerolinewidth": 2
          }
         }
        },
        "title": {
         "font": {
          "color": "#4D5663"
         },
         "text": "Sentiment Polarity Distribution"
        },
        "xaxis": {
         "gridcolor": "#E1E5ED",
         "linecolor": "black",
         "showgrid": true,
         "tickfont": {
          "color": "#4D5663"
         },
         "title": {
          "font": {
           "color": "#4D5663"
          },
          "text": "polarity"
         },
         "zerolinecolor": "#E1E5ED"
        },
        "yaxis": {
         "gridcolor": "#E1E5ED",
         "linecolor": "black",
         "showgrid": true,
         "tickfont": {
          "color": "#4D5663"
         },
         "title": {
          "font": {
           "color": "#4D5663"
          },
          "text": "count"
         },
         "zerolinecolor": "#E1E5ED"
        }
       }
      },
      "text/html": [
       "<div>                            <div id=\"0ac917db-9858-4ba0-af0a-c876e53d1e56\" class=\"plotly-graph-div\" style=\"height:525px; width:100%;\"></div>            <script type=\"text/javascript\">                require([\"plotly\"], function(Plotly) {                    window.PLOTLYENV=window.PLOTLYENV || {};\n",
       "                    window.PLOTLYENV.BASE_URL='https://plot.ly';                                    if (document.getElementById(\"0ac917db-9858-4ba0-af0a-c876e53d1e56\")) {                    Plotly.newPlot(                        \"0ac917db-9858-4ba0-af0a-c876e53d1e56\",                        [{\"histfunc\":\"count\",\"histnorm\":\"\",\"marker\":{\"color\":\"rgba(255, 153, 51, 1.0)\",\"line\":{\"color\":\"#000000\",\"width\":1.3}},\"name\":\"compound\",\"nbinsx\":30,\"opacity\":0.8,\"orientation\":\"v\",\"x\":[-0.1027,0.4939,-0.6705,-0.2263,-0.6124,-0.7845,0.296,-0.5574,-0.0516,-0.6124,-0.6124,0.8271,-0.6808,0.0,-0.926,0.0,0.1027,0.0,-0.25,-0.4019,0.0,0.34,0.2023,0.8934,-0.5106,0.4588,-0.4404,0.4019,-0.7351,0.6705,-0.5859,0.6705,0.7783,-0.4767,-0.4215,-0.9559,-0.1027,0.2732,-0.5267,0.0,0.6808,0.0,0.4404,0.6249,0.34,0.7184,0.7269,-0.5859,0.7717,-0.3182,-0.5106,0.802,0.6124,-0.4767,0.25,0.9217,0.5267,0.2023,-0.8271,0.0,-0.765,0.9201,0.2732,-0.128,-0.7783,0.128,0.743,-0.1027,0.872,-0.1779,-0.7184,0.5267,0.0,0.3597,-0.2732,-0.296,-0.3612,0.6705,-0.3818,0.6597,-0.6249,-0.3612,-0.8176,-0.2023,0.7096,0.0772,0.0,0.8402,0.6705,-0.8979,0.7717,-0.7351,-0.5994,0.25,0.7845,-0.8979,0.6486,-0.7184,-0.4215,-0.5423,0.4939,-0.886,-0.6369,-0.2263,0.0,-0.1027,0.2023,-0.4404,-0.743,-0.5719,0.0,0.6808,-0.9217,0.34,-0.0772,0.25,-0.7579,-0.1027,0.0,0.4749,0.3818,0.6908,-0.8979,0.7096,0.296,0.0516,0.4939,0.0695,-0.3612,-0.8126,-0.7184,-0.4939,-0.4404,-0.765,0.3182,-0.4215,0.3612,-0.5994,-0.6249,-0.9042,0.0772,0.802,0.9153,0.5423,-0.1531,0.4588,-0.2023,-0.8779,-0.3182,-0.5423,0.6597,-0.25,0.1531,-0.3182,0.4404,-0.5859,-0.8591,-0.9601,-0.6597,0.7003,0.2263,-0.25,0.4215,-0.1779,-0.8689,-0.5719,0.4767,-0.93,-0.7458,-0.836,0.8074,-0.5859,0.5267,-0.6929,0.4767,0.9559,0.0,-0.8555,-0.9287,-0.5719,-0.9648,-0.7845,-0.8316,-0.8689,0.0,0.4215,0.7906,-0.8074,-0.4005,-0.6486,0.2023,0.9001,-0.5267,-0.4019,0.4019,-0.836,-0.9792,0.0,-0.7579,0.765,-0.8916,0.6597,0.802,-0.6705,0.6597,-0.4019,-0.5719,0.7269,-0.9022,-0.8591,0.3612,-0.457,-0.6969,0.2732,-0.3818,0.6369,-0.4767,0.4215,-0.8271,0.8271,0.5106,-0.7717,-0.7184,-0.6597,-0.2732,0.8402,0.2263,0.4215,0.34,-0.7579,0.2732,-0.9517,0.4767,0.4215,-0.9371,-0.6705,-0.9186,0.0772,-0.5994,0.0,-0.9081,-0.7269,0.128,-0.3612,0.34,0.5719,-0.5574,-0.9042,-0.765,-0.296,-0.7506,0.0,-0.3182,0.8555,0.1779,-0.6124,-0.7269,-0.8225,0.5719,0.1027,0.6908,-0.1531,-0.9423,-0.91,-0.6124,-0.8807,-0.4019,-0.2263,0.1027,-0.0772,-0.93,0.0,-0.891,-0.7845,0.6249,-0.8885,-0.9042,-0.8591,0.9118,-0.2263,0.4215,0.6124,0.0,0.5719,-0.0772,0.6369,-0.3182,-0.8658,0.4588,-0.6808,-0.8519,-0.7506,-0.6124,0.0516,0.4215,0.0,-0.1027,0.4939,-0.6705,-0.2263,-0.6124,-0.7845,0.296,-0.5574,-0.0516,-0.6124,-0.6124,0.8271,-0.6808,0.0,-0.926,0.0,0.1027,0.0,-0.25,-0.4019,0.0,0.34,0.2023,0.8934,-0.5106,0.4588,-0.4404,0.4019,-0.7351,0.6705,-0.5859,0.6705,0.7783,-0.4767,-0.4215,-0.9559,-0.1027,0.2732,-0.5267,0.0,0.6808,0.0,0.4404,0.6249,0.34,0.7184,0.7269,-0.5859,0.7717,-0.3182,-0.5106,0.802,0.6124,-0.4767,0.25,0.9217,0.5267,0.2023,-0.8271,0.0,-0.765,0.9201,0.2732,-0.128,-0.7783,0.128,0.743,-0.1027,0.872,-0.1779,-0.7184,0.5267,0.0,0.3597,-0.2732,-0.296,-0.3612,0.6705,-0.3818,0.6597,-0.6249,-0.3612,-0.8176,-0.2023,0.7096,0.0772,0.0,0.8402,0.6705,-0.8979,0.7717,-0.7351,-0.5994,0.25,0.7845,-0.8979,0.6486,-0.7184,-0.4215,-0.5423,0.4939,-0.886,-0.6369,-0.2263,0.0,-0.1027,0.2023,-0.4404,-0.743,-0.5719,0.0,0.6808,-0.9217,0.34,-0.0772,0.25,-0.7579,-0.1027,0.0,0.4749,0.3818,0.6908,-0.8979,0.7096,0.296,0.0516,0.4939,0.0695,-0.3612,-0.8126,-0.7184,-0.4939,-0.4404,-0.765,0.3182,-0.4215,0.3612,-0.5994,-0.6249,-0.9042,0.0772,0.802,0.9153,0.5423,-0.1531,0.4588,-0.2023,-0.8779,-0.3182,-0.5423,0.6597,-0.25,0.1531,-0.3182,0.4404,-0.5859,-0.8591,-0.9601,-0.6597,0.7003,0.2263,-0.25,0.4215,-0.1779,-0.8689,-0.5719,0.4767,-0.93,-0.7458,-0.836,0.8074,-0.5859,0.5267,-0.6929,0.4767,0.9559,0.0,-0.8555,-0.9287,-0.5719,-0.9648,-0.7845,-0.8316,-0.8689,0.0,0.4215,0.7906,-0.8074,-0.4005,-0.6486,0.2023,0.9001,-0.5267,-0.4019,0.4019,-0.836,-0.9792,0.0,-0.7579,0.765,-0.8916,0.6597,0.802,-0.6705,0.6597,-0.4019,-0.5719,0.7269,-0.9022,-0.8591,0.3612,-0.457,-0.6969,0.2732,-0.3818,0.6369,-0.4767,0.4215,-0.8271,0.8271,0.5106,-0.7717,-0.7184,-0.6597,-0.2732,0.8402,0.2263,0.4215,0.34,-0.7579,0.2732,-0.9517,0.4767,0.4215,-0.9371,-0.6705,-0.9186,0.0772,-0.5994,0.0,-0.9081,-0.7269,0.128,-0.3612,0.34,0.5719,-0.5574,-0.9042,-0.765,-0.296,-0.7506,0.0,-0.3182,0.8555,0.1779,-0.6124,-0.7269,-0.8225,0.5719,0.1027,0.6908,-0.1531,-0.9423,-0.91,-0.6124,-0.8807,-0.4019,-0.2263,0.1027,-0.0772,-0.93,0.0,-0.891,-0.7845,0.6249,-0.8885,-0.9042,-0.8591,0.9118,-0.2263,0.4215,0.6124,0.0,0.5719,-0.0772,0.6369,-0.3182,-0.8658,0.4588,-0.6808,-0.8519,-0.7506,-0.6124,0.0516,0.4215,0.0],\"type\":\"histogram\"}],                        {\"barmode\":\"overlay\",\"legend\":{\"bgcolor\":\"#F5F6F9\",\"font\":{\"color\":\"#4D5663\"}},\"paper_bgcolor\":\"#F5F6F9\",\"plot_bgcolor\":\"#F5F6F9\",\"template\":{\"data\":{\"barpolar\":[{\"marker\":{\"line\":{\"color\":\"#E5ECF6\",\"width\":0.5},\"pattern\":{\"fillmode\":\"overlay\",\"size\":10,\"solidity\":0.2}},\"type\":\"barpolar\"}],\"bar\":[{\"error_x\":{\"color\":\"#2a3f5f\"},\"error_y\":{\"color\":\"#2a3f5f\"},\"marker\":{\"line\":{\"color\":\"#E5ECF6\",\"width\":0.5},\"pattern\":{\"fillmode\":\"overlay\",\"size\":10,\"solidity\":0.2}},\"type\":\"bar\"}],\"carpet\":[{\"aaxis\":{\"endlinecolor\":\"#2a3f5f\",\"gridcolor\":\"white\",\"linecolor\":\"white\",\"minorgridcolor\":\"white\",\"startlinecolor\":\"#2a3f5f\"},\"baxis\":{\"endlinecolor\":\"#2a3f5f\",\"gridcolor\":\"white\",\"linecolor\":\"white\",\"minorgridcolor\":\"white\",\"startlinecolor\":\"#2a3f5f\"},\"type\":\"carpet\"}],\"choropleth\":[{\"colorbar\":{\"outlinewidth\":0,\"ticks\":\"\"},\"type\":\"choropleth\"}],\"contourcarpet\":[{\"colorbar\":{\"outlinewidth\":0,\"ticks\":\"\"},\"type\":\"contourcarpet\"}],\"contour\":[{\"colorbar\":{\"outlinewidth\":0,\"ticks\":\"\"},\"colorscale\":[[0.0,\"#0d0887\"],[0.1111111111111111,\"#46039f\"],[0.2222222222222222,\"#7201a8\"],[0.3333333333333333,\"#9c179e\"],[0.4444444444444444,\"#bd3786\"],[0.5555555555555556,\"#d8576b\"],[0.6666666666666666,\"#ed7953\"],[0.7777777777777778,\"#fb9f3a\"],[0.8888888888888888,\"#fdca26\"],[1.0,\"#f0f921\"]],\"type\":\"contour\"}],\"heatmapgl\":[{\"colorbar\":{\"outlinewidth\":0,\"ticks\":\"\"},\"colorscale\":[[0.0,\"#0d0887\"],[0.1111111111111111,\"#46039f\"],[0.2222222222222222,\"#7201a8\"],[0.3333333333333333,\"#9c179e\"],[0.4444444444444444,\"#bd3786\"],[0.5555555555555556,\"#d8576b\"],[0.6666666666666666,\"#ed7953\"],[0.7777777777777778,\"#fb9f3a\"],[0.8888888888888888,\"#fdca26\"],[1.0,\"#f0f921\"]],\"type\":\"heatmapgl\"}],\"heatmap\":[{\"colorbar\":{\"outlinewidth\":0,\"ticks\":\"\"},\"colorscale\":[[0.0,\"#0d0887\"],[0.1111111111111111,\"#46039f\"],[0.2222222222222222,\"#7201a8\"],[0.3333333333333333,\"#9c179e\"],[0.4444444444444444,\"#bd3786\"],[0.5555555555555556,\"#d8576b\"],[0.6666666666666666,\"#ed7953\"],[0.7777777777777778,\"#fb9f3a\"],[0.8888888888888888,\"#fdca26\"],[1.0,\"#f0f921\"]],\"type\":\"heatmap\"}],\"histogram2dcontour\":[{\"colorbar\":{\"outlinewidth\":0,\"ticks\":\"\"},\"colorscale\":[[0.0,\"#0d0887\"],[0.1111111111111111,\"#46039f\"],[0.2222222222222222,\"#7201a8\"],[0.3333333333333333,\"#9c179e\"],[0.4444444444444444,\"#bd3786\"],[0.5555555555555556,\"#d8576b\"],[0.6666666666666666,\"#ed7953\"],[0.7777777777777778,\"#fb9f3a\"],[0.8888888888888888,\"#fdca26\"],[1.0,\"#f0f921\"]],\"type\":\"histogram2dcontour\"}],\"histogram2d\":[{\"colorbar\":{\"outlinewidth\":0,\"ticks\":\"\"},\"colorscale\":[[0.0,\"#0d0887\"],[0.1111111111111111,\"#46039f\"],[0.2222222222222222,\"#7201a8\"],[0.3333333333333333,\"#9c179e\"],[0.4444444444444444,\"#bd3786\"],[0.5555555555555556,\"#d8576b\"],[0.6666666666666666,\"#ed7953\"],[0.7777777777777778,\"#fb9f3a\"],[0.8888888888888888,\"#fdca26\"],[1.0,\"#f0f921\"]],\"type\":\"histogram2d\"}],\"histogram\":[{\"marker\":{\"pattern\":{\"fillmode\":\"overlay\",\"size\":10,\"solidity\":0.2}},\"type\":\"histogram\"}],\"mesh3d\":[{\"colorbar\":{\"outlinewidth\":0,\"ticks\":\"\"},\"type\":\"mesh3d\"}],\"parcoords\":[{\"line\":{\"colorbar\":{\"outlinewidth\":0,\"ticks\":\"\"}},\"type\":\"parcoords\"}],\"pie\":[{\"automargin\":true,\"type\":\"pie\"}],\"scatter3d\":[{\"line\":{\"colorbar\":{\"outlinewidth\":0,\"ticks\":\"\"}},\"marker\":{\"colorbar\":{\"outlinewidth\":0,\"ticks\":\"\"}},\"type\":\"scatter3d\"}],\"scattercarpet\":[{\"marker\":{\"colorbar\":{\"outlinewidth\":0,\"ticks\":\"\"}},\"type\":\"scattercarpet\"}],\"scattergeo\":[{\"marker\":{\"colorbar\":{\"outlinewidth\":0,\"ticks\":\"\"}},\"type\":\"scattergeo\"}],\"scattergl\":[{\"marker\":{\"colorbar\":{\"outlinewidth\":0,\"ticks\":\"\"}},\"type\":\"scattergl\"}],\"scattermapbox\":[{\"marker\":{\"colorbar\":{\"outlinewidth\":0,\"ticks\":\"\"}},\"type\":\"scattermapbox\"}],\"scatterpolargl\":[{\"marker\":{\"colorbar\":{\"outlinewidth\":0,\"ticks\":\"\"}},\"type\":\"scatterpolargl\"}],\"scatterpolar\":[{\"marker\":{\"colorbar\":{\"outlinewidth\":0,\"ticks\":\"\"}},\"type\":\"scatterpolar\"}],\"scatter\":[{\"marker\":{\"colorbar\":{\"outlinewidth\":0,\"ticks\":\"\"}},\"type\":\"scatter\"}],\"scatterternary\":[{\"marker\":{\"colorbar\":{\"outlinewidth\":0,\"ticks\":\"\"}},\"type\":\"scatterternary\"}],\"surface\":[{\"colorbar\":{\"outlinewidth\":0,\"ticks\":\"\"},\"colorscale\":[[0.0,\"#0d0887\"],[0.1111111111111111,\"#46039f\"],[0.2222222222222222,\"#7201a8\"],[0.3333333333333333,\"#9c179e\"],[0.4444444444444444,\"#bd3786\"],[0.5555555555555556,\"#d8576b\"],[0.6666666666666666,\"#ed7953\"],[0.7777777777777778,\"#fb9f3a\"],[0.8888888888888888,\"#fdca26\"],[1.0,\"#f0f921\"]],\"type\":\"surface\"}],\"table\":[{\"cells\":{\"fill\":{\"color\":\"#EBF0F8\"},\"line\":{\"color\":\"white\"}},\"header\":{\"fill\":{\"color\":\"#C8D4E3\"},\"line\":{\"color\":\"white\"}},\"type\":\"table\"}]},\"layout\":{\"annotationdefaults\":{\"arrowcolor\":\"#2a3f5f\",\"arrowhead\":0,\"arrowwidth\":1},\"autotypenumbers\":\"strict\",\"coloraxis\":{\"colorbar\":{\"outlinewidth\":0,\"ticks\":\"\"}},\"colorscale\":{\"diverging\":[[0,\"#8e0152\"],[0.1,\"#c51b7d\"],[0.2,\"#de77ae\"],[0.3,\"#f1b6da\"],[0.4,\"#fde0ef\"],[0.5,\"#f7f7f7\"],[0.6,\"#e6f5d0\"],[0.7,\"#b8e186\"],[0.8,\"#7fbc41\"],[0.9,\"#4d9221\"],[1,\"#276419\"]],\"sequential\":[[0.0,\"#0d0887\"],[0.1111111111111111,\"#46039f\"],[0.2222222222222222,\"#7201a8\"],[0.3333333333333333,\"#9c179e\"],[0.4444444444444444,\"#bd3786\"],[0.5555555555555556,\"#d8576b\"],[0.6666666666666666,\"#ed7953\"],[0.7777777777777778,\"#fb9f3a\"],[0.8888888888888888,\"#fdca26\"],[1.0,\"#f0f921\"]],\"sequentialminus\":[[0.0,\"#0d0887\"],[0.1111111111111111,\"#46039f\"],[0.2222222222222222,\"#7201a8\"],[0.3333333333333333,\"#9c179e\"],[0.4444444444444444,\"#bd3786\"],[0.5555555555555556,\"#d8576b\"],[0.6666666666666666,\"#ed7953\"],[0.7777777777777778,\"#fb9f3a\"],[0.8888888888888888,\"#fdca26\"],[1.0,\"#f0f921\"]]},\"colorway\":[\"#636efa\",\"#EF553B\",\"#00cc96\",\"#ab63fa\",\"#FFA15A\",\"#19d3f3\",\"#FF6692\",\"#B6E880\",\"#FF97FF\",\"#FECB52\"],\"font\":{\"color\":\"#2a3f5f\"},\"geo\":{\"bgcolor\":\"white\",\"lakecolor\":\"white\",\"landcolor\":\"#E5ECF6\",\"showlakes\":true,\"showland\":true,\"subunitcolor\":\"white\"},\"hoverlabel\":{\"align\":\"left\"},\"hovermode\":\"closest\",\"mapbox\":{\"style\":\"light\"},\"paper_bgcolor\":\"white\",\"plot_bgcolor\":\"#E5ECF6\",\"polar\":{\"angularaxis\":{\"gridcolor\":\"white\",\"linecolor\":\"white\",\"ticks\":\"\"},\"bgcolor\":\"#E5ECF6\",\"radialaxis\":{\"gridcolor\":\"white\",\"linecolor\":\"white\",\"ticks\":\"\"}},\"scene\":{\"xaxis\":{\"backgroundcolor\":\"#E5ECF6\",\"gridcolor\":\"white\",\"gridwidth\":2,\"linecolor\":\"white\",\"showbackground\":true,\"ticks\":\"\",\"zerolinecolor\":\"white\"},\"yaxis\":{\"backgroundcolor\":\"#E5ECF6\",\"gridcolor\":\"white\",\"gridwidth\":2,\"linecolor\":\"white\",\"showbackground\":true,\"ticks\":\"\",\"zerolinecolor\":\"white\"},\"zaxis\":{\"backgroundcolor\":\"#E5ECF6\",\"gridcolor\":\"white\",\"gridwidth\":2,\"linecolor\":\"white\",\"showbackground\":true,\"ticks\":\"\",\"zerolinecolor\":\"white\"}},\"shapedefaults\":{\"line\":{\"color\":\"#2a3f5f\"}},\"ternary\":{\"aaxis\":{\"gridcolor\":\"white\",\"linecolor\":\"white\",\"ticks\":\"\"},\"baxis\":{\"gridcolor\":\"white\",\"linecolor\":\"white\",\"ticks\":\"\"},\"bgcolor\":\"#E5ECF6\",\"caxis\":{\"gridcolor\":\"white\",\"linecolor\":\"white\",\"ticks\":\"\"}},\"title\":{\"x\":0.05},\"xaxis\":{\"automargin\":true,\"gridcolor\":\"white\",\"linecolor\":\"white\",\"ticks\":\"\",\"title\":{\"standoff\":15},\"zerolinecolor\":\"white\",\"zerolinewidth\":2},\"yaxis\":{\"automargin\":true,\"gridcolor\":\"white\",\"linecolor\":\"white\",\"ticks\":\"\",\"title\":{\"standoff\":15},\"zerolinecolor\":\"white\",\"zerolinewidth\":2}}},\"title\":{\"font\":{\"color\":\"#4D5663\"},\"text\":\"Sentiment Polarity Distribution\"},\"xaxis\":{\"gridcolor\":\"#E1E5ED\",\"linecolor\":\"black\",\"showgrid\":true,\"tickfont\":{\"color\":\"#4D5663\"},\"title\":{\"font\":{\"color\":\"#4D5663\"},\"text\":\"polarity\"},\"zerolinecolor\":\"#E1E5ED\"},\"yaxis\":{\"gridcolor\":\"#E1E5ED\",\"linecolor\":\"black\",\"showgrid\":true,\"tickfont\":{\"color\":\"#4D5663\"},\"title\":{\"font\":{\"color\":\"#4D5663\"},\"text\":\"count\"},\"zerolinecolor\":\"#E1E5ED\"}},                        {\"showLink\": true, \"linkText\": \"Export to plot.ly\", \"plotlyServerURL\": \"https://plot.ly\", \"responsive\": true}                    ).then(function(){\n",
       "                            \n",
       "var gd = document.getElementById('0ac917db-9858-4ba0-af0a-c876e53d1e56');\n",
       "var x = new MutationObserver(function (mutations, observer) {{\n",
       "        var display = window.getComputedStyle(gd).display;\n",
       "        if (!display || display === 'none') {{\n",
       "            console.log([gd, 'removed!']);\n",
       "            Plotly.purge(gd);\n",
       "            observer.disconnect();\n",
       "        }}\n",
       "}});\n",
       "\n",
       "// Listen for the removal of the full notebook cells\n",
       "var notebookContainer = gd.closest('#notebook-container');\n",
       "if (notebookContainer) {{\n",
       "    x.observe(notebookContainer, {childList: true});\n",
       "}}\n",
       "\n",
       "// Listen for the clearing of the current output cell\n",
       "var outputEl = gd.closest('.output');\n",
       "if (outputEl) {{\n",
       "    x.observe(outputEl, {childList: true});\n",
       "}}\n",
       "\n",
       "                        })                };                });            </script>        </div>"
      ]
     },
     "metadata": {},
     "output_type": "display_data"
    }
   ],
   "source": [
    "headlines_polarity['compound'].iplot(\n",
    "    kind='hist',\n",
    "    bins=30,\n",
    "    xTitle='polarity',\n",
    "    linecolor='black',\n",
    "    yTitle='count',\n",
    "    title='Sentiment Polarity Distribution')"
   ]
  },
  {
   "cell_type": "markdown",
   "id": "d1dee292",
   "metadata": {},
   "source": [
    "<b>Insights:</b> The graph above shows the univariate polarity distribution of the news article headlines and it can be seen that the polarity score of the headlines is quite equally distributed across the range of 1 to -1. We have equal number of records on both sides of 0. Thus now we can reach a conclusion that though we often feel that only the negative news make it to the headlines, that is certainly not the case. It is our brain that is susceptible to this negativity bias, wherein we forget the positive side of the story and focus only on the negative side of it."
   ]
  },
  {
   "cell_type": "code",
   "execution_count": 127,
   "id": "f1ad65e5",
   "metadata": {},
   "outputs": [
    {
     "data": {
      "text/plain": [
       "Text(0.5, 0, ' Mean Polarity')"
      ]
     },
     "execution_count": 127,
     "metadata": {},
     "output_type": "execute_result"
    },
    {
     "data": {
      "text/plain": [
       "<matplotlib.lines.Line2D at 0x18c1c57fdf0>"
      ]
     },
     "execution_count": 127,
     "metadata": {},
     "output_type": "execute_result"
    },
    {
     "data": {
      "text/plain": [
       "<matplotlib.lines.Line2D at 0x18c1bf52250>"
      ]
     },
     "execution_count": 127,
     "metadata": {},
     "output_type": "execute_result"
    },
    {
     "data": {
      "image/png": "[encoded data removed]",
      "text/plain": [
       "<Figure size 1008x1008 with 1 Axes>"
      ]
     },
     "metadata": {
      "needs_background": "light"
     },
     "output_type": "display_data"
    }
   ],
   "source": [
    "# Checking out the distribution of the news polarity based on the source of news\n",
    "df_polarity = pd.read_csv(r'C:\\Users\\user\\Datasets\\news\\news_polarity.csv')\n",
    "df_polarity = df_polarity.sort_values(['compound']).reset_index(drop=True)\n",
    "fig, ax = plt.subplots(figsize=(14, 14))\n",
    "ax = sns.barplot(x='compound', y='source', data=df_polarity)\n",
    "ax.set_xlabel(' Mean Polarity')\n",
    "ax.axvline(0.2)\n",
    "ax.axvline(-0.2)"
   ]
  },
  {
   "cell_type": "markdown",
   "id": "ef350521",
   "metadata": {},
   "source": [
    "<b>Insights:</b> The bar chart above shows mean polarity of some of the top news publishers from around the world.The two verical lines act a baseline to categorize whether the overall sentiment of the news is positive or negative. We can see that Bloomberg, Al Jazeera and BBC news have a negative mean polarity. which means these publishers genearally tend to cover stories that are negtive in its sentiments. Al jazeera mainly focuses on the war torn middle earth therfore, it is not surprising for it to have neagtive mean polarity. Bloomberg mainly covers the finance realted news or the news related to the stock market and one possible reason for it to have negative news polaity is Coronavirus Pandemic, which has had a profound impact on the financial market in the last one month. However, It is surprising to find BBC on top of that list We can also see that the news publishers like Techcrunch and lifehacker which often focus on tech news have a positive mean polarity"
   ]
  },
  {
   "cell_type": "code",
   "execution_count": 128,
   "id": "5d08aa62",
   "metadata": {},
   "outputs": [
    {
     "data": {
      "application/vnd.plotly.v1+json": {
       "config": {
        "linkText": "Export to plot.ly",
        "plotlyServerURL": "https://plot.ly",
        "showLink": false
       },
       "data": [
        {
         "marker": {
          "color": "rgb(214, 12, 140)"
         },
         "name": "Al Jazeera",
         "type": "box",
         "y": [
          -0.8126,
          -0.7184,
          -0.4939,
          -0.4404,
          -0.765,
          0.3182,
          -0.4215,
          0.3612,
          -0.5994,
          -0.6249,
          -0.9042,
          0.0772,
          0.802,
          0.9153,
          0.5423,
          -0.1531,
          0.4588,
          -0.2023,
          -0.8779,
          -0.3182,
          -0.5423,
          0.6597,
          -0.25,
          0.1531,
          -0.3182,
          0.4404,
          -0.5859,
          -0.8591,
          -0.9601,
          -0.6597,
          0.7003,
          0.2263,
          -0.25,
          0.4215,
          -0.1779,
          -0.8689,
          -0.5719,
          0.4767,
          -0.93,
          -0.7458,
          -0.836,
          0.8074,
          -0.5859,
          0.5267,
          -0.6929,
          0.4767,
          0.9559,
          0,
          -0.8555,
          -0.9287,
          -0.5719,
          -0.9648,
          -0.7845,
          -0.8316,
          -0.8689,
          0,
          0.4215,
          0.7906,
          -0.8074,
          -0.4005,
          -0.6486,
          0.2023,
          0.9001,
          -0.5267,
          -0.4019,
          0.4019,
          -0.836,
          -0.9792,
          0,
          -0.7579,
          0.765,
          -0.8916,
          0.6597,
          0.802,
          -0.6705,
          0.6597,
          -0.4019,
          -0.5719,
          0.7269,
          -0.9022,
          -0.8591,
          0.3612,
          -0.457,
          -0.6969,
          0.2732,
          -0.3818,
          0.6369,
          -0.4767,
          0.4215,
          -0.8271,
          0.8271,
          0.5106,
          -0.7717,
          -0.7184,
          -0.6597,
          -0.2732,
          0.8402,
          0.2263,
          0.4215,
          0.34,
          -0.8126,
          -0.7184,
          -0.4939,
          -0.4404,
          -0.765,
          0.3182,
          -0.4215,
          0.3612,
          -0.5994,
          -0.6249,
          -0.9042,
          0.0772,
          0.802,
          0.9153,
          0.5423,
          -0.1531,
          0.4588,
          -0.2023,
          -0.8779,
          -0.3182,
          -0.5423,
          0.6597,
          -0.25,
          0.1531,
          -0.3182,
          0.4404,
          -0.5859,
          -0.8591,
          -0.9601,
          -0.6597,
          0.7003,
          0.2263,
          -0.25,
          0.4215,
          -0.1779,
          -0.8689,
          -0.5719,
          0.4767,
          -0.93,
          -0.7458,
          -0.836,
          0.8074,
          -0.5859,
          0.5267,
          -0.6929,
          0.4767,
          0.9559,
          0,
          -0.8555,
          -0.9287,
          -0.5719,
          -0.9648,
          -0.7845,
          -0.8316,
          -0.8689,
          0,
          0.4215,
          0.7906,
          -0.8074,
          -0.4005,
          -0.6486,
          0.2023,
          0.9001,
          -0.5267,
          -0.4019,
          0.4019,
          -0.836,
          -0.9792,
          0,
          -0.7579,
          0.765,
          -0.8916,
          0.6597,
          0.802,
          -0.6705,
          0.6597,
          -0.4019,
          -0.5719,
          0.7269,
          -0.9022,
          -0.8591,
          0.3612,
          -0.457,
          -0.6969,
          0.2732,
          -0.3818,
          0.6369,
          -0.4767,
          0.4215,
          -0.8271,
          0.8271,
          0.5106,
          -0.7717,
          -0.7184,
          -0.6597,
          -0.2732,
          0.8402,
          0.2263,
          0.4215,
          0.34
         ]
        },
        {
         "marker": {
          "color": "rgb(0, 150, 128)"
         },
         "name": "BBC",
         "type": "box",
         "y": [
          -0.2263,
          -0.6124,
          -0.7845,
          -0.6124,
          -0.6124,
          0.8271,
          -0.6808,
          0,
          -0.7579,
          0.2732,
          -0.9517,
          0.4767,
          0.4215,
          -0.9371,
          -0.6705,
          -0.9186,
          0.0772,
          -0.5994,
          0,
          -0.9081,
          -0.7269,
          0.128,
          -0.3612,
          0.34,
          0.5719,
          -0.5574,
          -0.9042,
          -0.765,
          -0.296,
          -0.7506,
          0,
          -0.3182,
          0.8555,
          0.1779,
          -0.6124,
          -0.7269,
          -0.8225,
          0.5719,
          0.1027,
          0.6908,
          -0.1531,
          -0.9423,
          -0.91,
          -0.6124,
          -0.8807,
          -0.4019,
          -0.2263,
          0.1027,
          -0.0772,
          -0.93,
          0,
          -0.891,
          -0.7845,
          0.6249,
          -0.8885,
          -0.9042,
          -0.8591,
          0.9118,
          -0.2263,
          0.4215,
          0.6124,
          0,
          0.5719,
          -0.0772,
          0.6369,
          -0.3182,
          -0.8658,
          0.4588,
          -0.6808,
          -0.8519,
          -0.7506,
          -0.6124,
          0.0516,
          0.4215,
          0,
          -0.2263,
          -0.6124,
          -0.7845,
          -0.6124,
          -0.6124,
          0.8271,
          -0.6808,
          0,
          -0.7579,
          0.2732,
          -0.9517,
          0.4767,
          0.4215,
          -0.9371,
          -0.6705,
          -0.9186,
          0.0772,
          -0.5994,
          0,
          -0.9081,
          -0.7269,
          0.128,
          -0.3612,
          0.34,
          0.5719,
          -0.5574,
          -0.9042,
          -0.765,
          -0.296,
          -0.7506,
          0,
          -0.3182,
          0.8555,
          0.1779,
          -0.6124,
          -0.7269,
          -0.8225,
          0.5719,
          0.1027,
          0.6908,
          -0.1531,
          -0.9423,
          -0.91,
          -0.6124,
          -0.8807,
          -0.4019,
          -0.2263,
          0.1027,
          -0.0772,
          -0.93,
          0,
          -0.891,
          -0.7845,
          0.6249,
          -0.8885,
          -0.9042,
          -0.8591,
          0.9118,
          -0.2263,
          0.4215,
          0.6124,
          0,
          0.5719,
          -0.0772,
          0.6369,
          -0.3182,
          -0.8658,
          0.4588,
          -0.6808,
          -0.8519,
          -0.7506,
          -0.6124,
          0.0516,
          0.4215,
          0
         ]
        },
        {
         "marker": {
          "color": "rgb(10, 140, 208)"
         },
         "name": "Wall Street Journal",
         "type": "box",
         "y": [
          0.7783,
          -0.4767,
          -0.4215,
          -0.9559,
          -0.1027,
          0.2732,
          -0.5267,
          0,
          0.6808,
          0,
          0.4404,
          0.6249,
          0.34,
          0.7184,
          0.7269,
          -0.5859,
          0.7717,
          -0.3182,
          -0.5106,
          0.802,
          0.6124,
          -0.4767,
          0.25,
          0.9217,
          0.5267,
          0.2023,
          -0.8271,
          0,
          -0.765,
          0.9201,
          0.2732,
          -0.128,
          -0.7783,
          0.128,
          0.743,
          -0.1027,
          0.872,
          -0.1779,
          -0.7184,
          0.5267,
          0,
          0.3597,
          -0.2732,
          -0.296,
          -0.3612,
          0.6705,
          -0.3818,
          0.6597,
          -0.6249,
          -0.3612,
          -0.8176,
          -0.2023,
          0.7096,
          0.0772,
          0,
          0.8402,
          0.6705,
          -0.8979,
          0.7717,
          -0.7351,
          -0.5994,
          0.25,
          0.7845,
          -0.8979,
          0.6486,
          -0.7184,
          -0.4215,
          -0.5423,
          0.4939,
          -0.886,
          -0.6369,
          -0.2263,
          0,
          -0.1027,
          0.2023,
          -0.4404,
          -0.743,
          -0.5719,
          0,
          0.6808,
          -0.9217,
          0.34,
          -0.0772,
          0.25,
          -0.7579,
          -0.1027,
          0,
          0.4749,
          0.3818,
          0.6908,
          -0.8979,
          0.7096,
          0.296,
          0.0516,
          0.4939,
          0.0695,
          -0.3612,
          0.7783,
          -0.4767,
          -0.4215,
          -0.9559,
          -0.1027,
          0.2732,
          -0.5267,
          0,
          0.6808,
          0,
          0.4404,
          0.6249,
          0.34,
          0.7184,
          0.7269,
          -0.5859,
          0.7717,
          -0.3182,
          -0.5106,
          0.802,
          0.6124,
          -0.4767,
          0.25,
          0.9217,
          0.5267,
          0.2023,
          -0.8271,
          0,
          -0.765,
          0.9201,
          0.2732,
          -0.128,
          -0.7783,
          0.128,
          0.743,
          -0.1027,
          0.872,
          -0.1779,
          -0.7184,
          0.5267,
          0,
          0.3597,
          -0.2732,
          -0.296,
          -0.3612,
          0.6705,
          -0.3818,
          0.6597,
          -0.6249,
          -0.3612,
          -0.8176,
          -0.2023,
          0.7096,
          0.0772,
          0,
          0.8402,
          0.6705,
          -0.8979,
          0.7717,
          -0.7351,
          -0.5994,
          0.25,
          0.7845,
          -0.8979,
          0.6486,
          -0.7184,
          -0.4215,
          -0.5423,
          0.4939,
          -0.886,
          -0.6369,
          -0.2263,
          0,
          -0.1027,
          0.2023,
          -0.4404,
          -0.743,
          -0.5719,
          0,
          0.6808,
          -0.9217,
          0.34,
          -0.0772,
          0.25,
          -0.7579,
          -0.1027,
          0,
          0.4749,
          0.3818,
          0.6908,
          -0.8979,
          0.7096,
          0.296,
          0.0516,
          0.4939,
          0.0695,
          -0.3612
         ]
        },
        {
         "marker": {
          "color": "rgb(12, 102, 14)"
         },
         "name": "Washington Post",
         "type": "box",
         "y": []
        },
        {
         "marker": {
          "color": "rgb(10, 0, 100)"
         },
         "name": "Economist",
         "type": "box",
         "y": []
        },
        {
         "marker": {
          "color": "rgb(100, 0, 10)"
         },
         "name": "Hindustantimes",
         "type": "box",
         "y": []
        }
       ],
       "layout": {
        "template": {
         "data": {
          "bar": [
           {
            "error_x": {
             "color": "#2a3f5f"
            },
            "error_y": {
             "color": "#2a3f5f"
            },
            "marker": {
             "line": {
              "color": "#E5ECF6",
              "width": 0.5
             },
             "pattern": {
              "fillmode": "overlay",
              "size": 10,
              "solidity": 0.2
             }
            },
            "type": "bar"
           }
          ],
          "barpolar": [
           {
            "marker": {
             "line": {
              "color": "#E5ECF6",
              "width": 0.5
             },
             "pattern": {
              "fillmode": "overlay",
              "size": 10,
              "solidity": 0.2
             }
            },
            "type": "barpolar"
           }
          ],
          "carpet": [
           {
            "aaxis": {
             "endlinecolor": "#2a3f5f",
             "gridcolor": "white",
             "linecolor": "white",
             "minorgridcolor": "white",
             "startlinecolor": "#2a3f5f"
            },
            "baxis": {
             "endlinecolor": "#2a3f5f",
             "gridcolor": "white",
             "linecolor": "white",
             "minorgridcolor": "white",
             "startlinecolor": "#2a3f5f"
            },
            "type": "carpet"
           }
          ],
          "choropleth": [
           {
            "colorbar": {
             "outlinewidth": 0,
             "ticks": ""
            },
            "type": "choropleth"
           }
          ],
          "contour": [
           {
            "colorbar": {
             "outlinewidth": 0,
             "ticks": ""
            },
            "colorscale": [
             [
              0,
              "#0d0887"
             ],
             [
              0.1111111111111111,
              "#46039f"
             ],
             [
              0.2222222222222222,
              "#7201a8"
             ],
             [
              0.3333333333333333,
              "#9c179e"
             ],
             [
              0.4444444444444444,
              "#bd3786"
             ],
             [
              0.5555555555555556,
              "#d8576b"
             ],
             [
              0.6666666666666666,
              "#ed7953"
             ],
             [
              0.7777777777777778,
              "#fb9f3a"
             ],
             [
              0.8888888888888888,
              "#fdca26"
             ],
             [
              1,
              "#f0f921"
             ]
            ],
            "type": "contour"
           }
          ],
          "contourcarpet": [
           {
            "colorbar": {
             "outlinewidth": 0,
             "ticks": ""
            },
            "type": "contourcarpet"
           }
          ],
          "heatmap": [
           {
            "colorbar": {
             "outlinewidth": 0,
             "ticks": ""
            },
            "colorscale": [
             [
              0,
              "#0d0887"
             ],
             [
              0.1111111111111111,
              "#46039f"
             ],
             [
              0.2222222222222222,
              "#7201a8"
             ],
             [
              0.3333333333333333,
              "#9c179e"
             ],
             [
              0.4444444444444444,
              "#bd3786"
             ],
             [
              0.5555555555555556,
              "#d8576b"
             ],
             [
              0.6666666666666666,
              "#ed7953"
             ],
             [
              0.7777777777777778,
              "#fb9f3a"
             ],
             [
              0.8888888888888888,
              "#fdca26"
             ],
             [
              1,
              "#f0f921"
             ]
            ],
            "type": "heatmap"
           }
          ],
          "heatmapgl": [
           {
            "colorbar": {
             "outlinewidth": 0,
             "ticks": ""
            },
            "colorscale": [
             [
              0,
              "#0d0887"
             ],
             [
              0.1111111111111111,
              "#46039f"
             ],
             [
              0.2222222222222222,
              "#7201a8"
             ],
             [
              0.3333333333333333,
              "#9c179e"
             ],
             [
              0.4444444444444444,
              "#bd3786"
             ],
             [
              0.5555555555555556,
              "#d8576b"
             ],
             [
              0.6666666666666666,
              "#ed7953"
             ],
             [
              0.7777777777777778,
              "#fb9f3a"
             ],
             [
              0.8888888888888888,
              "#fdca26"
             ],
             [
              1,
              "#f0f921"
             ]
            ],
            "type": "heatmapgl"
           }
          ],
          "histogram": [
           {
            "marker": {
             "pattern": {
              "fillmode": "overlay",
              "size": 10,
              "solidity": 0.2
             }
            },
            "type": "histogram"
           }
          ],
          "histogram2d": [
           {
            "colorbar": {
             "outlinewidth": 0,
             "ticks": ""
            },
            "colorscale": [
             [
              0,
              "#0d0887"
             ],
             [
              0.1111111111111111,
              "#46039f"
             ],
             [
              0.2222222222222222,
              "#7201a8"
             ],
             [
              0.3333333333333333,
              "#9c179e"
             ],
             [
              0.4444444444444444,
              "#bd3786"
             ],
             [
              0.5555555555555556,
              "#d8576b"
             ],
             [
              0.6666666666666666,
              "#ed7953"
             ],
             [
              0.7777777777777778,
              "#fb9f3a"
             ],
             [
              0.8888888888888888,
              "#fdca26"
             ],
             [
              1,
              "#f0f921"
             ]
            ],
            "type": "histogram2d"
           }
          ],
          "histogram2dcontour": [
           {
            "colorbar": {
             "outlinewidth": 0,
             "ticks": ""
            },
            "colorscale": [
             [
              0,
              "#0d0887"
             ],
             [
              0.1111111111111111,
              "#46039f"
             ],
             [
              0.2222222222222222,
              "#7201a8"
             ],
             [
              0.3333333333333333,
              "#9c179e"
             ],
             [
              0.4444444444444444,
              "#bd3786"
             ],
             [
              0.5555555555555556,
              "#d8576b"
             ],
             [
              0.6666666666666666,
              "#ed7953"
             ],
             [
              0.7777777777777778,
              "#fb9f3a"
             ],
             [
              0.8888888888888888,
              "#fdca26"
             ],
             [
              1,
              "#f0f921"
             ]
            ],
            "type": "histogram2dcontour"
           }
          ],
          "mesh3d": [
           {
            "colorbar": {
             "outlinewidth": 0,
             "ticks": ""
            },
            "type": "mesh3d"
           }
          ],
          "parcoords": [
           {
            "line": {
             "colorbar": {
              "outlinewidth": 0,
              "ticks": ""
             }
            },
            "type": "parcoords"
           }
          ],
          "pie": [
           {
            "automargin": true,
            "type": "pie"
           }
          ],
          "scatter": [
           {
            "marker": {
             "colorbar": {
              "outlinewidth": 0,
              "ticks": ""
             }
            },
            "type": "scatter"
           }
          ],
          "scatter3d": [
           {
            "line": {
             "colorbar": {
              "outlinewidth": 0,
              "ticks": ""
             }
            },
            "marker": {
             "colorbar": {
              "outlinewidth": 0,
              "ticks": ""
             }
            },
            "type": "scatter3d"
           }
          ],
          "scattercarpet": [
           {
            "marker": {
             "colorbar": {
              "outlinewidth": 0,
              "ticks": ""
             }
            },
            "type": "scattercarpet"
           }
          ],
          "scattergeo": [
           {
            "marker": {
             "colorbar": {
              "outlinewidth": 0,
              "ticks": ""
             }
            },
            "type": "scattergeo"
           }
          ],
          "scattergl": [
           {
            "marker": {
             "colorbar": {
              "outlinewidth": 0,
              "ticks": ""
             }
            },
            "type": "scattergl"
           }
          ],
          "scattermapbox": [
           {
            "marker": {
             "colorbar": {
              "outlinewidth": 0,
              "ticks": ""
             }
            },
            "type": "scattermapbox"
           }
          ],
          "scatterpolar": [
           {
            "marker": {
             "colorbar": {
              "outlinewidth": 0,
              "ticks": ""
             }
            },
            "type": "scatterpolar"
           }
          ],
          "scatterpolargl": [
           {
            "marker": {
             "colorbar": {
              "outlinewidth": 0,
              "ticks": ""
             }
            },
            "type": "scatterpolargl"
           }
          ],
          "scatterternary": [
           {
            "marker": {
             "colorbar": {
              "outlinewidth": 0,
              "ticks": ""
             }
            },
            "type": "scatterternary"
           }
          ],
          "surface": [
           {
            "colorbar": {
             "outlinewidth": 0,
             "ticks": ""
            },
            "colorscale": [
             [
              0,
              "#0d0887"
             ],
             [
              0.1111111111111111,
              "#46039f"
             ],
             [
              0.2222222222222222,
              "#7201a8"
             ],
             [
              0.3333333333333333,
              "#9c179e"
             ],
             [
              0.4444444444444444,
              "#bd3786"
             ],
             [
              0.5555555555555556,
              "#d8576b"
             ],
             [
              0.6666666666666666,
              "#ed7953"
             ],
             [
              0.7777777777777778,
              "#fb9f3a"
             ],
             [
              0.8888888888888888,
              "#fdca26"
             ],
             [
              1,
              "#f0f921"
             ]
            ],
            "type": "surface"
           }
          ],
          "table": [
           {
            "cells": {
             "fill": {
              "color": "#EBF0F8"
             },
             "line": {
              "color": "white"
             }
            },
            "header": {
             "fill": {
              "color": "#C8D4E3"
             },
             "line": {
              "color": "white"
             }
            },
            "type": "table"
           }
          ]
         },
         "layout": {
          "annotationdefaults": {
           "arrowcolor": "#2a3f5f",
           "arrowhead": 0,
           "arrowwidth": 1
          },
          "autotypenumbers": "strict",
          "coloraxis": {
           "colorbar": {
            "outlinewidth": 0,
            "ticks": ""
           }
          },
          "colorscale": {
           "diverging": [
            [
             0,
             "#8e0152"
            ],
            [
             0.1,
             "#c51b7d"
            ],
            [
             0.2,
             "#de77ae"
            ],
            [
             0.3,
             "#f1b6da"
            ],
            [
             0.4,
             "#fde0ef"
            ],
            [
             0.5,
             "#f7f7f7"
            ],
            [
             0.6,
             "#e6f5d0"
            ],
            [
             0.7,
             "#b8e186"
            ],
            [
             0.8,
             "#7fbc41"
            ],
            [
             0.9,
             "#4d9221"
            ],
            [
             1,
             "#276419"
            ]
           ],
           "sequential": [
            [
             0,
             "#0d0887"
            ],
            [
             0.1111111111111111,
             "#46039f"
            ],
            [
             0.2222222222222222,
             "#7201a8"
            ],
            [
             0.3333333333333333,
             "#9c179e"
            ],
            [
             0.4444444444444444,
             "#bd3786"
            ],
            [
             0.5555555555555556,
             "#d8576b"
            ],
            [
             0.6666666666666666,
             "#ed7953"
            ],
            [
             0.7777777777777778,
             "#fb9f3a"
            ],
            [
             0.8888888888888888,
             "#fdca26"
            ],
            [
             1,
             "#f0f921"
            ]
           ],
           "sequentialminus": [
            [
             0,
             "#0d0887"
            ],
            [
             0.1111111111111111,
             "#46039f"
            ],
            [
             0.2222222222222222,
             "#7201a8"
            ],
            [
             0.3333333333333333,
             "#9c179e"
            ],
            [
             0.4444444444444444,
             "#bd3786"
            ],
            [
             0.5555555555555556,
             "#d8576b"
            ],
            [
             0.6666666666666666,
             "#ed7953"
            ],
            [
             0.7777777777777778,
             "#fb9f3a"
            ],
            [
             0.8888888888888888,
             "#fdca26"
            ],
            [
             1,
             "#f0f921"
            ]
           ]
          },
          "colorway": [
           "#636efa",
           "#EF553B",
           "#00cc96",
           "#ab63fa",
           "#FFA15A",
           "#19d3f3",
           "#FF6692",
           "#B6E880",
           "#FF97FF",
           "#FECB52"
          ],
          "font": {
           "color": "#2a3f5f"
          },
          "geo": {
           "bgcolor": "white",
           "lakecolor": "white",
           "landcolor": "#E5ECF6",
           "showlakes": true,
           "showland": true,
           "subunitcolor": "white"
          },
          "hoverlabel": {
           "align": "left"
          },
          "hovermode": "closest",
          "mapbox": {
           "style": "light"
          },
          "paper_bgcolor": "white",
          "plot_bgcolor": "#E5ECF6",
          "polar": {
           "angularaxis": {
            "gridcolor": "white",
            "linecolor": "white",
            "ticks": ""
           },
           "bgcolor": "#E5ECF6",
           "radialaxis": {
            "gridcolor": "white",
            "linecolor": "white",
            "ticks": ""
           }
          },
          "scene": {
           "xaxis": {
            "backgroundcolor": "#E5ECF6",
            "gridcolor": "white",
            "gridwidth": 2,
            "linecolor": "white",
            "showbackground": true,
            "ticks": "",
            "zerolinecolor": "white"
           },
           "yaxis": {
            "backgroundcolor": "#E5ECF6",
            "gridcolor": "white",
            "gridwidth": 2,
            "linecolor": "white",
            "showbackground": true,
            "ticks": "",
            "zerolinecolor": "white"
           },
           "zaxis": {
            "backgroundcolor": "#E5ECF6",
            "gridcolor": "white",
            "gridwidth": 2,
            "linecolor": "white",
            "showbackground": true,
            "ticks": "",
            "zerolinecolor": "white"
           }
          },
          "shapedefaults": {
           "line": {
            "color": "#2a3f5f"
           }
          },
          "ternary": {
           "aaxis": {
            "gridcolor": "white",
            "linecolor": "white",
            "ticks": ""
           },
           "baxis": {
            "gridcolor": "white",
            "linecolor": "white",
            "ticks": ""
           },
           "bgcolor": "#E5ECF6",
           "caxis": {
            "gridcolor": "white",
            "linecolor": "white",
            "ticks": ""
           }
          },
          "title": {
           "x": 0.05
          },
          "xaxis": {
           "automargin": true,
           "gridcolor": "white",
           "linecolor": "white",
           "ticks": "",
           "title": {
            "standoff": 15
           },
           "zerolinecolor": "white",
           "zerolinewidth": 2
          },
          "yaxis": {
           "automargin": true,
           "gridcolor": "white",
           "linecolor": "white",
           "ticks": "",
           "title": {
            "standoff": 15
           },
           "zerolinecolor": "white",
           "zerolinewidth": 2
          }
         }
        },
        "title": {
         "text": "Sentiment Polarity Boxplot of Popular News publishers"
        }
       }
      },
      "text/html": [
       "<div>                            <div id=\"3666d87f-38f4-4ead-a1c8-db383fc63fcf\" class=\"plotly-graph-div\" style=\"height:525px; width:100%;\"></div>            <script type=\"text/javascript\">                require([\"plotly\"], function(Plotly) {                    window.PLOTLYENV=window.PLOTLYENV || {};                                    if (document.getElementById(\"3666d87f-38f4-4ead-a1c8-db383fc63fcf\")) {                    Plotly.newPlot(                        \"3666d87f-38f4-4ead-a1c8-db383fc63fcf\",                        [{\"marker\":{\"color\":\"rgb(214, 12, 140)\"},\"name\":\"Al Jazeera\",\"y\":[-0.8126,-0.7184,-0.4939,-0.4404,-0.765,0.3182,-0.4215,0.3612,-0.5994,-0.6249,-0.9042,0.0772,0.802,0.9153,0.5423,-0.1531,0.4588,-0.2023,-0.8779,-0.3182,-0.5423,0.6597,-0.25,0.1531,-0.3182,0.4404,-0.5859,-0.8591,-0.9601,-0.6597,0.7003,0.2263,-0.25,0.4215,-0.1779,-0.8689,-0.5719,0.4767,-0.93,-0.7458,-0.836,0.8074,-0.5859,0.5267,-0.6929,0.4767,0.9559,0.0,-0.8555,-0.9287,-0.5719,-0.9648,-0.7845,-0.8316,-0.8689,0.0,0.4215,0.7906,-0.8074,-0.4005,-0.6486,0.2023,0.9001,-0.5267,-0.4019,0.4019,-0.836,-0.9792,0.0,-0.7579,0.765,-0.8916,0.6597,0.802,-0.6705,0.6597,-0.4019,-0.5719,0.7269,-0.9022,-0.8591,0.3612,-0.457,-0.6969,0.2732,-0.3818,0.6369,-0.4767,0.4215,-0.8271,0.8271,0.5106,-0.7717,-0.7184,-0.6597,-0.2732,0.8402,0.2263,0.4215,0.34,-0.8126,-0.7184,-0.4939,-0.4404,-0.765,0.3182,-0.4215,0.3612,-0.5994,-0.6249,-0.9042,0.0772,0.802,0.9153,0.5423,-0.1531,0.4588,-0.2023,-0.8779,-0.3182,-0.5423,0.6597,-0.25,0.1531,-0.3182,0.4404,-0.5859,-0.8591,-0.9601,-0.6597,0.7003,0.2263,-0.25,0.4215,-0.1779,-0.8689,-0.5719,0.4767,-0.93,-0.7458,-0.836,0.8074,-0.5859,0.5267,-0.6929,0.4767,0.9559,0.0,-0.8555,-0.9287,-0.5719,-0.9648,-0.7845,-0.8316,-0.8689,0.0,0.4215,0.7906,-0.8074,-0.4005,-0.6486,0.2023,0.9001,-0.5267,-0.4019,0.4019,-0.836,-0.9792,0.0,-0.7579,0.765,-0.8916,0.6597,0.802,-0.6705,0.6597,-0.4019,-0.5719,0.7269,-0.9022,-0.8591,0.3612,-0.457,-0.6969,0.2732,-0.3818,0.6369,-0.4767,0.4215,-0.8271,0.8271,0.5106,-0.7717,-0.7184,-0.6597,-0.2732,0.8402,0.2263,0.4215,0.34],\"type\":\"box\"},{\"marker\":{\"color\":\"rgb(0, 150, 128)\"},\"name\":\"BBC\",\"y\":[-0.2263,-0.6124,-0.7845,-0.6124,-0.6124,0.8271,-0.6808,0.0,-0.7579,0.2732,-0.9517,0.4767,0.4215,-0.9371,-0.6705,-0.9186,0.0772,-0.5994,0.0,-0.9081,-0.7269,0.128,-0.3612,0.34,0.5719,-0.5574,-0.9042,-0.765,-0.296,-0.7506,0.0,-0.3182,0.8555,0.1779,-0.6124,-0.7269,-0.8225,0.5719,0.1027,0.6908,-0.1531,-0.9423,-0.91,-0.6124,-0.8807,-0.4019,-0.2263,0.1027,-0.0772,-0.93,0.0,-0.891,-0.7845,0.6249,-0.8885,-0.9042,-0.8591,0.9118,-0.2263,0.4215,0.6124,0.0,0.5719,-0.0772,0.6369,-0.3182,-0.8658,0.4588,-0.6808,-0.8519,-0.7506,-0.6124,0.0516,0.4215,0.0,-0.2263,-0.6124,-0.7845,-0.6124,-0.6124,0.8271,-0.6808,0.0,-0.7579,0.2732,-0.9517,0.4767,0.4215,-0.9371,-0.6705,-0.9186,0.0772,-0.5994,0.0,-0.9081,-0.7269,0.128,-0.3612,0.34,0.5719,-0.5574,-0.9042,-0.765,-0.296,-0.7506,0.0,-0.3182,0.8555,0.1779,-0.6124,-0.7269,-0.8225,0.5719,0.1027,0.6908,-0.1531,-0.9423,-0.91,-0.6124,-0.8807,-0.4019,-0.2263,0.1027,-0.0772,-0.93,0.0,-0.891,-0.7845,0.6249,-0.8885,-0.9042,-0.8591,0.9118,-0.2263,0.4215,0.6124,0.0,0.5719,-0.0772,0.6369,-0.3182,-0.8658,0.4588,-0.6808,-0.8519,-0.7506,-0.6124,0.0516,0.4215,0.0],\"type\":\"box\"},{\"marker\":{\"color\":\"rgb(10, 140, 208)\"},\"name\":\"Wall Street Journal\",\"y\":[0.7783,-0.4767,-0.4215,-0.9559,-0.1027,0.2732,-0.5267,0.0,0.6808,0.0,0.4404,0.6249,0.34,0.7184,0.7269,-0.5859,0.7717,-0.3182,-0.5106,0.802,0.6124,-0.4767,0.25,0.9217,0.5267,0.2023,-0.8271,0.0,-0.765,0.9201,0.2732,-0.128,-0.7783,0.128,0.743,-0.1027,0.872,-0.1779,-0.7184,0.5267,0.0,0.3597,-0.2732,-0.296,-0.3612,0.6705,-0.3818,0.6597,-0.6249,-0.3612,-0.8176,-0.2023,0.7096,0.0772,0.0,0.8402,0.6705,-0.8979,0.7717,-0.7351,-0.5994,0.25,0.7845,-0.8979,0.6486,-0.7184,-0.4215,-0.5423,0.4939,-0.886,-0.6369,-0.2263,0.0,-0.1027,0.2023,-0.4404,-0.743,-0.5719,0.0,0.6808,-0.9217,0.34,-0.0772,0.25,-0.7579,-0.1027,0.0,0.4749,0.3818,0.6908,-0.8979,0.7096,0.296,0.0516,0.4939,0.0695,-0.3612,0.7783,-0.4767,-0.4215,-0.9559,-0.1027,0.2732,-0.5267,0.0,0.6808,0.0,0.4404,0.6249,0.34,0.7184,0.7269,-0.5859,0.7717,-0.3182,-0.5106,0.802,0.6124,-0.4767,0.25,0.9217,0.5267,0.2023,-0.8271,0.0,-0.765,0.9201,0.2732,-0.128,-0.7783,0.128,0.743,-0.1027,0.872,-0.1779,-0.7184,0.5267,0.0,0.3597,-0.2732,-0.296,-0.3612,0.6705,-0.3818,0.6597,-0.6249,-0.3612,-0.8176,-0.2023,0.7096,0.0772,0.0,0.8402,0.6705,-0.8979,0.7717,-0.7351,-0.5994,0.25,0.7845,-0.8979,0.6486,-0.7184,-0.4215,-0.5423,0.4939,-0.886,-0.6369,-0.2263,0.0,-0.1027,0.2023,-0.4404,-0.743,-0.5719,0.0,0.6808,-0.9217,0.34,-0.0772,0.25,-0.7579,-0.1027,0.0,0.4749,0.3818,0.6908,-0.8979,0.7096,0.296,0.0516,0.4939,0.0695,-0.3612],\"type\":\"box\"},{\"marker\":{\"color\":\"rgb(12, 102, 14)\"},\"name\":\"Washington Post\",\"y\":[],\"type\":\"box\"},{\"marker\":{\"color\":\"rgb(10, 0, 100)\"},\"name\":\"Economist\",\"y\":[],\"type\":\"box\"},{\"marker\":{\"color\":\"rgb(100, 0, 10)\"},\"name\":\"Hindustantimes\",\"y\":[],\"type\":\"box\"}],                        {\"template\":{\"data\":{\"barpolar\":[{\"marker\":{\"line\":{\"color\":\"#E5ECF6\",\"width\":0.5},\"pattern\":{\"fillmode\":\"overlay\",\"size\":10,\"solidity\":0.2}},\"type\":\"barpolar\"}],\"bar\":[{\"error_x\":{\"color\":\"#2a3f5f\"},\"error_y\":{\"color\":\"#2a3f5f\"},\"marker\":{\"line\":{\"color\":\"#E5ECF6\",\"width\":0.5},\"pattern\":{\"fillmode\":\"overlay\",\"size\":10,\"solidity\":0.2}},\"type\":\"bar\"}],\"carpet\":[{\"aaxis\":{\"endlinecolor\":\"#2a3f5f\",\"gridcolor\":\"white\",\"linecolor\":\"white\",\"minorgridcolor\":\"white\",\"startlinecolor\":\"#2a3f5f\"},\"baxis\":{\"endlinecolor\":\"#2a3f5f\",\"gridcolor\":\"white\",\"linecolor\":\"white\",\"minorgridcolor\":\"white\",\"startlinecolor\":\"#2a3f5f\"},\"type\":\"carpet\"}],\"choropleth\":[{\"colorbar\":{\"outlinewidth\":0,\"ticks\":\"\"},\"type\":\"choropleth\"}],\"contourcarpet\":[{\"colorbar\":{\"outlinewidth\":0,\"ticks\":\"\"},\"type\":\"contourcarpet\"}],\"contour\":[{\"colorbar\":{\"outlinewidth\":0,\"ticks\":\"\"},\"colorscale\":[[0.0,\"#0d0887\"],[0.1111111111111111,\"#46039f\"],[0.2222222222222222,\"#7201a8\"],[0.3333333333333333,\"#9c179e\"],[0.4444444444444444,\"#bd3786\"],[0.5555555555555556,\"#d8576b\"],[0.6666666666666666,\"#ed7953\"],[0.7777777777777778,\"#fb9f3a\"],[0.8888888888888888,\"#fdca26\"],[1.0,\"#f0f921\"]],\"type\":\"contour\"}],\"heatmapgl\":[{\"colorbar\":{\"outlinewidth\":0,\"ticks\":\"\"},\"colorscale\":[[0.0,\"#0d0887\"],[0.1111111111111111,\"#46039f\"],[0.2222222222222222,\"#7201a8\"],[0.3333333333333333,\"#9c179e\"],[0.4444444444444444,\"#bd3786\"],[0.5555555555555556,\"#d8576b\"],[0.6666666666666666,\"#ed7953\"],[0.7777777777777778,\"#fb9f3a\"],[0.8888888888888888,\"#fdca26\"],[1.0,\"#f0f921\"]],\"type\":\"heatmapgl\"}],\"heatmap\":[{\"colorbar\":{\"outlinewidth\":0,\"ticks\":\"\"},\"colorscale\":[[0.0,\"#0d0887\"],[0.1111111111111111,\"#46039f\"],[0.2222222222222222,\"#7201a8\"],[0.3333333333333333,\"#9c179e\"],[0.4444444444444444,\"#bd3786\"],[0.5555555555555556,\"#d8576b\"],[0.6666666666666666,\"#ed7953\"],[0.7777777777777778,\"#fb9f3a\"],[0.8888888888888888,\"#fdca26\"],[1.0,\"#f0f921\"]],\"type\":\"heatmap\"}],\"histogram2dcontour\":[{\"colorbar\":{\"outlinewidth\":0,\"ticks\":\"\"},\"colorscale\":[[0.0,\"#0d0887\"],[0.1111111111111111,\"#46039f\"],[0.2222222222222222,\"#7201a8\"],[0.3333333333333333,\"#9c179e\"],[0.4444444444444444,\"#bd3786\"],[0.5555555555555556,\"#d8576b\"],[0.6666666666666666,\"#ed7953\"],[0.7777777777777778,\"#fb9f3a\"],[0.8888888888888888,\"#fdca26\"],[1.0,\"#f0f921\"]],\"type\":\"histogram2dcontour\"}],\"histogram2d\":[{\"colorbar\":{\"outlinewidth\":0,\"ticks\":\"\"},\"colorscale\":[[0.0,\"#0d0887\"],[0.1111111111111111,\"#46039f\"],[0.2222222222222222,\"#7201a8\"],[0.3333333333333333,\"#9c179e\"],[0.4444444444444444,\"#bd3786\"],[0.5555555555555556,\"#d8576b\"],[0.6666666666666666,\"#ed7953\"],[0.7777777777777778,\"#fb9f3a\"],[0.8888888888888888,\"#fdca26\"],[1.0,\"#f0f921\"]],\"type\":\"histogram2d\"}],\"histogram\":[{\"marker\":{\"pattern\":{\"fillmode\":\"overlay\",\"size\":10,\"solidity\":0.2}},\"type\":\"histogram\"}],\"mesh3d\":[{\"colorbar\":{\"outlinewidth\":0,\"ticks\":\"\"},\"type\":\"mesh3d\"}],\"parcoords\":[{\"line\":{\"colorbar\":{\"outlinewidth\":0,\"ticks\":\"\"}},\"type\":\"parcoords\"}],\"pie\":[{\"automargin\":true,\"type\":\"pie\"}],\"scatter3d\":[{\"line\":{\"colorbar\":{\"outlinewidth\":0,\"ticks\":\"\"}},\"marker\":{\"colorbar\":{\"outlinewidth\":0,\"ticks\":\"\"}},\"type\":\"scatter3d\"}],\"scattercarpet\":[{\"marker\":{\"colorbar\":{\"outlinewidth\":0,\"ticks\":\"\"}},\"type\":\"scattercarpet\"}],\"scattergeo\":[{\"marker\":{\"colorbar\":{\"outlinewidth\":0,\"ticks\":\"\"}},\"type\":\"scattergeo\"}],\"scattergl\":[{\"marker\":{\"colorbar\":{\"outlinewidth\":0,\"ticks\":\"\"}},\"type\":\"scattergl\"}],\"scattermapbox\":[{\"marker\":{\"colorbar\":{\"outlinewidth\":0,\"ticks\":\"\"}},\"type\":\"scattermapbox\"}],\"scatterpolargl\":[{\"marker\":{\"colorbar\":{\"outlinewidth\":0,\"ticks\":\"\"}},\"type\":\"scatterpolargl\"}],\"scatterpolar\":[{\"marker\":{\"colorbar\":{\"outlinewidth\":0,\"ticks\":\"\"}},\"type\":\"scatterpolar\"}],\"scatter\":[{\"marker\":{\"colorbar\":{\"outlinewidth\":0,\"ticks\":\"\"}},\"type\":\"scatter\"}],\"scatterternary\":[{\"marker\":{\"colorbar\":{\"outlinewidth\":0,\"ticks\":\"\"}},\"type\":\"scatterternary\"}],\"surface\":[{\"colorbar\":{\"outlinewidth\":0,\"ticks\":\"\"},\"colorscale\":[[0.0,\"#0d0887\"],[0.1111111111111111,\"#46039f\"],[0.2222222222222222,\"#7201a8\"],[0.3333333333333333,\"#9c179e\"],[0.4444444444444444,\"#bd3786\"],[0.5555555555555556,\"#d8576b\"],[0.6666666666666666,\"#ed7953\"],[0.7777777777777778,\"#fb9f3a\"],[0.8888888888888888,\"#fdca26\"],[1.0,\"#f0f921\"]],\"type\":\"surface\"}],\"table\":[{\"cells\":{\"fill\":{\"color\":\"#EBF0F8\"},\"line\":{\"color\":\"white\"}},\"header\":{\"fill\":{\"color\":\"#C8D4E3\"},\"line\":{\"color\":\"white\"}},\"type\":\"table\"}]},\"layout\":{\"annotationdefaults\":{\"arrowcolor\":\"#2a3f5f\",\"arrowhead\":0,\"arrowwidth\":1},\"autotypenumbers\":\"strict\",\"coloraxis\":{\"colorbar\":{\"outlinewidth\":0,\"ticks\":\"\"}},\"colorscale\":{\"diverging\":[[0,\"#8e0152\"],[0.1,\"#c51b7d\"],[0.2,\"#de77ae\"],[0.3,\"#f1b6da\"],[0.4,\"#fde0ef\"],[0.5,\"#f7f7f7\"],[0.6,\"#e6f5d0\"],[0.7,\"#b8e186\"],[0.8,\"#7fbc41\"],[0.9,\"#4d9221\"],[1,\"#276419\"]],\"sequential\":[[0.0,\"#0d0887\"],[0.1111111111111111,\"#46039f\"],[0.2222222222222222,\"#7201a8\"],[0.3333333333333333,\"#9c179e\"],[0.4444444444444444,\"#bd3786\"],[0.5555555555555556,\"#d8576b\"],[0.6666666666666666,\"#ed7953\"],[0.7777777777777778,\"#fb9f3a\"],[0.8888888888888888,\"#fdca26\"],[1.0,\"#f0f921\"]],\"sequentialminus\":[[0.0,\"#0d0887\"],[0.1111111111111111,\"#46039f\"],[0.2222222222222222,\"#7201a8\"],[0.3333333333333333,\"#9c179e\"],[0.4444444444444444,\"#bd3786\"],[0.5555555555555556,\"#d8576b\"],[0.6666666666666666,\"#ed7953\"],[0.7777777777777778,\"#fb9f3a\"],[0.8888888888888888,\"#fdca26\"],[1.0,\"#f0f921\"]]},\"colorway\":[\"#636efa\",\"#EF553B\",\"#00cc96\",\"#ab63fa\",\"#FFA15A\",\"#19d3f3\",\"#FF6692\",\"#B6E880\",\"#FF97FF\",\"#FECB52\"],\"font\":{\"color\":\"#2a3f5f\"},\"geo\":{\"bgcolor\":\"white\",\"lakecolor\":\"white\",\"landcolor\":\"#E5ECF6\",\"showlakes\":true,\"showland\":true,\"subunitcolor\":\"white\"},\"hoverlabel\":{\"align\":\"left\"},\"hovermode\":\"closest\",\"mapbox\":{\"style\":\"light\"},\"paper_bgcolor\":\"white\",\"plot_bgcolor\":\"#E5ECF6\",\"polar\":{\"angularaxis\":{\"gridcolor\":\"white\",\"linecolor\":\"white\",\"ticks\":\"\"},\"bgcolor\":\"#E5ECF6\",\"radialaxis\":{\"gridcolor\":\"white\",\"linecolor\":\"white\",\"ticks\":\"\"}},\"scene\":{\"xaxis\":{\"backgroundcolor\":\"#E5ECF6\",\"gridcolor\":\"white\",\"gridwidth\":2,\"linecolor\":\"white\",\"showbackground\":true,\"ticks\":\"\",\"zerolinecolor\":\"white\"},\"yaxis\":{\"backgroundcolor\":\"#E5ECF6\",\"gridcolor\":\"white\",\"gridwidth\":2,\"linecolor\":\"white\",\"showbackground\":true,\"ticks\":\"\",\"zerolinecolor\":\"white\"},\"zaxis\":{\"backgroundcolor\":\"#E5ECF6\",\"gridcolor\":\"white\",\"gridwidth\":2,\"linecolor\":\"white\",\"showbackground\":true,\"ticks\":\"\",\"zerolinecolor\":\"white\"}},\"shapedefaults\":{\"line\":{\"color\":\"#2a3f5f\"}},\"ternary\":{\"aaxis\":{\"gridcolor\":\"white\",\"linecolor\":\"white\",\"ticks\":\"\"},\"baxis\":{\"gridcolor\":\"white\",\"linecolor\":\"white\",\"ticks\":\"\"},\"bgcolor\":\"#E5ECF6\",\"caxis\":{\"gridcolor\":\"white\",\"linecolor\":\"white\",\"ticks\":\"\"}},\"title\":{\"x\":0.05},\"xaxis\":{\"automargin\":true,\"gridcolor\":\"white\",\"linecolor\":\"white\",\"ticks\":\"\",\"title\":{\"standoff\":15},\"zerolinecolor\":\"white\",\"zerolinewidth\":2},\"yaxis\":{\"automargin\":true,\"gridcolor\":\"white\",\"linecolor\":\"white\",\"ticks\":\"\",\"title\":{\"standoff\":15},\"zerolinecolor\":\"white\",\"zerolinewidth\":2}}},\"title\":{\"text\":\"Sentiment Polarity Boxplot of Popular News publishers\"}},                        {\"responsive\": true}                    ).then(function(){\n",
       "                            \n",
       "var gd = document.getElementById('3666d87f-38f4-4ead-a1c8-db383fc63fcf');\n",
       "var x = new MutationObserver(function (mutations, observer) {{\n",
       "        var display = window.getComputedStyle(gd).display;\n",
       "        if (!display || display === 'none') {{\n",
       "            console.log([gd, 'removed!']);\n",
       "            Plotly.purge(gd);\n",
       "            observer.disconnect();\n",
       "        }}\n",
       "}});\n",
       "\n",
       "// Listen for the removal of the full notebook cells\n",
       "var notebookContainer = gd.closest('#notebook-container');\n",
       "if (notebookContainer) {{\n",
       "    x.observe(notebookContainer, {childList: true});\n",
       "}}\n",
       "\n",
       "// Listen for the clearing of the current output cell\n",
       "var outputEl = gd.closest('.output');\n",
       "if (outputEl) {{\n",
       "    x.observe(outputEl, {childList: true});\n",
       "}}\n",
       "\n",
       "                        })                };                });            </script>        </div>"
      ]
     },
     "metadata": {},
     "output_type": "display_data"
    }
   ],
   "source": [
    "# Box Plot for the top news publishers\n",
    "y0 = headlines_polarity.loc[headlines_polarity['source'] == 'Al Jazeera English']['compound']\n",
    "y1 = headlines_polarity.loc[headlines_polarity['source'] == 'BBC News']['compound']\n",
    "y2 = headlines_polarity.loc[headlines_polarity['source'] == 'The Wall Street Journal']['compound']\n",
    "y3 = headlines_polarity.loc[headlines_polarity['source'] == 'The Washington Post']['compound']\n",
    "y4 = headlines_polarity.loc[headlines_polarity['source'] == 'Economist.com']['compound']\n",
    "y5 = headlines_polarity.loc[headlines_polarity['source'] == 'Hindustantimes.com']['compound']\n",
    "\n",
    "trace0 = go.Box(\n",
    "    y=y0,\n",
    "    name = 'Al Jazeera',\n",
    "    marker = dict(\n",
    "        color = 'rgb(214, 12, 140)',\n",
    "    )\n",
    ")\n",
    "trace1 = go.Box(\n",
    "    y=y1,\n",
    "    name = 'BBC',\n",
    "    marker = dict(\n",
    "        color = 'rgb(0, 150, 128)',\n",
    "    )\n",
    ")\n",
    "trace2 = go.Box(\n",
    "    y=y2,\n",
    "    name = 'Wall Street Journal',\n",
    "    marker = dict(\n",
    "        color = 'rgb(10, 140, 208)',\n",
    "    )\n",
    ")\n",
    "trace3 = go.Box(\n",
    "    y=y3,\n",
    "    name = 'Washington Post',\n",
    "    marker = dict(\n",
    "        color = 'rgb(12, 102, 14)',\n",
    "    )\n",
    ")\n",
    "trace4 = go.Box(\n",
    "    y=y4,\n",
    "    name = 'Economist',\n",
    "    marker = dict(\n",
    "        color = 'rgb(10, 0, 100)',\n",
    "    )\n",
    ")\n",
    "trace5 = go.Box(\n",
    "    y=y5,\n",
    "    name = 'Hindustantimes',\n",
    "    marker = dict(\n",
    "        color = 'rgb(100, 0, 10)',\n",
    "    )\n",
    ")\n",
    "data = [trace0, trace1, trace2, trace3, trace4, trace5]\n",
    "layout = go.Layout(\n",
    "    title = \"Sentiment Polarity Boxplot of Popular News publishers\"\n",
    ")\n",
    "fig = go.Figure(data=data,layout=layout)\n",
    "iplot(fig, filename = \"Sentiment Polarity Boxplot of Popular News publishers\")"
   ]
  },
  {
   "cell_type": "markdown",
   "id": "65f9dd6d",
   "metadata": {},
   "source": [
    "<b>Insights:</b> The box plot above shows five number summary for the top news publishers. The five number summary, which includes the minimumm, Q1 (the first quartile, or the 25% mark), the median, Q3 (the third quartile, or the 75% mark), and the maximum gives us the detailed idea about the exact nature of news these sources publish.sometimes mean can be misleading as it is prone to extreame values or outliers and in such cases median gives us a better idea. Looking at the graph we can see that the all the publishers report news on both sides of the spectrum. i.e. positive and negative. The median for Al jazeera and BBC is significantly low which confirms without any doubt that these publishers tend to have negative outlook to their stories. The highly reputed, Washington Post stands by its high standards and has the median news polarity of exact 0. So does The Economist. Both of these news publishers also have highest interquartile range which goes on to show they cover both sides of the stories and are not biased."
   ]
  },
  {
   "cell_type": "code",
   "execution_count": 129,
   "id": "7541dd24",
   "metadata": {},
   "outputs": [
    {
     "data": {
      "application/vnd.plotly.v1+json": {
       "config": {
        "linkText": "Export to plot.ly",
        "plotlyServerURL": "https://plot.ly",
        "showLink": false
       },
       "data": [
        {
         "marker": {
          "color": "rgb(214, 12, 140)"
         },
         "name": "Al Jazeera",
         "type": "box",
         "y": [
          31,
          25,
          28,
          31,
          27,
          25,
          29,
          30,
          24,
          27,
          26,
          23,
          28,
          25,
          29,
          32,
          26,
          28,
          32,
          29,
          27,
          27,
          28,
          29,
          28,
          36,
          29,
          27,
          31,
          31,
          25,
          30,
          29,
          25,
          29,
          31,
          30,
          26,
          29,
          26,
          29,
          28,
          27,
          31,
          24,
          31,
          32,
          24,
          28,
          31,
          25,
          29,
          27,
          26,
          27,
          27,
          28,
          27,
          30,
          27,
          24,
          29,
          29,
          24,
          29,
          28,
          28,
          25,
          26,
          29,
          30,
          28,
          33,
          25,
          27,
          27,
          33,
          31,
          33,
          30,
          27,
          26,
          31,
          28,
          31,
          28,
          29,
          24,
          31,
          27,
          30,
          26,
          31,
          32,
          23,
          30,
          29,
          27,
          27,
          28,
          31,
          25,
          28,
          31,
          27,
          25,
          29,
          30,
          24,
          27,
          26,
          23,
          28,
          25,
          29,
          32,
          26,
          28,
          32,
          29,
          27,
          27,
          28,
          29,
          28,
          36,
          29,
          27,
          31,
          31,
          25,
          30,
          29,
          25,
          29,
          31,
          30,
          26,
          29,
          26,
          29,
          28,
          27,
          31,
          24,
          31,
          32,
          24,
          28,
          31,
          25,
          29,
          27,
          26,
          27,
          27,
          28,
          27,
          30,
          27,
          24,
          29,
          29,
          24,
          29,
          28,
          28,
          25,
          26,
          29,
          30,
          28,
          33,
          25,
          27,
          27,
          33,
          31,
          33,
          30,
          27,
          26,
          31,
          28,
          31,
          28,
          29,
          24,
          31,
          27,
          30,
          26,
          31,
          32,
          23,
          30,
          29,
          27,
          27,
          28
         ]
        },
        {
         "marker": {
          "color": "rgb(0, 150, 128)"
         },
         "name": "BBC",
         "type": "box",
         "y": [
          36,
          26,
          25,
          31,
          28,
          24,
          29,
          27,
          28,
          30,
          29,
          27,
          23,
          27,
          28,
          32,
          29,
          28,
          29,
          26,
          22,
          29,
          26,
          27,
          33,
          29,
          31,
          26,
          24,
          29,
          27,
          28,
          28,
          32,
          26,
          28,
          30,
          25,
          26,
          31,
          26,
          25,
          27,
          21,
          30,
          24,
          24,
          31,
          31,
          30,
          24,
          26,
          28,
          30,
          27,
          30,
          31,
          26,
          36,
          12,
          29,
          21,
          25,
          31,
          11,
          30,
          30,
          32,
          28,
          28,
          31,
          26,
          25,
          26,
          30,
          36,
          26,
          25,
          31,
          28,
          24,
          29,
          27,
          28,
          30,
          29,
          27,
          23,
          27,
          28,
          32,
          29,
          28,
          29,
          26,
          22,
          29,
          26,
          27,
          33,
          29,
          31,
          26,
          24,
          29,
          27,
          28,
          28,
          32,
          26,
          28,
          30,
          25,
          26,
          31,
          26,
          25,
          27,
          21,
          30,
          24,
          24,
          31,
          31,
          30,
          24,
          26,
          28,
          30,
          27,
          30,
          31,
          26,
          36,
          12,
          29,
          21,
          25,
          31,
          11,
          30,
          30,
          32,
          28,
          28,
          31,
          26,
          25,
          26,
          30
         ]
        },
        {
         "marker": {
          "color": "rgb(10, 140, 208)"
         },
         "name": "Wall Street Journal",
         "type": "box",
         "y": [
          26,
          26,
          23,
          28,
          26,
          27,
          27,
          21,
          33,
          27,
          27,
          30,
          27,
          27,
          27,
          27,
          35,
          27,
          27,
          29,
          26,
          23,
          34,
          30,
          30,
          28,
          28,
          28,
          30,
          29,
          31,
          29,
          29,
          21,
          22,
          32,
          22,
          25,
          29,
          28,
          31,
          29,
          28,
          24,
          25,
          31,
          27,
          39,
          34,
          30,
          30,
          34,
          38,
          32,
          35,
          34,
          31,
          29,
          38,
          32,
          37,
          31,
          28,
          29,
          30,
          37,
          33,
          36,
          36,
          31,
          35,
          34,
          29,
          33,
          32,
          29,
          29,
          30,
          33,
          33,
          31,
          30,
          26,
          32,
          30,
          26,
          34,
          32,
          33,
          34,
          32,
          30,
          38,
          33,
          33,
          33,
          30,
          26,
          26,
          23,
          28,
          26,
          27,
          27,
          21,
          33,
          27,
          27,
          30,
          27,
          27,
          27,
          27,
          35,
          27,
          27,
          29,
          26,
          23,
          34,
          30,
          30,
          28,
          28,
          28,
          30,
          29,
          31,
          29,
          29,
          21,
          22,
          32,
          22,
          25,
          29,
          28,
          31,
          29,
          28,
          24,
          25,
          31,
          27,
          39,
          34,
          30,
          30,
          34,
          38,
          32,
          35,
          34,
          31,
          29,
          38,
          32,
          37,
          31,
          28,
          29,
          30,
          37,
          33,
          36,
          36,
          31,
          35,
          34,
          29,
          33,
          32,
          29,
          29,
          30,
          33,
          33,
          31,
          30,
          26,
          32,
          30,
          26,
          34,
          32,
          33,
          34,
          32,
          30,
          38,
          33,
          33,
          33,
          30
         ]
        },
        {
         "marker": {
          "color": "rgb(12, 102, 14)"
         },
         "name": "Washington Post",
         "type": "box",
         "y": []
        },
        {
         "marker": {
          "color": "rgb(10, 0, 100)"
         },
         "name": "Economist",
         "type": "box",
         "y": []
        },
        {
         "marker": {
          "color": "rgb(100, 0, 10)"
         },
         "name": "Hindustantimes",
         "type": "box",
         "y": []
        }
       ],
       "layout": {
        "template": {
         "data": {
          "bar": [
           {
            "error_x": {
             "color": "#2a3f5f"
            },
            "error_y": {
             "color": "#2a3f5f"
            },
            "marker": {
             "line": {
              "color": "#E5ECF6",
              "width": 0.5
             },
             "pattern": {
              "fillmode": "overlay",
              "size": 10,
              "solidity": 0.2
             }
            },
            "type": "bar"
           }
          ],
          "barpolar": [
           {
            "marker": {
             "line": {
              "color": "#E5ECF6",
              "width": 0.5
             },
             "pattern": {
              "fillmode": "overlay",
              "size": 10,
              "solidity": 0.2
             }
            },
            "type": "barpolar"
           }
          ],
          "carpet": [
           {
            "aaxis": {
             "endlinecolor": "#2a3f5f",
             "gridcolor": "white",
             "linecolor": "white",
             "minorgridcolor": "white",
             "startlinecolor": "#2a3f5f"
            },
            "baxis": {
             "endlinecolor": "#2a3f5f",
             "gridcolor": "white",
             "linecolor": "white",
             "minorgridcolor": "white",
             "startlinecolor": "#2a3f5f"
            },
            "type": "carpet"
           }
          ],
          "choropleth": [
           {
            "colorbar": {
             "outlinewidth": 0,
             "ticks": ""
            },
            "type": "choropleth"
           }
          ],
          "contour": [
           {
            "colorbar": {
             "outlinewidth": 0,
             "ticks": ""
            },
            "colorscale": [
             [
              0,
              "#0d0887"
             ],
             [
              0.1111111111111111,
              "#46039f"
             ],
             [
              0.2222222222222222,
              "#7201a8"
             ],
             [
              0.3333333333333333,
              "#9c179e"
             ],
             [
              0.4444444444444444,
              "#bd3786"
             ],
             [
              0.5555555555555556,
              "#d8576b"
             ],
             [
              0.6666666666666666,
              "#ed7953"
             ],
             [
              0.7777777777777778,
              "#fb9f3a"
             ],
             [
              0.8888888888888888,
              "#fdca26"
             ],
             [
              1,
              "#f0f921"
             ]
            ],
            "type": "contour"
           }
          ],
          "contourcarpet": [
           {
            "colorbar": {
             "outlinewidth": 0,
             "ticks": ""
            },
            "type": "contourcarpet"
           }
          ],
          "heatmap": [
           {
            "colorbar": {
             "outlinewidth": 0,
             "ticks": ""
            },
            "colorscale": [
             [
              0,
              "#0d0887"
             ],
             [
              0.1111111111111111,
              "#46039f"
             ],
             [
              0.2222222222222222,
              "#7201a8"
             ],
             [
              0.3333333333333333,
              "#9c179e"
             ],
             [
              0.4444444444444444,
              "#bd3786"
             ],
             [
              0.5555555555555556,
              "#d8576b"
             ],
             [
              0.6666666666666666,
              "#ed7953"
             ],
             [
              0.7777777777777778,
              "#fb9f3a"
             ],
             [
              0.8888888888888888,
              "#fdca26"
             ],
             [
              1,
              "#f0f921"
             ]
            ],
            "type": "heatmap"
           }
          ],
          "heatmapgl": [
           {
            "colorbar": {
             "outlinewidth": 0,
             "ticks": ""
            },
            "colorscale": [
             [
              0,
              "#0d0887"
             ],
             [
              0.1111111111111111,
              "#46039f"
             ],
             [
              0.2222222222222222,
              "#7201a8"
             ],
             [
              0.3333333333333333,
              "#9c179e"
             ],
             [
              0.4444444444444444,
              "#bd3786"
             ],
             [
              0.5555555555555556,
              "#d8576b"
             ],
             [
              0.6666666666666666,
              "#ed7953"
             ],
             [
              0.7777777777777778,
              "#fb9f3a"
             ],
             [
              0.8888888888888888,
              "#fdca26"
             ],
             [
              1,
              "#f0f921"
             ]
            ],
            "type": "heatmapgl"
           }
          ],
          "histogram": [
           {
            "marker": {
             "pattern": {
              "fillmode": "overlay",
              "size": 10,
              "solidity": 0.2
             }
            },
            "type": "histogram"
           }
          ],
          "histogram2d": [
           {
            "colorbar": {
             "outlinewidth": 0,
             "ticks": ""
            },
            "colorscale": [
             [
              0,
              "#0d0887"
             ],
             [
              0.1111111111111111,
              "#46039f"
             ],
             [
              0.2222222222222222,
              "#7201a8"
             ],
             [
              0.3333333333333333,
              "#9c179e"
             ],
             [
              0.4444444444444444,
              "#bd3786"
             ],
             [
              0.5555555555555556,
              "#d8576b"
             ],
             [
              0.6666666666666666,
              "#ed7953"
             ],
             [
              0.7777777777777778,
              "#fb9f3a"
             ],
             [
              0.8888888888888888,
              "#fdca26"
             ],
             [
              1,
              "#f0f921"
             ]
            ],
            "type": "histogram2d"
           }
          ],
          "histogram2dcontour": [
           {
            "colorbar": {
             "outlinewidth": 0,
             "ticks": ""
            },
            "colorscale": [
             [
              0,
              "#0d0887"
             ],
             [
              0.1111111111111111,
              "#46039f"
             ],
             [
              0.2222222222222222,
              "#7201a8"
             ],
             [
              0.3333333333333333,
              "#9c179e"
             ],
             [
              0.4444444444444444,
              "#bd3786"
             ],
             [
              0.5555555555555556,
              "#d8576b"
             ],
             [
              0.6666666666666666,
              "#ed7953"
             ],
             [
              0.7777777777777778,
              "#fb9f3a"
             ],
             [
              0.8888888888888888,
              "#fdca26"
             ],
             [
              1,
              "#f0f921"
             ]
            ],
            "type": "histogram2dcontour"
           }
          ],
          "mesh3d": [
           {
            "colorbar": {
             "outlinewidth": 0,
             "ticks": ""
            },
            "type": "mesh3d"
           }
          ],
          "parcoords": [
           {
            "line": {
             "colorbar": {
              "outlinewidth": 0,
              "ticks": ""
             }
            },
            "type": "parcoords"
           }
          ],
          "pie": [
           {
            "automargin": true,
            "type": "pie"
           }
          ],
          "scatter": [
           {
            "marker": {
             "colorbar": {
              "outlinewidth": 0,
              "ticks": ""
             }
            },
            "type": "scatter"
           }
          ],
          "scatter3d": [
           {
            "line": {
             "colorbar": {
              "outlinewidth": 0,
              "ticks": ""
             }
            },
            "marker": {
             "colorbar": {
              "outlinewidth": 0,
              "ticks": ""
             }
            },
            "type": "scatter3d"
           }
          ],
          "scattercarpet": [
           {
            "marker": {
             "colorbar": {
              "outlinewidth": 0,
              "ticks": ""
             }
            },
            "type": "scattercarpet"
           }
          ],
          "scattergeo": [
           {
            "marker": {
             "colorbar": {
              "outlinewidth": 0,
              "ticks": ""
             }
            },
            "type": "scattergeo"
           }
          ],
          "scattergl": [
           {
            "marker": {
             "colorbar": {
              "outlinewidth": 0,
              "ticks": ""
             }
            },
            "type": "scattergl"
           }
          ],
          "scattermapbox": [
           {
            "marker": {
             "colorbar": {
              "outlinewidth": 0,
              "ticks": ""
             }
            },
            "type": "scattermapbox"
           }
          ],
          "scatterpolar": [
           {
            "marker": {
             "colorbar": {
              "outlinewidth": 0,
              "ticks": ""
             }
            },
            "type": "scatterpolar"
           }
          ],
          "scatterpolargl": [
           {
            "marker": {
             "colorbar": {
              "outlinewidth": 0,
              "ticks": ""
             }
            },
            "type": "scatterpolargl"
           }
          ],
          "scatterternary": [
           {
            "marker": {
             "colorbar": {
              "outlinewidth": 0,
              "ticks": ""
             }
            },
            "type": "scatterternary"
           }
          ],
          "surface": [
           {
            "colorbar": {
             "outlinewidth": 0,
             "ticks": ""
            },
            "colorscale": [
             [
              0,
              "#0d0887"
             ],
             [
              0.1111111111111111,
              "#46039f"
             ],
             [
              0.2222222222222222,
              "#7201a8"
             ],
             [
              0.3333333333333333,
              "#9c179e"
             ],
             [
              0.4444444444444444,
              "#bd3786"
             ],
             [
              0.5555555555555556,
              "#d8576b"
             ],
             [
              0.6666666666666666,
              "#ed7953"
             ],
             [
              0.7777777777777778,
              "#fb9f3a"
             ],
             [
              0.8888888888888888,
              "#fdca26"
             ],
             [
              1,
              "#f0f921"
             ]
            ],
            "type": "surface"
           }
          ],
          "table": [
           {
            "cells": {
             "fill": {
              "color": "#EBF0F8"
             },
             "line": {
              "color": "white"
             }
            },
            "header": {
             "fill": {
              "color": "#C8D4E3"
             },
             "line": {
              "color": "white"
             }
            },
            "type": "table"
           }
          ]
         },
         "layout": {
          "annotationdefaults": {
           "arrowcolor": "#2a3f5f",
           "arrowhead": 0,
           "arrowwidth": 1
          },
          "autotypenumbers": "strict",
          "coloraxis": {
           "colorbar": {
            "outlinewidth": 0,
            "ticks": ""
           }
          },
          "colorscale": {
           "diverging": [
            [
             0,
             "#8e0152"
            ],
            [
             0.1,
             "#c51b7d"
            ],
            [
             0.2,
             "#de77ae"
            ],
            [
             0.3,
             "#f1b6da"
            ],
            [
             0.4,
             "#fde0ef"
            ],
            [
             0.5,
             "#f7f7f7"
            ],
            [
             0.6,
             "#e6f5d0"
            ],
            [
             0.7,
             "#b8e186"
            ],
            [
             0.8,
             "#7fbc41"
            ],
            [
             0.9,
             "#4d9221"
            ],
            [
             1,
             "#276419"
            ]
           ],
           "sequential": [
            [
             0,
             "#0d0887"
            ],
            [
             0.1111111111111111,
             "#46039f"
            ],
            [
             0.2222222222222222,
             "#7201a8"
            ],
            [
             0.3333333333333333,
             "#9c179e"
            ],
            [
             0.4444444444444444,
             "#bd3786"
            ],
            [
             0.5555555555555556,
             "#d8576b"
            ],
            [
             0.6666666666666666,
             "#ed7953"
            ],
            [
             0.7777777777777778,
             "#fb9f3a"
            ],
            [
             0.8888888888888888,
             "#fdca26"
            ],
            [
             1,
             "#f0f921"
            ]
           ],
           "sequentialminus": [
            [
             0,
             "#0d0887"
            ],
            [
             0.1111111111111111,
             "#46039f"
            ],
            [
             0.2222222222222222,
             "#7201a8"
            ],
            [
             0.3333333333333333,
             "#9c179e"
            ],
            [
             0.4444444444444444,
             "#bd3786"
            ],
            [
             0.5555555555555556,
             "#d8576b"
            ],
            [
             0.6666666666666666,
             "#ed7953"
            ],
            [
             0.7777777777777778,
             "#fb9f3a"
            ],
            [
             0.8888888888888888,
             "#fdca26"
            ],
            [
             1,
             "#f0f921"
            ]
           ]
          },
          "colorway": [
           "#636efa",
           "#EF553B",
           "#00cc96",
           "#ab63fa",
           "#FFA15A",
           "#19d3f3",
           "#FF6692",
           "#B6E880",
           "#FF97FF",
           "#FECB52"
          ],
          "font": {
           "color": "#2a3f5f"
          },
          "geo": {
           "bgcolor": "white",
           "lakecolor": "white",
           "landcolor": "#E5ECF6",
           "showlakes": true,
           "showland": true,
           "subunitcolor": "white"
          },
          "hoverlabel": {
           "align": "left"
          },
          "hovermode": "closest",
          "mapbox": {
           "style": "light"
          },
          "paper_bgcolor": "white",
          "plot_bgcolor": "#E5ECF6",
          "polar": {
           "angularaxis": {
            "gridcolor": "white",
            "linecolor": "white",
            "ticks": ""
           },
           "bgcolor": "#E5ECF6",
           "radialaxis": {
            "gridcolor": "white",
            "linecolor": "white",
            "ticks": ""
           }
          },
          "scene": {
           "xaxis": {
            "backgroundcolor": "#E5ECF6",
            "gridcolor": "white",
            "gridwidth": 2,
            "linecolor": "white",
            "showbackground": true,
            "ticks": "",
            "zerolinecolor": "white"
           },
           "yaxis": {
            "backgroundcolor": "#E5ECF6",
            "gridcolor": "white",
            "gridwidth": 2,
            "linecolor": "white",
            "showbackground": true,
            "ticks": "",
            "zerolinecolor": "white"
           },
           "zaxis": {
            "backgroundcolor": "#E5ECF6",
            "gridcolor": "white",
            "gridwidth": 2,
            "linecolor": "white",
            "showbackground": true,
            "ticks": "",
            "zerolinecolor": "white"
           }
          },
          "shapedefaults": {
           "line": {
            "color": "#2a3f5f"
           }
          },
          "ternary": {
           "aaxis": {
            "gridcolor": "white",
            "linecolor": "white",
            "ticks": ""
           },
           "baxis": {
            "gridcolor": "white",
            "linecolor": "white",
            "ticks": ""
           },
           "bgcolor": "#E5ECF6",
           "caxis": {
            "gridcolor": "white",
            "linecolor": "white",
            "ticks": ""
           }
          },
          "title": {
           "x": 0.05
          },
          "xaxis": {
           "automargin": true,
           "gridcolor": "white",
           "linecolor": "white",
           "ticks": "",
           "title": {
            "standoff": 15
           },
           "zerolinecolor": "white",
           "zerolinewidth": 2
          },
          "yaxis": {
           "automargin": true,
           "gridcolor": "white",
           "linecolor": "white",
           "ticks": "",
           "title": {
            "standoff": 15
           },
           "zerolinecolor": "white",
           "zerolinewidth": 2
          }
         }
        },
        "title": {
         "text": "Headline Length Boxplot of Popular News publishers"
        }
       }
      },
      "text/html": [
       "<div>                            <div id=\"c60e3e29-142c-487b-bf61-36fa9ee6d170\" class=\"plotly-graph-div\" style=\"height:525px; width:100%;\"></div>            <script type=\"text/javascript\">                require([\"plotly\"], function(Plotly) {                    window.PLOTLYENV=window.PLOTLYENV || {};                                    if (document.getElementById(\"c60e3e29-142c-487b-bf61-36fa9ee6d170\")) {                    Plotly.newPlot(                        \"c60e3e29-142c-487b-bf61-36fa9ee6d170\",                        [{\"marker\":{\"color\":\"rgb(214, 12, 140)\"},\"name\":\"Al Jazeera\",\"y\":[31,25,28,31,27,25,29,30,24,27,26,23,28,25,29,32,26,28,32,29,27,27,28,29,28,36,29,27,31,31,25,30,29,25,29,31,30,26,29,26,29,28,27,31,24,31,32,24,28,31,25,29,27,26,27,27,28,27,30,27,24,29,29,24,29,28,28,25,26,29,30,28,33,25,27,27,33,31,33,30,27,26,31,28,31,28,29,24,31,27,30,26,31,32,23,30,29,27,27,28,31,25,28,31,27,25,29,30,24,27,26,23,28,25,29,32,26,28,32,29,27,27,28,29,28,36,29,27,31,31,25,30,29,25,29,31,30,26,29,26,29,28,27,31,24,31,32,24,28,31,25,29,27,26,27,27,28,27,30,27,24,29,29,24,29,28,28,25,26,29,30,28,33,25,27,27,33,31,33,30,27,26,31,28,31,28,29,24,31,27,30,26,31,32,23,30,29,27,27,28],\"type\":\"box\"},{\"marker\":{\"color\":\"rgb(0, 150, 128)\"},\"name\":\"BBC\",\"y\":[36,26,25,31,28,24,29,27,28,30,29,27,23,27,28,32,29,28,29,26,22,29,26,27,33,29,31,26,24,29,27,28,28,32,26,28,30,25,26,31,26,25,27,21,30,24,24,31,31,30,24,26,28,30,27,30,31,26,36,12,29,21,25,31,11,30,30,32,28,28,31,26,25,26,30,36,26,25,31,28,24,29,27,28,30,29,27,23,27,28,32,29,28,29,26,22,29,26,27,33,29,31,26,24,29,27,28,28,32,26,28,30,25,26,31,26,25,27,21,30,24,24,31,31,30,24,26,28,30,27,30,31,26,36,12,29,21,25,31,11,30,30,32,28,28,31,26,25,26,30],\"type\":\"box\"},{\"marker\":{\"color\":\"rgb(10, 140, 208)\"},\"name\":\"Wall Street Journal\",\"y\":[26,26,23,28,26,27,27,21,33,27,27,30,27,27,27,27,35,27,27,29,26,23,34,30,30,28,28,28,30,29,31,29,29,21,22,32,22,25,29,28,31,29,28,24,25,31,27,39,34,30,30,34,38,32,35,34,31,29,38,32,37,31,28,29,30,37,33,36,36,31,35,34,29,33,32,29,29,30,33,33,31,30,26,32,30,26,34,32,33,34,32,30,38,33,33,33,30,26,26,23,28,26,27,27,21,33,27,27,30,27,27,27,27,35,27,27,29,26,23,34,30,30,28,28,28,30,29,31,29,29,21,22,32,22,25,29,28,31,29,28,24,25,31,27,39,34,30,30,34,38,32,35,34,31,29,38,32,37,31,28,29,30,37,33,36,36,31,35,34,29,33,32,29,29,30,33,33,31,30,26,32,30,26,34,32,33,34,32,30,38,33,33,33,30],\"type\":\"box\"},{\"marker\":{\"color\":\"rgb(12, 102, 14)\"},\"name\":\"Washington Post\",\"y\":[],\"type\":\"box\"},{\"marker\":{\"color\":\"rgb(10, 0, 100)\"},\"name\":\"Economist\",\"y\":[],\"type\":\"box\"},{\"marker\":{\"color\":\"rgb(100, 0, 10)\"},\"name\":\"Hindustantimes\",\"y\":[],\"type\":\"box\"}],                        {\"template\":{\"data\":{\"barpolar\":[{\"marker\":{\"line\":{\"color\":\"#E5ECF6\",\"width\":0.5},\"pattern\":{\"fillmode\":\"overlay\",\"size\":10,\"solidity\":0.2}},\"type\":\"barpolar\"}],\"bar\":[{\"error_x\":{\"color\":\"#2a3f5f\"},\"error_y\":{\"color\":\"#2a3f5f\"},\"marker\":{\"line\":{\"color\":\"#E5ECF6\",\"width\":0.5},\"pattern\":{\"fillmode\":\"overlay\",\"size\":10,\"solidity\":0.2}},\"type\":\"bar\"}],\"carpet\":[{\"aaxis\":{\"endlinecolor\":\"#2a3f5f\",\"gridcolor\":\"white\",\"linecolor\":\"white\",\"minorgridcolor\":\"white\",\"startlinecolor\":\"#2a3f5f\"},\"baxis\":{\"endlinecolor\":\"#2a3f5f\",\"gridcolor\":\"white\",\"linecolor\":\"white\",\"minorgridcolor\":\"white\",\"startlinecolor\":\"#2a3f5f\"},\"type\":\"carpet\"}],\"choropleth\":[{\"colorbar\":{\"outlinewidth\":0,\"ticks\":\"\"},\"type\":\"choropleth\"}],\"contourcarpet\":[{\"colorbar\":{\"outlinewidth\":0,\"ticks\":\"\"},\"type\":\"contourcarpet\"}],\"contour\":[{\"colorbar\":{\"outlinewidth\":0,\"ticks\":\"\"},\"colorscale\":[[0.0,\"#0d0887\"],[0.1111111111111111,\"#46039f\"],[0.2222222222222222,\"#7201a8\"],[0.3333333333333333,\"#9c179e\"],[0.4444444444444444,\"#bd3786\"],[0.5555555555555556,\"#d8576b\"],[0.6666666666666666,\"#ed7953\"],[0.7777777777777778,\"#fb9f3a\"],[0.8888888888888888,\"#fdca26\"],[1.0,\"#f0f921\"]],\"type\":\"contour\"}],\"heatmapgl\":[{\"colorbar\":{\"outlinewidth\":0,\"ticks\":\"\"},\"colorscale\":[[0.0,\"#0d0887\"],[0.1111111111111111,\"#46039f\"],[0.2222222222222222,\"#7201a8\"],[0.3333333333333333,\"#9c179e\"],[0.4444444444444444,\"#bd3786\"],[0.5555555555555556,\"#d8576b\"],[0.6666666666666666,\"#ed7953\"],[0.7777777777777778,\"#fb9f3a\"],[0.8888888888888888,\"#fdca26\"],[1.0,\"#f0f921\"]],\"type\":\"heatmapgl\"}],\"heatmap\":[{\"colorbar\":{\"outlinewidth\":0,\"ticks\":\"\"},\"colorscale\":[[0.0,\"#0d0887\"],[0.1111111111111111,\"#46039f\"],[0.2222222222222222,\"#7201a8\"],[0.3333333333333333,\"#9c179e\"],[0.4444444444444444,\"#bd3786\"],[0.5555555555555556,\"#d8576b\"],[0.6666666666666666,\"#ed7953\"],[0.7777777777777778,\"#fb9f3a\"],[0.8888888888888888,\"#fdca26\"],[1.0,\"#f0f921\"]],\"type\":\"heatmap\"}],\"histogram2dcontour\":[{\"colorbar\":{\"outlinewidth\":0,\"ticks\":\"\"},\"colorscale\":[[0.0,\"#0d0887\"],[0.1111111111111111,\"#46039f\"],[0.2222222222222222,\"#7201a8\"],[0.3333333333333333,\"#9c179e\"],[0.4444444444444444,\"#bd3786\"],[0.5555555555555556,\"#d8576b\"],[0.6666666666666666,\"#ed7953\"],[0.7777777777777778,\"#fb9f3a\"],[0.8888888888888888,\"#fdca26\"],[1.0,\"#f0f921\"]],\"type\":\"histogram2dcontour\"}],\"histogram2d\":[{\"colorbar\":{\"outlinewidth\":0,\"ticks\":\"\"},\"colorscale\":[[0.0,\"#0d0887\"],[0.1111111111111111,\"#46039f\"],[0.2222222222222222,\"#7201a8\"],[0.3333333333333333,\"#9c179e\"],[0.4444444444444444,\"#bd3786\"],[0.5555555555555556,\"#d8576b\"],[0.6666666666666666,\"#ed7953\"],[0.7777777777777778,\"#fb9f3a\"],[0.8888888888888888,\"#fdca26\"],[1.0,\"#f0f921\"]],\"type\":\"histogram2d\"}],\"histogram\":[{\"marker\":{\"pattern\":{\"fillmode\":\"overlay\",\"size\":10,\"solidity\":0.2}},\"type\":\"histogram\"}],\"mesh3d\":[{\"colorbar\":{\"outlinewidth\":0,\"ticks\":\"\"},\"type\":\"mesh3d\"}],\"parcoords\":[{\"line\":{\"colorbar\":{\"outlinewidth\":0,\"ticks\":\"\"}},\"type\":\"parcoords\"}],\"pie\":[{\"automargin\":true,\"type\":\"pie\"}],\"scatter3d\":[{\"line\":{\"colorbar\":{\"outlinewidth\":0,\"ticks\":\"\"}},\"marker\":{\"colorbar\":{\"outlinewidth\":0,\"ticks\":\"\"}},\"type\":\"scatter3d\"}],\"scattercarpet\":[{\"marker\":{\"colorbar\":{\"outlinewidth\":0,\"ticks\":\"\"}},\"type\":\"scattercarpet\"}],\"scattergeo\":[{\"marker\":{\"colorbar\":{\"outlinewidth\":0,\"ticks\":\"\"}},\"type\":\"scattergeo\"}],\"scattergl\":[{\"marker\":{\"colorbar\":{\"outlinewidth\":0,\"ticks\":\"\"}},\"type\":\"scattergl\"}],\"scattermapbox\":[{\"marker\":{\"colorbar\":{\"outlinewidth\":0,\"ticks\":\"\"}},\"type\":\"scattermapbox\"}],\"scatterpolargl\":[{\"marker\":{\"colorbar\":{\"outlinewidth\":0,\"ticks\":\"\"}},\"type\":\"scatterpolargl\"}],\"scatterpolar\":[{\"marker\":{\"colorbar\":{\"outlinewidth\":0,\"ticks\":\"\"}},\"type\":\"scatterpolar\"}],\"scatter\":[{\"marker\":{\"colorbar\":{\"outlinewidth\":0,\"ticks\":\"\"}},\"type\":\"scatter\"}],\"scatterternary\":[{\"marker\":{\"colorbar\":{\"outlinewidth\":0,\"ticks\":\"\"}},\"type\":\"scatterternary\"}],\"surface\":[{\"colorbar\":{\"outlinewidth\":0,\"ticks\":\"\"},\"colorscale\":[[0.0,\"#0d0887\"],[0.1111111111111111,\"#46039f\"],[0.2222222222222222,\"#7201a8\"],[0.3333333333333333,\"#9c179e\"],[0.4444444444444444,\"#bd3786\"],[0.5555555555555556,\"#d8576b\"],[0.6666666666666666,\"#ed7953\"],[0.7777777777777778,\"#fb9f3a\"],[0.8888888888888888,\"#fdca26\"],[1.0,\"#f0f921\"]],\"type\":\"surface\"}],\"table\":[{\"cells\":{\"fill\":{\"color\":\"#EBF0F8\"},\"line\":{\"color\":\"white\"}},\"header\":{\"fill\":{\"color\":\"#C8D4E3\"},\"line\":{\"color\":\"white\"}},\"type\":\"table\"}]},\"layout\":{\"annotationdefaults\":{\"arrowcolor\":\"#2a3f5f\",\"arrowhead\":0,\"arrowwidth\":1},\"autotypenumbers\":\"strict\",\"coloraxis\":{\"colorbar\":{\"outlinewidth\":0,\"ticks\":\"\"}},\"colorscale\":{\"diverging\":[[0,\"#8e0152\"],[0.1,\"#c51b7d\"],[0.2,\"#de77ae\"],[0.3,\"#f1b6da\"],[0.4,\"#fde0ef\"],[0.5,\"#f7f7f7\"],[0.6,\"#e6f5d0\"],[0.7,\"#b8e186\"],[0.8,\"#7fbc41\"],[0.9,\"#4d9221\"],[1,\"#276419\"]],\"sequential\":[[0.0,\"#0d0887\"],[0.1111111111111111,\"#46039f\"],[0.2222222222222222,\"#7201a8\"],[0.3333333333333333,\"#9c179e\"],[0.4444444444444444,\"#bd3786\"],[0.5555555555555556,\"#d8576b\"],[0.6666666666666666,\"#ed7953\"],[0.7777777777777778,\"#fb9f3a\"],[0.8888888888888888,\"#fdca26\"],[1.0,\"#f0f921\"]],\"sequentialminus\":[[0.0,\"#0d0887\"],[0.1111111111111111,\"#46039f\"],[0.2222222222222222,\"#7201a8\"],[0.3333333333333333,\"#9c179e\"],[0.4444444444444444,\"#bd3786\"],[0.5555555555555556,\"#d8576b\"],[0.6666666666666666,\"#ed7953\"],[0.7777777777777778,\"#fb9f3a\"],[0.8888888888888888,\"#fdca26\"],[1.0,\"#f0f921\"]]},\"colorway\":[\"#636efa\",\"#EF553B\",\"#00cc96\",\"#ab63fa\",\"#FFA15A\",\"#19d3f3\",\"#FF6692\",\"#B6E880\",\"#FF97FF\",\"#FECB52\"],\"font\":{\"color\":\"#2a3f5f\"},\"geo\":{\"bgcolor\":\"white\",\"lakecolor\":\"white\",\"landcolor\":\"#E5ECF6\",\"showlakes\":true,\"showland\":true,\"subunitcolor\":\"white\"},\"hoverlabel\":{\"align\":\"left\"},\"hovermode\":\"closest\",\"mapbox\":{\"style\":\"light\"},\"paper_bgcolor\":\"white\",\"plot_bgcolor\":\"#E5ECF6\",\"polar\":{\"angularaxis\":{\"gridcolor\":\"white\",\"linecolor\":\"white\",\"ticks\":\"\"},\"bgcolor\":\"#E5ECF6\",\"radialaxis\":{\"gridcolor\":\"white\",\"linecolor\":\"white\",\"ticks\":\"\"}},\"scene\":{\"xaxis\":{\"backgroundcolor\":\"#E5ECF6\",\"gridcolor\":\"white\",\"gridwidth\":2,\"linecolor\":\"white\",\"showbackground\":true,\"ticks\":\"\",\"zerolinecolor\":\"white\"},\"yaxis\":{\"backgroundcolor\":\"#E5ECF6\",\"gridcolor\":\"white\",\"gridwidth\":2,\"linecolor\":\"white\",\"showbackground\":true,\"ticks\":\"\",\"zerolinecolor\":\"white\"},\"zaxis\":{\"backgroundcolor\":\"#E5ECF6\",\"gridcolor\":\"white\",\"gridwidth\":2,\"linecolor\":\"white\",\"showbackground\":true,\"ticks\":\"\",\"zerolinecolor\":\"white\"}},\"shapedefaults\":{\"line\":{\"color\":\"#2a3f5f\"}},\"ternary\":{\"aaxis\":{\"gridcolor\":\"white\",\"linecolor\":\"white\",\"ticks\":\"\"},\"baxis\":{\"gridcolor\":\"white\",\"linecolor\":\"white\",\"ticks\":\"\"},\"bgcolor\":\"#E5ECF6\",\"caxis\":{\"gridcolor\":\"white\",\"linecolor\":\"white\",\"ticks\":\"\"}},\"title\":{\"x\":0.05},\"xaxis\":{\"automargin\":true,\"gridcolor\":\"white\",\"linecolor\":\"white\",\"ticks\":\"\",\"title\":{\"standoff\":15},\"zerolinecolor\":\"white\",\"zerolinewidth\":2},\"yaxis\":{\"automargin\":true,\"gridcolor\":\"white\",\"linecolor\":\"white\",\"ticks\":\"\",\"title\":{\"standoff\":15},\"zerolinecolor\":\"white\",\"zerolinewidth\":2}}},\"title\":{\"text\":\"Headline Length Boxplot of Popular News publishers\"}},                        {\"responsive\": true}                    ).then(function(){\n",
       "                            \n",
       "var gd = document.getElementById('c60e3e29-142c-487b-bf61-36fa9ee6d170');\n",
       "var x = new MutationObserver(function (mutations, observer) {{\n",
       "        var display = window.getComputedStyle(gd).display;\n",
       "        if (!display || display === 'none') {{\n",
       "            console.log([gd, 'removed!']);\n",
       "            Plotly.purge(gd);\n",
       "            observer.disconnect();\n",
       "        }}\n",
       "}});\n",
       "\n",
       "// Listen for the removal of the full notebook cells\n",
       "var notebookContainer = gd.closest('#notebook-container');\n",
       "if (notebookContainer) {{\n",
       "    x.observe(notebookContainer, {childList: true});\n",
       "}}\n",
       "\n",
       "// Listen for the clearing of the current output cell\n",
       "var outputEl = gd.closest('.output');\n",
       "if (outputEl) {{\n",
       "    x.observe(outputEl, {childList: true});\n",
       "}}\n",
       "\n",
       "                        })                };                });            </script>        </div>"
      ]
     },
     "metadata": {},
     "output_type": "display_data"
    }
   ],
   "source": [
    "y0 = headlines_polarity.loc[headlines_polarity['source'] == 'Al Jazeera English']['word_count']\n",
    "y1 = headlines_polarity.loc[headlines_polarity['source'] == 'BBC News']['word_count']\n",
    "y2 = headlines_polarity.loc[headlines_polarity['source'] == 'The Wall Street Journal']['word_count']\n",
    "y3 = headlines_polarity.loc[headlines_polarity['source'] == 'The Washington Post']['word_count']\n",
    "y4 = headlines_polarity.loc[headlines_polarity['source'] == 'Economist.com']['word_count']\n",
    "y5 = headlines_polarity.loc[headlines_polarity['source'] == 'Hindustantimes.com']['word_count']\n",
    "\n",
    "trace0 = go.Box(\n",
    "    y=y0,\n",
    "    name = 'Al Jazeera',\n",
    "    marker = dict(\n",
    "        color = 'rgb(214, 12, 140)',\n",
    "    )\n",
    ")\n",
    "trace1 = go.Box(\n",
    "    y=y1,\n",
    "    name = 'BBC',\n",
    "    marker = dict(\n",
    "        color = 'rgb(0, 150, 128)',\n",
    "    )\n",
    ")\n",
    "trace2 = go.Box(\n",
    "    y=y2,\n",
    "    name = 'Wall Street Journal',\n",
    "    marker = dict(\n",
    "        color = 'rgb(10, 140, 208)',\n",
    "    )\n",
    ")\n",
    "trace3 = go.Box(\n",
    "    y=y3,\n",
    "    name = 'Washington Post',\n",
    "    marker = dict(\n",
    "        color = 'rgb(12, 102, 14)',\n",
    "    )\n",
    ")\n",
    "trace4 = go.Box(\n",
    "    y=y4,\n",
    "    name = 'Economist',\n",
    "    marker = dict(\n",
    "        color = 'rgb(10, 0, 100)',\n",
    "    )\n",
    ")\n",
    "trace5 = go.Box(\n",
    "    y=y5,\n",
    "    name = 'Hindustantimes',\n",
    "    marker = dict(\n",
    "        color = 'rgb(100, 0, 10)',\n",
    "    )\n",
    ")\n",
    "data = [trace0, trace1, trace2, trace3, trace4, trace5]\n",
    "layout = go.Layout(\n",
    "    title = \"Headline Length Boxplot of Popular News publishers\"\n",
    ")\n",
    "\n",
    "fig = go.Figure(data=data,layout=layout)\n",
    "iplot(fig, filename = \"Headline Length Boxplot of Popular News publishers\")"
   ]
  },
  {
   "cell_type": "markdown",
   "id": "783685ba",
   "metadata": {},
   "source": [
    "<b>Insights: </b>The word count in the headline is often neglected but it is a critical aspect when it comes to engaging with the viewers. According to a research it was discovered that the sweet spot for headlines is 18–30 words. Anything above and below that saw reduced click-through rates. We see that most of the news sources seem follow the similar trend. The Economist is quite consistent with its headline length and has no outliers or extreame values. BBC on has the least variance in the headline length."
   ]
  },
  {
   "cell_type": "code",
   "execution_count": 130,
   "id": "dc6bca91",
   "metadata": {},
   "outputs": [
    {
     "name": "stdout",
     "output_type": "stream",
     "text": [
      "<class 'list'>\n"
     ]
    }
   ],
   "source": [
    "from nltk.tokenize import word_tokenize, RegexpTokenizer\n",
    "tokenizer = RegexpTokenizer(r'\\w+')\n",
    "stop_words = stopwords.words('english')\n",
    "print(type(stop_words))\n",
    "specific_words_list = ['char', 'u', 'hindustan', 'doj', 'washington'] \n",
    "#stop_words.extend(specific_words_list )\n",
    "def process_text(headlines):\n",
    "    tokens = []\n",
    "    for line in headlines:\n",
    "        line = line.lower()\n",
    "        toks = tokenizer.tokenize(line)\n",
    "        toks = [t for t in toks if t not in stop_words]\n",
    "        tokens.extend(toks)  \n",
    "    return tokens"
   ]
  },
  {
   "cell_type": "markdown",
   "id": "b06d8a96",
   "metadata": {},
   "source": [
    "### Word Frequency Distribution and Zipf's law\n",
    "Zipf law: Zipf's law states that given a large sample of words used, the frequency of any word is inversely proportional to its rank in the frequency table. So word number n has a frequency proportional to 1/n. Thus the most frequent word will occur about twice as often as the second most frequent word, three times as often as the third most frequent word, etc. For example, in one sample of words in the English language, the most frequently occurring word, 'the', accounts for nearly 7% of all the words (69,971 out of slightly over 1 million). True to Zipf's Law, the second-place word 'of' accounts for slightly over 3.5% of words (36,411 occurrences). (source: wikipedia)\n",
    "\n",
    "So essentially what the law actually states is that:\n",
    "\n",
    "1. The most appearing word in a corpus suppose has frequency f\n",
    "2. The second most appearing word would have frequency roughly f/2\n",
    "3. Then the third most appearing word would have frequency roughly f/3\n",
    "4. Then the fourth most appearing word would have frequency roughly f/4 and so on.\n",
    "\n",
    "What is astonishing is that this law holds true for almost all large natural language corpuses.For eg : Books, ancient scripts, even temperature trends over past years etc.\n",
    "\n",
    "I decided upon coming across Zipf’s Law that I will investigate if the mysterious Zipf's law holds true for a news corpus collected from not one but as many as 39 differnt sources of news article."
   ]
  },
  {
   "cell_type": "code",
   "execution_count": 131,
   "id": "8eba478b",
   "metadata": {},
   "outputs": [],
   "source": [
    "# Positive headlines and its distribution \n",
    "pos_lines = list(headlines_polarity[headlines_polarity.label == 1].headline)\n",
    "# extract the headlines that had label =1 which meant it had a positive overall sentiment\n",
    "pos_tokens =process_text(pos_lines)\n",
    "pos_freq = nltk.FreqDist(pos_tokens)\n",
    "\n",
    "# Now negative headlines\n",
    "neg_lines = list(headlines_polarity[headlines_polarity.label == -1].headline)\n",
    "# extract the headlines that had label-1 which meant it had a negative overall sentiment\n",
    "neg_tokens = process_text(neg_lines)\n",
    "neg_freq = nltk.FreqDist(neg_tokens)"
   ]
  },
  {
   "cell_type": "markdown",
   "id": "795cc50d",
   "metadata": {},
   "source": [
    "Plotting the word distribution for positive sentiment words seperately and negative sentiment words seperately so that we can verify the law twice on the same corpus."
   ]
  },
  {
   "cell_type": "code",
   "execution_count": 132,
   "id": "327a9cce",
   "metadata": {},
   "outputs": [
    {
     "data": {
      "text/plain": [
       "[<matplotlib.lines.Line2D at 0x18c1c7abfa0>]"
      ]
     },
     "execution_count": 132,
     "metadata": {},
     "output_type": "execute_result"
    },
    {
     "data": {
      "text/plain": [
       "Text(0.5, 0, 'Words')"
      ]
     },
     "execution_count": 132,
     "metadata": {},
     "output_type": "execute_result"
    },
    {
     "data": {
      "text/plain": [
       "Text(0, 0.5, 'Frequency')"
      ]
     },
     "execution_count": 132,
     "metadata": {},
     "output_type": "execute_result"
    },
    {
     "data": {
      "text/plain": [
       "Text(0.5, 1.0, 'Word Frequency Distribution (Positive)')"
      ]
     },
     "execution_count": 132,
     "metadata": {},
     "output_type": "execute_result"
    },
    {
     "data": {
      "image/png": "[encoded data removed]",
      "text/plain": [
       "<Figure size 720x360 with 1 Axes>"
      ]
     },
     "metadata": {
      "needs_background": "light"
     },
     "output_type": "display_data"
    }
   ],
   "source": [
    "# plotting the word distribution for positive headlines\n",
    "y_val = [x[1] for x in pos_freq.most_common()]\n",
    "fig = plt.figure(figsize=(10,5))\n",
    "plt.plot(y_val)\n",
    "plt.xlabel(\"Words\")\n",
    "plt.ylabel(\"Frequency\")\n",
    "plt.title(\"Word Frequency Distribution (Positive)\")\n",
    "plt.show()"
   ]
  },
  {
   "cell_type": "code",
   "execution_count": 133,
   "id": "0ee45075",
   "metadata": {},
   "outputs": [
    {
     "data": {
      "text/plain": [
       "[<matplotlib.lines.Line2D at 0x18c1c7c3f40>]"
      ]
     },
     "execution_count": 133,
     "metadata": {},
     "output_type": "execute_result"
    },
    {
     "data": {
      "text/plain": [
       "Text(0.5, 0, 'Words')"
      ]
     },
     "execution_count": 133,
     "metadata": {},
     "output_type": "execute_result"
    },
    {
     "data": {
      "text/plain": [
       "Text(0, 0.5, 'Frequency')"
      ]
     },
     "execution_count": 133,
     "metadata": {},
     "output_type": "execute_result"
    },
    {
     "data": {
      "text/plain": [
       "Text(0.5, 1.0, 'Word Frequency Distribution (Negative)')"
      ]
     },
     "execution_count": 133,
     "metadata": {},
     "output_type": "execute_result"
    },
    {
     "data": {
      "image/png": "[encoded data removed]",
      "text/plain": [
       "<Figure size 720x360 with 1 Axes>"
      ]
     },
     "metadata": {
      "needs_background": "light"
     },
     "output_type": "display_data"
    }
   ],
   "source": [
    "# Plotting the word frequency distribution for negative headlines\n",
    "y_val = [x[1] for x in neg_freq.most_common()]\n",
    "fig = plt.figure(figsize=(10,5))\n",
    "plt.plot(y_val)\n",
    "\n",
    "plt.xlabel(\"Words\")\n",
    "plt.ylabel(\"Frequency\")\n",
    "plt.title(\"Word Frequency Distribution (Negative)\")\n",
    "plt.show()"
   ]
  },
  {
   "cell_type": "markdown",
   "id": "76c99efa",
   "metadata": {},
   "source": [
    "<b>Insights:</b> It can be seen from the above two plots that the both the Positive sentiment words as well as the negative sentiment words follow the zipf's law. Now the how do we know whether it follws the zipfs's law? By observing the plot we see words close to zer have a very high word frequency and then it drops to an 'L' shaped curve. which is typical characteristic of a zipfian distribution. Furthermore, It can also be inferred that Zipf’s law follows the Pareto distribution where only first 20 % of words results into 80 % of frequency of entire corpus. It is important to mention that In all the results, there are some instances where the word frequency not always falls to 1/2 to its previous, which is fine because overall pattern approximates the nature."
   ]
  },
  {
   "cell_type": "markdown",
   "id": "2b93ded2",
   "metadata": {},
   "source": [
    "## Wordcloud : To see whats dominating the news articles"
   ]
  },
  {
   "cell_type": "code",
   "execution_count": 134,
   "id": "4efd70c3",
   "metadata": {},
   "outputs": [
    {
     "data": {
      "text/plain": [
       "<Figure size 1080x1080 with 0 Axes>"
      ]
     },
     "execution_count": 134,
     "metadata": {},
     "output_type": "execute_result"
    },
    {
     "data": {
      "text/plain": [
       "<matplotlib.image.AxesImage at 0x18c1ce48400>"
      ]
     },
     "execution_count": 134,
     "metadata": {},
     "output_type": "execute_result"
    },
    {
     "data": {
      "text/plain": [
       "(-0.5, 1499.5, 1199.5, -0.5)"
      ]
     },
     "execution_count": 134,
     "metadata": {},
     "output_type": "execute_result"
    },
    {
     "data": {
      "image/png": "[encoded data removed]",
      "text/plain": [
       "<Figure size 1080x1080 with 1 Axes>"
      ]
     },
     "metadata": {
      "needs_background": "light"
     },
     "output_type": "display_data"
    }
   ],
   "source": [
    "data=news_articles_df\n",
    "stop = [\"https\", \"co\", \"char\",\"chars\"] + list(stop_words)\n",
    "wc = WordCloud(stopwords=stop, max_words=700, margin=10, background_color='black',\n",
    "scale=3, relative_scaling = 0.4, width=500, height=400,\n",
    "random_state=1).generate(' '.join(data['combined_text']))\n",
    "plt.figure(figsize=(15,15))\n",
    "plt.imshow(wc, interpolation=\"bilinear\")\n",
    "plt.axis(\"off\")\n",
    "plt.show()"
   ]
  },
  {
   "cell_type": "markdown",
   "id": "84219f5a",
   "metadata": {},
   "source": [
    "<b>Insights:</b> The word cloud is a analysis technique wherein more commonly the term appears within the text being analysed, the larger the word appears in the image generated. The Word cloud image above shows which words dominated the content of the news during the period of feb 14 to march 29. It is no surprise here that the term Coronavirus appears the largest in the word cloud, highlighting the global scale of the this pandemic. some of the other words that appear frequently in the news is government which I believe is again related to Covid-19 and government's response to it. some of the other interesting observation here is the term first and new. it is not quite clear in what context these were used and we will perform bigram analysis to better understand the context of these words. US and India also appear to have appeaared significantly in the news, this is because of President Trump's India visit in february this year. Moreover most of the News agencies are based in the US and as a result of which the they cover a lot of stories involving the United States."
   ]
  },
  {
   "cell_type": "markdown",
   "id": "7de35991",
   "metadata": {},
   "source": [
    "### Analyzing the distribution of words and Biagram Analysis"
   ]
  },
  {
   "cell_type": "code",
   "execution_count": 138,
   "id": "328b0e1c",
   "metadata": {},
   "outputs": [],
   "source": [
    "# news article specific stopwords were downloaded from:  https://github.com/vikasing/news-stopwords.git\n",
    "# Then, I removed all the news specific stopwords  from my dataframe's column of token \n",
    "def remove_stopwords(params):\n",
    "    with open(r'C:\\Users\\user\\Datasets\\news\\stopwords1k.csv','r') as my_stopwords:\n",
    "        stopwords_list = my_stopwords.read()\n",
    "        new_list = []\n",
    "        for param in params:\n",
    "            if str(param) not in stopwords_list:\n",
    "                new_list.append(param)\n",
    "            else:\n",
    "                pass # You can write something to do if the stopword is found\n",
    "    my_stopwords.close()\n",
    "    return (new_list)\n",
    "new_list = remove_stopwords(news_articles_df['tokens'])"
   ]
  },
  {
   "cell_type": "code",
   "execution_count": 139,
   "id": "c83d706a",
   "metadata": {},
   "outputs": [
    {
     "data": {
      "application/vnd.plotly.v1+json": {
       "config": {
        "linkText": "Export to plot.ly",
        "plotlyServerURL": "https://plot.ly",
        "showLink": true
       },
       "data": [
        {
         "marker": {
          "color": "rgba(255, 153, 51, 0.6)",
          "line": {
           "color": "rgba(255, 153, 51, 1.0)",
           "width": 1
          }
         },
         "name": "count",
         "orientation": "v",
         "text": "",
         "type": "bar",
         "x": [
          "the",
          "of",
          "in",
          "to",
          "chars",
          "and",
          "is",
          "on",
          "for",
          "has",
          "by",
          "as",
          "at",
          "that",
          "have",
          "with",
          "street",
          "ukraine",
          "wall",
          "from"
         ],
         "y": [
          1308,
          652,
          624,
          606,
          588,
          390,
          308,
          250,
          242,
          226,
          198,
          162,
          142,
          126,
          124,
          124,
          118,
          118,
          114,
          112
         ]
        }
       ],
       "layout": {
        "legend": {
         "bgcolor": "#F5F6F9",
         "font": {
          "color": "#4D5663"
         }
        },
        "paper_bgcolor": "#F5F6F9",
        "plot_bgcolor": "#F5F6F9",
        "template": {
         "data": {
          "bar": [
           {
            "error_x": {
             "color": "#2a3f5f"
            },
            "error_y": {
             "color": "#2a3f5f"
            },
            "marker": {
             "line": {
              "color": "#E5ECF6",
              "width": 0.5
             },
             "pattern": {
              "fillmode": "overlay",
              "size": 10,
              "solidity": 0.2
             }
            },
            "type": "bar"
           }
          ],
          "barpolar": [
           {
            "marker": {
             "line": {
              "color": "#E5ECF6",
              "width": 0.5
             },
             "pattern": {
              "fillmode": "overlay",
              "size": 10,
              "solidity": 0.2
             }
            },
            "type": "barpolar"
           }
          ],
          "carpet": [
           {
            "aaxis": {
             "endlinecolor": "#2a3f5f",
             "gridcolor": "white",
             "linecolor": "white",
             "minorgridcolor": "white",
             "startlinecolor": "#2a3f5f"
            },
            "baxis": {
             "endlinecolor": "#2a3f5f",
             "gridcolor": "white",
             "linecolor": "white",
             "minorgridcolor": "white",
             "startlinecolor": "#2a3f5f"
            },
            "type": "carpet"
           }
          ],
          "choropleth": [
           {
            "colorbar": {
             "outlinewidth": 0,
             "ticks": ""
            },
            "type": "choropleth"
           }
          ],
          "contour": [
           {
            "colorbar": {
             "outlinewidth": 0,
             "ticks": ""
            },
            "colorscale": [
             [
              0,
              "#0d0887"
             ],
             [
              0.1111111111111111,
              "#46039f"
             ],
             [
              0.2222222222222222,
              "#7201a8"
             ],
             [
              0.3333333333333333,
              "#9c179e"
             ],
             [
              0.4444444444444444,
              "#bd3786"
             ],
             [
              0.5555555555555556,
              "#d8576b"
             ],
             [
              0.6666666666666666,
              "#ed7953"
             ],
             [
              0.7777777777777778,
              "#fb9f3a"
             ],
             [
              0.8888888888888888,
              "#fdca26"
             ],
             [
              1,
              "#f0f921"
             ]
            ],
            "type": "contour"
           }
          ],
          "contourcarpet": [
           {
            "colorbar": {
             "outlinewidth": 0,
             "ticks": ""
            },
            "type": "contourcarpet"
           }
          ],
          "heatmap": [
           {
            "colorbar": {
             "outlinewidth": 0,
             "ticks": ""
            },
            "colorscale": [
             [
              0,
              "#0d0887"
             ],
             [
              0.1111111111111111,
              "#46039f"
             ],
             [
              0.2222222222222222,
              "#7201a8"
             ],
             [
              0.3333333333333333,
              "#9c179e"
             ],
             [
              0.4444444444444444,
              "#bd3786"
             ],
             [
              0.5555555555555556,
              "#d8576b"
             ],
             [
              0.6666666666666666,
              "#ed7953"
             ],
             [
              0.7777777777777778,
              "#fb9f3a"
             ],
             [
              0.8888888888888888,
              "#fdca26"
             ],
             [
              1,
              "#f0f921"
             ]
            ],
            "type": "heatmap"
           }
          ],
          "heatmapgl": [
           {
            "colorbar": {
             "outlinewidth": 0,
             "ticks": ""
            },
            "colorscale": [
             [
              0,
              "#0d0887"
             ],
             [
              0.1111111111111111,
              "#46039f"
             ],
             [
              0.2222222222222222,
              "#7201a8"
             ],
             [
              0.3333333333333333,
              "#9c179e"
             ],
             [
              0.4444444444444444,
              "#bd3786"
             ],
             [
              0.5555555555555556,
              "#d8576b"
             ],
             [
              0.6666666666666666,
              "#ed7953"
             ],
             [
              0.7777777777777778,
              "#fb9f3a"
             ],
             [
              0.8888888888888888,
              "#fdca26"
             ],
             [
              1,
              "#f0f921"
             ]
            ],
            "type": "heatmapgl"
           }
          ],
          "histogram": [
           {
            "marker": {
             "pattern": {
              "fillmode": "overlay",
              "size": 10,
              "solidity": 0.2
             }
            },
            "type": "histogram"
           }
          ],
          "histogram2d": [
           {
            "colorbar": {
             "outlinewidth": 0,
             "ticks": ""
            },
            "colorscale": [
             [
              0,
              "#0d0887"
             ],
             [
              0.1111111111111111,
              "#46039f"
             ],
             [
              0.2222222222222222,
              "#7201a8"
             ],
             [
              0.3333333333333333,
              "#9c179e"
             ],
             [
              0.4444444444444444,
              "#bd3786"
             ],
             [
              0.5555555555555556,
              "#d8576b"
             ],
             [
              0.6666666666666666,
              "#ed7953"
             ],
             [
              0.7777777777777778,
              "#fb9f3a"
             ],
             [
              0.8888888888888888,
              "#fdca26"
             ],
             [
              1,
              "#f0f921"
             ]
            ],
            "type": "histogram2d"
           }
          ],
          "histogram2dcontour": [
           {
            "colorbar": {
             "outlinewidth": 0,
             "ticks": ""
            },
            "colorscale": [
             [
              0,
              "#0d0887"
             ],
             [
              0.1111111111111111,
              "#46039f"
             ],
             [
              0.2222222222222222,
              "#7201a8"
             ],
             [
              0.3333333333333333,
              "#9c179e"
             ],
             [
              0.4444444444444444,
              "#bd3786"
             ],
             [
              0.5555555555555556,
              "#d8576b"
             ],
             [
              0.6666666666666666,
              "#ed7953"
             ],
             [
              0.7777777777777778,
              "#fb9f3a"
             ],
             [
              0.8888888888888888,
              "#fdca26"
             ],
             [
              1,
              "#f0f921"
             ]
            ],
            "type": "histogram2dcontour"
           }
          ],
          "mesh3d": [
           {
            "colorbar": {
             "outlinewidth": 0,
             "ticks": ""
            },
            "type": "mesh3d"
           }
          ],
          "parcoords": [
           {
            "line": {
             "colorbar": {
              "outlinewidth": 0,
              "ticks": ""
             }
            },
            "type": "parcoords"
           }
          ],
          "pie": [
           {
            "automargin": true,
            "type": "pie"
           }
          ],
          "scatter": [
           {
            "marker": {
             "colorbar": {
              "outlinewidth": 0,
              "ticks": ""
             }
            },
            "type": "scatter"
           }
          ],
          "scatter3d": [
           {
            "line": {
             "colorbar": {
              "outlinewidth": 0,
              "ticks": ""
             }
            },
            "marker": {
             "colorbar": {
              "outlinewidth": 0,
              "ticks": ""
             }
            },
            "type": "scatter3d"
           }
          ],
          "scattercarpet": [
           {
            "marker": {
             "colorbar": {
              "outlinewidth": 0,
              "ticks": ""
             }
            },
            "type": "scattercarpet"
           }
          ],
          "scattergeo": [
           {
            "marker": {
             "colorbar": {
              "outlinewidth": 0,
              "ticks": ""
             }
            },
            "type": "scattergeo"
           }
          ],
          "scattergl": [
           {
            "marker": {
             "colorbar": {
              "outlinewidth": 0,
              "ticks": ""
             }
            },
            "type": "scattergl"
           }
          ],
          "scattermapbox": [
           {
            "marker": {
             "colorbar": {
              "outlinewidth": 0,
              "ticks": ""
             }
            },
            "type": "scattermapbox"
           }
          ],
          "scatterpolar": [
           {
            "marker": {
             "colorbar": {
              "outlinewidth": 0,
              "ticks": ""
             }
            },
            "type": "scatterpolar"
           }
          ],
          "scatterpolargl": [
           {
            "marker": {
             "colorbar": {
              "outlinewidth": 0,
              "ticks": ""
             }
            },
            "type": "scatterpolargl"
           }
          ],
          "scatterternary": [
           {
            "marker": {
             "colorbar": {
              "outlinewidth": 0,
              "ticks": ""
             }
            },
            "type": "scatterternary"
           }
          ],
          "surface": [
           {
            "colorbar": {
             "outlinewidth": 0,
             "ticks": ""
            },
            "colorscale": [
             [
              0,
              "#0d0887"
             ],
             [
              0.1111111111111111,
              "#46039f"
             ],
             [
              0.2222222222222222,
              "#7201a8"
             ],
             [
              0.3333333333333333,
              "#9c179e"
             ],
             [
              0.4444444444444444,
              "#bd3786"
             ],
             [
              0.5555555555555556,
              "#d8576b"
             ],
             [
              0.6666666666666666,
              "#ed7953"
             ],
             [
              0.7777777777777778,
              "#fb9f3a"
             ],
             [
              0.8888888888888888,
              "#fdca26"
             ],
             [
              1,
              "#f0f921"
             ]
            ],
            "type": "surface"
           }
          ],
          "table": [
           {
            "cells": {
             "fill": {
              "color": "#EBF0F8"
             },
             "line": {
              "color": "white"
             }
            },
            "header": {
             "fill": {
              "color": "#C8D4E3"
             },
             "line": {
              "color": "white"
             }
            },
            "type": "table"
           }
          ]
         },
         "layout": {
          "annotationdefaults": {
           "arrowcolor": "#2a3f5f",
           "arrowhead": 0,
           "arrowwidth": 1
          },
          "autotypenumbers": "strict",
          "coloraxis": {
           "colorbar": {
            "outlinewidth": 0,
            "ticks": ""
           }
          },
          "colorscale": {
           "diverging": [
            [
             0,
             "#8e0152"
            ],
            [
             0.1,
             "#c51b7d"
            ],
            [
             0.2,
             "#de77ae"
            ],
            [
             0.3,
             "#f1b6da"
            ],
            [
             0.4,
             "#fde0ef"
            ],
            [
             0.5,
             "#f7f7f7"
            ],
            [
             0.6,
             "#e6f5d0"
            ],
            [
             0.7,
             "#b8e186"
            ],
            [
             0.8,
             "#7fbc41"
            ],
            [
             0.9,
             "#4d9221"
            ],
            [
             1,
             "#276419"
            ]
           ],
           "sequential": [
            [
             0,
             "#0d0887"
            ],
            [
             0.1111111111111111,
             "#46039f"
            ],
            [
             0.2222222222222222,
             "#7201a8"
            ],
            [
             0.3333333333333333,
             "#9c179e"
            ],
            [
             0.4444444444444444,
             "#bd3786"
            ],
            [
             0.5555555555555556,
             "#d8576b"
            ],
            [
             0.6666666666666666,
             "#ed7953"
            ],
            [
             0.7777777777777778,
             "#fb9f3a"
            ],
            [
             0.8888888888888888,
             "#fdca26"
            ],
            [
             1,
             "#f0f921"
            ]
           ],
           "sequentialminus": [
            [
             0,
             "#0d0887"
            ],
            [
             0.1111111111111111,
             "#46039f"
            ],
            [
             0.2222222222222222,
             "#7201a8"
            ],
            [
             0.3333333333333333,
             "#9c179e"
            ],
            [
             0.4444444444444444,
             "#bd3786"
            ],
            [
             0.5555555555555556,
             "#d8576b"
            ],
            [
             0.6666666666666666,
             "#ed7953"
            ],
            [
             0.7777777777777778,
             "#fb9f3a"
            ],
            [
             0.8888888888888888,
             "#fdca26"
            ],
            [
             1,
             "#f0f921"
            ]
           ]
          },
          "colorway": [
           "#636efa",
           "#EF553B",
           "#00cc96",
           "#ab63fa",
           "#FFA15A",
           "#19d3f3",
           "#FF6692",
           "#B6E880",
           "#FF97FF",
           "#FECB52"
          ],
          "font": {
           "color": "#2a3f5f"
          },
          "geo": {
           "bgcolor": "white",
           "lakecolor": "white",
           "landcolor": "#E5ECF6",
           "showlakes": true,
           "showland": true,
           "subunitcolor": "white"
          },
          "hoverlabel": {
           "align": "left"
          },
          "hovermode": "closest",
          "mapbox": {
           "style": "light"
          },
          "paper_bgcolor": "white",
          "plot_bgcolor": "#E5ECF6",
          "polar": {
           "angularaxis": {
            "gridcolor": "white",
            "linecolor": "white",
            "ticks": ""
           },
           "bgcolor": "#E5ECF6",
           "radialaxis": {
            "gridcolor": "white",
            "linecolor": "white",
            "ticks": ""
           }
          },
          "scene": {
           "xaxis": {
            "backgroundcolor": "#E5ECF6",
            "gridcolor": "white",
            "gridwidth": 2,
            "linecolor": "white",
            "showbackground": true,
            "ticks": "",
            "zerolinecolor": "white"
           },
           "yaxis": {
            "backgroundcolor": "#E5ECF6",
            "gridcolor": "white",
            "gridwidth": 2,
            "linecolor": "white",
            "showbackground": true,
            "ticks": "",
            "zerolinecolor": "white"
           },
           "zaxis": {
            "backgroundcolor": "#E5ECF6",
            "gridcolor": "white",
            "gridwidth": 2,
            "linecolor": "white",
            "showbackground": true,
            "ticks": "",
            "zerolinecolor": "white"
           }
          },
          "shapedefaults": {
           "line": {
            "color": "#2a3f5f"
           }
          },
          "ternary": {
           "aaxis": {
            "gridcolor": "white",
            "linecolor": "white",
            "ticks": ""
           },
           "baxis": {
            "gridcolor": "white",
            "linecolor": "white",
            "ticks": ""
           },
           "bgcolor": "#E5ECF6",
           "caxis": {
            "gridcolor": "white",
            "linecolor": "white",
            "ticks": ""
           }
          },
          "title": {
           "x": 0.05
          },
          "xaxis": {
           "automargin": true,
           "gridcolor": "white",
           "linecolor": "white",
           "ticks": "",
           "title": {
            "standoff": 15
           },
           "zerolinecolor": "white",
           "zerolinewidth": 2
          },
          "yaxis": {
           "automargin": true,
           "gridcolor": "white",
           "linecolor": "white",
           "ticks": "",
           "title": {
            "standoff": 15
           },
           "zerolinecolor": "white",
           "zerolinewidth": 2
          }
         }
        },
        "title": {
         "font": {
          "color": "#4D5663"
         },
         "text": "Top 20 words in the News article before removing stop words"
        },
        "xaxis": {
         "gridcolor": "#E1E5ED",
         "linecolor": "black",
         "showgrid": true,
         "tickfont": {
          "color": "#4D5663"
         },
         "title": {
          "font": {
           "color": "#4D5663"
          },
          "text": ""
         },
         "zerolinecolor": "#E1E5ED"
        },
        "yaxis": {
         "gridcolor": "#E1E5ED",
         "linecolor": "black",
         "showgrid": true,
         "tickfont": {
          "color": "#4D5663"
         },
         "title": {
          "font": {
           "color": "#4D5663"
          },
          "text": "Count"
         },
         "zerolinecolor": "#E1E5ED"
        }
       }
      },
      "text/html": [
       "<div>                            <div id=\"ea126e1f-a4be-4cc0-a724-3ccaa7891a07\" class=\"plotly-graph-div\" style=\"height:525px; width:100%;\"></div>            <script type=\"text/javascript\">                require([\"plotly\"], function(Plotly) {                    window.PLOTLYENV=window.PLOTLYENV || {};\n",
       "                    window.PLOTLYENV.BASE_URL='https://plot.ly';                                    if (document.getElementById(\"ea126e1f-a4be-4cc0-a724-3ccaa7891a07\")) {                    Plotly.newPlot(                        \"ea126e1f-a4be-4cc0-a724-3ccaa7891a07\",                        [{\"marker\":{\"color\":\"rgba(255, 153, 51, 0.6)\",\"line\":{\"color\":\"rgba(255, 153, 51, 1.0)\",\"width\":1}},\"name\":\"count\",\"orientation\":\"v\",\"text\":\"\",\"x\":[\"the\",\"of\",\"in\",\"to\",\"chars\",\"and\",\"is\",\"on\",\"for\",\"has\",\"by\",\"as\",\"at\",\"that\",\"have\",\"with\",\"street\",\"ukraine\",\"wall\",\"from\"],\"y\":[1308,652,624,606,588,390,308,250,242,226,198,162,142,126,124,124,118,118,114,112],\"type\":\"bar\"}],                        {\"legend\":{\"bgcolor\":\"#F5F6F9\",\"font\":{\"color\":\"#4D5663\"}},\"paper_bgcolor\":\"#F5F6F9\",\"plot_bgcolor\":\"#F5F6F9\",\"template\":{\"data\":{\"barpolar\":[{\"marker\":{\"line\":{\"color\":\"#E5ECF6\",\"width\":0.5},\"pattern\":{\"fillmode\":\"overlay\",\"size\":10,\"solidity\":0.2}},\"type\":\"barpolar\"}],\"bar\":[{\"error_x\":{\"color\":\"#2a3f5f\"},\"error_y\":{\"color\":\"#2a3f5f\"},\"marker\":{\"line\":{\"color\":\"#E5ECF6\",\"width\":0.5},\"pattern\":{\"fillmode\":\"overlay\",\"size\":10,\"solidity\":0.2}},\"type\":\"bar\"}],\"carpet\":[{\"aaxis\":{\"endlinecolor\":\"#2a3f5f\",\"gridcolor\":\"white\",\"linecolor\":\"white\",\"minorgridcolor\":\"white\",\"startlinecolor\":\"#2a3f5f\"},\"baxis\":{\"endlinecolor\":\"#2a3f5f\",\"gridcolor\":\"white\",\"linecolor\":\"white\",\"minorgridcolor\":\"white\",\"startlinecolor\":\"#2a3f5f\"},\"type\":\"carpet\"}],\"choropleth\":[{\"colorbar\":{\"outlinewidth\":0,\"ticks\":\"\"},\"type\":\"choropleth\"}],\"contourcarpet\":[{\"colorbar\":{\"outlinewidth\":0,\"ticks\":\"\"},\"type\":\"contourcarpet\"}],\"contour\":[{\"colorbar\":{\"outlinewidth\":0,\"ticks\":\"\"},\"colorscale\":[[0.0,\"#0d0887\"],[0.1111111111111111,\"#46039f\"],[0.2222222222222222,\"#7201a8\"],[0.3333333333333333,\"#9c179e\"],[0.4444444444444444,\"#bd3786\"],[0.5555555555555556,\"#d8576b\"],[0.6666666666666666,\"#ed7953\"],[0.7777777777777778,\"#fb9f3a\"],[0.8888888888888888,\"#fdca26\"],[1.0,\"#f0f921\"]],\"type\":\"contour\"}],\"heatmapgl\":[{\"colorbar\":{\"outlinewidth\":0,\"ticks\":\"\"},\"colorscale\":[[0.0,\"#0d0887\"],[0.1111111111111111,\"#46039f\"],[0.2222222222222222,\"#7201a8\"],[0.3333333333333333,\"#9c179e\"],[0.4444444444444444,\"#bd3786\"],[0.5555555555555556,\"#d8576b\"],[0.6666666666666666,\"#ed7953\"],[0.7777777777777778,\"#fb9f3a\"],[0.8888888888888888,\"#fdca26\"],[1.0,\"#f0f921\"]],\"type\":\"heatmapgl\"}],\"heatmap\":[{\"colorbar\":{\"outlinewidth\":0,\"ticks\":\"\"},\"colorscale\":[[0.0,\"#0d0887\"],[0.1111111111111111,\"#46039f\"],[0.2222222222222222,\"#7201a8\"],[0.3333333333333333,\"#9c179e\"],[0.4444444444444444,\"#bd3786\"],[0.5555555555555556,\"#d8576b\"],[0.6666666666666666,\"#ed7953\"],[0.7777777777777778,\"#fb9f3a\"],[0.8888888888888888,\"#fdca26\"],[1.0,\"#f0f921\"]],\"type\":\"heatmap\"}],\"histogram2dcontour\":[{\"colorbar\":{\"outlinewidth\":0,\"ticks\":\"\"},\"colorscale\":[[0.0,\"#0d0887\"],[0.1111111111111111,\"#46039f\"],[0.2222222222222222,\"#7201a8\"],[0.3333333333333333,\"#9c179e\"],[0.4444444444444444,\"#bd3786\"],[0.5555555555555556,\"#d8576b\"],[0.6666666666666666,\"#ed7953\"],[0.7777777777777778,\"#fb9f3a\"],[0.8888888888888888,\"#fdca26\"],[1.0,\"#f0f921\"]],\"type\":\"histogram2dcontour\"}],\"histogram2d\":[{\"colorbar\":{\"outlinewidth\":0,\"ticks\":\"\"},\"colorscale\":[[0.0,\"#0d0887\"],[0.1111111111111111,\"#46039f\"],[0.2222222222222222,\"#7201a8\"],[0.3333333333333333,\"#9c179e\"],[0.4444444444444444,\"#bd3786\"],[0.5555555555555556,\"#d8576b\"],[0.6666666666666666,\"#ed7953\"],[0.7777777777777778,\"#fb9f3a\"],[0.8888888888888888,\"#fdca26\"],[1.0,\"#f0f921\"]],\"type\":\"histogram2d\"}],\"histogram\":[{\"marker\":{\"pattern\":{\"fillmode\":\"overlay\",\"size\":10,\"solidity\":0.2}},\"type\":\"histogram\"}],\"mesh3d\":[{\"colorbar\":{\"outlinewidth\":0,\"ticks\":\"\"},\"type\":\"mesh3d\"}],\"parcoords\":[{\"line\":{\"colorbar\":{\"outlinewidth\":0,\"ticks\":\"\"}},\"type\":\"parcoords\"}],\"pie\":[{\"automargin\":true,\"type\":\"pie\"}],\"scatter3d\":[{\"line\":{\"colorbar\":{\"outlinewidth\":0,\"ticks\":\"\"}},\"marker\":{\"colorbar\":{\"outlinewidth\":0,\"ticks\":\"\"}},\"type\":\"scatter3d\"}],\"scattercarpet\":[{\"marker\":{\"colorbar\":{\"outlinewidth\":0,\"ticks\":\"\"}},\"type\":\"scattercarpet\"}],\"scattergeo\":[{\"marker\":{\"colorbar\":{\"outlinewidth\":0,\"ticks\":\"\"}},\"type\":\"scattergeo\"}],\"scattergl\":[{\"marker\":{\"colorbar\":{\"outlinewidth\":0,\"ticks\":\"\"}},\"type\":\"scattergl\"}],\"scattermapbox\":[{\"marker\":{\"colorbar\":{\"outlinewidth\":0,\"ticks\":\"\"}},\"type\":\"scattermapbox\"}],\"scatterpolargl\":[{\"marker\":{\"colorbar\":{\"outlinewidth\":0,\"ticks\":\"\"}},\"type\":\"scatterpolargl\"}],\"scatterpolar\":[{\"marker\":{\"colorbar\":{\"outlinewidth\":0,\"ticks\":\"\"}},\"type\":\"scatterpolar\"}],\"scatter\":[{\"marker\":{\"colorbar\":{\"outlinewidth\":0,\"ticks\":\"\"}},\"type\":\"scatter\"}],\"scatterternary\":[{\"marker\":{\"colorbar\":{\"outlinewidth\":0,\"ticks\":\"\"}},\"type\":\"scatterternary\"}],\"surface\":[{\"colorbar\":{\"outlinewidth\":0,\"ticks\":\"\"},\"colorscale\":[[0.0,\"#0d0887\"],[0.1111111111111111,\"#46039f\"],[0.2222222222222222,\"#7201a8\"],[0.3333333333333333,\"#9c179e\"],[0.4444444444444444,\"#bd3786\"],[0.5555555555555556,\"#d8576b\"],[0.6666666666666666,\"#ed7953\"],[0.7777777777777778,\"#fb9f3a\"],[0.8888888888888888,\"#fdca26\"],[1.0,\"#f0f921\"]],\"type\":\"surface\"}],\"table\":[{\"cells\":{\"fill\":{\"color\":\"#EBF0F8\"},\"line\":{\"color\":\"white\"}},\"header\":{\"fill\":{\"color\":\"#C8D4E3\"},\"line\":{\"color\":\"white\"}},\"type\":\"table\"}]},\"layout\":{\"annotationdefaults\":{\"arrowcolor\":\"#2a3f5f\",\"arrowhead\":0,\"arrowwidth\":1},\"autotypenumbers\":\"strict\",\"coloraxis\":{\"colorbar\":{\"outlinewidth\":0,\"ticks\":\"\"}},\"colorscale\":{\"diverging\":[[0,\"#8e0152\"],[0.1,\"#c51b7d\"],[0.2,\"#de77ae\"],[0.3,\"#f1b6da\"],[0.4,\"#fde0ef\"],[0.5,\"#f7f7f7\"],[0.6,\"#e6f5d0\"],[0.7,\"#b8e186\"],[0.8,\"#7fbc41\"],[0.9,\"#4d9221\"],[1,\"#276419\"]],\"sequential\":[[0.0,\"#0d0887\"],[0.1111111111111111,\"#46039f\"],[0.2222222222222222,\"#7201a8\"],[0.3333333333333333,\"#9c179e\"],[0.4444444444444444,\"#bd3786\"],[0.5555555555555556,\"#d8576b\"],[0.6666666666666666,\"#ed7953\"],[0.7777777777777778,\"#fb9f3a\"],[0.8888888888888888,\"#fdca26\"],[1.0,\"#f0f921\"]],\"sequentialminus\":[[0.0,\"#0d0887\"],[0.1111111111111111,\"#46039f\"],[0.2222222222222222,\"#7201a8\"],[0.3333333333333333,\"#9c179e\"],[0.4444444444444444,\"#bd3786\"],[0.5555555555555556,\"#d8576b\"],[0.6666666666666666,\"#ed7953\"],[0.7777777777777778,\"#fb9f3a\"],[0.8888888888888888,\"#fdca26\"],[1.0,\"#f0f921\"]]},\"colorway\":[\"#636efa\",\"#EF553B\",\"#00cc96\",\"#ab63fa\",\"#FFA15A\",\"#19d3f3\",\"#FF6692\",\"#B6E880\",\"#FF97FF\",\"#FECB52\"],\"font\":{\"color\":\"#2a3f5f\"},\"geo\":{\"bgcolor\":\"white\",\"lakecolor\":\"white\",\"landcolor\":\"#E5ECF6\",\"showlakes\":true,\"showland\":true,\"subunitcolor\":\"white\"},\"hoverlabel\":{\"align\":\"left\"},\"hovermode\":\"closest\",\"mapbox\":{\"style\":\"light\"},\"paper_bgcolor\":\"white\",\"plot_bgcolor\":\"#E5ECF6\",\"polar\":{\"angularaxis\":{\"gridcolor\":\"white\",\"linecolor\":\"white\",\"ticks\":\"\"},\"bgcolor\":\"#E5ECF6\",\"radialaxis\":{\"gridcolor\":\"white\",\"linecolor\":\"white\",\"ticks\":\"\"}},\"scene\":{\"xaxis\":{\"backgroundcolor\":\"#E5ECF6\",\"gridcolor\":\"white\",\"gridwidth\":2,\"linecolor\":\"white\",\"showbackground\":true,\"ticks\":\"\",\"zerolinecolor\":\"white\"},\"yaxis\":{\"backgroundcolor\":\"#E5ECF6\",\"gridcolor\":\"white\",\"gridwidth\":2,\"linecolor\":\"white\",\"showbackground\":true,\"ticks\":\"\",\"zerolinecolor\":\"white\"},\"zaxis\":{\"backgroundcolor\":\"#E5ECF6\",\"gridcolor\":\"white\",\"gridwidth\":2,\"linecolor\":\"white\",\"showbackground\":true,\"ticks\":\"\",\"zerolinecolor\":\"white\"}},\"shapedefaults\":{\"line\":{\"color\":\"#2a3f5f\"}},\"ternary\":{\"aaxis\":{\"gridcolor\":\"white\",\"linecolor\":\"white\",\"ticks\":\"\"},\"baxis\":{\"gridcolor\":\"white\",\"linecolor\":\"white\",\"ticks\":\"\"},\"bgcolor\":\"#E5ECF6\",\"caxis\":{\"gridcolor\":\"white\",\"linecolor\":\"white\",\"ticks\":\"\"}},\"title\":{\"x\":0.05},\"xaxis\":{\"automargin\":true,\"gridcolor\":\"white\",\"linecolor\":\"white\",\"ticks\":\"\",\"title\":{\"standoff\":15},\"zerolinecolor\":\"white\",\"zerolinewidth\":2},\"yaxis\":{\"automargin\":true,\"gridcolor\":\"white\",\"linecolor\":\"white\",\"ticks\":\"\",\"title\":{\"standoff\":15},\"zerolinecolor\":\"white\",\"zerolinewidth\":2}}},\"title\":{\"font\":{\"color\":\"#4D5663\"},\"text\":\"Top 20 words in the News article before removing stop words\"},\"xaxis\":{\"gridcolor\":\"#E1E5ED\",\"linecolor\":\"black\",\"showgrid\":true,\"tickfont\":{\"color\":\"#4D5663\"},\"title\":{\"font\":{\"color\":\"#4D5663\"},\"text\":\"\"},\"zerolinecolor\":\"#E1E5ED\"},\"yaxis\":{\"gridcolor\":\"#E1E5ED\",\"linecolor\":\"black\",\"showgrid\":true,\"tickfont\":{\"color\":\"#4D5663\"},\"title\":{\"font\":{\"color\":\"#4D5663\"},\"text\":\"Count\"},\"zerolinecolor\":\"#E1E5ED\"}},                        {\"showLink\": true, \"linkText\": \"Export to plot.ly\", \"plotlyServerURL\": \"https://plot.ly\", \"responsive\": true}                    ).then(function(){\n",
       "                            \n",
       "var gd = document.getElementById('ea126e1f-a4be-4cc0-a724-3ccaa7891a07');\n",
       "var x = new MutationObserver(function (mutations, observer) {{\n",
       "        var display = window.getComputedStyle(gd).display;\n",
       "        if (!display || display === 'none') {{\n",
       "            console.log([gd, 'removed!']);\n",
       "            Plotly.purge(gd);\n",
       "            observer.disconnect();\n",
       "        }}\n",
       "}});\n",
       "\n",
       "// Listen for the removal of the full notebook cells\n",
       "var notebookContainer = gd.closest('#notebook-container');\n",
       "if (notebookContainer) {{\n",
       "    x.observe(notebookContainer, {childList: true});\n",
       "}}\n",
       "\n",
       "// Listen for the clearing of the current output cell\n",
       "var outputEl = gd.closest('.output');\n",
       "if (outputEl) {{\n",
       "    x.observe(outputEl, {childList: true});\n",
       "}}\n",
       "\n",
       "                        })                };                });            </script>        </div>"
      ]
     },
     "metadata": {},
     "output_type": "display_data"
    }
   ],
   "source": [
    "# A genralized function to fetch the top n words from the corpus \n",
    "def get_top_n_words(corpus, n=None):\n",
    "    vec = CountVectorizer().fit(corpus)\n",
    "    bag_of_words = vec.transform(corpus)\n",
    "    sum_words = bag_of_words.sum(axis=0) \n",
    "    words_freq = [(word, sum_words[0, idx]) for word, idx in vec.vocabulary_.items()]\n",
    "    words_freq =sorted(words_freq, key = lambda x: x[1], reverse=True)\n",
    "    return words_freq[:n]\n",
    "common_words = get_top_n_words(news_articles_df['combined_text'], 20)\n",
    "\n",
    "df1 = pd.DataFrame(common_words, columns = ['Text' , 'count'])\n",
    "\n",
    "df1.groupby('Text').sum()['count'].sort_values(ascending=False).iplot(\n",
    "    kind='bar', yTitle='Count', linecolor='black', title='Top 20 words in the News article before removing stop words')"
   ]
  },
  {
   "cell_type": "markdown",
   "id": "d22bad01",
   "metadata": {},
   "source": [
    "<b>Insights:</b> We can see that before removing the stop word, the top 20 most frequently occuring words in the corpus are the, to, of, in, etc which does not make much sense these are the words that do not convey any anything about the topic. Other thing to notice here is that again even here we do see the distribution following the zipf's law"
   ]
  },
  {
   "cell_type": "code",
   "execution_count": 140,
   "id": "cf3fe8d3",
   "metadata": {},
   "outputs": [
    {
     "data": {
      "application/vnd.plotly.v1+json": {
       "config": {
        "linkText": "Export to plot.ly",
        "plotlyServerURL": "https://plot.ly",
        "showLink": true
       },
       "data": [
        {
         "marker": {
          "color": "rgba(255, 153, 51, 0.6)",
          "line": {
           "color": "rgba(255, 153, 51, 1.0)",
           "width": 1
          }
         },
         "name": "count",
         "orientation": "v",
         "text": "",
         "type": "bar",
         "x": [
          "chars",
          "ukraine",
          "street",
          "wall",
          "journal",
          "news",
          "new",
          "us",
          "russian",
          "queen",
          "said",
          "president",
          "world",
          "first",
          "russia",
          "business",
          "two",
          "state",
          "people",
          "year"
         ],
         "y": [
          588,
          118,
          118,
          114,
          104,
          82,
          76,
          74,
          72,
          72,
          72,
          64,
          58,
          56,
          54,
          48,
          46,
          44,
          44,
          44
         ]
        }
       ],
       "layout": {
        "legend": {
         "bgcolor": "#F5F6F9",
         "font": {
          "color": "#4D5663"
         }
        },
        "paper_bgcolor": "#F5F6F9",
        "plot_bgcolor": "#F5F6F9",
        "template": {
         "data": {
          "bar": [
           {
            "error_x": {
             "color": "#2a3f5f"
            },
            "error_y": {
             "color": "#2a3f5f"
            },
            "marker": {
             "line": {
              "color": "#E5ECF6",
              "width": 0.5
             },
             "pattern": {
              "fillmode": "overlay",
              "size": 10,
              "solidity": 0.2
             }
            },
            "type": "bar"
           }
          ],
          "barpolar": [
           {
            "marker": {
             "line": {
              "color": "#E5ECF6",
              "width": 0.5
             },
             "pattern": {
              "fillmode": "overlay",
              "size": 10,
              "solidity": 0.2
             }
            },
            "type": "barpolar"
           }
          ],
          "carpet": [
           {
            "aaxis": {
             "endlinecolor": "#2a3f5f",
             "gridcolor": "white",
             "linecolor": "white",
             "minorgridcolor": "white",
             "startlinecolor": "#2a3f5f"
            },
            "baxis": {
             "endlinecolor": "#2a3f5f",
             "gridcolor": "white",
             "linecolor": "white",
             "minorgridcolor": "white",
             "startlinecolor": "#2a3f5f"
            },
            "type": "carpet"
           }
          ],
          "choropleth": [
           {
            "colorbar": {
             "outlinewidth": 0,
             "ticks": ""
            },
            "type": "choropleth"
           }
          ],
          "contour": [
           {
            "colorbar": {
             "outlinewidth": 0,
             "ticks": ""
            },
            "colorscale": [
             [
              0,
              "#0d0887"
             ],
             [
              0.1111111111111111,
              "#46039f"
             ],
             [
              0.2222222222222222,
              "#7201a8"
             ],
             [
              0.3333333333333333,
              "#9c179e"
             ],
             [
              0.4444444444444444,
              "#bd3786"
             ],
             [
              0.5555555555555556,
              "#d8576b"
             ],
             [
              0.6666666666666666,
              "#ed7953"
             ],
             [
              0.7777777777777778,
              "#fb9f3a"
             ],
             [
              0.8888888888888888,
              "#fdca26"
             ],
             [
              1,
              "#f0f921"
             ]
            ],
            "type": "contour"
           }
          ],
          "contourcarpet": [
           {
            "colorbar": {
             "outlinewidth": 0,
             "ticks": ""
            },
            "type": "contourcarpet"
           }
          ],
          "heatmap": [
           {
            "colorbar": {
             "outlinewidth": 0,
             "ticks": ""
            },
            "colorscale": [
             [
              0,
              "#0d0887"
             ],
             [
              0.1111111111111111,
              "#46039f"
             ],
             [
              0.2222222222222222,
              "#7201a8"
             ],
             [
              0.3333333333333333,
              "#9c179e"
             ],
             [
              0.4444444444444444,
              "#bd3786"
             ],
             [
              0.5555555555555556,
              "#d8576b"
             ],
             [
              0.6666666666666666,
              "#ed7953"
             ],
             [
              0.7777777777777778,
              "#fb9f3a"
             ],
             [
              0.8888888888888888,
              "#fdca26"
             ],
             [
              1,
              "#f0f921"
             ]
            ],
            "type": "heatmap"
           }
          ],
          "heatmapgl": [
           {
            "colorbar": {
             "outlinewidth": 0,
             "ticks": ""
            },
            "colorscale": [
             [
              0,
              "#0d0887"
             ],
             [
              0.1111111111111111,
              "#46039f"
             ],
             [
              0.2222222222222222,
              "#7201a8"
             ],
             [
              0.3333333333333333,
              "#9c179e"
             ],
             [
              0.4444444444444444,
              "#bd3786"
             ],
             [
              0.5555555555555556,
              "#d8576b"
             ],
             [
              0.6666666666666666,
              "#ed7953"
             ],
             [
              0.7777777777777778,
              "#fb9f3a"
             ],
             [
              0.8888888888888888,
              "#fdca26"
             ],
             [
              1,
              "#f0f921"
             ]
            ],
            "type": "heatmapgl"
           }
          ],
          "histogram": [
           {
            "marker": {
             "pattern": {
              "fillmode": "overlay",
              "size": 10,
              "solidity": 0.2
             }
            },
            "type": "histogram"
           }
          ],
          "histogram2d": [
           {
            "colorbar": {
             "outlinewidth": 0,
             "ticks": ""
            },
            "colorscale": [
             [
              0,
              "#0d0887"
             ],
             [
              0.1111111111111111,
              "#46039f"
             ],
             [
              0.2222222222222222,
              "#7201a8"
             ],
             [
              0.3333333333333333,
              "#9c179e"
             ],
             [
              0.4444444444444444,
              "#bd3786"
             ],
             [
              0.5555555555555556,
              "#d8576b"
             ],
             [
              0.6666666666666666,
              "#ed7953"
             ],
             [
              0.7777777777777778,
              "#fb9f3a"
             ],
             [
              0.8888888888888888,
              "#fdca26"
             ],
             [
              1,
              "#f0f921"
             ]
            ],
            "type": "histogram2d"
           }
          ],
          "histogram2dcontour": [
           {
            "colorbar": {
             "outlinewidth": 0,
             "ticks": ""
            },
            "colorscale": [
             [
              0,
              "#0d0887"
             ],
             [
              0.1111111111111111,
              "#46039f"
             ],
             [
              0.2222222222222222,
              "#7201a8"
             ],
             [
              0.3333333333333333,
              "#9c179e"
             ],
             [
              0.4444444444444444,
              "#bd3786"
             ],
             [
              0.5555555555555556,
              "#d8576b"
             ],
             [
              0.6666666666666666,
              "#ed7953"
             ],
             [
              0.7777777777777778,
              "#fb9f3a"
             ],
             [
              0.8888888888888888,
              "#fdca26"
             ],
             [
              1,
              "#f0f921"
             ]
            ],
            "type": "histogram2dcontour"
           }
          ],
          "mesh3d": [
           {
            "colorbar": {
             "outlinewidth": 0,
             "ticks": ""
            },
            "type": "mesh3d"
           }
          ],
          "parcoords": [
           {
            "line": {
             "colorbar": {
              "outlinewidth": 0,
              "ticks": ""
             }
            },
            "type": "parcoords"
           }
          ],
          "pie": [
           {
            "automargin": true,
            "type": "pie"
           }
          ],
          "scatter": [
           {
            "marker": {
             "colorbar": {
              "outlinewidth": 0,
              "ticks": ""
             }
            },
            "type": "scatter"
           }
          ],
          "scatter3d": [
           {
            "line": {
             "colorbar": {
              "outlinewidth": 0,
              "ticks": ""
             }
            },
            "marker": {
             "colorbar": {
              "outlinewidth": 0,
              "ticks": ""
             }
            },
            "type": "scatter3d"
           }
          ],
          "scattercarpet": [
           {
            "marker": {
             "colorbar": {
              "outlinewidth": 0,
              "ticks": ""
             }
            },
            "type": "scattercarpet"
           }
          ],
          "scattergeo": [
           {
            "marker": {
             "colorbar": {
              "outlinewidth": 0,
              "ticks": ""
             }
            },
            "type": "scattergeo"
           }
          ],
          "scattergl": [
           {
            "marker": {
             "colorbar": {
              "outlinewidth": 0,
              "ticks": ""
             }
            },
            "type": "scattergl"
           }
          ],
          "scattermapbox": [
           {
            "marker": {
             "colorbar": {
              "outlinewidth": 0,
              "ticks": ""
             }
            },
            "type": "scattermapbox"
           }
          ],
          "scatterpolar": [
           {
            "marker": {
             "colorbar": {
              "outlinewidth": 0,
              "ticks": ""
             }
            },
            "type": "scatterpolar"
           }
          ],
          "scatterpolargl": [
           {
            "marker": {
             "colorbar": {
              "outlinewidth": 0,
              "ticks": ""
             }
            },
            "type": "scatterpolargl"
           }
          ],
          "scatterternary": [
           {
            "marker": {
             "colorbar": {
              "outlinewidth": 0,
              "ticks": ""
             }
            },
            "type": "scatterternary"
           }
          ],
          "surface": [
           {
            "colorbar": {
             "outlinewidth": 0,
             "ticks": ""
            },
            "colorscale": [
             [
              0,
              "#0d0887"
             ],
             [
              0.1111111111111111,
              "#46039f"
             ],
             [
              0.2222222222222222,
              "#7201a8"
             ],
             [
              0.3333333333333333,
              "#9c179e"
             ],
             [
              0.4444444444444444,
              "#bd3786"
             ],
             [
              0.5555555555555556,
              "#d8576b"
             ],
             [
              0.6666666666666666,
              "#ed7953"
             ],
             [
              0.7777777777777778,
              "#fb9f3a"
             ],
             [
              0.8888888888888888,
              "#fdca26"
             ],
             [
              1,
              "#f0f921"
             ]
            ],
            "type": "surface"
           }
          ],
          "table": [
           {
            "cells": {
             "fill": {
              "color": "#EBF0F8"
             },
             "line": {
              "color": "white"
             }
            },
            "header": {
             "fill": {
              "color": "#C8D4E3"
             },
             "line": {
              "color": "white"
             }
            },
            "type": "table"
           }
          ]
         },
         "layout": {
          "annotationdefaults": {
           "arrowcolor": "#2a3f5f",
           "arrowhead": 0,
           "arrowwidth": 1
          },
          "autotypenumbers": "strict",
          "coloraxis": {
           "colorbar": {
            "outlinewidth": 0,
            "ticks": ""
           }
          },
          "colorscale": {
           "diverging": [
            [
             0,
             "#8e0152"
            ],
            [
             0.1,
             "#c51b7d"
            ],
            [
             0.2,
             "#de77ae"
            ],
            [
             0.3,
             "#f1b6da"
            ],
            [
             0.4,
             "#fde0ef"
            ],
            [
             0.5,
             "#f7f7f7"
            ],
            [
             0.6,
             "#e6f5d0"
            ],
            [
             0.7,
             "#b8e186"
            ],
            [
             0.8,
             "#7fbc41"
            ],
            [
             0.9,
             "#4d9221"
            ],
            [
             1,
             "#276419"
            ]
           ],
           "sequential": [
            [
             0,
             "#0d0887"
            ],
            [
             0.1111111111111111,
             "#46039f"
            ],
            [
             0.2222222222222222,
             "#7201a8"
            ],
            [
             0.3333333333333333,
             "#9c179e"
            ],
            [
             0.4444444444444444,
             "#bd3786"
            ],
            [
             0.5555555555555556,
             "#d8576b"
            ],
            [
             0.6666666666666666,
             "#ed7953"
            ],
            [
             0.7777777777777778,
             "#fb9f3a"
            ],
            [
             0.8888888888888888,
             "#fdca26"
            ],
            [
             1,
             "#f0f921"
            ]
           ],
           "sequentialminus": [
            [
             0,
             "#0d0887"
            ],
            [
             0.1111111111111111,
             "#46039f"
            ],
            [
             0.2222222222222222,
             "#7201a8"
            ],
            [
             0.3333333333333333,
             "#9c179e"
            ],
            [
             0.4444444444444444,
             "#bd3786"
            ],
            [
             0.5555555555555556,
             "#d8576b"
            ],
            [
             0.6666666666666666,
             "#ed7953"
            ],
            [
             0.7777777777777778,
             "#fb9f3a"
            ],
            [
             0.8888888888888888,
             "#fdca26"
            ],
            [
             1,
             "#f0f921"
            ]
           ]
          },
          "colorway": [
           "#636efa",
           "#EF553B",
           "#00cc96",
           "#ab63fa",
           "#FFA15A",
           "#19d3f3",
           "#FF6692",
           "#B6E880",
           "#FF97FF",
           "#FECB52"
          ],
          "font": {
           "color": "#2a3f5f"
          },
          "geo": {
           "bgcolor": "white",
           "lakecolor": "white",
           "landcolor": "#E5ECF6",
           "showlakes": true,
           "showland": true,
           "subunitcolor": "white"
          },
          "hoverlabel": {
           "align": "left"
          },
          "hovermode": "closest",
          "mapbox": {
           "style": "light"
          },
          "paper_bgcolor": "white",
          "plot_bgcolor": "#E5ECF6",
          "polar": {
           "angularaxis": {
            "gridcolor": "white",
            "linecolor": "white",
            "ticks": ""
           },
           "bgcolor": "#E5ECF6",
           "radialaxis": {
            "gridcolor": "white",
            "linecolor": "white",
            "ticks": ""
           }
          },
          "scene": {
           "xaxis": {
            "backgroundcolor": "#E5ECF6",
            "gridcolor": "white",
            "gridwidth": 2,
            "linecolor": "white",
            "showbackground": true,
            "ticks": "",
            "zerolinecolor": "white"
           },
           "yaxis": {
            "backgroundcolor": "#E5ECF6",
            "gridcolor": "white",
            "gridwidth": 2,
            "linecolor": "white",
            "showbackground": true,
            "ticks": "",
            "zerolinecolor": "white"
           },
           "zaxis": {
            "backgroundcolor": "#E5ECF6",
            "gridcolor": "white",
            "gridwidth": 2,
            "linecolor": "white",
            "showbackground": true,
            "ticks": "",
            "zerolinecolor": "white"
           }
          },
          "shapedefaults": {
           "line": {
            "color": "#2a3f5f"
           }
          },
          "ternary": {
           "aaxis": {
            "gridcolor": "white",
            "linecolor": "white",
            "ticks": ""
           },
           "baxis": {
            "gridcolor": "white",
            "linecolor": "white",
            "ticks": ""
           },
           "bgcolor": "#E5ECF6",
           "caxis": {
            "gridcolor": "white",
            "linecolor": "white",
            "ticks": ""
           }
          },
          "title": {
           "x": 0.05
          },
          "xaxis": {
           "automargin": true,
           "gridcolor": "white",
           "linecolor": "white",
           "ticks": "",
           "title": {
            "standoff": 15
           },
           "zerolinecolor": "white",
           "zerolinewidth": 2
          },
          "yaxis": {
           "automargin": true,
           "gridcolor": "white",
           "linecolor": "white",
           "ticks": "",
           "title": {
            "standoff": 15
           },
           "zerolinecolor": "white",
           "zerolinewidth": 2
          }
         }
        },
        "title": {
         "font": {
          "color": "#4D5663"
         },
         "text": "Top 20 words in News articles after removing stop words"
        },
        "xaxis": {
         "gridcolor": "#E1E5ED",
         "linecolor": "black",
         "showgrid": true,
         "tickfont": {
          "color": "#4D5663"
         },
         "title": {
          "font": {
           "color": "#4D5663"
          },
          "text": ""
         },
         "zerolinecolor": "#E1E5ED"
        },
        "yaxis": {
         "gridcolor": "#E1E5ED",
         "linecolor": "black",
         "showgrid": true,
         "tickfont": {
          "color": "#4D5663"
         },
         "title": {
          "font": {
           "color": "#4D5663"
          },
          "text": "Count"
         },
         "zerolinecolor": "#E1E5ED"
        }
       }
      },
      "text/html": [
       "<div>                            <div id=\"e60c9382-7e09-4148-93dc-7de48f9de791\" class=\"plotly-graph-div\" style=\"height:525px; width:100%;\"></div>            <script type=\"text/javascript\">                require([\"plotly\"], function(Plotly) {                    window.PLOTLYENV=window.PLOTLYENV || {};\n",
       "                    window.PLOTLYENV.BASE_URL='https://plot.ly';                                    if (document.getElementById(\"e60c9382-7e09-4148-93dc-7de48f9de791\")) {                    Plotly.newPlot(                        \"e60c9382-7e09-4148-93dc-7de48f9de791\",                        [{\"marker\":{\"color\":\"rgba(255, 153, 51, 0.6)\",\"line\":{\"color\":\"rgba(255, 153, 51, 1.0)\",\"width\":1}},\"name\":\"count\",\"orientation\":\"v\",\"text\":\"\",\"x\":[\"chars\",\"ukraine\",\"street\",\"wall\",\"journal\",\"news\",\"new\",\"us\",\"russian\",\"queen\",\"said\",\"president\",\"world\",\"first\",\"russia\",\"business\",\"two\",\"state\",\"people\",\"year\"],\"y\":[588,118,118,114,104,82,76,74,72,72,72,64,58,56,54,48,46,44,44,44],\"type\":\"bar\"}],                        {\"legend\":{\"bgcolor\":\"#F5F6F9\",\"font\":{\"color\":\"#4D5663\"}},\"paper_bgcolor\":\"#F5F6F9\",\"plot_bgcolor\":\"#F5F6F9\",\"template\":{\"data\":{\"barpolar\":[{\"marker\":{\"line\":{\"color\":\"#E5ECF6\",\"width\":0.5},\"pattern\":{\"fillmode\":\"overlay\",\"size\":10,\"solidity\":0.2}},\"type\":\"barpolar\"}],\"bar\":[{\"error_x\":{\"color\":\"#2a3f5f\"},\"error_y\":{\"color\":\"#2a3f5f\"},\"marker\":{\"line\":{\"color\":\"#E5ECF6\",\"width\":0.5},\"pattern\":{\"fillmode\":\"overlay\",\"size\":10,\"solidity\":0.2}},\"type\":\"bar\"}],\"carpet\":[{\"aaxis\":{\"endlinecolor\":\"#2a3f5f\",\"gridcolor\":\"white\",\"linecolor\":\"white\",\"minorgridcolor\":\"white\",\"startlinecolor\":\"#2a3f5f\"},\"baxis\":{\"endlinecolor\":\"#2a3f5f\",\"gridcolor\":\"white\",\"linecolor\":\"white\",\"minorgridcolor\":\"white\",\"startlinecolor\":\"#2a3f5f\"},\"type\":\"carpet\"}],\"choropleth\":[{\"colorbar\":{\"outlinewidth\":0,\"ticks\":\"\"},\"type\":\"choropleth\"}],\"contourcarpet\":[{\"colorbar\":{\"outlinewidth\":0,\"ticks\":\"\"},\"type\":\"contourcarpet\"}],\"contour\":[{\"colorbar\":{\"outlinewidth\":0,\"ticks\":\"\"},\"colorscale\":[[0.0,\"#0d0887\"],[0.1111111111111111,\"#46039f\"],[0.2222222222222222,\"#7201a8\"],[0.3333333333333333,\"#9c179e\"],[0.4444444444444444,\"#bd3786\"],[0.5555555555555556,\"#d8576b\"],[0.6666666666666666,\"#ed7953\"],[0.7777777777777778,\"#fb9f3a\"],[0.8888888888888888,\"#fdca26\"],[1.0,\"#f0f921\"]],\"type\":\"contour\"}],\"heatmapgl\":[{\"colorbar\":{\"outlinewidth\":0,\"ticks\":\"\"},\"colorscale\":[[0.0,\"#0d0887\"],[0.1111111111111111,\"#46039f\"],[0.2222222222222222,\"#7201a8\"],[0.3333333333333333,\"#9c179e\"],[0.4444444444444444,\"#bd3786\"],[0.5555555555555556,\"#d8576b\"],[0.6666666666666666,\"#ed7953\"],[0.7777777777777778,\"#fb9f3a\"],[0.8888888888888888,\"#fdca26\"],[1.0,\"#f0f921\"]],\"type\":\"heatmapgl\"}],\"heatmap\":[{\"colorbar\":{\"outlinewidth\":0,\"ticks\":\"\"},\"colorscale\":[[0.0,\"#0d0887\"],[0.1111111111111111,\"#46039f\"],[0.2222222222222222,\"#7201a8\"],[0.3333333333333333,\"#9c179e\"],[0.4444444444444444,\"#bd3786\"],[0.5555555555555556,\"#d8576b\"],[0.6666666666666666,\"#ed7953\"],[0.7777777777777778,\"#fb9f3a\"],[0.8888888888888888,\"#fdca26\"],[1.0,\"#f0f921\"]],\"type\":\"heatmap\"}],\"histogram2dcontour\":[{\"colorbar\":{\"outlinewidth\":0,\"ticks\":\"\"},\"colorscale\":[[0.0,\"#0d0887\"],[0.1111111111111111,\"#46039f\"],[0.2222222222222222,\"#7201a8\"],[0.3333333333333333,\"#9c179e\"],[0.4444444444444444,\"#bd3786\"],[0.5555555555555556,\"#d8576b\"],[0.6666666666666666,\"#ed7953\"],[0.7777777777777778,\"#fb9f3a\"],[0.8888888888888888,\"#fdca26\"],[1.0,\"#f0f921\"]],\"type\":\"histogram2dcontour\"}],\"histogram2d\":[{\"colorbar\":{\"outlinewidth\":0,\"ticks\":\"\"},\"colorscale\":[[0.0,\"#0d0887\"],[0.1111111111111111,\"#46039f\"],[0.2222222222222222,\"#7201a8\"],[0.3333333333333333,\"#9c179e\"],[0.4444444444444444,\"#bd3786\"],[0.5555555555555556,\"#d8576b\"],[0.6666666666666666,\"#ed7953\"],[0.7777777777777778,\"#fb9f3a\"],[0.8888888888888888,\"#fdca26\"],[1.0,\"#f0f921\"]],\"type\":\"histogram2d\"}],\"histogram\":[{\"marker\":{\"pattern\":{\"fillmode\":\"overlay\",\"size\":10,\"solidity\":0.2}},\"type\":\"histogram\"}],\"mesh3d\":[{\"colorbar\":{\"outlinewidth\":0,\"ticks\":\"\"},\"type\":\"mesh3d\"}],\"parcoords\":[{\"line\":{\"colorbar\":{\"outlinewidth\":0,\"ticks\":\"\"}},\"type\":\"parcoords\"}],\"pie\":[{\"automargin\":true,\"type\":\"pie\"}],\"scatter3d\":[{\"line\":{\"colorbar\":{\"outlinewidth\":0,\"ticks\":\"\"}},\"marker\":{\"colorbar\":{\"outlinewidth\":0,\"ticks\":\"\"}},\"type\":\"scatter3d\"}],\"scattercarpet\":[{\"marker\":{\"colorbar\":{\"outlinewidth\":0,\"ticks\":\"\"}},\"type\":\"scattercarpet\"}],\"scattergeo\":[{\"marker\":{\"colorbar\":{\"outlinewidth\":0,\"ticks\":\"\"}},\"type\":\"scattergeo\"}],\"scattergl\":[{\"marker\":{\"colorbar\":{\"outlinewidth\":0,\"ticks\":\"\"}},\"type\":\"scattergl\"}],\"scattermapbox\":[{\"marker\":{\"colorbar\":{\"outlinewidth\":0,\"ticks\":\"\"}},\"type\":\"scattermapbox\"}],\"scatterpolargl\":[{\"marker\":{\"colorbar\":{\"outlinewidth\":0,\"ticks\":\"\"}},\"type\":\"scatterpolargl\"}],\"scatterpolar\":[{\"marker\":{\"colorbar\":{\"outlinewidth\":0,\"ticks\":\"\"}},\"type\":\"scatterpolar\"}],\"scatter\":[{\"marker\":{\"colorbar\":{\"outlinewidth\":0,\"ticks\":\"\"}},\"type\":\"scatter\"}],\"scatterternary\":[{\"marker\":{\"colorbar\":{\"outlinewidth\":0,\"ticks\":\"\"}},\"type\":\"scatterternary\"}],\"surface\":[{\"colorbar\":{\"outlinewidth\":0,\"ticks\":\"\"},\"colorscale\":[[0.0,\"#0d0887\"],[0.1111111111111111,\"#46039f\"],[0.2222222222222222,\"#7201a8\"],[0.3333333333333333,\"#9c179e\"],[0.4444444444444444,\"#bd3786\"],[0.5555555555555556,\"#d8576b\"],[0.6666666666666666,\"#ed7953\"],[0.7777777777777778,\"#fb9f3a\"],[0.8888888888888888,\"#fdca26\"],[1.0,\"#f0f921\"]],\"type\":\"surface\"}],\"table\":[{\"cells\":{\"fill\":{\"color\":\"#EBF0F8\"},\"line\":{\"color\":\"white\"}},\"header\":{\"fill\":{\"color\":\"#C8D4E3\"},\"line\":{\"color\":\"white\"}},\"type\":\"table\"}]},\"layout\":{\"annotationdefaults\":{\"arrowcolor\":\"#2a3f5f\",\"arrowhead\":0,\"arrowwidth\":1},\"autotypenumbers\":\"strict\",\"coloraxis\":{\"colorbar\":{\"outlinewidth\":0,\"ticks\":\"\"}},\"colorscale\":{\"diverging\":[[0,\"#8e0152\"],[0.1,\"#c51b7d\"],[0.2,\"#de77ae\"],[0.3,\"#f1b6da\"],[0.4,\"#fde0ef\"],[0.5,\"#f7f7f7\"],[0.6,\"#e6f5d0\"],[0.7,\"#b8e186\"],[0.8,\"#7fbc41\"],[0.9,\"#4d9221\"],[1,\"#276419\"]],\"sequential\":[[0.0,\"#0d0887\"],[0.1111111111111111,\"#46039f\"],[0.2222222222222222,\"#7201a8\"],[0.3333333333333333,\"#9c179e\"],[0.4444444444444444,\"#bd3786\"],[0.5555555555555556,\"#d8576b\"],[0.6666666666666666,\"#ed7953\"],[0.7777777777777778,\"#fb9f3a\"],[0.8888888888888888,\"#fdca26\"],[1.0,\"#f0f921\"]],\"sequentialminus\":[[0.0,\"#0d0887\"],[0.1111111111111111,\"#46039f\"],[0.2222222222222222,\"#7201a8\"],[0.3333333333333333,\"#9c179e\"],[0.4444444444444444,\"#bd3786\"],[0.5555555555555556,\"#d8576b\"],[0.6666666666666666,\"#ed7953\"],[0.7777777777777778,\"#fb9f3a\"],[0.8888888888888888,\"#fdca26\"],[1.0,\"#f0f921\"]]},\"colorway\":[\"#636efa\",\"#EF553B\",\"#00cc96\",\"#ab63fa\",\"#FFA15A\",\"#19d3f3\",\"#FF6692\",\"#B6E880\",\"#FF97FF\",\"#FECB52\"],\"font\":{\"color\":\"#2a3f5f\"},\"geo\":{\"bgcolor\":\"white\",\"lakecolor\":\"white\",\"landcolor\":\"#E5ECF6\",\"showlakes\":true,\"showland\":true,\"subunitcolor\":\"white\"},\"hoverlabel\":{\"align\":\"left\"},\"hovermode\":\"closest\",\"mapbox\":{\"style\":\"light\"},\"paper_bgcolor\":\"white\",\"plot_bgcolor\":\"#E5ECF6\",\"polar\":{\"angularaxis\":{\"gridcolor\":\"white\",\"linecolor\":\"white\",\"ticks\":\"\"},\"bgcolor\":\"#E5ECF6\",\"radialaxis\":{\"gridcolor\":\"white\",\"linecolor\":\"white\",\"ticks\":\"\"}},\"scene\":{\"xaxis\":{\"backgroundcolor\":\"#E5ECF6\",\"gridcolor\":\"white\",\"gridwidth\":2,\"linecolor\":\"white\",\"showbackground\":true,\"ticks\":\"\",\"zerolinecolor\":\"white\"},\"yaxis\":{\"backgroundcolor\":\"#E5ECF6\",\"gridcolor\":\"white\",\"gridwidth\":2,\"linecolor\":\"white\",\"showbackground\":true,\"ticks\":\"\",\"zerolinecolor\":\"white\"},\"zaxis\":{\"backgroundcolor\":\"#E5ECF6\",\"gridcolor\":\"white\",\"gridwidth\":2,\"linecolor\":\"white\",\"showbackground\":true,\"ticks\":\"\",\"zerolinecolor\":\"white\"}},\"shapedefaults\":{\"line\":{\"color\":\"#2a3f5f\"}},\"ternary\":{\"aaxis\":{\"gridcolor\":\"white\",\"linecolor\":\"white\",\"ticks\":\"\"},\"baxis\":{\"gridcolor\":\"white\",\"linecolor\":\"white\",\"ticks\":\"\"},\"bgcolor\":\"#E5ECF6\",\"caxis\":{\"gridcolor\":\"white\",\"linecolor\":\"white\",\"ticks\":\"\"}},\"title\":{\"x\":0.05},\"xaxis\":{\"automargin\":true,\"gridcolor\":\"white\",\"linecolor\":\"white\",\"ticks\":\"\",\"title\":{\"standoff\":15},\"zerolinecolor\":\"white\",\"zerolinewidth\":2},\"yaxis\":{\"automargin\":true,\"gridcolor\":\"white\",\"linecolor\":\"white\",\"ticks\":\"\",\"title\":{\"standoff\":15},\"zerolinecolor\":\"white\",\"zerolinewidth\":2}}},\"title\":{\"font\":{\"color\":\"#4D5663\"},\"text\":\"Top 20 words in News articles after removing stop words\"},\"xaxis\":{\"gridcolor\":\"#E1E5ED\",\"linecolor\":\"black\",\"showgrid\":true,\"tickfont\":{\"color\":\"#4D5663\"},\"title\":{\"font\":{\"color\":\"#4D5663\"},\"text\":\"\"},\"zerolinecolor\":\"#E1E5ED\"},\"yaxis\":{\"gridcolor\":\"#E1E5ED\",\"linecolor\":\"black\",\"showgrid\":true,\"tickfont\":{\"color\":\"#4D5663\"},\"title\":{\"font\":{\"color\":\"#4D5663\"},\"text\":\"Count\"},\"zerolinecolor\":\"#E1E5ED\"}},                        {\"showLink\": true, \"linkText\": \"Export to plot.ly\", \"plotlyServerURL\": \"https://plot.ly\", \"responsive\": true}                    ).then(function(){\n",
       "                            \n",
       "var gd = document.getElementById('e60c9382-7e09-4148-93dc-7de48f9de791');\n",
       "var x = new MutationObserver(function (mutations, observer) {{\n",
       "        var display = window.getComputedStyle(gd).display;\n",
       "        if (!display || display === 'none') {{\n",
       "            console.log([gd, 'removed!']);\n",
       "            Plotly.purge(gd);\n",
       "            observer.disconnect();\n",
       "        }}\n",
       "}});\n",
       "\n",
       "// Listen for the removal of the full notebook cells\n",
       "var notebookContainer = gd.closest('#notebook-container');\n",
       "if (notebookContainer) {{\n",
       "    x.observe(notebookContainer, {childList: true});\n",
       "}}\n",
       "\n",
       "// Listen for the clearing of the current output cell\n",
       "var outputEl = gd.closest('.output');\n",
       "if (outputEl) {{\n",
       "    x.observe(outputEl, {childList: true});\n",
       "}}\n",
       "\n",
       "                        })                };                });            </script>        </div>"
      ]
     },
     "metadata": {},
     "output_type": "display_data"
    }
   ],
   "source": [
    "common_words = get_top_n_words(new_list, 20)\n",
    "df2 = pd.DataFrame(common_words, columns = ['Text' , 'count'])\n",
    "df2.groupby('Text').sum()['count'].sort_values(ascending=False).iplot(\n",
    "    kind='bar', yTitle='Count', linecolor='black', title='Top 20 words in News articles after removing stop words')"
   ]
  },
  {
   "cell_type": "markdown",
   "id": "71d9bffd",
   "metadata": {},
   "source": [
    "<b>Insights:</b> After removing the stopwords we see that after removing the news specific stopwords, now most of the words make a lot momre sense, even though there are still some stop words present like chars, one, two which do not make much sense but overall we that the stop word removal does a good job to give us an indication as to what dominated the news. Coronavirus as expected, occured 2778 times in the arounf 4000 news articles. other frequent words compliment the wordclound plot described earlier.\n",
    "\n",
    "#### Bigram Analysis\n",
    "Some English words occur together more frequently. For example - blue sky, do or die, best performance, heavy rain etc. So, in a text document. lets analyze which two words appeared most frequently in the news article corpus."
   ]
  },
  {
   "cell_type": "code",
   "execution_count": 141,
   "id": "778195ad",
   "metadata": {},
   "outputs": [
    {
     "name": "stdout",
     "output_type": "stream",
     "text": [
      "wall street 112\n",
      "street journal 104\n",
      "queen elizabeth 32\n",
      "prime minister 30\n",
      "elizabeth ii 24\n",
      "ukraine war 24\n",
      "northern ireland 20\n",
      "year old 18\n",
      "liz truss 16\n",
      "state funeral 14\n",
      "death queen 14\n",
      "joe biden 12\n",
      "wsj wall 12\n",
      "mortgage rates 12\n",
      "million people 12\n",
      "united nations 12\n",
      "far right 12\n",
      "white house 10\n",
      "business wall 10\n",
      "private equity 10\n"
     ]
    },
    {
     "data": {
      "application/vnd.plotly.v1+json": {
       "config": {
        "linkText": "Export to plot.ly",
        "plotlyServerURL": "https://plot.ly",
        "showLink": true
       },
       "data": [
        {
         "marker": {
          "color": "rgba(255, 153, 51, 0.6)",
          "line": {
           "color": "rgba(255, 153, 51, 1.0)",
           "width": 1
          }
         },
         "name": "count",
         "orientation": "v",
         "text": "",
         "type": "bar",
         "x": [
          "wall street",
          "street journal",
          "queen elizabeth",
          "prime minister",
          "elizabeth ii",
          "ukraine war",
          "northern ireland",
          "year old",
          "liz truss",
          "death queen",
          "state funeral",
          "mortgage rates",
          "wsj wall",
          "million people",
          "joe biden",
          "far right",
          "united nations",
          "business wall",
          "white house",
          "private equity"
         ],
         "y": [
          112,
          104,
          32,
          30,
          24,
          24,
          20,
          18,
          16,
          14,
          14,
          12,
          12,
          12,
          12,
          12,
          12,
          10,
          10,
          10
         ]
        }
       ],
       "layout": {
        "legend": {
         "bgcolor": "#F5F6F9",
         "font": {
          "color": "#4D5663"
         }
        },
        "paper_bgcolor": "#F5F6F9",
        "plot_bgcolor": "#F5F6F9",
        "template": {
         "data": {
          "bar": [
           {
            "error_x": {
             "color": "#2a3f5f"
            },
            "error_y": {
             "color": "#2a3f5f"
            },
            "marker": {
             "line": {
              "color": "#E5ECF6",
              "width": 0.5
             },
             "pattern": {
              "fillmode": "overlay",
              "size": 10,
              "solidity": 0.2
             }
            },
            "type": "bar"
           }
          ],
          "barpolar": [
           {
            "marker": {
             "line": {
              "color": "#E5ECF6",
              "width": 0.5
             },
             "pattern": {
              "fillmode": "overlay",
              "size": 10,
              "solidity": 0.2
             }
            },
            "type": "barpolar"
           }
          ],
          "carpet": [
           {
            "aaxis": {
             "endlinecolor": "#2a3f5f",
             "gridcolor": "white",
             "linecolor": "white",
             "minorgridcolor": "white",
             "startlinecolor": "#2a3f5f"
            },
            "baxis": {
             "endlinecolor": "#2a3f5f",
             "gridcolor": "white",
             "linecolor": "white",
             "minorgridcolor": "white",
             "startlinecolor": "#2a3f5f"
            },
            "type": "carpet"
           }
          ],
          "choropleth": [
           {
            "colorbar": {
             "outlinewidth": 0,
             "ticks": ""
            },
            "type": "choropleth"
           }
          ],
          "contour": [
           {
            "colorbar": {
             "outlinewidth": 0,
             "ticks": ""
            },
            "colorscale": [
             [
              0,
              "#0d0887"
             ],
             [
              0.1111111111111111,
              "#46039f"
             ],
             [
              0.2222222222222222,
              "#7201a8"
             ],
             [
              0.3333333333333333,
              "#9c179e"
             ],
             [
              0.4444444444444444,
              "#bd3786"
             ],
             [
              0.5555555555555556,
              "#d8576b"
             ],
             [
              0.6666666666666666,
              "#ed7953"
             ],
             [
              0.7777777777777778,
              "#fb9f3a"
             ],
             [
              0.8888888888888888,
              "#fdca26"
             ],
             [
              1,
              "#f0f921"
             ]
            ],
            "type": "contour"
           }
          ],
          "contourcarpet": [
           {
            "colorbar": {
             "outlinewidth": 0,
             "ticks": ""
            },
            "type": "contourcarpet"
           }
          ],
          "heatmap": [
           {
            "colorbar": {
             "outlinewidth": 0,
             "ticks": ""
            },
            "colorscale": [
             [
              0,
              "#0d0887"
             ],
             [
              0.1111111111111111,
              "#46039f"
             ],
             [
              0.2222222222222222,
              "#7201a8"
             ],
             [
              0.3333333333333333,
              "#9c179e"
             ],
             [
              0.4444444444444444,
              "#bd3786"
             ],
             [
              0.5555555555555556,
              "#d8576b"
             ],
             [
              0.6666666666666666,
              "#ed7953"
             ],
             [
              0.7777777777777778,
              "#fb9f3a"
             ],
             [
              0.8888888888888888,
              "#fdca26"
             ],
             [
              1,
              "#f0f921"
             ]
            ],
            "type": "heatmap"
           }
          ],
          "heatmapgl": [
           {
            "colorbar": {
             "outlinewidth": 0,
             "ticks": ""
            },
            "colorscale": [
             [
              0,
              "#0d0887"
             ],
             [
              0.1111111111111111,
              "#46039f"
             ],
             [
              0.2222222222222222,
              "#7201a8"
             ],
             [
              0.3333333333333333,
              "#9c179e"
             ],
             [
              0.4444444444444444,
              "#bd3786"
             ],
             [
              0.5555555555555556,
              "#d8576b"
             ],
             [
              0.6666666666666666,
              "#ed7953"
             ],
             [
              0.7777777777777778,
              "#fb9f3a"
             ],
             [
              0.8888888888888888,
              "#fdca26"
             ],
             [
              1,
              "#f0f921"
             ]
            ],
            "type": "heatmapgl"
           }
          ],
          "histogram": [
           {
            "marker": {
             "pattern": {
              "fillmode": "overlay",
              "size": 10,
              "solidity": 0.2
             }
            },
            "type": "histogram"
           }
          ],
          "histogram2d": [
           {
            "colorbar": {
             "outlinewidth": 0,
             "ticks": ""
            },
            "colorscale": [
             [
              0,
              "#0d0887"
             ],
             [
              0.1111111111111111,
              "#46039f"
             ],
             [
              0.2222222222222222,
              "#7201a8"
             ],
             [
              0.3333333333333333,
              "#9c179e"
             ],
             [
              0.4444444444444444,
              "#bd3786"
             ],
             [
              0.5555555555555556,
              "#d8576b"
             ],
             [
              0.6666666666666666,
              "#ed7953"
             ],
             [
              0.7777777777777778,
              "#fb9f3a"
             ],
             [
              0.8888888888888888,
              "#fdca26"
             ],
             [
              1,
              "#f0f921"
             ]
            ],
            "type": "histogram2d"
           }
          ],
          "histogram2dcontour": [
           {
            "colorbar": {
             "outlinewidth": 0,
             "ticks": ""
            },
            "colorscale": [
             [
              0,
              "#0d0887"
             ],
             [
              0.1111111111111111,
              "#46039f"
             ],
             [
              0.2222222222222222,
              "#7201a8"
             ],
             [
              0.3333333333333333,
              "#9c179e"
             ],
             [
              0.4444444444444444,
              "#bd3786"
             ],
             [
              0.5555555555555556,
              "#d8576b"
             ],
             [
              0.6666666666666666,
              "#ed7953"
             ],
             [
              0.7777777777777778,
              "#fb9f3a"
             ],
             [
              0.8888888888888888,
              "#fdca26"
             ],
             [
              1,
              "#f0f921"
             ]
            ],
            "type": "histogram2dcontour"
           }
          ],
          "mesh3d": [
           {
            "colorbar": {
             "outlinewidth": 0,
             "ticks": ""
            },
            "type": "mesh3d"
           }
          ],
          "parcoords": [
           {
            "line": {
             "colorbar": {
              "outlinewidth": 0,
              "ticks": ""
             }
            },
            "type": "parcoords"
           }
          ],
          "pie": [
           {
            "automargin": true,
            "type": "pie"
           }
          ],
          "scatter": [
           {
            "marker": {
             "colorbar": {
              "outlinewidth": 0,
              "ticks": ""
             }
            },
            "type": "scatter"
           }
          ],
          "scatter3d": [
           {
            "line": {
             "colorbar": {
              "outlinewidth": 0,
              "ticks": ""
             }
            },
            "marker": {
             "colorbar": {
              "outlinewidth": 0,
              "ticks": ""
             }
            },
            "type": "scatter3d"
           }
          ],
          "scattercarpet": [
           {
            "marker": {
             "colorbar": {
              "outlinewidth": 0,
              "ticks": ""
             }
            },
            "type": "scattercarpet"
           }
          ],
          "scattergeo": [
           {
            "marker": {
             "colorbar": {
              "outlinewidth": 0,
              "ticks": ""
             }
            },
            "type": "scattergeo"
           }
          ],
          "scattergl": [
           {
            "marker": {
             "colorbar": {
              "outlinewidth": 0,
              "ticks": ""
             }
            },
            "type": "scattergl"
           }
          ],
          "scattermapbox": [
           {
            "marker": {
             "colorbar": {
              "outlinewidth": 0,
              "ticks": ""
             }
            },
            "type": "scattermapbox"
           }
          ],
          "scatterpolar": [
           {
            "marker": {
             "colorbar": {
              "outlinewidth": 0,
              "ticks": ""
             }
            },
            "type": "scatterpolar"
           }
          ],
          "scatterpolargl": [
           {
            "marker": {
             "colorbar": {
              "outlinewidth": 0,
              "ticks": ""
             }
            },
            "type": "scatterpolargl"
           }
          ],
          "scatterternary": [
           {
            "marker": {
             "colorbar": {
              "outlinewidth": 0,
              "ticks": ""
             }
            },
            "type": "scatterternary"
           }
          ],
          "surface": [
           {
            "colorbar": {
             "outlinewidth": 0,
             "ticks": ""
            },
            "colorscale": [
             [
              0,
              "#0d0887"
             ],
             [
              0.1111111111111111,
              "#46039f"
             ],
             [
              0.2222222222222222,
              "#7201a8"
             ],
             [
              0.3333333333333333,
              "#9c179e"
             ],
             [
              0.4444444444444444,
              "#bd3786"
             ],
             [
              0.5555555555555556,
              "#d8576b"
             ],
             [
              0.6666666666666666,
              "#ed7953"
             ],
             [
              0.7777777777777778,
              "#fb9f3a"
             ],
             [
              0.8888888888888888,
              "#fdca26"
             ],
             [
              1,
              "#f0f921"
             ]
            ],
            "type": "surface"
           }
          ],
          "table": [
           {
            "cells": {
             "fill": {
              "color": "#EBF0F8"
             },
             "line": {
              "color": "white"
             }
            },
            "header": {
             "fill": {
              "color": "#C8D4E3"
             },
             "line": {
              "color": "white"
             }
            },
            "type": "table"
           }
          ]
         },
         "layout": {
          "annotationdefaults": {
           "arrowcolor": "#2a3f5f",
           "arrowhead": 0,
           "arrowwidth": 1
          },
          "autotypenumbers": "strict",
          "coloraxis": {
           "colorbar": {
            "outlinewidth": 0,
            "ticks": ""
           }
          },
          "colorscale": {
           "diverging": [
            [
             0,
             "#8e0152"
            ],
            [
             0.1,
             "#c51b7d"
            ],
            [
             0.2,
             "#de77ae"
            ],
            [
             0.3,
             "#f1b6da"
            ],
            [
             0.4,
             "#fde0ef"
            ],
            [
             0.5,
             "#f7f7f7"
            ],
            [
             0.6,
             "#e6f5d0"
            ],
            [
             0.7,
             "#b8e186"
            ],
            [
             0.8,
             "#7fbc41"
            ],
            [
             0.9,
             "#4d9221"
            ],
            [
             1,
             "#276419"
            ]
           ],
           "sequential": [
            [
             0,
             "#0d0887"
            ],
            [
             0.1111111111111111,
             "#46039f"
            ],
            [
             0.2222222222222222,
             "#7201a8"
            ],
            [
             0.3333333333333333,
             "#9c179e"
            ],
            [
             0.4444444444444444,
             "#bd3786"
            ],
            [
             0.5555555555555556,
             "#d8576b"
            ],
            [
             0.6666666666666666,
             "#ed7953"
            ],
            [
             0.7777777777777778,
             "#fb9f3a"
            ],
            [
             0.8888888888888888,
             "#fdca26"
            ],
            [
             1,
             "#f0f921"
            ]
           ],
           "sequentialminus": [
            [
             0,
             "#0d0887"
            ],
            [
             0.1111111111111111,
             "#46039f"
            ],
            [
             0.2222222222222222,
             "#7201a8"
            ],
            [
             0.3333333333333333,
             "#9c179e"
            ],
            [
             0.4444444444444444,
             "#bd3786"
            ],
            [
             0.5555555555555556,
             "#d8576b"
            ],
            [
             0.6666666666666666,
             "#ed7953"
            ],
            [
             0.7777777777777778,
             "#fb9f3a"
            ],
            [
             0.8888888888888888,
             "#fdca26"
            ],
            [
             1,
             "#f0f921"
            ]
           ]
          },
          "colorway": [
           "#636efa",
           "#EF553B",
           "#00cc96",
           "#ab63fa",
           "#FFA15A",
           "#19d3f3",
           "#FF6692",
           "#B6E880",
           "#FF97FF",
           "#FECB52"
          ],
          "font": {
           "color": "#2a3f5f"
          },
          "geo": {
           "bgcolor": "white",
           "lakecolor": "white",
           "landcolor": "#E5ECF6",
           "showlakes": true,
           "showland": true,
           "subunitcolor": "white"
          },
          "hoverlabel": {
           "align": "left"
          },
          "hovermode": "closest",
          "mapbox": {
           "style": "light"
          },
          "paper_bgcolor": "white",
          "plot_bgcolor": "#E5ECF6",
          "polar": {
           "angularaxis": {
            "gridcolor": "white",
            "linecolor": "white",
            "ticks": ""
           },
           "bgcolor": "#E5ECF6",
           "radialaxis": {
            "gridcolor": "white",
            "linecolor": "white",
            "ticks": ""
           }
          },
          "scene": {
           "xaxis": {
            "backgroundcolor": "#E5ECF6",
            "gridcolor": "white",
            "gridwidth": 2,
            "linecolor": "white",
            "showbackground": true,
            "ticks": "",
            "zerolinecolor": "white"
           },
           "yaxis": {
            "backgroundcolor": "#E5ECF6",
            "gridcolor": "white",
            "gridwidth": 2,
            "linecolor": "white",
            "showbackground": true,
            "ticks": "",
            "zerolinecolor": "white"
           },
           "zaxis": {
            "backgroundcolor": "#E5ECF6",
            "gridcolor": "white",
            "gridwidth": 2,
            "linecolor": "white",
            "showbackground": true,
            "ticks": "",
            "zerolinecolor": "white"
           }
          },
          "shapedefaults": {
           "line": {
            "color": "#2a3f5f"
           }
          },
          "ternary": {
           "aaxis": {
            "gridcolor": "white",
            "linecolor": "white",
            "ticks": ""
           },
           "baxis": {
            "gridcolor": "white",
            "linecolor": "white",
            "ticks": ""
           },
           "bgcolor": "#E5ECF6",
           "caxis": {
            "gridcolor": "white",
            "linecolor": "white",
            "ticks": ""
           }
          },
          "title": {
           "x": 0.05
          },
          "xaxis": {
           "automargin": true,
           "gridcolor": "white",
           "linecolor": "white",
           "ticks": "",
           "title": {
            "standoff": 15
           },
           "zerolinecolor": "white",
           "zerolinewidth": 2
          },
          "yaxis": {
           "automargin": true,
           "gridcolor": "white",
           "linecolor": "white",
           "ticks": "",
           "title": {
            "standoff": 15
           },
           "zerolinecolor": "white",
           "zerolinewidth": 2
          }
         }
        },
        "title": {
         "font": {
          "color": "#4D5663"
         },
         "text": "Top 20 bigrams in News Corpus after removing stop words"
        },
        "xaxis": {
         "gridcolor": "#E1E5ED",
         "linecolor": "black",
         "showgrid": true,
         "tickfont": {
          "color": "#4D5663"
         },
         "title": {
          "font": {
           "color": "#4D5663"
          },
          "text": ""
         },
         "zerolinecolor": "#E1E5ED"
        },
        "yaxis": {
         "gridcolor": "#E1E5ED",
         "linecolor": "black",
         "showgrid": true,
         "tickfont": {
          "color": "#4D5663"
         },
         "title": {
          "font": {
           "color": "#4D5663"
          },
          "text": "Count"
         },
         "zerolinecolor": "#E1E5ED"
        }
       }
      },
      "text/html": [
       "<div>                            <div id=\"5a57254b-ae4f-4fec-bc35-9f8e768760b9\" class=\"plotly-graph-div\" style=\"height:525px; width:100%;\"></div>            <script type=\"text/javascript\">                require([\"plotly\"], function(Plotly) {                    window.PLOTLYENV=window.PLOTLYENV || {};\n",
       "                    window.PLOTLYENV.BASE_URL='https://plot.ly';                                    if (document.getElementById(\"5a57254b-ae4f-4fec-bc35-9f8e768760b9\")) {                    Plotly.newPlot(                        \"5a57254b-ae4f-4fec-bc35-9f8e768760b9\",                        [{\"marker\":{\"color\":\"rgba(255, 153, 51, 0.6)\",\"line\":{\"color\":\"rgba(255, 153, 51, 1.0)\",\"width\":1}},\"name\":\"count\",\"orientation\":\"v\",\"text\":\"\",\"x\":[\"wall street\",\"street journal\",\"queen elizabeth\",\"prime minister\",\"elizabeth ii\",\"ukraine war\",\"northern ireland\",\"year old\",\"liz truss\",\"death queen\",\"state funeral\",\"mortgage rates\",\"wsj wall\",\"million people\",\"joe biden\",\"far right\",\"united nations\",\"business wall\",\"white house\",\"private equity\"],\"y\":[112,104,32,30,24,24,20,18,16,14,14,12,12,12,12,12,12,10,10,10],\"type\":\"bar\"}],                        {\"legend\":{\"bgcolor\":\"#F5F6F9\",\"font\":{\"color\":\"#4D5663\"}},\"paper_bgcolor\":\"#F5F6F9\",\"plot_bgcolor\":\"#F5F6F9\",\"template\":{\"data\":{\"barpolar\":[{\"marker\":{\"line\":{\"color\":\"#E5ECF6\",\"width\":0.5},\"pattern\":{\"fillmode\":\"overlay\",\"size\":10,\"solidity\":0.2}},\"type\":\"barpolar\"}],\"bar\":[{\"error_x\":{\"color\":\"#2a3f5f\"},\"error_y\":{\"color\":\"#2a3f5f\"},\"marker\":{\"line\":{\"color\":\"#E5ECF6\",\"width\":0.5},\"pattern\":{\"fillmode\":\"overlay\",\"size\":10,\"solidity\":0.2}},\"type\":\"bar\"}],\"carpet\":[{\"aaxis\":{\"endlinecolor\":\"#2a3f5f\",\"gridcolor\":\"white\",\"linecolor\":\"white\",\"minorgridcolor\":\"white\",\"startlinecolor\":\"#2a3f5f\"},\"baxis\":{\"endlinecolor\":\"#2a3f5f\",\"gridcolor\":\"white\",\"linecolor\":\"white\",\"minorgridcolor\":\"white\",\"startlinecolor\":\"#2a3f5f\"},\"type\":\"carpet\"}],\"choropleth\":[{\"colorbar\":{\"outlinewidth\":0,\"ticks\":\"\"},\"type\":\"choropleth\"}],\"contourcarpet\":[{\"colorbar\":{\"outlinewidth\":0,\"ticks\":\"\"},\"type\":\"contourcarpet\"}],\"contour\":[{\"colorbar\":{\"outlinewidth\":0,\"ticks\":\"\"},\"colorscale\":[[0.0,\"#0d0887\"],[0.1111111111111111,\"#46039f\"],[0.2222222222222222,\"#7201a8\"],[0.3333333333333333,\"#9c179e\"],[0.4444444444444444,\"#bd3786\"],[0.5555555555555556,\"#d8576b\"],[0.6666666666666666,\"#ed7953\"],[0.7777777777777778,\"#fb9f3a\"],[0.8888888888888888,\"#fdca26\"],[1.0,\"#f0f921\"]],\"type\":\"contour\"}],\"heatmapgl\":[{\"colorbar\":{\"outlinewidth\":0,\"ticks\":\"\"},\"colorscale\":[[0.0,\"#0d0887\"],[0.1111111111111111,\"#46039f\"],[0.2222222222222222,\"#7201a8\"],[0.3333333333333333,\"#9c179e\"],[0.4444444444444444,\"#bd3786\"],[0.5555555555555556,\"#d8576b\"],[0.6666666666666666,\"#ed7953\"],[0.7777777777777778,\"#fb9f3a\"],[0.8888888888888888,\"#fdca26\"],[1.0,\"#f0f921\"]],\"type\":\"heatmapgl\"}],\"heatmap\":[{\"colorbar\":{\"outlinewidth\":0,\"ticks\":\"\"},\"colorscale\":[[0.0,\"#0d0887\"],[0.1111111111111111,\"#46039f\"],[0.2222222222222222,\"#7201a8\"],[0.3333333333333333,\"#9c179e\"],[0.4444444444444444,\"#bd3786\"],[0.5555555555555556,\"#d8576b\"],[0.6666666666666666,\"#ed7953\"],[0.7777777777777778,\"#fb9f3a\"],[0.8888888888888888,\"#fdca26\"],[1.0,\"#f0f921\"]],\"type\":\"heatmap\"}],\"histogram2dcontour\":[{\"colorbar\":{\"outlinewidth\":0,\"ticks\":\"\"},\"colorscale\":[[0.0,\"#0d0887\"],[0.1111111111111111,\"#46039f\"],[0.2222222222222222,\"#7201a8\"],[0.3333333333333333,\"#9c179e\"],[0.4444444444444444,\"#bd3786\"],[0.5555555555555556,\"#d8576b\"],[0.6666666666666666,\"#ed7953\"],[0.7777777777777778,\"#fb9f3a\"],[0.8888888888888888,\"#fdca26\"],[1.0,\"#f0f921\"]],\"type\":\"histogram2dcontour\"}],\"histogram2d\":[{\"colorbar\":{\"outlinewidth\":0,\"ticks\":\"\"},\"colorscale\":[[0.0,\"#0d0887\"],[0.1111111111111111,\"#46039f\"],[0.2222222222222222,\"#7201a8\"],[0.3333333333333333,\"#9c179e\"],[0.4444444444444444,\"#bd3786\"],[0.5555555555555556,\"#d8576b\"],[0.6666666666666666,\"#ed7953\"],[0.7777777777777778,\"#fb9f3a\"],[0.8888888888888888,\"#fdca26\"],[1.0,\"#f0f921\"]],\"type\":\"histogram2d\"}],\"histogram\":[{\"marker\":{\"pattern\":{\"fillmode\":\"overlay\",\"size\":10,\"solidity\":0.2}},\"type\":\"histogram\"}],\"mesh3d\":[{\"colorbar\":{\"outlinewidth\":0,\"ticks\":\"\"},\"type\":\"mesh3d\"}],\"parcoords\":[{\"line\":{\"colorbar\":{\"outlinewidth\":0,\"ticks\":\"\"}},\"type\":\"parcoords\"}],\"pie\":[{\"automargin\":true,\"type\":\"pie\"}],\"scatter3d\":[{\"line\":{\"colorbar\":{\"outlinewidth\":0,\"ticks\":\"\"}},\"marker\":{\"colorbar\":{\"outlinewidth\":0,\"ticks\":\"\"}},\"type\":\"scatter3d\"}],\"scattercarpet\":[{\"marker\":{\"colorbar\":{\"outlinewidth\":0,\"ticks\":\"\"}},\"type\":\"scattercarpet\"}],\"scattergeo\":[{\"marker\":{\"colorbar\":{\"outlinewidth\":0,\"ticks\":\"\"}},\"type\":\"scattergeo\"}],\"scattergl\":[{\"marker\":{\"colorbar\":{\"outlinewidth\":0,\"ticks\":\"\"}},\"type\":\"scattergl\"}],\"scattermapbox\":[{\"marker\":{\"colorbar\":{\"outlinewidth\":0,\"ticks\":\"\"}},\"type\":\"scattermapbox\"}],\"scatterpolargl\":[{\"marker\":{\"colorbar\":{\"outlinewidth\":0,\"ticks\":\"\"}},\"type\":\"scatterpolargl\"}],\"scatterpolar\":[{\"marker\":{\"colorbar\":{\"outlinewidth\":0,\"ticks\":\"\"}},\"type\":\"scatterpolar\"}],\"scatter\":[{\"marker\":{\"colorbar\":{\"outlinewidth\":0,\"ticks\":\"\"}},\"type\":\"scatter\"}],\"scatterternary\":[{\"marker\":{\"colorbar\":{\"outlinewidth\":0,\"ticks\":\"\"}},\"type\":\"scatterternary\"}],\"surface\":[{\"colorbar\":{\"outlinewidth\":0,\"ticks\":\"\"},\"colorscale\":[[0.0,\"#0d0887\"],[0.1111111111111111,\"#46039f\"],[0.2222222222222222,\"#7201a8\"],[0.3333333333333333,\"#9c179e\"],[0.4444444444444444,\"#bd3786\"],[0.5555555555555556,\"#d8576b\"],[0.6666666666666666,\"#ed7953\"],[0.7777777777777778,\"#fb9f3a\"],[0.8888888888888888,\"#fdca26\"],[1.0,\"#f0f921\"]],\"type\":\"surface\"}],\"table\":[{\"cells\":{\"fill\":{\"color\":\"#EBF0F8\"},\"line\":{\"color\":\"white\"}},\"header\":{\"fill\":{\"color\":\"#C8D4E3\"},\"line\":{\"color\":\"white\"}},\"type\":\"table\"}]},\"layout\":{\"annotationdefaults\":{\"arrowcolor\":\"#2a3f5f\",\"arrowhead\":0,\"arrowwidth\":1},\"autotypenumbers\":\"strict\",\"coloraxis\":{\"colorbar\":{\"outlinewidth\":0,\"ticks\":\"\"}},\"colorscale\":{\"diverging\":[[0,\"#8e0152\"],[0.1,\"#c51b7d\"],[0.2,\"#de77ae\"],[0.3,\"#f1b6da\"],[0.4,\"#fde0ef\"],[0.5,\"#f7f7f7\"],[0.6,\"#e6f5d0\"],[0.7,\"#b8e186\"],[0.8,\"#7fbc41\"],[0.9,\"#4d9221\"],[1,\"#276419\"]],\"sequential\":[[0.0,\"#0d0887\"],[0.1111111111111111,\"#46039f\"],[0.2222222222222222,\"#7201a8\"],[0.3333333333333333,\"#9c179e\"],[0.4444444444444444,\"#bd3786\"],[0.5555555555555556,\"#d8576b\"],[0.6666666666666666,\"#ed7953\"],[0.7777777777777778,\"#fb9f3a\"],[0.8888888888888888,\"#fdca26\"],[1.0,\"#f0f921\"]],\"sequentialminus\":[[0.0,\"#0d0887\"],[0.1111111111111111,\"#46039f\"],[0.2222222222222222,\"#7201a8\"],[0.3333333333333333,\"#9c179e\"],[0.4444444444444444,\"#bd3786\"],[0.5555555555555556,\"#d8576b\"],[0.6666666666666666,\"#ed7953\"],[0.7777777777777778,\"#fb9f3a\"],[0.8888888888888888,\"#fdca26\"],[1.0,\"#f0f921\"]]},\"colorway\":[\"#636efa\",\"#EF553B\",\"#00cc96\",\"#ab63fa\",\"#FFA15A\",\"#19d3f3\",\"#FF6692\",\"#B6E880\",\"#FF97FF\",\"#FECB52\"],\"font\":{\"color\":\"#2a3f5f\"},\"geo\":{\"bgcolor\":\"white\",\"lakecolor\":\"white\",\"landcolor\":\"#E5ECF6\",\"showlakes\":true,\"showland\":true,\"subunitcolor\":\"white\"},\"hoverlabel\":{\"align\":\"left\"},\"hovermode\":\"closest\",\"mapbox\":{\"style\":\"light\"},\"paper_bgcolor\":\"white\",\"plot_bgcolor\":\"#E5ECF6\",\"polar\":{\"angularaxis\":{\"gridcolor\":\"white\",\"linecolor\":\"white\",\"ticks\":\"\"},\"bgcolor\":\"#E5ECF6\",\"radialaxis\":{\"gridcolor\":\"white\",\"linecolor\":\"white\",\"ticks\":\"\"}},\"scene\":{\"xaxis\":{\"backgroundcolor\":\"#E5ECF6\",\"gridcolor\":\"white\",\"gridwidth\":2,\"linecolor\":\"white\",\"showbackground\":true,\"ticks\":\"\",\"zerolinecolor\":\"white\"},\"yaxis\":{\"backgroundcolor\":\"#E5ECF6\",\"gridcolor\":\"white\",\"gridwidth\":2,\"linecolor\":\"white\",\"showbackground\":true,\"ticks\":\"\",\"zerolinecolor\":\"white\"},\"zaxis\":{\"backgroundcolor\":\"#E5ECF6\",\"gridcolor\":\"white\",\"gridwidth\":2,\"linecolor\":\"white\",\"showbackground\":true,\"ticks\":\"\",\"zerolinecolor\":\"white\"}},\"shapedefaults\":{\"line\":{\"color\":\"#2a3f5f\"}},\"ternary\":{\"aaxis\":{\"gridcolor\":\"white\",\"linecolor\":\"white\",\"ticks\":\"\"},\"baxis\":{\"gridcolor\":\"white\",\"linecolor\":\"white\",\"ticks\":\"\"},\"bgcolor\":\"#E5ECF6\",\"caxis\":{\"gridcolor\":\"white\",\"linecolor\":\"white\",\"ticks\":\"\"}},\"title\":{\"x\":0.05},\"xaxis\":{\"automargin\":true,\"gridcolor\":\"white\",\"linecolor\":\"white\",\"ticks\":\"\",\"title\":{\"standoff\":15},\"zerolinecolor\":\"white\",\"zerolinewidth\":2},\"yaxis\":{\"automargin\":true,\"gridcolor\":\"white\",\"linecolor\":\"white\",\"ticks\":\"\",\"title\":{\"standoff\":15},\"zerolinecolor\":\"white\",\"zerolinewidth\":2}}},\"title\":{\"font\":{\"color\":\"#4D5663\"},\"text\":\"Top 20 bigrams in News Corpus after removing stop words\"},\"xaxis\":{\"gridcolor\":\"#E1E5ED\",\"linecolor\":\"black\",\"showgrid\":true,\"tickfont\":{\"color\":\"#4D5663\"},\"title\":{\"font\":{\"color\":\"#4D5663\"},\"text\":\"\"},\"zerolinecolor\":\"#E1E5ED\"},\"yaxis\":{\"gridcolor\":\"#E1E5ED\",\"linecolor\":\"black\",\"showgrid\":true,\"tickfont\":{\"color\":\"#4D5663\"},\"title\":{\"font\":{\"color\":\"#4D5663\"},\"text\":\"Count\"},\"zerolinecolor\":\"#E1E5ED\"}},                        {\"showLink\": true, \"linkText\": \"Export to plot.ly\", \"plotlyServerURL\": \"https://plot.ly\", \"responsive\": true}                    ).then(function(){\n",
       "                            \n",
       "var gd = document.getElementById('5a57254b-ae4f-4fec-bc35-9f8e768760b9');\n",
       "var x = new MutationObserver(function (mutations, observer) {{\n",
       "        var display = window.getComputedStyle(gd).display;\n",
       "        if (!display || display === 'none') {{\n",
       "            console.log([gd, 'removed!']);\n",
       "            Plotly.purge(gd);\n",
       "            observer.disconnect();\n",
       "        }}\n",
       "}});\n",
       "\n",
       "// Listen for the removal of the full notebook cells\n",
       "var notebookContainer = gd.closest('#notebook-container');\n",
       "if (notebookContainer) {{\n",
       "    x.observe(notebookContainer, {childList: true});\n",
       "}}\n",
       "\n",
       "// Listen for the clearing of the current output cell\n",
       "var outputEl = gd.closest('.output');\n",
       "if (outputEl) {{\n",
       "    x.observe(outputEl, {childList: true});\n",
       "}}\n",
       "\n",
       "                        })                };                });            </script>        </div>"
      ]
     },
     "metadata": {},
     "output_type": "display_data"
    }
   ],
   "source": [
    "# A genralized function to extact the top n most frequently occuring bigram from the text corpus \n",
    "def get_top_n_bigram(corpus, n=None):\n",
    "    vec = CountVectorizer(ngram_range=(2, 2), stop_words='english').fit(corpus)\n",
    "    bag_of_words = vec.transform(corpus)\n",
    "    sum_words = bag_of_words.sum(axis=0) \n",
    "    words_freq = [(word, sum_words[0, idx]) for word, idx in vec.vocabulary_.items()]\n",
    "    words_freq =sorted(words_freq, key = lambda x: x[1], reverse=True)\n",
    "    return words_freq[:n]\n",
    "common_words = get_top_n_bigram(new_list, 20)\n",
    "for word, freq in common_words:\n",
    "    print(word, freq)\n",
    "df4 = pd.DataFrame(common_words, columns = ['Text' , 'count'])\n",
    "df4.groupby('Text').sum()['count'].sort_values(ascending=False).iplot(\n",
    "    kind='bar', yTitle='Count', linecolor='black', title='Top 20 bigrams in News Corpus after removing stop words')"
   ]
  },
  {
   "cell_type": "markdown",
   "id": "89e15925",
   "metadata": {},
   "source": [
    "<b>Insights:</b> We can see that by looking at bigrams instead of just single words we are able to get a better sense of the what is trending in the news. We can see that the word new york bigram makes sense now as compared to earlier. Those two words individually do not make any sense but now looking at bigram we can notice that it is acttually referring to the New York City and it is probably in the news after it has now emerged as the new Coronavirus hotspot with close to 1000 deaths. We can also see the word social distancing which signifies the emphasis being given by the media on it."
   ]
  },
  {
   "cell_type": "code",
   "execution_count": 143,
   "id": "63b286cf",
   "metadata": {},
   "outputs": [
    {
     "name": "stderr",
     "output_type": "stream",
     "text": [
      "[nltk_data] Downloading package averaged_perceptron_tagger to\n",
      "[nltk_data]     C:\\Users\\user\\AppData\\Roaming\\nltk_data...\n",
      "[nltk_data]   Unzipping taggers\\averaged_perceptron_tagger.zip.\n"
     ]
    },
    {
     "data": {
      "text/plain": [
       "True"
      ]
     },
     "execution_count": 143,
     "metadata": {},
     "output_type": "execute_result"
    },
    {
     "data": {
      "application/vnd.plotly.v1+json": {
       "config": {
        "linkText": "Export to plot.ly",
        "plotlyServerURL": "https://plot.ly",
        "showLink": true
       },
       "data": [
        {
         "marker": {
          "color": "rgba(255, 153, 51, 0.6)",
          "line": {
           "color": "rgba(255, 153, 51, 1.0)",
           "width": 1
          }
         },
         "name": "pos",
         "orientation": "v",
         "text": "",
         "type": "bar",
         "x": [
          "NNP",
          "NN",
          "CD",
          "JJ",
          "IN"
         ],
         "y": [
          21,
          17,
          13,
          9,
          6
         ]
        }
       ],
       "layout": {
        "legend": {
         "bgcolor": "#F5F6F9",
         "font": {
          "color": "#4D5663"
         }
        },
        "paper_bgcolor": "#F5F6F9",
        "plot_bgcolor": "#F5F6F9",
        "template": {
         "data": {
          "bar": [
           {
            "error_x": {
             "color": "#2a3f5f"
            },
            "error_y": {
             "color": "#2a3f5f"
            },
            "marker": {
             "line": {
              "color": "#E5ECF6",
              "width": 0.5
             },
             "pattern": {
              "fillmode": "overlay",
              "size": 10,
              "solidity": 0.2
             }
            },
            "type": "bar"
           }
          ],
          "barpolar": [
           {
            "marker": {
             "line": {
              "color": "#E5ECF6",
              "width": 0.5
             },
             "pattern": {
              "fillmode": "overlay",
              "size": 10,
              "solidity": 0.2
             }
            },
            "type": "barpolar"
           }
          ],
          "carpet": [
           {
            "aaxis": {
             "endlinecolor": "#2a3f5f",
             "gridcolor": "white",
             "linecolor": "white",
             "minorgridcolor": "white",
             "startlinecolor": "#2a3f5f"
            },
            "baxis": {
             "endlinecolor": "#2a3f5f",
             "gridcolor": "white",
             "linecolor": "white",
             "minorgridcolor": "white",
             "startlinecolor": "#2a3f5f"
            },
            "type": "carpet"
           }
          ],
          "choropleth": [
           {
            "colorbar": {
             "outlinewidth": 0,
             "ticks": ""
            },
            "type": "choropleth"
           }
          ],
          "contour": [
           {
            "colorbar": {
             "outlinewidth": 0,
             "ticks": ""
            },
            "colorscale": [
             [
              0,
              "#0d0887"
             ],
             [
              0.1111111111111111,
              "#46039f"
             ],
             [
              0.2222222222222222,
              "#7201a8"
             ],
             [
              0.3333333333333333,
              "#9c179e"
             ],
             [
              0.4444444444444444,
              "#bd3786"
             ],
             [
              0.5555555555555556,
              "#d8576b"
             ],
             [
              0.6666666666666666,
              "#ed7953"
             ],
             [
              0.7777777777777778,
              "#fb9f3a"
             ],
             [
              0.8888888888888888,
              "#fdca26"
             ],
             [
              1,
              "#f0f921"
             ]
            ],
            "type": "contour"
           }
          ],
          "contourcarpet": [
           {
            "colorbar": {
             "outlinewidth": 0,
             "ticks": ""
            },
            "type": "contourcarpet"
           }
          ],
          "heatmap": [
           {
            "colorbar": {
             "outlinewidth": 0,
             "ticks": ""
            },
            "colorscale": [
             [
              0,
              "#0d0887"
             ],
             [
              0.1111111111111111,
              "#46039f"
             ],
             [
              0.2222222222222222,
              "#7201a8"
             ],
             [
              0.3333333333333333,
              "#9c179e"
             ],
             [
              0.4444444444444444,
              "#bd3786"
             ],
             [
              0.5555555555555556,
              "#d8576b"
             ],
             [
              0.6666666666666666,
              "#ed7953"
             ],
             [
              0.7777777777777778,
              "#fb9f3a"
             ],
             [
              0.8888888888888888,
              "#fdca26"
             ],
             [
              1,
              "#f0f921"
             ]
            ],
            "type": "heatmap"
           }
          ],
          "heatmapgl": [
           {
            "colorbar": {
             "outlinewidth": 0,
             "ticks": ""
            },
            "colorscale": [
             [
              0,
              "#0d0887"
             ],
             [
              0.1111111111111111,
              "#46039f"
             ],
             [
              0.2222222222222222,
              "#7201a8"
             ],
             [
              0.3333333333333333,
              "#9c179e"
             ],
             [
              0.4444444444444444,
              "#bd3786"
             ],
             [
              0.5555555555555556,
              "#d8576b"
             ],
             [
              0.6666666666666666,
              "#ed7953"
             ],
             [
              0.7777777777777778,
              "#fb9f3a"
             ],
             [
              0.8888888888888888,
              "#fdca26"
             ],
             [
              1,
              "#f0f921"
             ]
            ],
            "type": "heatmapgl"
           }
          ],
          "histogram": [
           {
            "marker": {
             "pattern": {
              "fillmode": "overlay",
              "size": 10,
              "solidity": 0.2
             }
            },
            "type": "histogram"
           }
          ],
          "histogram2d": [
           {
            "colorbar": {
             "outlinewidth": 0,
             "ticks": ""
            },
            "colorscale": [
             [
              0,
              "#0d0887"
             ],
             [
              0.1111111111111111,
              "#46039f"
             ],
             [
              0.2222222222222222,
              "#7201a8"
             ],
             [
              0.3333333333333333,
              "#9c179e"
             ],
             [
              0.4444444444444444,
              "#bd3786"
             ],
             [
              0.5555555555555556,
              "#d8576b"
             ],
             [
              0.6666666666666666,
              "#ed7953"
             ],
             [
              0.7777777777777778,
              "#fb9f3a"
             ],
             [
              0.8888888888888888,
              "#fdca26"
             ],
             [
              1,
              "#f0f921"
             ]
            ],
            "type": "histogram2d"
           }
          ],
          "histogram2dcontour": [
           {
            "colorbar": {
             "outlinewidth": 0,
             "ticks": ""
            },
            "colorscale": [
             [
              0,
              "#0d0887"
             ],
             [
              0.1111111111111111,
              "#46039f"
             ],
             [
              0.2222222222222222,
              "#7201a8"
             ],
             [
              0.3333333333333333,
              "#9c179e"
             ],
             [
              0.4444444444444444,
              "#bd3786"
             ],
             [
              0.5555555555555556,
              "#d8576b"
             ],
             [
              0.6666666666666666,
              "#ed7953"
             ],
             [
              0.7777777777777778,
              "#fb9f3a"
             ],
             [
              0.8888888888888888,
              "#fdca26"
             ],
             [
              1,
              "#f0f921"
             ]
            ],
            "type": "histogram2dcontour"
           }
          ],
          "mesh3d": [
           {
            "colorbar": {
             "outlinewidth": 0,
             "ticks": ""
            },
            "type": "mesh3d"
           }
          ],
          "parcoords": [
           {
            "line": {
             "colorbar": {
              "outlinewidth": 0,
              "ticks": ""
             }
            },
            "type": "parcoords"
           }
          ],
          "pie": [
           {
            "automargin": true,
            "type": "pie"
           }
          ],
          "scatter": [
           {
            "marker": {
             "colorbar": {
              "outlinewidth": 0,
              "ticks": ""
             }
            },
            "type": "scatter"
           }
          ],
          "scatter3d": [
           {
            "line": {
             "colorbar": {
              "outlinewidth": 0,
              "ticks": ""
             }
            },
            "marker": {
             "colorbar": {
              "outlinewidth": 0,
              "ticks": ""
             }
            },
            "type": "scatter3d"
           }
          ],
          "scattercarpet": [
           {
            "marker": {
             "colorbar": {
              "outlinewidth": 0,
              "ticks": ""
             }
            },
            "type": "scattercarpet"
           }
          ],
          "scattergeo": [
           {
            "marker": {
             "colorbar": {
              "outlinewidth": 0,
              "ticks": ""
             }
            },
            "type": "scattergeo"
           }
          ],
          "scattergl": [
           {
            "marker": {
             "colorbar": {
              "outlinewidth": 0,
              "ticks": ""
             }
            },
            "type": "scattergl"
           }
          ],
          "scattermapbox": [
           {
            "marker": {
             "colorbar": {
              "outlinewidth": 0,
              "ticks": ""
             }
            },
            "type": "scattermapbox"
           }
          ],
          "scatterpolar": [
           {
            "marker": {
             "colorbar": {
              "outlinewidth": 0,
              "ticks": ""
             }
            },
            "type": "scatterpolar"
           }
          ],
          "scatterpolargl": [
           {
            "marker": {
             "colorbar": {
              "outlinewidth": 0,
              "ticks": ""
             }
            },
            "type": "scatterpolargl"
           }
          ],
          "scatterternary": [
           {
            "marker": {
             "colorbar": {
              "outlinewidth": 0,
              "ticks": ""
             }
            },
            "type": "scatterternary"
           }
          ],
          "surface": [
           {
            "colorbar": {
             "outlinewidth": 0,
             "ticks": ""
            },
            "colorscale": [
             [
              0,
              "#0d0887"
             ],
             [
              0.1111111111111111,
              "#46039f"
             ],
             [
              0.2222222222222222,
              "#7201a8"
             ],
             [
              0.3333333333333333,
              "#9c179e"
             ],
             [
              0.4444444444444444,
              "#bd3786"
             ],
             [
              0.5555555555555556,
              "#d8576b"
             ],
             [
              0.6666666666666666,
              "#ed7953"
             ],
             [
              0.7777777777777778,
              "#fb9f3a"
             ],
             [
              0.8888888888888888,
              "#fdca26"
             ],
             [
              1,
              "#f0f921"
             ]
            ],
            "type": "surface"
           }
          ],
          "table": [
           {
            "cells": {
             "fill": {
              "color": "#EBF0F8"
             },
             "line": {
              "color": "white"
             }
            },
            "header": {
             "fill": {
              "color": "#C8D4E3"
             },
             "line": {
              "color": "white"
             }
            },
            "type": "table"
           }
          ]
         },
         "layout": {
          "annotationdefaults": {
           "arrowcolor": "#2a3f5f",
           "arrowhead": 0,
           "arrowwidth": 1
          },
          "autotypenumbers": "strict",
          "coloraxis": {
           "colorbar": {
            "outlinewidth": 0,
            "ticks": ""
           }
          },
          "colorscale": {
           "diverging": [
            [
             0,
             "#8e0152"
            ],
            [
             0.1,
             "#c51b7d"
            ],
            [
             0.2,
             "#de77ae"
            ],
            [
             0.3,
             "#f1b6da"
            ],
            [
             0.4,
             "#fde0ef"
            ],
            [
             0.5,
             "#f7f7f7"
            ],
            [
             0.6,
             "#e6f5d0"
            ],
            [
             0.7,
             "#b8e186"
            ],
            [
             0.8,
             "#7fbc41"
            ],
            [
             0.9,
             "#4d9221"
            ],
            [
             1,
             "#276419"
            ]
           ],
           "sequential": [
            [
             0,
             "#0d0887"
            ],
            [
             0.1111111111111111,
             "#46039f"
            ],
            [
             0.2222222222222222,
             "#7201a8"
            ],
            [
             0.3333333333333333,
             "#9c179e"
            ],
            [
             0.4444444444444444,
             "#bd3786"
            ],
            [
             0.5555555555555556,
             "#d8576b"
            ],
            [
             0.6666666666666666,
             "#ed7953"
            ],
            [
             0.7777777777777778,
             "#fb9f3a"
            ],
            [
             0.8888888888888888,
             "#fdca26"
            ],
            [
             1,
             "#f0f921"
            ]
           ],
           "sequentialminus": [
            [
             0,
             "#0d0887"
            ],
            [
             0.1111111111111111,
             "#46039f"
            ],
            [
             0.2222222222222222,
             "#7201a8"
            ],
            [
             0.3333333333333333,
             "#9c179e"
            ],
            [
             0.4444444444444444,
             "#bd3786"
            ],
            [
             0.5555555555555556,
             "#d8576b"
            ],
            [
             0.6666666666666666,
             "#ed7953"
            ],
            [
             0.7777777777777778,
             "#fb9f3a"
            ],
            [
             0.8888888888888888,
             "#fdca26"
            ],
            [
             1,
             "#f0f921"
            ]
           ]
          },
          "colorway": [
           "#636efa",
           "#EF553B",
           "#00cc96",
           "#ab63fa",
           "#FFA15A",
           "#19d3f3",
           "#FF6692",
           "#B6E880",
           "#FF97FF",
           "#FECB52"
          ],
          "font": {
           "color": "#2a3f5f"
          },
          "geo": {
           "bgcolor": "white",
           "lakecolor": "white",
           "landcolor": "#E5ECF6",
           "showlakes": true,
           "showland": true,
           "subunitcolor": "white"
          },
          "hoverlabel": {
           "align": "left"
          },
          "hovermode": "closest",
          "mapbox": {
           "style": "light"
          },
          "paper_bgcolor": "white",
          "plot_bgcolor": "#E5ECF6",
          "polar": {
           "angularaxis": {
            "gridcolor": "white",
            "linecolor": "white",
            "ticks": ""
           },
           "bgcolor": "#E5ECF6",
           "radialaxis": {
            "gridcolor": "white",
            "linecolor": "white",
            "ticks": ""
           }
          },
          "scene": {
           "xaxis": {
            "backgroundcolor": "#E5ECF6",
            "gridcolor": "white",
            "gridwidth": 2,
            "linecolor": "white",
            "showbackground": true,
            "ticks": "",
            "zerolinecolor": "white"
           },
           "yaxis": {
            "backgroundcolor": "#E5ECF6",
            "gridcolor": "white",
            "gridwidth": 2,
            "linecolor": "white",
            "showbackground": true,
            "ticks": "",
            "zerolinecolor": "white"
           },
           "zaxis": {
            "backgroundcolor": "#E5ECF6",
            "gridcolor": "white",
            "gridwidth": 2,
            "linecolor": "white",
            "showbackground": true,
            "ticks": "",
            "zerolinecolor": "white"
           }
          },
          "shapedefaults": {
           "line": {
            "color": "#2a3f5f"
           }
          },
          "ternary": {
           "aaxis": {
            "gridcolor": "white",
            "linecolor": "white",
            "ticks": ""
           },
           "baxis": {
            "gridcolor": "white",
            "linecolor": "white",
            "ticks": ""
           },
           "bgcolor": "#E5ECF6",
           "caxis": {
            "gridcolor": "white",
            "linecolor": "white",
            "ticks": ""
           }
          },
          "title": {
           "x": 0.05
          },
          "xaxis": {
           "automargin": true,
           "gridcolor": "white",
           "linecolor": "white",
           "ticks": "",
           "title": {
            "standoff": 15
           },
           "zerolinecolor": "white",
           "zerolinewidth": 2
          },
          "yaxis": {
           "automargin": true,
           "gridcolor": "white",
           "linecolor": "white",
           "ticks": "",
           "title": {
            "standoff": 15
           },
           "zerolinecolor": "white",
           "zerolinewidth": 2
          }
         }
        },
        "title": {
         "font": {
          "color": "#4D5663"
         },
         "text": "Top 20 Part-of-speech tagging for News Headlines"
        },
        "xaxis": {
         "gridcolor": "#E1E5ED",
         "showgrid": true,
         "tickfont": {
          "color": "#4D5663"
         },
         "title": {
          "font": {
           "color": "#4D5663"
          },
          "text": "POS"
         },
         "zerolinecolor": "#E1E5ED"
        },
        "yaxis": {
         "gridcolor": "#E1E5ED",
         "showgrid": true,
         "tickfont": {
          "color": "#4D5663"
         },
         "title": {
          "font": {
           "color": "#4D5663"
          },
          "text": "count"
         },
         "zerolinecolor": "#E1E5ED"
        }
       }
      },
      "text/html": [
       "<div>                            <div id=\"2ab739d4-a978-471e-9558-1e620d359ace\" class=\"plotly-graph-div\" style=\"height:525px; width:100%;\"></div>            <script type=\"text/javascript\">                require([\"plotly\"], function(Plotly) {                    window.PLOTLYENV=window.PLOTLYENV || {};\n",
       "                    window.PLOTLYENV.BASE_URL='https://plot.ly';                                    if (document.getElementById(\"2ab739d4-a978-471e-9558-1e620d359ace\")) {                    Plotly.newPlot(                        \"2ab739d4-a978-471e-9558-1e620d359ace\",                        [{\"marker\":{\"color\":\"rgba(255, 153, 51, 0.6)\",\"line\":{\"color\":\"rgba(255, 153, 51, 1.0)\",\"width\":1}},\"name\":\"pos\",\"orientation\":\"v\",\"text\":\"\",\"x\":[\"NNP\",\"NN\",\"CD\",\"JJ\",\"IN\"],\"y\":[21,17,13,9,6],\"type\":\"bar\"}],                        {\"legend\":{\"bgcolor\":\"#F5F6F9\",\"font\":{\"color\":\"#4D5663\"}},\"paper_bgcolor\":\"#F5F6F9\",\"plot_bgcolor\":\"#F5F6F9\",\"template\":{\"data\":{\"barpolar\":[{\"marker\":{\"line\":{\"color\":\"#E5ECF6\",\"width\":0.5},\"pattern\":{\"fillmode\":\"overlay\",\"size\":10,\"solidity\":0.2}},\"type\":\"barpolar\"}],\"bar\":[{\"error_x\":{\"color\":\"#2a3f5f\"},\"error_y\":{\"color\":\"#2a3f5f\"},\"marker\":{\"line\":{\"color\":\"#E5ECF6\",\"width\":0.5},\"pattern\":{\"fillmode\":\"overlay\",\"size\":10,\"solidity\":0.2}},\"type\":\"bar\"}],\"carpet\":[{\"aaxis\":{\"endlinecolor\":\"#2a3f5f\",\"gridcolor\":\"white\",\"linecolor\":\"white\",\"minorgridcolor\":\"white\",\"startlinecolor\":\"#2a3f5f\"},\"baxis\":{\"endlinecolor\":\"#2a3f5f\",\"gridcolor\":\"white\",\"linecolor\":\"white\",\"minorgridcolor\":\"white\",\"startlinecolor\":\"#2a3f5f\"},\"type\":\"carpet\"}],\"choropleth\":[{\"colorbar\":{\"outlinewidth\":0,\"ticks\":\"\"},\"type\":\"choropleth\"}],\"contourcarpet\":[{\"colorbar\":{\"outlinewidth\":0,\"ticks\":\"\"},\"type\":\"contourcarpet\"}],\"contour\":[{\"colorbar\":{\"outlinewidth\":0,\"ticks\":\"\"},\"colorscale\":[[0.0,\"#0d0887\"],[0.1111111111111111,\"#46039f\"],[0.2222222222222222,\"#7201a8\"],[0.3333333333333333,\"#9c179e\"],[0.4444444444444444,\"#bd3786\"],[0.5555555555555556,\"#d8576b\"],[0.6666666666666666,\"#ed7953\"],[0.7777777777777778,\"#fb9f3a\"],[0.8888888888888888,\"#fdca26\"],[1.0,\"#f0f921\"]],\"type\":\"contour\"}],\"heatmapgl\":[{\"colorbar\":{\"outlinewidth\":0,\"ticks\":\"\"},\"colorscale\":[[0.0,\"#0d0887\"],[0.1111111111111111,\"#46039f\"],[0.2222222222222222,\"#7201a8\"],[0.3333333333333333,\"#9c179e\"],[0.4444444444444444,\"#bd3786\"],[0.5555555555555556,\"#d8576b\"],[0.6666666666666666,\"#ed7953\"],[0.7777777777777778,\"#fb9f3a\"],[0.8888888888888888,\"#fdca26\"],[1.0,\"#f0f921\"]],\"type\":\"heatmapgl\"}],\"heatmap\":[{\"colorbar\":{\"outlinewidth\":0,\"ticks\":\"\"},\"colorscale\":[[0.0,\"#0d0887\"],[0.1111111111111111,\"#46039f\"],[0.2222222222222222,\"#7201a8\"],[0.3333333333333333,\"#9c179e\"],[0.4444444444444444,\"#bd3786\"],[0.5555555555555556,\"#d8576b\"],[0.6666666666666666,\"#ed7953\"],[0.7777777777777778,\"#fb9f3a\"],[0.8888888888888888,\"#fdca26\"],[1.0,\"#f0f921\"]],\"type\":\"heatmap\"}],\"histogram2dcontour\":[{\"colorbar\":{\"outlinewidth\":0,\"ticks\":\"\"},\"colorscale\":[[0.0,\"#0d0887\"],[0.1111111111111111,\"#46039f\"],[0.2222222222222222,\"#7201a8\"],[0.3333333333333333,\"#9c179e\"],[0.4444444444444444,\"#bd3786\"],[0.5555555555555556,\"#d8576b\"],[0.6666666666666666,\"#ed7953\"],[0.7777777777777778,\"#fb9f3a\"],[0.8888888888888888,\"#fdca26\"],[1.0,\"#f0f921\"]],\"type\":\"histogram2dcontour\"}],\"histogram2d\":[{\"colorbar\":{\"outlinewidth\":0,\"ticks\":\"\"},\"colorscale\":[[0.0,\"#0d0887\"],[0.1111111111111111,\"#46039f\"],[0.2222222222222222,\"#7201a8\"],[0.3333333333333333,\"#9c179e\"],[0.4444444444444444,\"#bd3786\"],[0.5555555555555556,\"#d8576b\"],[0.6666666666666666,\"#ed7953\"],[0.7777777777777778,\"#fb9f3a\"],[0.8888888888888888,\"#fdca26\"],[1.0,\"#f0f921\"]],\"type\":\"histogram2d\"}],\"histogram\":[{\"marker\":{\"pattern\":{\"fillmode\":\"overlay\",\"size\":10,\"solidity\":0.2}},\"type\":\"histogram\"}],\"mesh3d\":[{\"colorbar\":{\"outlinewidth\":0,\"ticks\":\"\"},\"type\":\"mesh3d\"}],\"parcoords\":[{\"line\":{\"colorbar\":{\"outlinewidth\":0,\"ticks\":\"\"}},\"type\":\"parcoords\"}],\"pie\":[{\"automargin\":true,\"type\":\"pie\"}],\"scatter3d\":[{\"line\":{\"colorbar\":{\"outlinewidth\":0,\"ticks\":\"\"}},\"marker\":{\"colorbar\":{\"outlinewidth\":0,\"ticks\":\"\"}},\"type\":\"scatter3d\"}],\"scattercarpet\":[{\"marker\":{\"colorbar\":{\"outlinewidth\":0,\"ticks\":\"\"}},\"type\":\"scattercarpet\"}],\"scattergeo\":[{\"marker\":{\"colorbar\":{\"outlinewidth\":0,\"ticks\":\"\"}},\"type\":\"scattergeo\"}],\"scattergl\":[{\"marker\":{\"colorbar\":{\"outlinewidth\":0,\"ticks\":\"\"}},\"type\":\"scattergl\"}],\"scattermapbox\":[{\"marker\":{\"colorbar\":{\"outlinewidth\":0,\"ticks\":\"\"}},\"type\":\"scattermapbox\"}],\"scatterpolargl\":[{\"marker\":{\"colorbar\":{\"outlinewidth\":0,\"ticks\":\"\"}},\"type\":\"scatterpolargl\"}],\"scatterpolar\":[{\"marker\":{\"colorbar\":{\"outlinewidth\":0,\"ticks\":\"\"}},\"type\":\"scatterpolar\"}],\"scatter\":[{\"marker\":{\"colorbar\":{\"outlinewidth\":0,\"ticks\":\"\"}},\"type\":\"scatter\"}],\"scatterternary\":[{\"marker\":{\"colorbar\":{\"outlinewidth\":0,\"ticks\":\"\"}},\"type\":\"scatterternary\"}],\"surface\":[{\"colorbar\":{\"outlinewidth\":0,\"ticks\":\"\"},\"colorscale\":[[0.0,\"#0d0887\"],[0.1111111111111111,\"#46039f\"],[0.2222222222222222,\"#7201a8\"],[0.3333333333333333,\"#9c179e\"],[0.4444444444444444,\"#bd3786\"],[0.5555555555555556,\"#d8576b\"],[0.6666666666666666,\"#ed7953\"],[0.7777777777777778,\"#fb9f3a\"],[0.8888888888888888,\"#fdca26\"],[1.0,\"#f0f921\"]],\"type\":\"surface\"}],\"table\":[{\"cells\":{\"fill\":{\"color\":\"#EBF0F8\"},\"line\":{\"color\":\"white\"}},\"header\":{\"fill\":{\"color\":\"#C8D4E3\"},\"line\":{\"color\":\"white\"}},\"type\":\"table\"}]},\"layout\":{\"annotationdefaults\":{\"arrowcolor\":\"#2a3f5f\",\"arrowhead\":0,\"arrowwidth\":1},\"autotypenumbers\":\"strict\",\"coloraxis\":{\"colorbar\":{\"outlinewidth\":0,\"ticks\":\"\"}},\"colorscale\":{\"diverging\":[[0,\"#8e0152\"],[0.1,\"#c51b7d\"],[0.2,\"#de77ae\"],[0.3,\"#f1b6da\"],[0.4,\"#fde0ef\"],[0.5,\"#f7f7f7\"],[0.6,\"#e6f5d0\"],[0.7,\"#b8e186\"],[0.8,\"#7fbc41\"],[0.9,\"#4d9221\"],[1,\"#276419\"]],\"sequential\":[[0.0,\"#0d0887\"],[0.1111111111111111,\"#46039f\"],[0.2222222222222222,\"#7201a8\"],[0.3333333333333333,\"#9c179e\"],[0.4444444444444444,\"#bd3786\"],[0.5555555555555556,\"#d8576b\"],[0.6666666666666666,\"#ed7953\"],[0.7777777777777778,\"#fb9f3a\"],[0.8888888888888888,\"#fdca26\"],[1.0,\"#f0f921\"]],\"sequentialminus\":[[0.0,\"#0d0887\"],[0.1111111111111111,\"#46039f\"],[0.2222222222222222,\"#7201a8\"],[0.3333333333333333,\"#9c179e\"],[0.4444444444444444,\"#bd3786\"],[0.5555555555555556,\"#d8576b\"],[0.6666666666666666,\"#ed7953\"],[0.7777777777777778,\"#fb9f3a\"],[0.8888888888888888,\"#fdca26\"],[1.0,\"#f0f921\"]]},\"colorway\":[\"#636efa\",\"#EF553B\",\"#00cc96\",\"#ab63fa\",\"#FFA15A\",\"#19d3f3\",\"#FF6692\",\"#B6E880\",\"#FF97FF\",\"#FECB52\"],\"font\":{\"color\":\"#2a3f5f\"},\"geo\":{\"bgcolor\":\"white\",\"lakecolor\":\"white\",\"landcolor\":\"#E5ECF6\",\"showlakes\":true,\"showland\":true,\"subunitcolor\":\"white\"},\"hoverlabel\":{\"align\":\"left\"},\"hovermode\":\"closest\",\"mapbox\":{\"style\":\"light\"},\"paper_bgcolor\":\"white\",\"plot_bgcolor\":\"#E5ECF6\",\"polar\":{\"angularaxis\":{\"gridcolor\":\"white\",\"linecolor\":\"white\",\"ticks\":\"\"},\"bgcolor\":\"#E5ECF6\",\"radialaxis\":{\"gridcolor\":\"white\",\"linecolor\":\"white\",\"ticks\":\"\"}},\"scene\":{\"xaxis\":{\"backgroundcolor\":\"#E5ECF6\",\"gridcolor\":\"white\",\"gridwidth\":2,\"linecolor\":\"white\",\"showbackground\":true,\"ticks\":\"\",\"zerolinecolor\":\"white\"},\"yaxis\":{\"backgroundcolor\":\"#E5ECF6\",\"gridcolor\":\"white\",\"gridwidth\":2,\"linecolor\":\"white\",\"showbackground\":true,\"ticks\":\"\",\"zerolinecolor\":\"white\"},\"zaxis\":{\"backgroundcolor\":\"#E5ECF6\",\"gridcolor\":\"white\",\"gridwidth\":2,\"linecolor\":\"white\",\"showbackground\":true,\"ticks\":\"\",\"zerolinecolor\":\"white\"}},\"shapedefaults\":{\"line\":{\"color\":\"#2a3f5f\"}},\"ternary\":{\"aaxis\":{\"gridcolor\":\"white\",\"linecolor\":\"white\",\"ticks\":\"\"},\"baxis\":{\"gridcolor\":\"white\",\"linecolor\":\"white\",\"ticks\":\"\"},\"bgcolor\":\"#E5ECF6\",\"caxis\":{\"gridcolor\":\"white\",\"linecolor\":\"white\",\"ticks\":\"\"}},\"title\":{\"x\":0.05},\"xaxis\":{\"automargin\":true,\"gridcolor\":\"white\",\"linecolor\":\"white\",\"ticks\":\"\",\"title\":{\"standoff\":15},\"zerolinecolor\":\"white\",\"zerolinewidth\":2},\"yaxis\":{\"automargin\":true,\"gridcolor\":\"white\",\"linecolor\":\"white\",\"ticks\":\"\",\"title\":{\"standoff\":15},\"zerolinecolor\":\"white\",\"zerolinewidth\":2}}},\"title\":{\"font\":{\"color\":\"#4D5663\"},\"text\":\"Top 20 Part-of-speech tagging for News Headlines\"},\"xaxis\":{\"gridcolor\":\"#E1E5ED\",\"showgrid\":true,\"tickfont\":{\"color\":\"#4D5663\"},\"title\":{\"font\":{\"color\":\"#4D5663\"},\"text\":\"POS\"},\"zerolinecolor\":\"#E1E5ED\"},\"yaxis\":{\"gridcolor\":\"#E1E5ED\",\"showgrid\":true,\"tickfont\":{\"color\":\"#4D5663\"},\"title\":{\"font\":{\"color\":\"#4D5663\"},\"text\":\"count\"},\"zerolinecolor\":\"#E1E5ED\"}},                        {\"showLink\": true, \"linkText\": \"Export to plot.ly\", \"plotlyServerURL\": \"https://plot.ly\", \"responsive\": true}                    ).then(function(){\n",
       "                            \n",
       "var gd = document.getElementById('2ab739d4-a978-471e-9558-1e620d359ace');\n",
       "var x = new MutationObserver(function (mutations, observer) {{\n",
       "        var display = window.getComputedStyle(gd).display;\n",
       "        if (!display || display === 'none') {{\n",
       "            console.log([gd, 'removed!']);\n",
       "            Plotly.purge(gd);\n",
       "            observer.disconnect();\n",
       "        }}\n",
       "}});\n",
       "\n",
       "// Listen for the removal of the full notebook cells\n",
       "var notebookContainer = gd.closest('#notebook-container');\n",
       "if (notebookContainer) {{\n",
       "    x.observe(notebookContainer, {childList: true});\n",
       "}}\n",
       "\n",
       "// Listen for the clearing of the current output cell\n",
       "var outputEl = gd.closest('.output');\n",
       "if (outputEl) {{\n",
       "    x.observe(outputEl, {childList: true});\n",
       "}}\n",
       "\n",
       "                        })                };                });            </script>        </div>"
      ]
     },
     "metadata": {},
     "output_type": "display_data"
    }
   ],
   "source": [
    "# extracting the parts of specch from the news headlines using textBlob\n",
    "\n",
    "nltk.download('averaged_perceptron_tagger')\n",
    "\n",
    "blob = TextBlob(str(news_articles_df['title']))\n",
    "pos_df = pd.DataFrame(blob.tags, columns = ['word' , 'pos'])\n",
    "pos_df = pos_df.pos.value_counts()[:5]\n",
    "pos_df.iplot(\n",
    "    kind='bar',\n",
    "    xTitle='POS',\n",
    "    yTitle='count', \n",
    "    title='Top 20 Part-of-speech tagging for News Headlines')"
   ]
  },
  {
   "cell_type": "markdown",
   "id": "1a98f917",
   "metadata": {},
   "source": [
    "1. NNP: Proper noun\n",
    "2. CD : Cardinal digit\n",
    "3. NN : Noun\n",
    "4. IN : Preposition/subordinating conjunction\n",
    "5. VB : Verb"
   ]
  },
  {
   "cell_type": "markdown",
   "id": "3ffb926b",
   "metadata": {},
   "source": [
    "<b>Insights:</b> We can see that the parts of speech used in the News article's heaadlines are dominated by the aforementioned parts of speech. We see proper nouns appearing a lot because news articles often talk about people and or place therfore it's not surprising to see proper noun at the first place. Cardinal digit was the second most appearing POS. The reason is that the Headlines are specific and give us the quantity for example: \"900 People die In Italy in one single day\". Including numbers in the headlines make them specific and increase its impact on the reader. Furthermore, Headlines are complete sentences and hence the presence of preposition and conjuctions. Lastly, the Headlines are full of action verbs since they have maximum imapct on the user."
   ]
  },
  {
   "cell_type": "markdown",
   "id": "06c92952",
   "metadata": {},
   "source": [
    "## Conclusion\n",
    "\n",
    "In summary, I have answered the initial questions through the means of analysis of the news articles. I have concluded that though we may feel as if the media is focussing too much on the negative side of the story, this is certainly not the case in reality. The Positive and the negative sentiments associated with over 4000 news articles clearly indicates that both sentiments are equally present in the news articles. Furthermore, I also found that there are some news publishers like Al Jazeera and BBC news that have a high median negative sentiment polarity. I was also able to figure out the Ideal length of the headleans from the trends observed. It seemed 18-30 words made up the headline in most news articles. All the subsequent analysis focussed on finding the major trends in the news and to analyse how the content of news articles and headlines."
   ]
  },
  {
   "cell_type": "code",
   "execution_count": null,
   "id": "e26a0c3f",
   "metadata": {},
   "outputs": [],
   "source": []
  }
 ],
 "metadata": {
  "kernelspec": {
   "display_name": "Python 3 (ipykernel)",
   "language": "python",
   "name": "python3"
  },
  "language_info": {
   "codemirror_mode": {
    "name": "ipython",
    "version": 3
   },
   "file_extension": ".py",
   "mimetype": "text/x-python",
   "name": "python",
   "nbconvert_exporter": "python",
   "pygments_lexer": "ipython3",
   "version": "3.9.12"
  }
 },
 "nbformat": 4,
 "nbformat_minor": 5
}
