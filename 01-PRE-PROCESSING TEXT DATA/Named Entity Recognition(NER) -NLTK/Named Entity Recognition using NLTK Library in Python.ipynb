{
 "cells": [
  {
   "cell_type": "markdown",
   "id": "b2ed9ec0",
   "metadata": {},
   "source": [
    "# Named Entity Recognition using NLTK Library in Python\n",
    "### What is Named Entity Recognition?\n",
    "To understand what is Named Entity Recognition process in NLP, it will be a good starting point to first understand the concept of Named Entity.\n",
    "\n",
    "####  1. Named Entity\n",
    "Named entities are proper nouns that refer to specific entities that can be a person, organization, location, date, etc. Consider this example – “Mount Everest is the tallest mountain”. Here Mount Everest is a named entity of type location as it refers to a specific entity.\n",
    "\n",
    "#### 2. Named Entity Recognition\n",
    "In information retrieval and natural language processing, Named Entity Recognition (NER) is the process of extracting Named Entities from the text.\n",
    "\n",
    "NER is a two steps process, we first perform Part of Speech (POS) tagging on the text, and then using it we extract the named entities based on the information of POS tagging\n",
    "\n",
    "### Uses of Named Entity Recognition\n",
    "Named Entity Recognition is useful in –\n",
    "\n",
    "- The field of academics by easy and faster extraction of information for the students and researchers from the searching data.\n",
    "- In Question Answer system to provide answers from the data by the machine and hence minimizing human efforts.\n",
    "- In content classification by identifying the theme and subject of the contents and makes the process faster and easy, suggesting the best content of interest.\n",
    "- Helps in customer service by categorizing the user complaint, request, and question in respective fields and filtering by priority keywords.\n",
    "- Helps to categories the books and articles in the e-library on different subjects and thus making it organized.\n"
   ]
  },
  {
   "cell_type": "code",
   "execution_count": 5,
   "id": "bb26830f",
   "metadata": {},
   "outputs": [
    {
     "name": "stdout",
     "output_type": "stream",
     "text": [
      "[('Microsoft', 'NNP'), ('acquired', 'VBD'), ('Linkedin', 'NNP'), ('for', 'IN'), ('$', '$'), ('26.2', 'CD'), ('billion', 'CD'), ('in', 'IN'), ('a', 'DT'), ('deal', 'NN'), ('aimed', 'VBN'), ('to', 'TO'), ('grow', 'VB'), ('the', 'DT'), ('professional', 'JJ'), ('networking', 'NN'), ('site', 'NN'), ('.', '.')]\n",
      "(S\n",
      "  (PERSON Microsoft/NNP)\n",
      "  acquired/VBD\n",
      "  (PERSON Linkedin/NNP)\n",
      "  for/IN\n",
      "  $/$\n",
      "  26.2/CD\n",
      "  billion/CD\n",
      "  in/IN\n",
      "  a/DT\n",
      "  deal/NN\n",
      "  aimed/VBN\n",
      "  to/TO\n",
      "  grow/VB\n",
      "  the/DT\n",
      "  professional/JJ\n",
      "  networking/NN\n",
      "  site/NN\n",
      "  ./.)\n"
     ]
    },
    {
     "name": "stderr",
     "output_type": "stream",
     "text": [
      "[nltk_data] Downloading package maxent_ne_chunker to\n",
      "[nltk_data]     C:\\Users\\user\\AppData\\Roaming\\nltk_data...\n",
      "[nltk_data]   Package maxent_ne_chunker is already up-to-date!\n",
      "[nltk_data] Downloading package words to\n",
      "[nltk_data]     C:\\Users\\user\\AppData\\Roaming\\nltk_data...\n",
      "[nltk_data]   Package words is already up-to-date!\n"
     ]
    }
   ],
   "source": [
    "# example\n",
    "import nltk\n",
    "from nltk import word_tokenize,pos_tag\n",
    "nltk.download('maxent_ne_chunker')\n",
    "nltk.download('words')\n",
    "\n",
    "text = \"Microsoft acquired Linkedin for $26.2 billion in a deal aimed to grow the professional networking site.\"\n",
    "tokens = word_tokenize(text)\n",
    "tag=pos_tag(tokens)\n",
    "print(tag)\n",
    "\n",
    "ne_tree = nltk.ne_chunk(tag)\n",
    "print(ne_tree)"
   ]
  },
  {
   "cell_type": "markdown",
   "id": "7ae75250",
   "metadata": {},
   "source": [
    "Let us see one more example where we have used already present tagged sentences provided by the NLTK library."
   ]
  },
  {
   "cell_type": "code",
   "execution_count": 7,
   "id": "c7111cd6",
   "metadata": {},
   "outputs": [
    {
     "name": "stderr",
     "output_type": "stream",
     "text": [
      "[nltk_data] Downloading package treebank to\n",
      "[nltk_data]     C:\\Users\\user\\AppData\\Roaming\\nltk_data...\n",
      "[nltk_data]   Unzipping corpora\\treebank.zip.\n"
     ]
    },
    {
     "name": "stdout",
     "output_type": "stream",
     "text": [
      "(S\n",
      "  (PERSON Pierre/NNP)\n",
      "  (ORGANIZATION Vinken/NNP)\n",
      "  ,/,\n",
      "  61/CD\n",
      "  years/NNS\n",
      "  old/JJ\n",
      "  ,/,\n",
      "  will/MD\n",
      "  join/VB\n",
      "  the/DT\n",
      "  board/NN\n",
      "  as/IN\n",
      "  a/DT\n",
      "  nonexecutive/JJ\n",
      "  director/NN\n",
      "  Nov./NNP\n",
      "  29/CD\n",
      "  ./.)\n"
     ]
    }
   ],
   "source": [
    "# example\n",
    "nltk.download('treebank')\n",
    "sent = nltk.corpus.treebank.tagged_sents()\n",
    "print(nltk.ne_chunk(sent[0]))"
   ]
  },
  {
   "cell_type": "code",
   "execution_count": null,
   "id": "94d3ae63",
   "metadata": {},
   "outputs": [],
   "source": []
  }
 ],
 "metadata": {
  "kernelspec": {
   "display_name": "Python 3 (ipykernel)",
   "language": "python",
   "name": "python3"
  },
  "language_info": {
   "codemirror_mode": {
    "name": "ipython",
    "version": 3
   },
   "file_extension": ".py",
   "mimetype": "text/x-python",
   "name": "python",
   "nbconvert_exporter": "python",
   "pygments_lexer": "ipython3",
   "version": "3.9.12"
  }
 },
 "nbformat": 4,
 "nbformat_minor": 5
}
