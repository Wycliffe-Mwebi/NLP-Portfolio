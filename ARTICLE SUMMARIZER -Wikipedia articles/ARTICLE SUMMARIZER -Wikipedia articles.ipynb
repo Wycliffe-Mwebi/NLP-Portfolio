{
 "cells": [
  {
   "cell_type": "markdown",
   "id": "73488fef",
   "metadata": {},
   "source": [
    "# Text Summarization on Wikipedia pages using NLP\n",
    "### Text Summarization?\n",
    "Text Summarization is one of the techniques used in NLP to create short meaningful collection of text called summaries from text resources like articles, books, research papers or even a webpage.\n",
    "\n",
    "### Scrapping Wikipedia Article\n"
   ]
  },
  {
   "cell_type": "code",
   "execution_count": 10,
   "id": "2c6062e0",
   "metadata": {},
   "outputs": [
    {
     "name": "stdout",
     "output_type": "stream",
     "text": [
      "Which Wikipedia article would you want me to summarize: https://en.wikipedia.org/wiki/Cannabis\n"
     ]
    }
   ],
   "source": [
    "import bs4 as bs\n",
    "import urllib.request\n",
    "import re\n",
    "\n",
    "# Normally, in Jupyter Notebooks, you may prefer to give a fixed URL, change the URL when you need it\n",
    "# and not ask for user input.But I wanted to see which articles, \n",
    "# I can get a better summary and when the NLTK does \"so so\":)\n",
    "userLink = input(\"Which Wikipedia article would you want me to summarize: \")\n",
    "# Provide the Wikipedia URL like this: https://\n",
    "raw_data = urllib.request.urlopen(userLink) \n",
    "document = raw_data.read()\n",
    "\n",
    "parsed_document = bs.BeautifulSoup(document,'lxml')\n",
    "\n",
    "article_paras = parsed_document.find_all('p')\n",
    "\n",
    "scrapped_data = \"\"\n",
    "\n",
    "for para in article_paras:\n",
    "    scrapped_data += para.text"
   ]
  },
  {
   "cell_type": "code",
   "execution_count": 11,
   "id": "ea474cba",
   "metadata": {},
   "outputs": [
    {
     "name": "stdout",
     "output_type": "stream",
     "text": [
      "\n",
      "Cannabis (/ˈkænəbɪs/)[2] is a genus of flowering plants in the family Cannabaceae. The number of species within the genus is disputed. Three species may be recognized: Cannabis sativa, Cannabis indica, and Cannabis ruderalis; C. ruderalis may be included within C. sativa; all three may be treated as subspecies of a single species, C. sativa;[1][3][4][5] or C. sativa may be accepted as a single undivided species.[6] The genus is widely accepted as being indigenous to and originating from Asia.[7][8][9]\n",
      "The plant is also known as hemp, although this term is often used to refer only to varieties of Cannabis cultivated for non-drug use. Cannabis has long been used for hemp fibre, hemp seeds and their oils, hemp leaves for use as vegetables and as juice, medicinal purposes, and as a recreational drug. Industrial hemp products are made from cannabis plants selected to produce an abundance of fiber. To satisfy the UN Narcotics Convention, some cannabis strains have been bred to produce minimal levels of tetrahydrocannabinol (THC), the principal psychoactive constituent. Some strains have been selectively bred to produce a maximum of THC (a cannabinoid), the strength of which is enhanced by curing the fruits. Various compounds, including hashish and hash oil, are extracted from the plant.[10]\n",
      "In the US, \"industrial hemp\" is classified by the federal government as cannabis containing no more than 0.3% THC by dry weight. This classification was established in the 2018 Farm Bill and wa\n"
     ]
    }
   ],
   "source": [
    "print(scrapped_data[:1500])"
   ]
  },
  {
   "cell_type": "markdown",
   "id": "9549dbcd",
   "metadata": {},
   "source": [
    "### Text Cleaning"
   ]
  },
  {
   "cell_type": "code",
   "execution_count": 12,
   "id": "bfb0580e",
   "metadata": {},
   "outputs": [],
   "source": [
    "scrapped_data = re.sub(r'\\[[0-9]*\\]', ' ',  scrapped_data)\n",
    "scrapped_data = re.sub(r'\\s+', ' ',  scrapped_data)"
   ]
  },
  {
   "cell_type": "code",
   "execution_count": 13,
   "id": "277638a9",
   "metadata": {},
   "outputs": [],
   "source": [
    "formatted_text = re.sub('[^a-zA-Z]', ' ', scrapped_data)\n",
    "formatted_text = re.sub(r'\\s+', ' ', formatted_text)"
   ]
  },
  {
   "cell_type": "markdown",
   "id": "2778a298",
   "metadata": {},
   "source": [
    "### Finding Word Frequencies"
   ]
  },
  {
   "cell_type": "code",
   "execution_count": 14,
   "id": "34b42f7a",
   "metadata": {},
   "outputs": [],
   "source": [
    "import nltk #if you don't have it, then>> python3 -m pip install nltk\n",
    "all_sentences = nltk.sent_tokenize(scrapped_data)"
   ]
  },
  {
   "cell_type": "code",
   "execution_count": 15,
   "id": "6410fff7",
   "metadata": {},
   "outputs": [],
   "source": [
    "# Stop Words are the words that you will most probably ignore, so we filter them out of the text.\n",
    "stopwords = nltk.corpus.stopwords.words('english')\n",
    "\n",
    "word_freq = {}\n",
    "for word in nltk.word_tokenize(formatted_text):\n",
    "    if word not in stopwords:\n",
    "        if word not in word_freq.keys():\n",
    "            word_freq[word] = 1\n",
    "        else:\n",
    "            word_freq[word] += 1"
   ]
  },
  {
   "cell_type": "code",
   "execution_count": 16,
   "id": "4f4a38df",
   "metadata": {},
   "outputs": [],
   "source": [
    "max_freq = max(word_freq.values())\n",
    "\n",
    "for word in word_freq.keys():\n",
    "    word_freq[word] = (word_freq[word]/max_freq)"
   ]
  },
  {
   "cell_type": "markdown",
   "id": "1723474d",
   "metadata": {},
   "source": [
    "### Finding Sentence Scores"
   ]
  },
  {
   "cell_type": "code",
   "execution_count": 17,
   "id": "098e2b0d",
   "metadata": {},
   "outputs": [],
   "source": [
    "sentence_scores = {}\n",
    "for sentence in all_sentences:\n",
    "    for token in nltk.word_tokenize(sentence.lower()):\n",
    "        if token in word_freq.keys():\n",
    "            if len(sentence.split(' ')) <25:\n",
    "                if sentence not in sentence_scores.keys():\n",
    "                    sentence_scores[sentence] = word_freq[token]\n",
    "                else:\n",
    "                    sentence_scores[sentence] += word_freq[token]"
   ]
  },
  {
   "cell_type": "markdown",
   "id": "93bfbf7b",
   "metadata": {},
   "source": [
    "### Printing Summaries"
   ]
  },
  {
   "cell_type": "code",
   "execution_count": 18,
   "id": "6b1feae4",
   "metadata": {},
   "outputs": [
    {
     "name": "stdout",
     "output_type": "stream",
     "text": [
      "The plant is also known as hemp, although this term is often used to refer only to varieties of Cannabis cultivated for non-drug use. Cannabis sativa cultivars are used for fibers due to their long stems; Sativa varieties may grow more than six metres tall. In 1785, noted evolutionary biologist Jean-Baptiste de Lamarck published a description of a second species of Cannabis, which he named Cannabis indica Lam. The name Cannabis indica was listed in various Pharmacopoeias, and was widely used to designate Cannabis suitable for the manufacture of medicinal preparations. This taxonomic interpretation was embraced by Cannabis aficionados who commonly distinguish narrow-leafed \"Sativa\" strains from wide-leafed \"Indica\" strains.\n"
     ]
    }
   ],
   "source": [
    "import heapq\n",
    "selected_sentences= heapq.nlargest(5, sentence_scores, key=sentence_scores.get)\n",
    "\n",
    "text_summary = ' '.join(selected_sentences)\n",
    "print(text_summary)"
   ]
  },
  {
   "cell_type": "code",
   "execution_count": null,
   "id": "c4ca3368",
   "metadata": {},
   "outputs": [],
   "source": []
  }
 ],
 "metadata": {
  "kernelspec": {
   "display_name": "Python 3 (ipykernel)",
   "language": "python",
   "name": "python3"
  },
  "language_info": {
   "codemirror_mode": {
    "name": "ipython",
    "version": 3
   },
   "file_extension": ".py",
   "mimetype": "text/x-python",
   "name": "python",
   "nbconvert_exporter": "python",
   "pygments_lexer": "ipython3",
   "version": "3.9.12"
  }
 },
 "nbformat": 4,
 "nbformat_minor": 5
}
